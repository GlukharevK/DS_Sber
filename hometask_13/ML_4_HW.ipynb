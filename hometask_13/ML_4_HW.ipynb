{
 "cells": [
  {
   "cell_type": "code",
   "execution_count": 129,
   "metadata": {},
   "outputs": [],
   "source": [
    "import pandas as pd\n",
    "import numpy as np\n",
    "import matplotlib.pyplot as plt\n",
    "import xgboost as xgb\n",
    "import lightgbm as lgb\n",
    "import catboost as ctb\n",
    "from tqdm import tqdm\n",
    "from sklearn.tree import DecisionTreeClassifier\n",
    "from sklearn.ensemble import BaggingClassifier, RandomForestClassifier, GradientBoostingClassifier, StackingClassifier\n",
    "from sklearn.model_selection import cross_val_score, train_test_split, GridSearchCV\n",
    "from sklearn.metrics import accuracy_score\n",
    "from hyperopt import hp, tpe\n",
    "from hyperopt.fmin import fmin\n",
    "import warnings\n",
    "import warnings\n",
    "warnings.filterwarnings(\"ignore\")"
   ]
  },
  {
   "cell_type": "markdown",
   "metadata": {},
   "source": [
    "https://archive.ics.uci.edu/ml/datasets/wine+quality"
   ]
  },
  {
   "cell_type": "code",
   "execution_count": 6,
   "metadata": {},
   "outputs": [],
   "source": [
    "link = 'https://archive.ics.uci.edu/ml/machine-learning-databases/wine-quality/winequality-red.csv'\n",
    "data = pd.read_csv('winequality-red.csv', delimiter=';')"
   ]
  },
  {
   "cell_type": "markdown",
   "metadata": {},
   "source": [
    "1.Оцените качество по метрике accuracy для классификаторов:\n",
    "\n",
    "DecisionTreeClassifier\n",
    "\n",
    "BaggingClassifier со 100 деревьями\n",
    "\n",
    "RandomForestClassifier со 100 деревьями\n",
    "\n",
    "Сравните результаты и напишите какой вывод можно сделать."
   ]
  },
  {
   "cell_type": "code",
   "execution_count": 7,
   "metadata": {},
   "outputs": [],
   "source": [
    "X = data.iloc[:, :-1]\n",
    "y = data.iloc[:, -1]"
   ]
  },
  {
   "cell_type": "code",
   "execution_count": 8,
   "metadata": {},
   "outputs": [
    {
     "data": {
      "text/plain": [
       "0.48217868338558"
      ]
     },
     "execution_count": 8,
     "metadata": {},
     "output_type": "execute_result"
    }
   ],
   "source": [
    "simple_tree = DecisionTreeClassifier()\n",
    "cross_val_score(simple_tree, X, y, scoring='accuracy').mean()"
   ]
  },
  {
   "cell_type": "code",
   "execution_count": 9,
   "metadata": {},
   "outputs": [
    {
     "data": {
      "text/plain": [
       "0.5666065830721003"
      ]
     },
     "execution_count": 9,
     "metadata": {},
     "output_type": "execute_result"
    }
   ],
   "source": [
    "bagging_tree = BaggingClassifier(n_estimators=100)\n",
    "cross_val_score(bagging_tree, X, y, scoring='accuracy').mean()"
   ]
  },
  {
   "cell_type": "code",
   "execution_count": 10,
   "metadata": {},
   "outputs": [
    {
     "data": {
      "text/plain": [
       "0.5709815830721003"
      ]
     },
     "execution_count": 10,
     "metadata": {},
     "output_type": "execute_result"
    }
   ],
   "source": [
    "randomforest_tree = RandomForestClassifier(n_estimators=100)\n",
    "cross_val_score(randomforest_tree, X, y, scoring='accuracy').mean()"
   ]
  },
  {
   "cell_type": "markdown",
   "metadata": {},
   "source": [
    "Случайный лес выигрывает, используя бэггинг и выбор лучших признаков при разбиении вершин"
   ]
  },
  {
   "cell_type": "markdown",
   "metadata": {},
   "source": [
    "2.Разделите выборку на обучающую и тестовую в отношении 70%/30%"
   ]
  },
  {
   "cell_type": "code",
   "execution_count": 11,
   "metadata": {},
   "outputs": [],
   "source": [
    "X_train, X_test, y_train, y_test = train_test_split(X, y, test_size = 0.3, random_state=42)"
   ]
  },
  {
   "cell_type": "markdown",
   "metadata": {},
   "source": [
    "3.Посчитайте качество на тестовой выборке по метрике accuracy для классификатора RandomForestClassifier, используя значения деревьев:\n",
    "    \n",
    "10, 50, 100, 200, далее с шагом 200 до 5000 деревьев.\n",
    "Постройте график зависимости качества от числа деревьев.\n",
    "\n"
   ]
  },
  {
   "cell_type": "code",
   "execution_count": 12,
   "metadata": {},
   "outputs": [
    {
     "name": "stderr",
     "output_type": "stream",
     "text": [
      "100%|██████████████████████████████████████████████████████████████████████████████████| 29/29 [03:49<00:00,  7.92s/it]\n"
     ]
    }
   ],
   "source": [
    "scores_acc = []\n",
    "n_trees = np.hstack(([10,50,100,200], np.arange(200, 5001, 200)))\n",
    "for n in tqdm(n_trees):\n",
    "    randomforest_tree = RandomForestClassifier(n_estimators=n)\n",
    "    randomforest_tree.fit(X_train, y_train)\n",
    "    scores_acc.append(accuracy_score(y_test, randomforest_tree.predict(X_test)))"
   ]
  },
  {
   "cell_type": "code",
   "execution_count": 13,
   "metadata": {},
   "outputs": [
    {
     "data": {
      "image/png": "[encoded data removed]",
      "text/plain": [
       "<Figure size 576x360 with 1 Axes>"
      ]
     },
     "metadata": {
      "needs_background": "light"
     },
     "output_type": "display_data"
    }
   ],
   "source": [
    "fig, ax = plt.subplots(figsize=(8,5))\n",
    "ax.set_xlabel('Количество деревьев')\n",
    "ax.set_ylabel('Accuracy')\n",
    "ax.plot(n_trees, scores_acc);"
   ]
  },
  {
   "cell_type": "markdown",
   "metadata": {},
   "source": [
    "4.Обучите реализации градиентного бустинга с параметрами по умолчанию из библиотек sklearn и xgboost. Сравните значение метрики accuracy по cross_val_score"
   ]
  },
  {
   "cell_type": "code",
   "execution_count": 14,
   "metadata": {},
   "outputs": [
    {
     "data": {
      "text/plain": [
       "0.5647276645768025"
      ]
     },
     "execution_count": 14,
     "metadata": {},
     "output_type": "execute_result"
    }
   ],
   "source": [
    "gr_boosting = GradientBoostingClassifier()\n",
    "cross_val_score(gr_boosting, X, y, scoring='accuracy').mean()"
   ]
  },
  {
   "cell_type": "code",
   "execution_count": 24,
   "metadata": {},
   "outputs": [
    {
     "data": {
      "text/plain": [
       "0.5472335423197492"
      ]
     },
     "execution_count": 24,
     "metadata": {},
     "output_type": "execute_result"
    }
   ],
   "source": [
    "xgboost = xgb.XGBClassifier(verbosity = 0)\n",
    "cross_val_score(xgboost, X, y, scoring='accuracy').mean()"
   ]
  },
  {
   "cell_type": "markdown",
   "metadata": {},
   "source": [
    "5.Подберите оптимальные параметры этих алгоритмов с помощью GridSearchCV(cv=3).\n",
    "Параметры для оптимизации:\n",
    "\n",
    "оптимизируемый функционал\n",
    "\n",
    "скорость обучения\n",
    "\n",
    "количество деревьев\n",
    "\n",
    "глубина деревьев\n",
    "\n",
    "Сравните значение метрики accuracy и скорость работы. Выведите лучшие параметры алгоритмов."
   ]
  },
  {
   "cell_type": "code",
   "execution_count": 30,
   "metadata": {},
   "outputs": [],
   "source": [
    "params = {'loss' : ['deviance', 'exponential'],\n",
    "          'learning_rate' : np.arange(0.1, 1, 0.3),\n",
    "          'n_estimators' : [20,50,100,200],\n",
    "          'max_depth' : [2,3,4,5]}"
   ]
  },
  {
   "cell_type": "code",
   "execution_count": 31,
   "metadata": {
    "scrolled": true
   },
   "outputs": [
    {
     "name": "stdout",
     "output_type": "stream",
     "text": [
      "Accuracy метрика для GradientBoostingClassifier модели: 0.6520833333333333,\n",
      "параметры: GradientBoostingClassifier(max_depth=5)\n",
      "среднее время обучения: 0.7384084852205381\n"
     ]
    }
   ],
   "source": [
    "grid_gr_boosting = GridSearchCV(gr_boosting, params, scoring='accuracy', cv=3)\n",
    "grid_gr_boosting.fit(X_train, y_train)\n",
    "y_pred_gr_boosting = grid_gr_boosting.predict(X_test)\n",
    "acc_gr_boosting = accuracy_score(y_test, y_pred_gr_boosting)\n",
    "fit_time = np.mean(grid_gr_boosting.cv_results_['mean_fit_time'])\n",
    "print(f'Accuracy метрика для GradientBoostingClassifier модели: {acc_gr_boosting},\\n'\n",
    "      f'параметры: {grid_gr_boosting.best_estimator_}\\n'\n",
    "      f'среднее время обучения: {fit_time}')"
   ]
  },
  {
   "cell_type": "code",
   "execution_count": 69,
   "metadata": {},
   "outputs": [],
   "source": [
    "params = {'objective' : ['multi:softmax', 'multi:softprob'],\n",
    "          'learning_rate' : np.arange(0.1, 1, 0.3),\n",
    "          'n_estimators' : [20,50,100,200],\n",
    "          'max_depth' : [2,3,4,5]}"
   ]
  },
  {
   "cell_type": "code",
   "execution_count": 70,
   "metadata": {
    "scrolled": true
   },
   "outputs": [
    {
     "name": "stdout",
     "output_type": "stream",
     "text": [
      "Accuracy метрика для XGBClassifier модели: 0.66875,\n",
      "параметры: XGBClassifier(base_score=0.5, booster='gbtree', colsample_bylevel=1,\n",
      "              colsample_bynode=1, colsample_bytree=1, gamma=0, gpu_id=-1,\n",
      "              importance_type='gain', interaction_constraints='',\n",
      "              learning_rate=0.4, max_delta_step=0, max_depth=5,\n",
      "              min_child_weight=1, missing=nan, monotone_constraints='()',\n",
      "              n_estimators=50, n_jobs=12, num_parallel_tree=1,\n",
      "              objective='multi:softprob', random_state=0, reg_alpha=0,\n",
      "              reg_lambda=1, scale_pos_weight=None, subsample=1,\n",
      "              tree_method='exact', validate_parameters=1, verbosity=0),\n",
      "среднее время обучения: 0.2393504223889775\n"
     ]
    }
   ],
   "source": [
    "grid_xgboost = GridSearchCV(xgboost, params, scoring='accuracy', cv=3)\n",
    "grid_xgboost.fit(X_train, y_train)\n",
    "y_pred_grid_xgboost = grid_xgboost.predict(X_test)\n",
    "acc_grid_xgboost = accuracy_score(y_test, y_pred_grid_xgboost)\n",
    "fit_time = np.mean(grid_xgboost.cv_results_['mean_fit_time'])\n",
    "print(f'Accuracy метрика для XGBClassifier модели: {acc_grid_xgboost},\\n'\n",
    "      f'параметры: {grid_xgboost.best_estimator_},\\n'\n",
    "      f'среднее время обучения: {fit_time}')"
   ]
  },
  {
   "cell_type": "markdown",
   "metadata": {},
   "source": [
    "6.Обучите реализации градиентного бустинга с параметрами по умолчанию из библиотек lightgbm и catboost. Сравните значение метрики accuracy по cross_val_score по всем четырем реализациям."
   ]
  },
  {
   "cell_type": "code",
   "execution_count": 40,
   "metadata": {},
   "outputs": [
    {
     "data": {
      "text/plain": [
       "0.5572472570532915"
      ]
     },
     "execution_count": 40,
     "metadata": {},
     "output_type": "execute_result"
    }
   ],
   "source": [
    "lightgbm = lgb.LGBMClassifier()\n",
    "cross_val_score(lightgbm, X, y, scoring='accuracy').mean()"
   ]
  },
  {
   "cell_type": "code",
   "execution_count": 41,
   "metadata": {},
   "outputs": [
    {
     "data": {
      "text/plain": [
       "0.5459757053291535"
      ]
     },
     "execution_count": 41,
     "metadata": {},
     "output_type": "execute_result"
    }
   ],
   "source": [
    "catboost = ctb.CatBoostClassifier(verbose=0)\n",
    "cross_val_score(catboost, X, y, scoring='accuracy').mean()"
   ]
  },
  {
   "cell_type": "markdown",
   "metadata": {},
   "source": [
    "С параметрами по умолчаю лучше всего результат у GradientBoostingClassifier 0.5641026645768024"
   ]
  },
  {
   "cell_type": "markdown",
   "metadata": {},
   "source": [
    "7.Подберите оптимальные параметры для алгоритмов градиентного бустинга из библиотек lightgbm и catboost с теми же условиями. Выведите лучшие параметры алгоритмов.\n",
    "Сравните значение метрики accuracy и скорость по этим четырем реализациям."
   ]
  },
  {
   "cell_type": "code",
   "execution_count": 71,
   "metadata": {},
   "outputs": [],
   "source": [
    "params = {'objective' : ['muticlass', 'multiclassova'],\n",
    "          'learning_rate' : np.arange(0.1, 1, 0.3),\n",
    "          'n_estimators' : [20,50,100,200],\n",
    "          'max_depth' : [2,3,4,5]}"
   ]
  },
  {
   "cell_type": "code",
   "execution_count": 73,
   "metadata": {},
   "outputs": [
    {
     "name": "stdout",
     "output_type": "stream",
     "text": [
      "Accuracy метрика для XGBClassifier модели: 0.6208333333333333,\n",
      "параметры: {'boosting_type': 'gbdt', 'class_weight': None, 'colsample_bytree': 1.0, 'importance_type': 'split', 'learning_rate': 0.1, 'max_depth': 4, 'min_child_samples': 20, 'min_child_weight': 0.001, 'min_split_gain': 0.0, 'n_estimators': 100, 'n_jobs': -1, 'num_leaves': 31, 'objective': 'multiclassova', 'random_state': None, 'reg_alpha': 0.0, 'reg_lambda': 0.0, 'silent': 'warn', 'subsample': 1.0, 'subsample_for_bin': 200000, 'subsample_freq': 0},\n",
      "среднее время обучения: 0.09266594466235904\n"
     ]
    }
   ],
   "source": [
    "grid_lightgbm = GridSearchCV(lightgbm, params, scoring='accuracy', cv=3)\n",
    "grid_lightgbm.fit(X_train, y_train)\n",
    "y_pred_grid_lightgbm = grid_lightgbm.predict(X_test)\n",
    "acc_grid_xgboost = accuracy_score(y_test, y_pred_grid_lightgbm)\n",
    "fit_time = np.mean(grid_lightgbm.cv_results_['mean_fit_time'])\n",
    "print(f'Accuracy метрика для XGBClassifier модели: {acc_grid_xgboost},\\n'\n",
    "      f'параметры: {grid_lightgbm.best_estimator_.get_params()},\\n'\n",
    "      f'среднее время обучения: {fit_time}')"
   ]
  },
  {
   "cell_type": "code",
   "execution_count": 57,
   "metadata": {},
   "outputs": [],
   "source": [
    "params = {'objective' : ['MultiClass', 'MultiClassOneVsAll'],\n",
    "          'learning_rate' : np.arange(0.1, 1, 0.3),\n",
    "          'n_estimators' : [20,50,100,200],\n",
    "          'max_depth' : [2,3,4,5]}"
   ]
  },
  {
   "cell_type": "code",
   "execution_count": 58,
   "metadata": {},
   "outputs": [
    {
     "name": "stdout",
     "output_type": "stream",
     "text": [
      "Accuracy метрика для XGBClassifier модели: 0.6083333333333333,\n",
      "параметры: {'learning_rate': 0.1, 'verbose': 0, 'max_depth': 5, 'n_estimators': 200, 'objective': 'MultiClassOneVsAll'},\n",
      "среднее время обучения: 0.23892211582925585\n"
     ]
    }
   ],
   "source": [
    "grid_catboost = GridSearchCV(catboost, params, scoring='accuracy', cv=3)\n",
    "grid_catboost.fit(X_train, y_train)\n",
    "y_pred_grid_catboost = grid_catboost.predict(X_test)\n",
    "acc_grid_catboost = accuracy_score(y_test, y_pred_grid_catboost)\n",
    "fit_time = np.mean(grid_catboost.cv_results_['mean_fit_time'])\n",
    "print(f'Accuracy метрика для XGBClassifier модели: {acc_grid_catboost},\\n'\n",
    "      f'параметры: {grid_catboost.best_estimator_.get_params()},\\n'\n",
    "      f'среднее время обучения: {fit_time}')"
   ]
  },
  {
   "cell_type": "markdown",
   "metadata": {},
   "source": [
    "Лучший результат у XGBClassifier : 0.66875"
   ]
  },
  {
   "cell_type": "markdown",
   "metadata": {},
   "source": [
    "8.Подберите оптимальные параметры алгоритма из библиотеки xgbost с помощью [hyperopt](https://github.com/hyperopt/hyperopt) . Параметры для оптимизации:\n",
    "\n",
    "оптимизируемый функционал\n",
    "\n",
    "скорость обучения\n",
    "\n",
    "количество деревьев\n",
    "\n",
    "глубина деревьев\n",
    "\n",
    "Сравните результат с поиском по сетке из sklearn. Выведите лучшие параметры алгоритма, найденные даным способом."
   ]
  },
  {
   "cell_type": "code",
   "execution_count": 124,
   "metadata": {},
   "outputs": [],
   "source": [
    "space_xgb = {'objective' : hp.choice('objective', ['multi:softmax', 'multi:softprob']),\n",
    "          'learning_rate' : hp.choice('learning_rate', np.arange(0.1, 1, 0.3)),\n",
    "          'n_estimators' : hp.choice('n_estimators', [20,50,100,200]),\n",
    "          'max_depth' : hp.choice('max_depth', [2,3,4,5])}"
   ]
  },
  {
   "cell_type": "code",
   "execution_count": 127,
   "metadata": {},
   "outputs": [],
   "source": [
    "def hyperopt_xgb_score(params):\n",
    "    clf = xgb.XGBClassifier(scoring='accuracy', **params)\n",
    "    current_score = cross_val_score(clf, X, y, cv=3).mean()\n",
    "    print(current_score, params)\n",
    "    return -current_score"
   ]
  },
  {
   "cell_type": "code",
   "execution_count": 128,
   "metadata": {},
   "outputs": [
    {
     "name": "stdout",
     "output_type": "stream",
     "text": [
      "0.5278298936835522                                                                                                     \n",
      "{'learning_rate': 0.4, 'max_depth': 5, 'n_estimators': 50, 'objective': 'multi:softmax'}                               \n",
      "0.5484677923702314                                                                                                     \n",
      "{'learning_rate': 0.7000000000000001, 'max_depth': 4, 'n_estimators': 20, 'objective': 'multi:softmax'}                \n",
      "0.5365853658536585                                                                                                     \n",
      "{'learning_rate': 0.7000000000000001, 'max_depth': 4, 'n_estimators': 50, 'objective': 'multi:softmax'}                \n",
      "0.5709818636647905                                                                                                     \n",
      "{'learning_rate': 0.1, 'max_depth': 3, 'n_estimators': 20, 'objective': 'multi:softmax'}                               \n",
      "0.5084427767354597                                                                                                     \n",
      "{'learning_rate': 0.4, 'max_depth': 5, 'n_estimators': 200, 'objective': 'multi:softprob'}                             \n",
      "0.5228267667292058                                                                                                     \n",
      "{'learning_rate': 0.1, 'max_depth': 5, 'n_estimators': 200, 'objective': 'multi:softprob'}                             \n",
      "0.5196998123827392                                                                                                     \n",
      "{'learning_rate': 0.7000000000000001, 'max_depth': 3, 'n_estimators': 50, 'objective': 'multi:softmax'}                \n",
      "0.551594746716698                                                                                                      \n",
      "{'learning_rate': 0.4, 'max_depth': 3, 'n_estimators': 20, 'objective': 'multi:softmax'}                               \n",
      "0.5459662288930581                                                                                                     \n",
      "{'learning_rate': 0.4, 'max_depth': 4, 'n_estimators': 50, 'objective': 'multi:softmax'}                               \n",
      "0.5159474671669794                                                                                                     \n",
      "{'learning_rate': 0.4, 'max_depth': 3, 'n_estimators': 200, 'objective': 'multi:softprob'}                             \n",
      "100%|███████████████████████████████████████████████| 10/10 [00:08<00:00,  1.17trial/s, best loss: -0.5709818636647905]\n",
      "best: {'learning_rate': 0, 'max_depth': 1, 'n_estimators': 0, 'objective': 0}\n"
     ]
    }
   ],
   "source": [
    "best = fmin(fn=hyperopt_xgb_score, space=space_xgb, algo=tpe.suggest, max_evals=10)\n",
    "print(f'best: {best}')"
   ]
  },
  {
   "cell_type": "markdown",
   "metadata": {},
   "source": [
    "9.Выведите качество по метрике accuracy стэкинга (StackingClassifier) 4-х алгоритмов с базовыми параметрами градиентного бустинга."
   ]
  },
  {
   "cell_type": "code",
   "execution_count": 144,
   "metadata": {},
   "outputs": [
    {
     "data": {
      "text/plain": [
       "0.5247029393370856"
      ]
     },
     "execution_count": 144,
     "metadata": {},
     "output_type": "execute_result"
    }
   ],
   "source": [
    "estimators = [('cat', ctb.CatBoostClassifier()),\n",
    "              ('lightgbm', lgb.LGBMClassifier()),\n",
    "              ('gr', GradientBoostingClassifier())]\n",
    "\n",
    "sclf = StackingClassifier(estimators= estimators , final_estimator=xgb.XGBClassifier())\n",
    "cross_val_score(sclf, X, y, scoring='accuracy', cv=3, n_jobs=-1).mean()"
   ]
  },
  {
   "cell_type": "markdown",
   "metadata": {},
   "source": [
    "10.Выведите качество по метрике accuracy стэкинга 4-х алгоритмов с оптимальными параметрами градиентного бустинга. Сравните результаты с предыдущим шагом и напишите какой вывод можно из этого сделать."
   ]
  },
  {
   "cell_type": "code",
   "execution_count": 141,
   "metadata": {},
   "outputs": [],
   "source": [
    "gr_params = grid_gr_boosting.best_estimator_.get_params()\n",
    "xgboost_params = grid_xgboost.best_estimator_.get_params()\n",
    "lightgbm_params = grid_lightgbm.best_estimator_.get_params()\n",
    "catboost_params = grid_catboost.best_estimator_.get_params()"
   ]
  },
  {
   "cell_type": "code",
   "execution_count": 143,
   "metadata": {},
   "outputs": [
    {
     "data": {
      "text/plain": [
       "0.5553470919324578"
      ]
     },
     "execution_count": 143,
     "metadata": {},
     "output_type": "execute_result"
    }
   ],
   "source": [
    "estimators = [('cat', ctb.CatBoostClassifier(**catboost_params)),\n",
    "              ('lightgbm', lgb.LGBMClassifier(**lightgbm_params)),\n",
    "              ('gr', GradientBoostingClassifier(**gr_params))]\n",
    "\n",
    "sclf = StackingClassifier(estimators= estimators , final_estimator=xgb.XGBClassifier(**xgboost_params))\n",
    "cross_val_score(sclf, X, y, scoring='accuracy', cv=3, n_jobs=-1).mean()"
   ]
  },
  {
   "cell_type": "markdown",
   "metadata": {},
   "source": [
    "Параметры при которых алгоритмы давали лучшие результаты дают прирост в стэкинге"
   ]
  },
  {
   "cell_type": "code",
   "execution_count": null,
   "metadata": {},
   "outputs": [],
   "source": []
  }
 ],
 "metadata": {
  "kernelspec": {
   "display_name": "Python 3",
   "language": "python",
   "name": "python3"
  },
  "language_info": {
   "codemirror_mode": {
    "name": "ipython",
    "version": 3
   },
   "file_extension": ".py",
   "mimetype": "text/x-python",
   "name": "python",
   "nbconvert_exporter": "python",
   "pygments_lexer": "ipython3",
   "version": "3.8.6"
  }
 },
 "nbformat": 4,
 "nbformat_minor": 2
}
