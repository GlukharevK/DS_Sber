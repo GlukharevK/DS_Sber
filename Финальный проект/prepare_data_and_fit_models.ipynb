{
 "cells": [
  {
   "cell_type": "markdown",
   "metadata": {},
   "source": [
    "## Предобработка данных и обучение модели"
   ]
  },
  {
   "cell_type": "code",
   "execution_count": 119,
   "metadata": {
    "id": "-Hb7vcgzEfep"
   },
   "outputs": [],
   "source": [
    "import pandas as pd\n",
    "import numpy as np\n",
    "import seaborn as sns\n",
    "import matplotlib.pyplot as plt\n",
    "from sklearn.impute import SimpleImputer,  KNNImputer\n",
    "from sklearn.preprocessing import OneHotEncoder, LabelEncoder\n",
    "from sklearn.model_selection import train_test_split, GridSearchCV\n",
    "from sklearn.metrics import mean_squared_log_error, make_scorer, f1_score, accuracy_score\n",
    "from transliterate import translit\n",
    "import xgboost as xgb\n",
    "import heapq\n",
    "import geojson\n",
    "import json\n",
    "import pickle\n",
    "from catboost import CatBoostRegressor\n",
    "import catboost as cb\n",
    "from similar_text import similar_text"
   ]
  },
  {
   "cell_type": "code",
   "execution_count": 27,
   "metadata": {
    "id": "4CVobU_aGEU7"
   },
   "outputs": [],
   "source": [
    "train = pd.read_csv('data/train.csv', parse_dates=['timestamp'])\n",
    "test = pd.read_csv('data/test.csv', parse_dates=['timestamp'])\n",
    "macro = pd.read_csv('data/macro.csv', parse_dates=['timestamp'])"
   ]
  },
  {
   "cell_type": "code",
   "execution_count": 28,
   "metadata": {
    "id": "sN9TcsKwGEXd"
   },
   "outputs": [],
   "source": [
    "id_test = test['id']\n",
    "\n",
    "train.drop(['id'], axis=1, inplace=True)\n",
    "test.drop(['id'], axis=1, inplace=True)\n",
    "num_train = len(train)"
   ]
  },
  {
   "cell_type": "code",
   "execution_count": 29,
   "metadata": {
    "colab": {
     "base_uri": "https://localhost:8080/"
    },
    "id": "UhH_dxARHniZ",
    "outputId": "25ec1857-70c4-4b0f-9566-5a98158c7a44"
   },
   "outputs": [
    {
     "name": "stdout",
     "output_type": "stream",
     "text": [
      "Data Clean...\n"
     ]
    }
   ],
   "source": [
    "#Очистка данных\n",
    "print('Data Clean...')\n",
    "bad_index = train[train.life_sq > train.full_sq].index\n",
    "train.loc[bad_index, \"life_sq\"] = np.NaN\n",
    "equal_index = [601,1896,2791]\n",
    "test.loc[equal_index, \"life_sq\"] = test.loc[equal_index, \"full_sq\"]\n",
    "bad_index = test[test.life_sq > test.full_sq].index\n",
    "test.loc[bad_index, \"life_sq\"] = np.NaN\n",
    "bad_index = train[train.life_sq < 5].index\n",
    "train.loc[bad_index, \"life_sq\"] = np.NaN\n",
    "bad_index = test[test.life_sq < 5].index\n",
    "test.loc[bad_index, \"life_sq\"] = np.NaN\n",
    "bad_index = train[train.full_sq < 5].index\n",
    "train.loc[bad_index, \"full_sq\"] = np.NaN\n",
    "bad_index = test[test.full_sq < 5].index\n",
    "test.loc[bad_index, \"full_sq\"] = np.NaN\n",
    "kitch_is_build_year = [13117]\n",
    "train.loc[kitch_is_build_year, \"build_year\"] = train.loc[kitch_is_build_year, \"kitch_sq\"]\n",
    "bad_index = train[train.kitch_sq >= train.life_sq].index\n",
    "train.loc[bad_index, \"kitch_sq\"] = np.NaN\n",
    "bad_index = test[test.kitch_sq >= test.life_sq].index\n",
    "test.loc[bad_index, \"kitch_sq\"] = np.NaN\n",
    "bad_index = train[(train.kitch_sq == 0).values + (train.kitch_sq == 1).values].index\n",
    "train.loc[bad_index, \"kitch_sq\"] = np.NaN\n",
    "bad_index = test[(test.kitch_sq == 0).values + (test.kitch_sq == 1).values].index\n",
    "test.loc[bad_index, \"kitch_sq\"] = np.NaN\n",
    "bad_index = train[(train.full_sq > 210) & (train.life_sq / train.full_sq < 0.3)].index\n",
    "train.loc[bad_index, \"full_sq\"] = np.NaN\n",
    "bad_index = test[(test.full_sq > 150) & (test.life_sq / test.full_sq < 0.3)].index\n",
    "test.loc[bad_index, \"full_sq\"] = np.NaN\n",
    "bad_index = train[(train.kitch_sq / train.full_sq > 0.6)].index\n",
    "train.loc[bad_index, \"kitch_sq\"] = np.NaN\n",
    "bad_index = test[(test.kitch_sq / test.full_sq > 0.6)].index\n",
    "test.loc[bad_index, \"kitch_sq\"] = np.NaN\n",
    "bad_index = train[train.life_sq > 300].index\n",
    "train.loc[bad_index, [\"life_sq\", \"full_sq\"]] = np.NaN\n",
    "bad_index = test[test.life_sq > 200].index\n",
    "test.loc[bad_index, [\"life_sq\", \"full_sq\"]] = np.NaN\n",
    "train.product_type.value_counts(normalize= True)\n",
    "test.product_type.value_counts(normalize= True)\n",
    "bad_index = train[train.build_year < 1500].index\n",
    "train.loc[bad_index, \"build_year\"] = np.NaN\n",
    "bad_index = test[test.build_year < 1500].index\n",
    "test.loc[bad_index, \"build_year\"] = np.NaN\n",
    "bad_index = train[train.build_year > 2019].index\n",
    "train.loc[bad_index, \"build_year\"] = np.NaN\n",
    "bad_index = train[train.num_room == 0].index\n",
    "train.loc[bad_index, \"num_room\"] = np.NaN\n",
    "bad_index = test[test.num_room == 0].index\n",
    "test.loc[bad_index, \"num_room\"] = np.NaN\n",
    "bad_index = [10076, 11621, 17764, 19390, 24007, 26713, 29172]\n",
    "train.loc[bad_index, \"num_room\"] = np.NaN\n",
    "bad_index = [3174, 7313]\n",
    "test.loc[bad_index, \"num_room\"] = np.NaN\n",
    "bad_index = train[(train.floor == 0).values * (train.max_floor == 0).values].index\n",
    "train.loc[bad_index, [\"max_floor\", \"floor\"]] = np.NaN\n",
    "bad_index = train[train.floor == 0].index\n",
    "train.loc[bad_index, \"floor\"] = np.NaN\n",
    "bad_index = train[train.max_floor == 0].index\n",
    "train.loc[bad_index, \"max_floor\"] = np.NaN\n",
    "bad_index = test[test.max_floor == 0].index\n",
    "test.loc[bad_index, \"max_floor\"] = np.NaN\n",
    "bad_index = train[train.floor > train.max_floor].index\n",
    "train.loc[bad_index, \"max_floor\"] = np.NaN\n",
    "bad_index = test[test.floor > test.max_floor].index\n",
    "test.loc[bad_index, \"max_floor\"] = np.NaN\n",
    "train.floor.describe(percentiles= [0.9999])\n",
    "bad_index = [23584]\n",
    "train.loc[bad_index, \"floor\"] = np.NaN\n",
    "train.material.value_counts()\n",
    "test.material.value_counts()\n",
    "train.state.value_counts()\n",
    "bad_index = train[train.state == 33].index\n",
    "train.loc[bad_index, \"state\"] = np.NaN\n",
    "test.state.value_counts()\n",
    "\n",
    "# Очитка выбросов. Отношение стоимости к общей площади недвижимости.\n",
    "train.loc[train.full_sq == 0, 'full_sq'] = 50\n",
    "train = train[train.price_doc/train.full_sq <= 600000]\n",
    "train = train[train.price_doc/train.full_sq >= 40000]\n"
   ]
  },
  {
   "cell_type": "code",
   "execution_count": 30,
   "metadata": {
    "id": "LfkxaR61G5Km"
   },
   "outputs": [],
   "source": [
    "y = train['price_doc'].values\n",
    "# train.drop(['price_doc'], axis=1, inplace=True)\n",
    "train['month'] = train.timestamp.dt.month\n",
    "train['dow'] = train.timestamp.dt.dayofweek\n",
    "train['year'] = train.timestamp.dt.year\n",
    "\n",
    "train['rel_floor'] = train['floor'] / train['max_floor'].astype(float)\n",
    "train['rel_kitch_sq'] = train['kitch_sq'] / train['full_sq'].astype(float)"
   ]
  },
  {
   "cell_type": "code",
   "execution_count": 31,
   "metadata": {
    "id": "XzzrrK7YDCJD"
   },
   "outputs": [],
   "source": [
    "test['month'] = test.timestamp.dt.month\n",
    "test['dow'] = test.timestamp.dt.dayofweek\n",
    "test['year'] = test.timestamp.dt.year\n",
    "\n",
    "test['rel_floor'] = test['floor'] / test['max_floor'].astype(float)\n",
    "test['rel_kitch_sq'] = test['kitch_sq'] / test['full_sq'].astype(float)"
   ]
  },
  {
   "cell_type": "code",
   "execution_count": 32,
   "metadata": {},
   "outputs": [],
   "source": [
    "train['kindergarten_closely'] = train.kindergarten_km.apply(lambda x : 1 if x < 0.5 else 0)\n",
    "test['kindergarten_closely'] = test.kindergarten_km.apply(lambda x : 1 if x < 0.5 else 0)"
   ]
  },
  {
   "cell_type": "code",
   "execution_count": 33,
   "metadata": {},
   "outputs": [],
   "source": [
    "train['railroad_closely'] = train.railroad_km.apply(lambda x : 1 if x < 1.5 else 0)\n",
    "test['railroad_closely'] = test.railroad_km.apply(lambda x : 1 if x < 1.5 else 0)"
   ]
  },
  {
   "cell_type": "code",
   "execution_count": 34,
   "metadata": {},
   "outputs": [],
   "source": [
    "train['public_transport_station_closely'] = train.public_transport_station_km.apply(lambda x : 1 if x < 0.5 else 0)\n",
    "test['public_transport_station_closely'] = test.public_transport_station_km.apply(lambda x : 1 if x < 0.5 else 0)"
   ]
  },
  {
   "cell_type": "code",
   "execution_count": 35,
   "metadata": {},
   "outputs": [],
   "source": [
    "train['metro_closely'] = train.metro_min_walk.apply(lambda x : 1 if x < 17 else 0)\n",
    "test['metro_closely'] = test.metro_min_walk.apply(lambda x : 1 if x < 17 else 0)"
   ]
  },
  {
   "cell_type": "code",
   "execution_count": 36,
   "metadata": {},
   "outputs": [],
   "source": [
    "train['school_closely'] = train.school_km.apply(lambda x : 1 if x < 0.5 else 0)\n",
    "test['school_closely'] = test.school_km.apply(lambda x : 1 if x < 0.5 else 0)"
   ]
  },
  {
   "cell_type": "code",
   "execution_count": 37,
   "metadata": {},
   "outputs": [],
   "source": [
    "train['park_closely'] = train.park_km.apply(lambda x : 1 if x < 0.5 else 0)\n",
    "test['park_closely'] = test.park_km.apply(lambda x : 1 if x < 0.5 else 0)"
   ]
  },
  {
   "cell_type": "code",
   "execution_count": 38,
   "metadata": {},
   "outputs": [],
   "source": [
    "train['water_closely'] = train.water_km.apply(lambda x : 1 if x < 0.5 else 0)\n",
    "test['water_closely'] = test.water_km.apply(lambda x : 1 if x < 0.5 else 0)"
   ]
  },
  {
   "cell_type": "code",
   "execution_count": 39,
   "metadata": {},
   "outputs": [],
   "source": [
    "feature_forms = ['build_year', 'sub_area', 'full_sq', 'kitch_sq', 'life_sq', 'num_room', 'floor', 'max_floor',\n",
    "                'month', 'dow', 'year', 'rel_floor', 'rel_kitch_sq', 'state', 'kindergarten_closely', 'railroad_closely',\n",
    "                'public_transport_station_closely', 'metro_closely', 'school_closely', 'park_closely', 'water_closely']"
   ]
  },
  {
   "cell_type": "code",
   "execution_count": 40,
   "metadata": {},
   "outputs": [],
   "source": [
    "feature_forms_classifier = ['build_year', 'full_sq', 'kitch_sq', 'life_sq', 'num_room', 'floor', 'max_floor',\n",
    "                'rel_floor', 'rel_kitch_sq', 'state', 'kindergarten_closely', 'railroad_closely',\n",
    "                'public_transport_station_closely', 'metro_closely', 'school_closely', 'park_closely', 'water_closely', 'price_doc']"
   ]
  },
  {
   "cell_type": "code",
   "execution_count": 41,
   "metadata": {
    "colab": {
     "base_uri": "https://localhost:8080/"
    },
    "id": "tdIs-HT4Vwr7",
    "outputId": "ee27ff65-be8d-4f4a-93d6-bc6f62563462"
   },
   "outputs": [
    {
     "data": {
      "text/plain": [
       "28827"
      ]
     },
     "execution_count": 41,
     "metadata": {},
     "output_type": "execute_result"
    }
   ],
   "source": [
    "num_train = len(train)\n",
    "num_train"
   ]
  },
  {
   "cell_type": "code",
   "execution_count": 42,
   "metadata": {
    "id": "hOKlpHZbDCLx"
   },
   "outputs": [],
   "source": [
    "df_all = pd.concat([train, test])\n",
    "df_all = pd.merge_ordered(df_all, macro, on='timestamp', how='left')\n",
    "df_all.drop(['timestamp'], axis=1, inplace=True)"
   ]
  },
  {
   "cell_type": "markdown",
   "metadata": {},
   "source": [
    "##### Датасеты для регрессии и классификации"
   ]
  },
  {
   "cell_type": "code",
   "execution_count": 97,
   "metadata": {
    "id": "-LWiIZNGT72q"
   },
   "outputs": [],
   "source": [
    "for c in df_all.columns:\n",
    "    if df_all[c].dtype == 'object':\n",
    "        lbl = LabelEncoder()\n",
    "        lbl.fit(list(df_all[c].values))\n",
    "        df_all[c] = lbl.transform(list(df_all[c].values))\n",
    "\n",
    "# Датасет для предсказания районов\n",
    "df_all_classifier = df_all.copy() \n",
    "\n",
    "# Датасет со всеми признаками\n",
    "df_train = df_all[:num_train]\n",
    "df_test = df_all[num_train:]\n",
    "\n",
    "# Датасет с отборными признаками\n",
    "df_selected_features = df_all.copy()\n",
    "df_selected_features = df_selected_features[feature_forms]\n",
    "df_train_selected_features = df_selected_features[:num_train]\n",
    "df_test_selected_features = df_selected_features[num_train:]\n"
   ]
  },
  {
   "cell_type": "markdown",
   "metadata": {},
   "source": [
    "## Регрессия. Обучение на всех данных."
   ]
  },
  {
   "cell_type": "code",
   "execution_count": 65,
   "metadata": {
    "id": "Gnq7PTnrN_v4"
   },
   "outputs": [],
   "source": [
    "xgb_params = {\n",
    "    'n_estimators' : 300,\n",
    "    'eta': 0.05,\n",
    "    'max_depth': 5,\n",
    "    'objective': 'reg:linear',\n",
    "    'eval_metric' : 'rmse',\n",
    "    'silent': 1\n",
    "}"
   ]
  },
  {
   "cell_type": "code",
   "execution_count": 66,
   "metadata": {
    "id": "h9q5qIcwbe-y"
   },
   "outputs": [],
   "source": [
    "num_boost_rounds = 422\n",
    "# model = xgb.XGBRegressor(**xgb_params, )"
   ]
  },
  {
   "cell_type": "code",
   "execution_count": 67,
   "metadata": {},
   "outputs": [],
   "source": [
    "X_train, X_test, y_train, y_test = train_test_split(df_train.drop(columns=['price_doc']), y, test_size=0.2, shuffle=False)"
   ]
  },
  {
   "cell_type": "code",
   "execution_count": 68,
   "metadata": {},
   "outputs": [],
   "source": [
    "train_matrix_all_features = xgb.DMatrix(X_train, np.log1p(y_train), feature_names=X_train.columns.values)\n",
    "test_matrix_all_features = xgb.DMatrix(X_test, feature_names=X_test.columns.values)"
   ]
  },
  {
   "cell_type": "code",
   "execution_count": 70,
   "metadata": {},
   "outputs": [
    {
     "name": "stdout",
     "output_type": "stream",
     "text": [
      "[22:31:10] WARNING: C:/Users/Administrator/workspace/xgboost-win64_release_1.6.0/src/objective/regression_obj.cu:203: reg:linear is now deprecated in favor of reg:squarederror.\n",
      "[22:31:10] WARNING: C:/Users/Administrator/workspace/xgboost-win64_release_1.6.0/src/learner.cc:627: \n",
      "Parameters: { \"n_estimators\", \"silent\" } might not be used.\n",
      "\n",
      "  This could be a false alarm, with some parameters getting used by language bindings but\n",
      "  then being mistakenly passed down to XGBoost core, or some parameter actually being used\n",
      "  but getting flagged wrongly here. Please open an issue if you find any such cases.\n",
      "\n",
      "\n"
     ]
    }
   ],
   "source": [
    "model_reg_all_features = xgb.train(xgb_params, train_matrix_all_features, num_boost_round=num_boost_rounds)\n",
    "pred_reg_all_features = np.exp(model_reg_all_features.predict(test_matrix_all_features))"
   ]
  },
  {
   "cell_type": "code",
   "execution_count": 86,
   "metadata": {},
   "outputs": [
    {
     "name": "stdout",
     "output_type": "stream",
     "text": [
      "RMSLE: 0.255\n"
     ]
    }
   ],
   "source": [
    "rmsle = np.sqrt(mean_squared_log_error(y_test, pred_reg_all_features))\n",
    "\n",
    "print('RMSLE: {:.3f}'.format(rmsle))"
   ]
  },
  {
   "cell_type": "markdown",
   "metadata": {},
   "source": [
    "#### Обучим на всех данных и сделаем саббмит на Kaggle"
   ]
  },
  {
   "cell_type": "code",
   "execution_count": 90,
   "metadata": {},
   "outputs": [],
   "source": [
    "columns_for_subbmit = df_train.drop(columns=['price_doc']).columns.values\n",
    "all_df_matrix_all_features = xgb.DMatrix(df_train.drop(columns=['price_doc']), np.log1p(y), feature_names=columns_for_subbmit)\n",
    "test_df_matrix_all_features = xgb.DMatrix(df_test.drop(columns=['price_doc']), feature_names=columns_for_subbmit)"
   ]
  },
  {
   "cell_type": "code",
   "execution_count": 92,
   "metadata": {},
   "outputs": [
    {
     "name": "stdout",
     "output_type": "stream",
     "text": [
      "[22:44:15] WARNING: C:/Users/Administrator/workspace/xgboost-win64_release_1.6.0/src/objective/regression_obj.cu:203: reg:linear is now deprecated in favor of reg:squarederror.\n",
      "[22:44:15] WARNING: C:/Users/Administrator/workspace/xgboost-win64_release_1.6.0/src/learner.cc:627: \n",
      "Parameters: { \"n_estimators\", \"silent\" } might not be used.\n",
      "\n",
      "  This could be a false alarm, with some parameters getting used by language bindings but\n",
      "  then being mistakenly passed down to XGBoost core, or some parameter actually being used\n",
      "  but getting flagged wrongly here. Please open an issue if you find any such cases.\n",
      "\n",
      "\n"
     ]
    }
   ],
   "source": [
    "model_for_subbmit_all_features = xgb.train(xgb_params, all_df_matrix_all_features, num_boost_round=num_boost_rounds)\n",
    "pred_for_subbmit_all_features = np.exp(model_reg_all_features.predict(test_df_matrix_all_features))"
   ]
  },
  {
   "cell_type": "code",
   "execution_count": 94,
   "metadata": {},
   "outputs": [],
   "source": [
    "submission = pd.DataFrame({'id': id_test, 'price_doc': pred_for_subbmit_all_features})\n",
    "submission.to_csv('XGB_all_features.csv', index=False)"
   ]
  },
  {
   "cell_type": "markdown",
   "metadata": {},
   "source": [
    "##### Получили score на Kaggle"
   ]
  },
  {
   "cell_type": "code",
   "execution_count": 113,
   "metadata": {},
   "outputs": [
    {
     "name": "stdout",
     "output_type": "stream",
     "text": [
      "Public score: 0.32513, Private Score: 0.32491, Top 59%\n"
     ]
    }
   ],
   "source": [
    "print('Public score: 0.32513, Private Score: 0.32491, Top 59%')"
   ]
  },
  {
   "cell_type": "markdown",
   "metadata": {},
   "source": [
    "### Попробуем Catboost и GridSearch"
   ]
  },
  {
   "cell_type": "code",
   "execution_count": 201,
   "metadata": {},
   "outputs": [],
   "source": [
    "params_cat = {'iterations' : [800, 1000],\n",
    "          'learning_rate' : np.arange(0.04, 0.07, 0.003),\n",
    "          'depth' : [6]}"
   ]
  },
  {
   "cell_type": "code",
   "execution_count": 202,
   "metadata": {},
   "outputs": [],
   "source": [
    "train_dataset_all_features = cb.Pool(X_train, np.log1p(y_train))\n",
    "test_dataset_all_features = cb.Pool(X_test, np.log1p(y_test))"
   ]
  },
  {
   "cell_type": "code",
   "execution_count": 203,
   "metadata": {},
   "outputs": [],
   "source": [
    "model_cat_all_features = CatBoostRegressor(loss_function='RMSE', silent=True)"
   ]
  },
  {
   "cell_type": "code",
   "execution_count": 204,
   "metadata": {
    "scrolled": true
   },
   "outputs": [
    {
     "data": {
      "application/vnd.jupyter.widget-view+json": {
       "model_id": "30bbc0b9d2604f44b0c75dc8b9ed19ce",
       "version_major": 2,
       "version_minor": 0
      },
      "text/plain": [
       "MetricVisualizer(layout=Layout(align_self='stretch', height='500px'))"
      ]
     },
     "metadata": {},
     "output_type": "display_data"
    },
    {
     "name": "stdout",
     "output_type": "stream",
     "text": [
      "\n",
      "bestTest = 0.2508743749\n",
      "bestIteration = 660\n",
      "\n",
      "0:\tloss: 0.2508744\tbest: 0.2508744 (0)\ttotal: 33.9s\tremaining: 1m 41s\n",
      "\n",
      "bestTest = 0.2508715282\n",
      "bestIteration = 641\n",
      "\n",
      "1:\tloss: 0.2508715\tbest: 0.2508715 (1)\ttotal: 1m 7s\tremaining: 1m 7s\n",
      "\n",
      "bestTest = 0.2499797862\n",
      "bestIteration = 468\n",
      "\n",
      "2:\tloss: 0.2499798\tbest: 0.2499798 (2)\ttotal: 1m 41s\tremaining: 33.8s\n",
      "\n",
      "bestTest = 0.2506822643\n",
      "bestIteration = 437\n",
      "\n",
      "3:\tloss: 0.2506823\tbest: 0.2499798 (2)\ttotal: 2m 15s\tremaining: 0us\n",
      "Estimating final quality...\n",
      "Training on fold [0/3]\n",
      "\n",
      "bestTest = 0.2612398114\n",
      "bestIteration = 425\n",
      "\n",
      "Training on fold [1/3]\n",
      "\n",
      "bestTest = 0.2530699689\n",
      "bestIteration = 703\n",
      "\n",
      "Training on fold [2/3]\n",
      "\n",
      "bestTest = 0.2445794169\n",
      "bestIteration = 594\n",
      "\n"
     ]
    },
    {
     "data": {
      "text/plain": [
       "{'params': {'depth': 6,\n",
       "  'iterations': 1222,\n",
       "  'learning_rate': 0.08600000000000001},\n",
       " 'cv_results': defaultdict(list,\n",
       "             {'iterations': [0,\n",
       "               1,\n",
       "               2,\n",
       "               3,\n",
       "               4,\n",
       "               5,\n",
       "               6,\n",
       "               7,\n",
       "               8,\n",
       "               9,\n",
       "               10,\n",
       "               11,\n",
       "               12,\n",
       "               13,\n",
       "               14,\n",
       "               15,\n",
       "               16,\n",
       "               17,\n",
       "               18,\n",
       "               19,\n",
       "               20,\n",
       "               21,\n",
       "               22,\n",
       "               23,\n",
       "               24,\n",
       "               25,\n",
       "               26,\n",
       "               27,\n",
       "               28,\n",
       "               29,\n",
       "               30,\n",
       "               31,\n",
       "               32,\n",
       "               33,\n",
       "               34,\n",
       "               35,\n",
       "               36,\n",
       "               37,\n",
       "               38,\n",
       "               39,\n",
       "               40,\n",
       "               41,\n",
       "               42,\n",
       "               43,\n",
       "               44,\n",
       "               45,\n",
       "               46,\n",
       "               47,\n",
       "               48,\n",
       "               49,\n",
       "               50,\n",
       "               51,\n",
       "               52,\n",
       "               53,\n",
       "               54,\n",
       "               55,\n",
       "               56,\n",
       "               57,\n",
       "               58,\n",
       "               59,\n",
       "               60,\n",
       "               61,\n",
       "               62,\n",
       "               63,\n",
       "               64,\n",
       "               65,\n",
       "               66,\n",
       "               67,\n",
       "               68,\n",
       "               69,\n",
       "               70,\n",
       "               71,\n",
       "               72,\n",
       "               73,\n",
       "               74,\n",
       "               75,\n",
       "               76,\n",
       "               77,\n",
       "               78,\n",
       "               79,\n",
       "               80,\n",
       "               81,\n",
       "               82,\n",
       "               83,\n",
       "               84,\n",
       "               85,\n",
       "               86,\n",
       "               87,\n",
       "               88,\n",
       "               89,\n",
       "               90,\n",
       "               91,\n",
       "               92,\n",
       "               93,\n",
       "               94,\n",
       "               95,\n",
       "               96,\n",
       "               97,\n",
       "               98,\n",
       "               99,\n",
       "               100,\n",
       "               101,\n",
       "               102,\n",
       "               103,\n",
       "               104,\n",
       "               105,\n",
       "               106,\n",
       "               107,\n",
       "               108,\n",
       "               109,\n",
       "               110,\n",
       "               111,\n",
       "               112,\n",
       "               113,\n",
       "               114,\n",
       "               115,\n",
       "               116,\n",
       "               117,\n",
       "               118,\n",
       "               119,\n",
       "               120,\n",
       "               121,\n",
       "               122,\n",
       "               123,\n",
       "               124,\n",
       "               125,\n",
       "               126,\n",
       "               127,\n",
       "               128,\n",
       "               129,\n",
       "               130,\n",
       "               131,\n",
       "               132,\n",
       "               133,\n",
       "               134,\n",
       "               135,\n",
       "               136,\n",
       "               137,\n",
       "               138,\n",
       "               139,\n",
       "               140,\n",
       "               141,\n",
       "               142,\n",
       "               143,\n",
       "               144,\n",
       "               145,\n",
       "               146,\n",
       "               147,\n",
       "               148,\n",
       "               149,\n",
       "               150,\n",
       "               151,\n",
       "               152,\n",
       "               153,\n",
       "               154,\n",
       "               155,\n",
       "               156,\n",
       "               157,\n",
       "               158,\n",
       "               159,\n",
       "               160,\n",
       "               161,\n",
       "               162,\n",
       "               163,\n",
       "               164,\n",
       "               165,\n",
       "               166,\n",
       "               167,\n",
       "               168,\n",
       "               169,\n",
       "               170,\n",
       "               171,\n",
       "               172,\n",
       "               173,\n",
       "               174,\n",
       "               175,\n",
       "               176,\n",
       "               177,\n",
       "               178,\n",
       "               179,\n",
       "               180,\n",
       "               181,\n",
       "               182,\n",
       "               183,\n",
       "               184,\n",
       "               185,\n",
       "               186,\n",
       "               187,\n",
       "               188,\n",
       "               189,\n",
       "               190,\n",
       "               191,\n",
       "               192,\n",
       "               193,\n",
       "               194,\n",
       "               195,\n",
       "               196,\n",
       "               197,\n",
       "               198,\n",
       "               199,\n",
       "               200,\n",
       "               201,\n",
       "               202,\n",
       "               203,\n",
       "               204,\n",
       "               205,\n",
       "               206,\n",
       "               207,\n",
       "               208,\n",
       "               209,\n",
       "               210,\n",
       "               211,\n",
       "               212,\n",
       "               213,\n",
       "               214,\n",
       "               215,\n",
       "               216,\n",
       "               217,\n",
       "               218,\n",
       "               219,\n",
       "               220,\n",
       "               221,\n",
       "               222,\n",
       "               223,\n",
       "               224,\n",
       "               225,\n",
       "               226,\n",
       "               227,\n",
       "               228,\n",
       "               229,\n",
       "               230,\n",
       "               231,\n",
       "               232,\n",
       "               233,\n",
       "               234,\n",
       "               235,\n",
       "               236,\n",
       "               237,\n",
       "               238,\n",
       "               239,\n",
       "               240,\n",
       "               241,\n",
       "               242,\n",
       "               243,\n",
       "               244,\n",
       "               245,\n",
       "               246,\n",
       "               247,\n",
       "               248,\n",
       "               249,\n",
       "               250,\n",
       "               251,\n",
       "               252,\n",
       "               253,\n",
       "               254,\n",
       "               255,\n",
       "               256,\n",
       "               257,\n",
       "               258,\n",
       "               259,\n",
       "               260,\n",
       "               261,\n",
       "               262,\n",
       "               263,\n",
       "               264,\n",
       "               265,\n",
       "               266,\n",
       "               267,\n",
       "               268,\n",
       "               269,\n",
       "               270,\n",
       "               271,\n",
       "               272,\n",
       "               273,\n",
       "               274,\n",
       "               275,\n",
       "               276,\n",
       "               277,\n",
       "               278,\n",
       "               279,\n",
       "               280,\n",
       "               281,\n",
       "               282,\n",
       "               283,\n",
       "               284,\n",
       "               285,\n",
       "               286,\n",
       "               287,\n",
       "               288,\n",
       "               289,\n",
       "               290,\n",
       "               291,\n",
       "               292,\n",
       "               293,\n",
       "               294,\n",
       "               295,\n",
       "               296,\n",
       "               297,\n",
       "               298,\n",
       "               299,\n",
       "               300,\n",
       "               301,\n",
       "               302,\n",
       "               303,\n",
       "               304,\n",
       "               305,\n",
       "               306,\n",
       "               307,\n",
       "               308,\n",
       "               309,\n",
       "               310,\n",
       "               311,\n",
       "               312,\n",
       "               313,\n",
       "               314,\n",
       "               315,\n",
       "               316,\n",
       "               317,\n",
       "               318,\n",
       "               319,\n",
       "               320,\n",
       "               321,\n",
       "               322,\n",
       "               323,\n",
       "               324,\n",
       "               325,\n",
       "               326,\n",
       "               327,\n",
       "               328,\n",
       "               329,\n",
       "               330,\n",
       "               331,\n",
       "               332,\n",
       "               333,\n",
       "               334,\n",
       "               335,\n",
       "               336,\n",
       "               337,\n",
       "               338,\n",
       "               339,\n",
       "               340,\n",
       "               341,\n",
       "               342,\n",
       "               343,\n",
       "               344,\n",
       "               345,\n",
       "               346,\n",
       "               347,\n",
       "               348,\n",
       "               349,\n",
       "               350,\n",
       "               351,\n",
       "               352,\n",
       "               353,\n",
       "               354,\n",
       "               355,\n",
       "               356,\n",
       "               357,\n",
       "               358,\n",
       "               359,\n",
       "               360,\n",
       "               361,\n",
       "               362,\n",
       "               363,\n",
       "               364,\n",
       "               365,\n",
       "               366,\n",
       "               367,\n",
       "               368,\n",
       "               369,\n",
       "               370,\n",
       "               371,\n",
       "               372,\n",
       "               373,\n",
       "               374,\n",
       "               375,\n",
       "               376,\n",
       "               377,\n",
       "               378,\n",
       "               379,\n",
       "               380,\n",
       "               381,\n",
       "               382,\n",
       "               383,\n",
       "               384,\n",
       "               385,\n",
       "               386,\n",
       "               387,\n",
       "               388,\n",
       "               389,\n",
       "               390,\n",
       "               391,\n",
       "               392,\n",
       "               393,\n",
       "               394,\n",
       "               395,\n",
       "               396,\n",
       "               397,\n",
       "               398,\n",
       "               399,\n",
       "               400,\n",
       "               401,\n",
       "               402,\n",
       "               403,\n",
       "               404,\n",
       "               405,\n",
       "               406,\n",
       "               407,\n",
       "               408,\n",
       "               409,\n",
       "               410,\n",
       "               411,\n",
       "               412,\n",
       "               413,\n",
       "               414,\n",
       "               415,\n",
       "               416,\n",
       "               417,\n",
       "               418,\n",
       "               419,\n",
       "               420,\n",
       "               421,\n",
       "               422,\n",
       "               423,\n",
       "               424,\n",
       "               425,\n",
       "               426,\n",
       "               427,\n",
       "               428,\n",
       "               429,\n",
       "               430,\n",
       "               431,\n",
       "               432,\n",
       "               433,\n",
       "               434,\n",
       "               435,\n",
       "               436,\n",
       "               437,\n",
       "               438,\n",
       "               439,\n",
       "               440,\n",
       "               441,\n",
       "               442,\n",
       "               443,\n",
       "               444,\n",
       "               445,\n",
       "               446,\n",
       "               447,\n",
       "               448,\n",
       "               449,\n",
       "               450,\n",
       "               451,\n",
       "               452,\n",
       "               453,\n",
       "               454,\n",
       "               455,\n",
       "               456,\n",
       "               457,\n",
       "               458,\n",
       "               459,\n",
       "               460,\n",
       "               461,\n",
       "               462,\n",
       "               463,\n",
       "               464,\n",
       "               465,\n",
       "               466,\n",
       "               467,\n",
       "               468,\n",
       "               469,\n",
       "               470,\n",
       "               471,\n",
       "               472,\n",
       "               473,\n",
       "               474,\n",
       "               475,\n",
       "               476,\n",
       "               477,\n",
       "               478,\n",
       "               479,\n",
       "               480,\n",
       "               481,\n",
       "               482,\n",
       "               483,\n",
       "               484,\n",
       "               485,\n",
       "               486,\n",
       "               487,\n",
       "               488,\n",
       "               489,\n",
       "               490,\n",
       "               491,\n",
       "               492,\n",
       "               493,\n",
       "               494,\n",
       "               495,\n",
       "               496,\n",
       "               497,\n",
       "               498,\n",
       "               499,\n",
       "               500,\n",
       "               501,\n",
       "               502,\n",
       "               503,\n",
       "               504,\n",
       "               505,\n",
       "               506,\n",
       "               507,\n",
       "               508,\n",
       "               509,\n",
       "               510,\n",
       "               511,\n",
       "               512,\n",
       "               513,\n",
       "               514,\n",
       "               515,\n",
       "               516,\n",
       "               517,\n",
       "               518,\n",
       "               519,\n",
       "               520,\n",
       "               521,\n",
       "               522,\n",
       "               523,\n",
       "               524,\n",
       "               525,\n",
       "               526,\n",
       "               527,\n",
       "               528,\n",
       "               529,\n",
       "               530,\n",
       "               531,\n",
       "               532,\n",
       "               533,\n",
       "               534,\n",
       "               535,\n",
       "               536,\n",
       "               537,\n",
       "               538,\n",
       "               539,\n",
       "               540,\n",
       "               541,\n",
       "               542,\n",
       "               543,\n",
       "               544,\n",
       "               545,\n",
       "               546,\n",
       "               547,\n",
       "               548,\n",
       "               549,\n",
       "               550,\n",
       "               551,\n",
       "               552,\n",
       "               553,\n",
       "               554,\n",
       "               555,\n",
       "               556,\n",
       "               557,\n",
       "               558,\n",
       "               559,\n",
       "               560,\n",
       "               561,\n",
       "               562,\n",
       "               563,\n",
       "               564,\n",
       "               565,\n",
       "               566,\n",
       "               567,\n",
       "               568,\n",
       "               569,\n",
       "               570,\n",
       "               571,\n",
       "               572,\n",
       "               573,\n",
       "               574,\n",
       "               575,\n",
       "               576,\n",
       "               577,\n",
       "               578,\n",
       "               579,\n",
       "               580,\n",
       "               581,\n",
       "               582,\n",
       "               583,\n",
       "               584,\n",
       "               585,\n",
       "               586,\n",
       "               587,\n",
       "               588,\n",
       "               589,\n",
       "               590,\n",
       "               591,\n",
       "               592,\n",
       "               593,\n",
       "               594,\n",
       "               595,\n",
       "               596,\n",
       "               597,\n",
       "               598,\n",
       "               599,\n",
       "               600,\n",
       "               601,\n",
       "               602,\n",
       "               603,\n",
       "               604,\n",
       "               605,\n",
       "               606,\n",
       "               607,\n",
       "               608,\n",
       "               609,\n",
       "               610,\n",
       "               611,\n",
       "               612,\n",
       "               613,\n",
       "               614,\n",
       "               615,\n",
       "               616,\n",
       "               617,\n",
       "               618,\n",
       "               619,\n",
       "               620,\n",
       "               621,\n",
       "               622,\n",
       "               623,\n",
       "               624,\n",
       "               625,\n",
       "               626,\n",
       "               627,\n",
       "               628,\n",
       "               629,\n",
       "               630,\n",
       "               631,\n",
       "               632,\n",
       "               633,\n",
       "               634,\n",
       "               635,\n",
       "               636,\n",
       "               637,\n",
       "               638,\n",
       "               639,\n",
       "               640,\n",
       "               641,\n",
       "               642,\n",
       "               643,\n",
       "               644,\n",
       "               645,\n",
       "               646,\n",
       "               647,\n",
       "               648,\n",
       "               649,\n",
       "               650,\n",
       "               651,\n",
       "               652,\n",
       "               653,\n",
       "               654,\n",
       "               655,\n",
       "               656,\n",
       "               657,\n",
       "               658,\n",
       "               659,\n",
       "               660,\n",
       "               661,\n",
       "               662,\n",
       "               663,\n",
       "               664,\n",
       "               665,\n",
       "               666,\n",
       "               667,\n",
       "               668,\n",
       "               669,\n",
       "               670,\n",
       "               671,\n",
       "               672,\n",
       "               673,\n",
       "               674,\n",
       "               675,\n",
       "               676,\n",
       "               677,\n",
       "               678,\n",
       "               679,\n",
       "               680,\n",
       "               681,\n",
       "               682,\n",
       "               683,\n",
       "               684,\n",
       "               685,\n",
       "               686,\n",
       "               687,\n",
       "               688,\n",
       "               689,\n",
       "               690,\n",
       "               691,\n",
       "               692,\n",
       "               693,\n",
       "               694,\n",
       "               695,\n",
       "               696,\n",
       "               697,\n",
       "               698,\n",
       "               699,\n",
       "               700,\n",
       "               701,\n",
       "               702,\n",
       "               703,\n",
       "               704,\n",
       "               705,\n",
       "               706,\n",
       "               707,\n",
       "               708,\n",
       "               709,\n",
       "               710,\n",
       "               711,\n",
       "               712,\n",
       "               713,\n",
       "               714,\n",
       "               715,\n",
       "               716,\n",
       "               717,\n",
       "               718,\n",
       "               719,\n",
       "               720,\n",
       "               721,\n",
       "               722,\n",
       "               723,\n",
       "               724,\n",
       "               725,\n",
       "               726,\n",
       "               727,\n",
       "               728,\n",
       "               729,\n",
       "               730,\n",
       "               731,\n",
       "               732,\n",
       "               733,\n",
       "               734,\n",
       "               735,\n",
       "               736,\n",
       "               737,\n",
       "               738,\n",
       "               739,\n",
       "               740,\n",
       "               741,\n",
       "               742,\n",
       "               743,\n",
       "               744,\n",
       "               745,\n",
       "               746,\n",
       "               747,\n",
       "               748,\n",
       "               749,\n",
       "               750,\n",
       "               751,\n",
       "               752,\n",
       "               753,\n",
       "               754,\n",
       "               755,\n",
       "               756,\n",
       "               757,\n",
       "               758,\n",
       "               759,\n",
       "               760,\n",
       "               761,\n",
       "               762,\n",
       "               763,\n",
       "               764,\n",
       "               765,\n",
       "               766,\n",
       "               767,\n",
       "               768,\n",
       "               769,\n",
       "               770,\n",
       "               771,\n",
       "               772,\n",
       "               773,\n",
       "               774,\n",
       "               775,\n",
       "               776,\n",
       "               777,\n",
       "               778,\n",
       "               779,\n",
       "               780,\n",
       "               781,\n",
       "               782,\n",
       "               783,\n",
       "               784,\n",
       "               785,\n",
       "               786,\n",
       "               787,\n",
       "               788,\n",
       "               789,\n",
       "               790,\n",
       "               791,\n",
       "               792,\n",
       "               793,\n",
       "               794,\n",
       "               795,\n",
       "               796,\n",
       "               797,\n",
       "               798,\n",
       "               799,\n",
       "               800,\n",
       "               801,\n",
       "               802,\n",
       "               803,\n",
       "               804,\n",
       "               805,\n",
       "               806,\n",
       "               807,\n",
       "               808,\n",
       "               809,\n",
       "               810,\n",
       "               811,\n",
       "               812,\n",
       "               813,\n",
       "               814,\n",
       "               815,\n",
       "               816,\n",
       "               817,\n",
       "               818,\n",
       "               819,\n",
       "               820,\n",
       "               821,\n",
       "               822,\n",
       "               823,\n",
       "               824,\n",
       "               825,\n",
       "               826,\n",
       "               827,\n",
       "               828,\n",
       "               829,\n",
       "               830,\n",
       "               831,\n",
       "               832,\n",
       "               833,\n",
       "               834,\n",
       "               835,\n",
       "               836,\n",
       "               837,\n",
       "               838,\n",
       "               839,\n",
       "               840,\n",
       "               841,\n",
       "               842,\n",
       "               843,\n",
       "               844,\n",
       "               845,\n",
       "               846,\n",
       "               847,\n",
       "               848,\n",
       "               849,\n",
       "               850,\n",
       "               851,\n",
       "               852,\n",
       "               853,\n",
       "               854,\n",
       "               855,\n",
       "               856,\n",
       "               857,\n",
       "               858,\n",
       "               859,\n",
       "               860,\n",
       "               861,\n",
       "               862,\n",
       "               863,\n",
       "               864,\n",
       "               865,\n",
       "               866,\n",
       "               867,\n",
       "               868,\n",
       "               869,\n",
       "               870,\n",
       "               871,\n",
       "               872,\n",
       "               873,\n",
       "               874,\n",
       "               875,\n",
       "               876,\n",
       "               877,\n",
       "               878,\n",
       "               879,\n",
       "               880,\n",
       "               881,\n",
       "               882,\n",
       "               883,\n",
       "               884,\n",
       "               885,\n",
       "               886,\n",
       "               887,\n",
       "               888,\n",
       "               889,\n",
       "               890,\n",
       "               891,\n",
       "               892,\n",
       "               893,\n",
       "               894,\n",
       "               895,\n",
       "               896,\n",
       "               897,\n",
       "               898,\n",
       "               899,\n",
       "               900,\n",
       "               901,\n",
       "               902,\n",
       "               903,\n",
       "               904,\n",
       "               905,\n",
       "               906,\n",
       "               907,\n",
       "               908,\n",
       "               909,\n",
       "               910,\n",
       "               911,\n",
       "               912,\n",
       "               913,\n",
       "               914,\n",
       "               915,\n",
       "               916,\n",
       "               917,\n",
       "               918,\n",
       "               919,\n",
       "               920,\n",
       "               921,\n",
       "               922,\n",
       "               923,\n",
       "               924,\n",
       "               925,\n",
       "               926,\n",
       "               927,\n",
       "               928,\n",
       "               929,\n",
       "               930,\n",
       "               931,\n",
       "               932,\n",
       "               933,\n",
       "               934,\n",
       "               935,\n",
       "               936,\n",
       "               937,\n",
       "               938,\n",
       "               939,\n",
       "               940,\n",
       "               941,\n",
       "               942,\n",
       "               943,\n",
       "               944,\n",
       "               945,\n",
       "               946,\n",
       "               947,\n",
       "               948,\n",
       "               949,\n",
       "               950,\n",
       "               951,\n",
       "               952,\n",
       "               953,\n",
       "               954,\n",
       "               955,\n",
       "               956,\n",
       "               957,\n",
       "               958,\n",
       "               959,\n",
       "               960,\n",
       "               961,\n",
       "               962,\n",
       "               963,\n",
       "               964,\n",
       "               965,\n",
       "               966,\n",
       "               967,\n",
       "               968,\n",
       "               969,\n",
       "               970,\n",
       "               971,\n",
       "               972,\n",
       "               973,\n",
       "               974,\n",
       "               975,\n",
       "               976,\n",
       "               977,\n",
       "               978,\n",
       "               979,\n",
       "               980,\n",
       "               981,\n",
       "               982,\n",
       "               983,\n",
       "               984,\n",
       "               985,\n",
       "               986,\n",
       "               987,\n",
       "               988,\n",
       "               989,\n",
       "               990,\n",
       "               991,\n",
       "               992,\n",
       "               993,\n",
       "               994,\n",
       "               995,\n",
       "               996,\n",
       "               997,\n",
       "               998,\n",
       "               999,\n",
       "               ...],\n",
       "              'test-RMSE-mean': [14.340964028683509,\n",
       "               13.11381311878494,\n",
       "               11.993071007845108,\n",
       "               10.968463035260887,\n",
       "               10.032699509067951,\n",
       "               9.174766022853305,\n",
       "               8.390950261478404,\n",
       "               7.676120293633109,\n",
       "               7.021352442763444,\n",
       "               6.421750402973879,\n",
       "               5.876590639554789,\n",
       "               5.376465541168156,\n",
       "               4.920609438867618,\n",
       "               4.503586687973695,\n",
       "               4.12302511683048,\n",
       "               3.774594761362108,\n",
       "               3.4558741636515116,\n",
       "               3.1651400334310402,\n",
       "               2.899777326548385,\n",
       "               2.657717255760159,\n",
       "               2.4365997622615825,\n",
       "               2.234781054471576,\n",
       "               2.050806565145072,\n",
       "               1.8830242163019442,\n",
       "               1.7311102513917618,\n",
       "               1.592228490373957,\n",
       "               1.4640527684815872,\n",
       "               1.3487003327551583,\n",
       "               1.2446540151360914,\n",
       "               1.1465202100247958,\n",
       "               1.057289559769434,\n",
       "               0.9768622909513058,\n",
       "               0.9036116970068936,\n",
       "               0.8372531087044158,\n",
       "               0.7773551552109327,\n",
       "               0.7225686019965871,\n",
       "               0.6751572668905291,\n",
       "               0.6312104001341429,\n",
       "               0.5914064048194974,\n",
       "               0.5560316596190623,\n",
       "               0.5237664620117853,\n",
       "               0.49604653795958537,\n",
       "               0.4700646457425654,\n",
       "               0.4471763286708171,\n",
       "               0.4269391674454535,\n",
       "               0.4092431160552284,\n",
       "               0.3934292612386378,\n",
       "               0.37942831236353336,\n",
       "               0.36776573770821147,\n",
       "               0.3568607990865427,\n",
       "               0.34739640403680233,\n",
       "               0.3389125198689751,\n",
       "               0.3313882694371993,\n",
       "               0.32540561508438764,\n",
       "               0.3197144473165358,\n",
       "               0.31471426616529047,\n",
       "               0.3100286818627178,\n",
       "               0.306260181226949,\n",
       "               0.3029042714931529,\n",
       "               0.30000387954358515,\n",
       "               0.29751813465795285,\n",
       "               0.2950281509002786,\n",
       "               0.2929506281251718,\n",
       "               0.2911029111519903,\n",
       "               0.2894804047788963,\n",
       "               0.2879545073246576,\n",
       "               0.2865295432684594,\n",
       "               0.2854229256577975,\n",
       "               0.28439129182966455,\n",
       "               0.2833353996275735,\n",
       "               0.2823445480942188,\n",
       "               0.28139445267571067,\n",
       "               0.280524695856621,\n",
       "               0.279801565028079,\n",
       "               0.2791096779726962,\n",
       "               0.27861737548297644,\n",
       "               0.27803276974150076,\n",
       "               0.277421064141739,\n",
       "               0.2769046318848493,\n",
       "               0.27647421687366097,\n",
       "               0.2760203939554156,\n",
       "               0.2755371002343292,\n",
       "               0.275196524248624,\n",
       "               0.2747291526913161,\n",
       "               0.27433987645904373,\n",
       "               0.2739340742569844,\n",
       "               0.27358542295475213,\n",
       "               0.2730753784254412,\n",
       "               0.27268661570384783,\n",
       "               0.2723508873743299,\n",
       "               0.2718949762693697,\n",
       "               0.27154720926116643,\n",
       "               0.2712650413261686,\n",
       "               0.2708561700609584,\n",
       "               0.27057635350162207,\n",
       "               0.2703354816187937,\n",
       "               0.27004023622089074,\n",
       "               0.26978558340973663,\n",
       "               0.2696085749450379,\n",
       "               0.26938883174223055,\n",
       "               0.26920366566487647,\n",
       "               0.2689230466094971,\n",
       "               0.2685611785705311,\n",
       "               0.2683622638718137,\n",
       "               0.26798257874421244,\n",
       "               0.2677831516612743,\n",
       "               0.26758508995709235,\n",
       "               0.2672248587113562,\n",
       "               0.26690601026647887,\n",
       "               0.2666852629871847,\n",
       "               0.2664877252114193,\n",
       "               0.2663429138517654,\n",
       "               0.2660912387693189,\n",
       "               0.26595839603133536,\n",
       "               0.26573331138661793,\n",
       "               0.2653823142259968,\n",
       "               0.26517412780814253,\n",
       "               0.2649991483941317,\n",
       "               0.2648286280745302,\n",
       "               0.26471358494295166,\n",
       "               0.26459280308237987,\n",
       "               0.2643999813701087,\n",
       "               0.26432206228082455,\n",
       "               0.264175671990635,\n",
       "               0.26406522698904755,\n",
       "               0.26391333443935716,\n",
       "               0.2637538817452936,\n",
       "               0.26374205183264343,\n",
       "               0.2636601530534435,\n",
       "               0.2635817374604597,\n",
       "               0.2633853199248824,\n",
       "               0.2633374193167479,\n",
       "               0.2631421725752661,\n",
       "               0.26299225809883126,\n",
       "               0.2628208596077823,\n",
       "               0.262728122515582,\n",
       "               0.26261999885280995,\n",
       "               0.2625610755658354,\n",
       "               0.2624113714357674,\n",
       "               0.2622427135152749,\n",
       "               0.2620326319418543,\n",
       "               0.261835132204004,\n",
       "               0.26171266901936496,\n",
       "               0.2614829894433399,\n",
       "               0.26147333099838427,\n",
       "               0.26129866761598713,\n",
       "               0.26116038111856693,\n",
       "               0.26114422508329216,\n",
       "               0.26104446816090154,\n",
       "               0.2610073579257289,\n",
       "               0.26095907837893034,\n",
       "               0.26084447087621254,\n",
       "               0.260806763567822,\n",
       "               0.26071907958906554,\n",
       "               0.2605610162881276,\n",
       "               0.2605263860832662,\n",
       "               0.26043595564993055,\n",
       "               0.2603951830485262,\n",
       "               0.26030999038316205,\n",
       "               0.2602524639027565,\n",
       "               0.2601583137042063,\n",
       "               0.26011785574730534,\n",
       "               0.260069739046739,\n",
       "               0.25993181113504393,\n",
       "               0.2598253153889396,\n",
       "               0.25974966970130065,\n",
       "               0.2597620396689289,\n",
       "               0.2597257869938907,\n",
       "               0.2596235732628716,\n",
       "               0.2595237485026456,\n",
       "               0.2594935429009061,\n",
       "               0.2593939319019097,\n",
       "               0.2593307443880714,\n",
       "               0.25929158497170596,\n",
       "               0.25928055289632623,\n",
       "               0.25922847855837106,\n",
       "               0.25915942846923185,\n",
       "               0.2590777755874375,\n",
       "               0.2590605175521501,\n",
       "               0.25906924758890515,\n",
       "               0.25895131450984415,\n",
       "               0.2588482984799949,\n",
       "               0.25876476915053814,\n",
       "               0.25867887329862066,\n",
       "               0.2586267773064989,\n",
       "               0.25850288771841856,\n",
       "               0.2584969362662894,\n",
       "               0.2584622070341802,\n",
       "               0.25842824733893693,\n",
       "               0.25837869443048483,\n",
       "               0.2583247605285332,\n",
       "               0.25829056790512334,\n",
       "               0.25822278011430777,\n",
       "               0.2581670810046763,\n",
       "               0.2581193424224018,\n",
       "               0.2580887543198469,\n",
       "               0.2580308367540826,\n",
       "               0.2579427243451117,\n",
       "               0.2578189370905652,\n",
       "               0.25778999573299083,\n",
       "               0.257743213530136,\n",
       "               0.25765168062010174,\n",
       "               0.25759574355001796,\n",
       "               0.25759514215899143,\n",
       "               0.25754932781760753,\n",
       "               0.257460566803235,\n",
       "               0.2574287039325598,\n",
       "               0.25738732653407875,\n",
       "               0.25736101185668236,\n",
       "               0.25733406815745496,\n",
       "               0.2573071300056671,\n",
       "               0.2572758611679256,\n",
       "               0.25722932244885977,\n",
       "               0.25717583166985053,\n",
       "               0.2571394192932876,\n",
       "               0.25708619462173615,\n",
       "               0.25702957743384824,\n",
       "               0.25702622702165945,\n",
       "               0.2569834078814035,\n",
       "               0.25698463868563154,\n",
       "               0.2569871337842706,\n",
       "               0.2569678627160881,\n",
       "               0.256909279441966,\n",
       "               0.2568758341045442,\n",
       "               0.25683571623727514,\n",
       "               0.2567908532316558,\n",
       "               0.25671247090271065,\n",
       "               0.25665829462756795,\n",
       "               0.25664037580032995,\n",
       "               0.25663604430085346,\n",
       "               0.25657673255116215,\n",
       "               0.256462176185768,\n",
       "               0.2564173061073059,\n",
       "               0.2564081782459337,\n",
       "               0.25637353217952974,\n",
       "               0.2563524906330269,\n",
       "               0.25629082382327434,\n",
       "               0.25627591891063434,\n",
       "               0.2562603009397271,\n",
       "               0.2562389335344186,\n",
       "               0.2562375195393844,\n",
       "               0.2562182434950411,\n",
       "               0.2561744225625333,\n",
       "               0.2561896632014567,\n",
       "               0.25617032744026574,\n",
       "               0.25615119814982495,\n",
       "               0.2561269649397639,\n",
       "               0.25609867461718266,\n",
       "               0.25606712519569813,\n",
       "               0.256041778392289,\n",
       "               0.25601654176606686,\n",
       "               0.2559923892793868,\n",
       "               0.25595310542061006,\n",
       "               0.25592688116822665,\n",
       "               0.25591275760213805,\n",
       "               0.25587138104987867,\n",
       "               0.2558549827385294,\n",
       "               0.25581634421307986,\n",
       "               0.2557779704114942,\n",
       "               0.25576457432509486,\n",
       "               0.2557216830603429,\n",
       "               0.25568009958630894,\n",
       "               0.2556753539525793,\n",
       "               0.2556407939320466,\n",
       "               0.25560860239827626,\n",
       "               0.2555962957628995,\n",
       "               0.25558285521938023,\n",
       "               0.25558316181567536,\n",
       "               0.2555787099445597,\n",
       "               0.2555716563789793,\n",
       "               0.25556478919073117,\n",
       "               0.25556393177040665,\n",
       "               0.2555548440416024,\n",
       "               0.2555303085524158,\n",
       "               0.2555211148697113,\n",
       "               0.25549580343925754,\n",
       "               0.25540801241933114,\n",
       "               0.2553779935851253,\n",
       "               0.255336588731449,\n",
       "               0.2552796916466959,\n",
       "               0.2552680028567675,\n",
       "               0.2552525153261828,\n",
       "               0.2552233593369441,\n",
       "               0.2552257237969006,\n",
       "               0.2551951509488999,\n",
       "               0.2551738381187103,\n",
       "               0.2551609082405078,\n",
       "               0.25514853566250995,\n",
       "               0.25513864816406034,\n",
       "               0.25512415309196246,\n",
       "               0.25512636956958834,\n",
       "               0.2550447556016216,\n",
       "               0.2550334041750144,\n",
       "               0.2550135319080013,\n",
       "               0.2550074059839593,\n",
       "               0.2550101514942072,\n",
       "               0.254950615124975,\n",
       "               0.25495301211697535,\n",
       "               0.2549385929392766,\n",
       "               0.2549301209478836,\n",
       "               0.25491386946253997,\n",
       "               0.25487533463657236,\n",
       "               0.2548603924304575,\n",
       "               0.25486013976832966,\n",
       "               0.25484536298670896,\n",
       "               0.25484348032869825,\n",
       "               0.2548198128459337,\n",
       "               0.25480121626075336,\n",
       "               0.2547904197680165,\n",
       "               0.25475807836681114,\n",
       "               0.2547185812852427,\n",
       "               0.25469042631594974,\n",
       "               0.2546830839467656,\n",
       "               0.25466777169315447,\n",
       "               0.2546369869464737,\n",
       "               0.2546171221326088,\n",
       "               0.2545656111865854,\n",
       "               0.25455786301279215,\n",
       "               0.25454940078274785,\n",
       "               0.25455181379844555,\n",
       "               0.2545502285066467,\n",
       "               0.25451703055123875,\n",
       "               0.2545053245633948,\n",
       "               0.2544858226592612,\n",
       "               0.2544695288093139,\n",
       "               0.25446197904032025,\n",
       "               0.25440885312197187,\n",
       "               0.2544131543725969,\n",
       "               0.25442077344566566,\n",
       "               0.2544128472492482,\n",
       "               0.25439218559731036,\n",
       "               0.2544011240820307,\n",
       "               0.25440268122186876,\n",
       "               0.25439527602982515,\n",
       "               0.2543890594372437,\n",
       "               0.2543913254847013,\n",
       "               0.2543845797293008,\n",
       "               0.2543788310325738,\n",
       "               0.25437746371091124,\n",
       "               0.254369846016783,\n",
       "               0.2543818928028487,\n",
       "               0.25437603177728857,\n",
       "               0.2543444795522591,\n",
       "               0.25434440788097734,\n",
       "               0.2543430942225972,\n",
       "               0.25432238028083404,\n",
       "               0.25431963359163207,\n",
       "               0.25429404085286694,\n",
       "               0.25429268309815206,\n",
       "               0.2542842768994069,\n",
       "               0.25430285228973126,\n",
       "               0.2542777597637885,\n",
       "               0.2542785638346579,\n",
       "               0.2542784591628458,\n",
       "               0.25427804218414013,\n",
       "               0.2542684361060361,\n",
       "               0.2542496372795898,\n",
       "               0.2542393430836711,\n",
       "               0.2542449807746644,\n",
       "               0.25424277198420775,\n",
       "               0.25423042336878116,\n",
       "               0.25421775726732815,\n",
       "               0.2541985755182387,\n",
       "               0.2541771028469257,\n",
       "               0.254176375198958,\n",
       "               0.2541580974643089,\n",
       "               0.25414521792464756,\n",
       "               0.25410341127086283,\n",
       "               0.254105699403901,\n",
       "               0.2540819704433201,\n",
       "               0.2540710653593359,\n",
       "               0.2540694303998259,\n",
       "               0.2540397044492404,\n",
       "               0.2540168894823284,\n",
       "               0.2540175575776595,\n",
       "               0.2540102549722282,\n",
       "               0.25399399952452795,\n",
       "               0.25396688561807196,\n",
       "               0.25398514292267255,\n",
       "               0.25396455624568154,\n",
       "               0.25393332010891784,\n",
       "               0.2539073531707985,\n",
       "               0.2538943779292861,\n",
       "               0.2538869883563703,\n",
       "               0.2538837977433874,\n",
       "               0.25387102076752627,\n",
       "               0.2538399296122889,\n",
       "               0.25383976042198836,\n",
       "               0.2538397999614923,\n",
       "               0.2538102506793039,\n",
       "               0.2538009254888715,\n",
       "               0.25380400302466355,\n",
       "               0.2537680543146,\n",
       "               0.2537688211652413,\n",
       "               0.25377229934192463,\n",
       "               0.2537640907592651,\n",
       "               0.25372848974938866,\n",
       "               0.2537358787543254,\n",
       "               0.2537628555890999,\n",
       "               0.25375247073847407,\n",
       "               0.2537520932536305,\n",
       "               0.25374540171488125,\n",
       "               0.25374892554507184,\n",
       "               0.2537362062237397,\n",
       "               0.25371864436300934,\n",
       "               0.2537148812512429,\n",
       "               0.25370701695747117,\n",
       "               0.2536814314905063,\n",
       "               0.2536515901677814,\n",
       "               0.2536523927500914,\n",
       "               0.25364167690479256,\n",
       "               0.2536342588855534,\n",
       "               0.25362845889966795,\n",
       "               0.25363173658984867,\n",
       "               0.25362817465045845,\n",
       "               0.2536207339751994,\n",
       "               0.2536004820207339,\n",
       "               0.25359457166686245,\n",
       "               0.2535895327553654,\n",
       "               0.2535708544197451,\n",
       "               0.2535595791585437,\n",
       "               0.25354326331844507,\n",
       "               0.2535318256769498,\n",
       "               0.25354947935138755,\n",
       "               0.2535185015337472,\n",
       "               0.2534762287578638,\n",
       "               0.2534784169861325,\n",
       "               0.25348962045646367,\n",
       "               0.2535001012184385,\n",
       "               0.2534944696741915,\n",
       "               0.2535008022021794,\n",
       "               0.25349379632310604,\n",
       "               0.2534812851225716,\n",
       "               0.25349071962546194,\n",
       "               0.25350038853456835,\n",
       "               0.25349620926692645,\n",
       "               0.25348951260020236,\n",
       "               0.25347673823954103,\n",
       "               0.25347734269161687,\n",
       "               0.25346530668481737,\n",
       "               0.2534530283933126,\n",
       "               0.25344674935736555,\n",
       "               0.2534309241240284,\n",
       "               0.2534419076257166,\n",
       "               0.2534531319141102,\n",
       "               0.25344507423857726,\n",
       "               0.25344646418335964,\n",
       "               0.253433630923287,\n",
       "               0.2534285796763412,\n",
       "               0.25341420173324253,\n",
       "               0.25343671475816776,\n",
       "               0.253449055593415,\n",
       "               0.25343793375931284,\n",
       "               0.25344641572433063,\n",
       "               0.2534428554712808,\n",
       "               0.2534315516486136,\n",
       "               0.25343148369453866,\n",
       "               0.25340076555908336,\n",
       "               0.2533981651541695,\n",
       "               0.2534004563583102,\n",
       "               0.25341550424238246,\n",
       "               0.2534174501088136,\n",
       "               0.25338853934623734,\n",
       "               0.25338302758972525,\n",
       "               0.2533939484550818,\n",
       "               0.2533803901110845,\n",
       "               0.2533859233155022,\n",
       "               0.2533936003678276,\n",
       "               0.25339249361598926,\n",
       "               0.253403943524952,\n",
       "               0.2534129827181021,\n",
       "               0.25341841017633815,\n",
       "               0.25342306631021977,\n",
       "               0.2534122210166276,\n",
       "               0.25340962199947203,\n",
       "               0.2534378965858206,\n",
       "               0.2534415700021183,\n",
       "               0.25340890290133916,\n",
       "               0.25342835286795,\n",
       "               0.2534288464516898,\n",
       "               0.25342518473060793,\n",
       "               0.2534494730101514,\n",
       "               0.2534352702385973,\n",
       "               0.2534316959653592,\n",
       "               0.25341939403472047,\n",
       "               0.253414997469353,\n",
       "               0.2534116566843603,\n",
       "               0.2533866982783218,\n",
       "               0.2533807813248519,\n",
       "               0.2533908471076343,\n",
       "               0.25336138268368474,\n",
       "               0.2533794623207077,\n",
       "               0.2533766194804378,\n",
       "               0.2533842111016348,\n",
       "               0.253387722712707,\n",
       "               0.2533739432220351,\n",
       "               0.2533733734660862,\n",
       "               0.2533627404023742,\n",
       "               0.2533618929512034,\n",
       "               0.25336818812349143,\n",
       "               0.25335932784591103,\n",
       "               0.25336034163912613,\n",
       "               0.2533614141265568,\n",
       "               0.2533669090549075,\n",
       "               0.253347324531772,\n",
       "               0.25336825495774645,\n",
       "               0.2533671848289392,\n",
       "               0.25336663689461164,\n",
       "               0.2533658614031305,\n",
       "               0.25334293898223575,\n",
       "               0.2533468170561635,\n",
       "               0.2533558123018473,\n",
       "               0.2533582406281538,\n",
       "               0.25333826660437664,\n",
       "               0.253331343866493,\n",
       "               0.2533436615286928,\n",
       "               0.25333776293019267,\n",
       "               0.2533004044479314,\n",
       "               0.25331384285685987,\n",
       "               0.2533141883517159,\n",
       "               0.25331526092074363,\n",
       "               0.2532893361575938,\n",
       "               0.25327731410655324,\n",
       "               0.2532545064137088,\n",
       "               0.2532524716094943,\n",
       "               0.2532599290610464,\n",
       "               0.2532491799223697,\n",
       "               0.25325607576582093,\n",
       "               0.253261586730976,\n",
       "               0.253261400935771,\n",
       "               0.2532527611691467,\n",
       "               0.2532401748737556,\n",
       "               0.25325065087067583,\n",
       "               0.25326696798389686,\n",
       "               0.2532762055580196,\n",
       "               0.2532634187830081,\n",
       "               0.25325618782429915,\n",
       "               0.253243396802781,\n",
       "               0.2532387754657143,\n",
       "               0.2532451135964451,\n",
       "               0.2532279510267541,\n",
       "               0.25322373625883005,\n",
       "               0.2532205002145916,\n",
       "               0.25319967818359224,\n",
       "               0.2531938629064856,\n",
       "               0.25317594456888826,\n",
       "               0.2531624634812118,\n",
       "               0.25318554532107856,\n",
       "               0.25316691116473994,\n",
       "               0.2531715444697265,\n",
       "               0.25315985007452396,\n",
       "               0.25315456661449715,\n",
       "               0.2531515427196371,\n",
       "               0.2531539528012534,\n",
       "               0.25315363759354054,\n",
       "               0.2531562013246566,\n",
       "               0.25316297974123075,\n",
       "               0.2531641046121781,\n",
       "               0.25317752186956616,\n",
       "               0.2531797504876942,\n",
       "               0.2531574840995307,\n",
       "               0.25314721437474724,\n",
       "               0.25315532647905425,\n",
       "               0.25315552556113036,\n",
       "               0.2531526659351692,\n",
       "               0.25314675820954075,\n",
       "               0.2531486204982703,\n",
       "               0.2531397849297699,\n",
       "               0.25312384834086604,\n",
       "               0.25312875633979476,\n",
       "               0.2531351052555736,\n",
       "               0.25313024247431515,\n",
       "               0.25313584776812065,\n",
       "               0.25312289301792085,\n",
       "               0.25313130003015616,\n",
       "               0.25312864345198166,\n",
       "               0.25312332600919674,\n",
       "               0.25312539110772825,\n",
       "               0.25311616814815135,\n",
       "               0.25309665055550606,\n",
       "               0.25309264081468424,\n",
       "               0.25308937353294253,\n",
       "               0.2530962124320721,\n",
       "               0.25310044697986905,\n",
       "               0.25310239717915173,\n",
       "               0.2530951352076607,\n",
       "               0.2530903223537883,\n",
       "               0.253094286164155,\n",
       "               0.2530954526766887,\n",
       "               0.25308295838321193,\n",
       "               0.25305964169931483,\n",
       "               0.25307107586991223,\n",
       "               0.2530558325586841,\n",
       "               0.25305010525386734,\n",
       "               0.2530429205645079,\n",
       "               0.2530448446069559,\n",
       "               0.25304632595109716,\n",
       "               0.2530438489109117,\n",
       "               0.2530538332962174,\n",
       "               0.2530513427587331,\n",
       "               0.2530518414293837,\n",
       "               0.2530642219552557,\n",
       "               0.2530634962182028,\n",
       "               0.2530557490543601,\n",
       "               0.253066076513264,\n",
       "               0.2530716235824701,\n",
       "               0.2530836871618873,\n",
       "               0.25307323115791786,\n",
       "               0.25307296175618776,\n",
       "               0.253082483808564,\n",
       "               0.2530832410936576,\n",
       "               0.2530963564572626,\n",
       "               0.2531030903331022,\n",
       "               0.25310369080303524,\n",
       "               0.25309234350865434,\n",
       "               0.2530935156565725,\n",
       "               0.2530841004684383,\n",
       "               0.25309408757453794,\n",
       "               0.25310383025515937,\n",
       "               0.25310669784146383,\n",
       "               0.25311313381750883,\n",
       "               0.25308168038783124,\n",
       "               0.25306952164066715,\n",
       "               0.2530643382698712,\n",
       "               0.2530584329880953,\n",
       "               0.2530658752826402,\n",
       "               0.25306229966866106,\n",
       "               0.2530643050962189,\n",
       "               0.2530667179492309,\n",
       "               0.2530751952410902,\n",
       "               0.2530921885986257,\n",
       "               0.25307017309638274,\n",
       "               0.25306585856000674,\n",
       "               0.253056601180169,\n",
       "               0.25305703311894545,\n",
       "               0.2530599801260072,\n",
       "               0.25306864927894845,\n",
       "               0.25307506347480196,\n",
       "               0.25306639566368777,\n",
       "               0.25306539666765415,\n",
       "               0.2530695160030779,\n",
       "               0.25307315830001387,\n",
       "               0.25307260746106763,\n",
       "               0.2530666845296187,\n",
       "               0.25307457112979975,\n",
       "               0.25307541762735813,\n",
       "               0.25308467004415053,\n",
       "               0.25306697402844464,\n",
       "               0.25307629951656807,\n",
       "               0.2530745433759596,\n",
       "               0.2530854676695153,\n",
       "               0.253080198427436,\n",
       "               0.25308043453488877,\n",
       "               0.25308855370482597,\n",
       "               0.25309059406939094,\n",
       "               0.2530921848004917,\n",
       "               0.2530939127069591,\n",
       "               0.25308132393909943,\n",
       "               0.2530838792331588,\n",
       "               0.25307016462568743,\n",
       "               0.25307483195671104,\n",
       "               0.25307774433343216,\n",
       "               0.25304790516496645,\n",
       "               0.2530400737643192,\n",
       "               0.25304551837849437,\n",
       "               0.25304400069739846,\n",
       "               0.2530547314919324,\n",
       "               0.2530509159938155,\n",
       "               0.25305116111804205,\n",
       "               0.2530491784438293,\n",
       "               0.25305427963516003,\n",
       "               0.2530616265406032,\n",
       "               0.25307686782336974,\n",
       "               0.25309418138943524,\n",
       "               0.2530968703418476,\n",
       "               0.2530987032516605,\n",
       "               0.2530925742724198,\n",
       "               0.25309471094976005,\n",
       "               0.25310596452419915,\n",
       "               0.2531061656823356,\n",
       "               0.25311373641431667,\n",
       "               0.2531246332922959,\n",
       "               0.2531492442652327,\n",
       "               0.25313078183512466,\n",
       "               0.253141984441251,\n",
       "               0.25313932355658864,\n",
       "               0.25313871535103,\n",
       "               0.2531415064539622,\n",
       "               0.25313810630591677,\n",
       "               0.2531371926638149,\n",
       "               0.25314412306735895,\n",
       "               0.2531333444017403,\n",
       "               0.2531393959913764,\n",
       "               0.25314134534210053,\n",
       "               0.2531334127752289,\n",
       "               0.253142954254461,\n",
       "               0.2531406918396991,\n",
       "               0.25314281584660564,\n",
       "               0.2531322037589374,\n",
       "               0.25313146618967003,\n",
       "               0.25311735277854314,\n",
       "               0.25313386976555224,\n",
       "               0.2531218213520154,\n",
       "               0.25312165094034433,\n",
       "               0.253119029418465,\n",
       "               0.25312390500019893,\n",
       "               0.25312915034356814,\n",
       "               0.25313413762856846,\n",
       "               0.2531398282053577,\n",
       "               0.25315180792786984,\n",
       "               0.2531711783376149,\n",
       "               0.2531778219126308,\n",
       "               0.2531869528344212,\n",
       "               0.25317664365387965,\n",
       "               0.2531768109200933,\n",
       "               0.2531810862913277,\n",
       "               0.2531772573303163,\n",
       "               0.25319515362381656,\n",
       "               0.2531936026866119,\n",
       "               0.2531903427495999,\n",
       "               0.2531947513480613,\n",
       "               0.2532010883264999,\n",
       "               0.25320264054078856,\n",
       "               0.25320240939287175,\n",
       "               0.2532008560369836,\n",
       "               0.2531944929474464,\n",
       "               0.253201930989223,\n",
       "               0.2532161305939024,\n",
       "               0.2532076168383412,\n",
       "               0.25318399371647243,\n",
       "               0.25318237423084416,\n",
       "               0.25320371390234814,\n",
       "               0.25322447462063036,\n",
       "               0.2532367624504095,\n",
       "               0.25325566166911134,\n",
       "               0.25326633811954896,\n",
       "               0.25326542273177904,\n",
       "               0.25326529959986616,\n",
       "               0.2532689270765908,\n",
       "               0.2532702283669967,\n",
       "               0.25328562833319795,\n",
       "               0.2532965331701839,\n",
       "               0.25330245432635795,\n",
       "               0.2533017165423906,\n",
       "               0.2533026621454727,\n",
       "               0.2532959267295306,\n",
       "               0.25329012286944125,\n",
       "               0.2532938408897784,\n",
       "               0.2532862455229829,\n",
       "               0.2532873541556392,\n",
       "               0.2532911339945523,\n",
       "               0.2532780394488437,\n",
       "               0.25327368826260993,\n",
       "               0.2532664885025597,\n",
       "               0.2532610842712259,\n",
       "               0.2532637437577636,\n",
       "               0.2532679410427788,\n",
       "               0.2532852666262101,\n",
       "               0.25328217825915317,\n",
       "               0.2533004889083651,\n",
       "               0.25329989364600713,\n",
       "               0.2533090037748533,\n",
       "               0.2533286577285378,\n",
       "               0.25333820458898454,\n",
       "               0.25335518781173166,\n",
       "               0.2533632767096166,\n",
       "               0.2533637042199796,\n",
       "               0.2533589919782821,\n",
       "               0.25336553549917157,\n",
       "               0.2533534255785274,\n",
       "               0.253352360047068,\n",
       "               0.25336352083217356,\n",
       "               0.25337945777006693,\n",
       "               0.2533806394161782,\n",
       "               0.2533818770469161,\n",
       "               0.2533706580381409,\n",
       "               0.25338568119662624,\n",
       "               0.25338911161300787,\n",
       "               0.25338585148401926,\n",
       "               0.25338743998263047,\n",
       "               0.25338872065888546,\n",
       "               0.25339176189099666,\n",
       "               0.2533915501899922,\n",
       "               0.25338793465118586,\n",
       "               0.2533989263240099,\n",
       "               0.25339422996398786,\n",
       "               0.25340719536867856,\n",
       "               0.25341042042466316,\n",
       "               0.25341767550452415,\n",
       "               0.2534237422315763,\n",
       "               0.2534300068313946,\n",
       "               0.25343345769668546,\n",
       "               0.25343784258809315,\n",
       "               0.25344429015965647,\n",
       "               0.2534526101642134,\n",
       "               0.25346263648552486,\n",
       "               0.2534793871066595,\n",
       "               0.25347460802315597,\n",
       "               0.2534781400819049,\n",
       "               0.25348177298837965,\n",
       "               0.25348868118858875,\n",
       "               0.2534889073223719,\n",
       "               0.25348536756041745,\n",
       "               0.2534787490640011,\n",
       "               0.2534659878066299,\n",
       "               0.25347110051624994,\n",
       "               0.25345556761635174,\n",
       "               0.253458791342197,\n",
       "               0.2534605571206659,\n",
       "               0.25345670311864726,\n",
       "               0.2534503012705578,\n",
       "               0.25344707684522666,\n",
       "               0.2534581574648778,\n",
       "               0.2534467443452367,\n",
       "               0.2534549850610505,\n",
       "               0.25345509977672764,\n",
       "               0.2534594268699594,\n",
       "               0.25346357679317033,\n",
       "               0.25344018539628005,\n",
       "               0.25344332610977993,\n",
       "               0.2534601793915976,\n",
       "               0.25345940532345046,\n",
       "               0.25346714559476385,\n",
       "               0.253481280206265,\n",
       "               0.2534974995988459,\n",
       "               0.2534917860317882,\n",
       "               0.25350148876329825,\n",
       "               0.2534985046374922,\n",
       "               0.2535035580222124,\n",
       "               0.2535128993495209,\n",
       "               0.2535121663588982,\n",
       "               0.253500154564263,\n",
       "               0.25348828983193167,\n",
       "               0.25348392448348556,\n",
       "               0.25348438538168644,\n",
       "               0.25348633666887516,\n",
       "               0.2534740300262126,\n",
       "               0.25347907520879404,\n",
       "               0.25347493884436983,\n",
       "               0.2534769877340124,\n",
       "               0.2534881704080904,\n",
       "               0.25347574984592214,\n",
       "               0.2534779306285066,\n",
       "               0.2534927088955002,\n",
       "               0.25349913491514026,\n",
       "               0.253492584450362,\n",
       "               0.2534858685914298,\n",
       "               0.2534887962771924,\n",
       "               0.253496424999277,\n",
       "               0.2534975136234048,\n",
       "               0.25349110651277595,\n",
       "               0.25350187779055106,\n",
       "               0.2535178571191174,\n",
       "               0.2535145254179085,\n",
       "               0.25351505729231727,\n",
       "               0.25352546861762487,\n",
       "               0.25353315718827296,\n",
       "               0.25353633595540387,\n",
       "               0.2535210276442757,\n",
       "               0.25352227552084977,\n",
       "               0.25352716594320496,\n",
       "               0.25353031163344003,\n",
       "               0.2535422033346671,\n",
       "               0.25354863695543395,\n",
       "               0.25355706909023407,\n",
       "               0.2535667002414952,\n",
       "               0.2535691781836954,\n",
       "               0.25357682043280555,\n",
       "               0.2535864049493548,\n",
       "               0.2535870881354067,\n",
       "               0.2535728127720504,\n",
       "               0.2535646073863408,\n",
       "               0.25357672583207264,\n",
       "               0.25357862494329647,\n",
       "               0.25356787664700303,\n",
       "               0.2535574158479805,\n",
       "               0.25357038742719756,\n",
       "               0.25356612183645455,\n",
       "               0.2535712748148242,\n",
       "               0.25356899414099016,\n",
       "               0.25356985200815935,\n",
       "               0.2535743337546678,\n",
       "               0.2535776433429549,\n",
       "               0.2535748780671318,\n",
       "               0.2535847584238377,\n",
       "               0.2535926187795927,\n",
       "               0.2535978071490272,\n",
       "               0.2535987606480132,\n",
       "               0.2535983595268664,\n",
       "               0.2536049443156358,\n",
       "               0.2536149135607002,\n",
       "               0.25361551666848187,\n",
       "               0.2536261032747938,\n",
       "               0.2536246529418946,\n",
       "               0.25362793808145345,\n",
       "               0.2536341978229055,\n",
       "               0.25362888154701135,\n",
       "               0.2536357218252427,\n",
       "               0.2536360714011434,\n",
       "               0.25362761293306224,\n",
       "               0.2536224000901754,\n",
       "               0.25361431647489846,\n",
       "               0.25363056238387066,\n",
       "               0.25362844393647127,\n",
       "               0.2536358959696774,\n",
       "               0.2536463539104985,\n",
       "               0.2536428196029115,\n",
       "               0.25363591741622143,\n",
       "               0.2536472222899771,\n",
       "               0.2536434542736649,\n",
       "               0.2536303494344827,\n",
       "               0.253625316860916,\n",
       "               0.2536282788659991,\n",
       "               0.25363003364466946,\n",
       "               0.2536325946039147,\n",
       "               0.25363628844098235,\n",
       "               0.2536441062662678,\n",
       "               0.2536534883329969,\n",
       "               0.25366386074330893,\n",
       "               0.2536658418278755,\n",
       "               0.25366875078342854,\n",
       "               0.25367153534050063,\n",
       "               0.25367776954930404,\n",
       "               0.2536795244453725,\n",
       "               0.25367688682244643,\n",
       "               0.25366848851279206,\n",
       "               0.2536761989442396,\n",
       "               0.2536895165515145,\n",
       "               0.25368509150042223,\n",
       "               0.25368284118575946,\n",
       "               0.25368922430935675,\n",
       "               0.2536823381499567,\n",
       "               0.2536823402798215,\n",
       "               0.25368613806758095,\n",
       "               0.2536912626328692,\n",
       "               0.25371478326443825,\n",
       "               0.2537106219390468,\n",
       "               0.25373201320836053,\n",
       "               0.25373114119086354,\n",
       "               0.253742791981101,\n",
       "               0.2537545250834192,\n",
       "               0.25375564758313013,\n",
       "               0.25376273209431705,\n",
       "               0.253762710715271,\n",
       "               0.25376478051004336,\n",
       "               0.2537681503522451,\n",
       "               0.25377672279450275,\n",
       "               0.25378148030234904,\n",
       "               0.25378077751387434,\n",
       "               0.25378185854584834,\n",
       "               0.25378886319258076,\n",
       "               0.25378158811008733,\n",
       "               0.2537898614683708,\n",
       "               0.2537945555663918,\n",
       "               0.2537902531057436,\n",
       "               0.253801135846361,\n",
       "               0.25382268516100215,\n",
       "               0.2538159869312499,\n",
       "               0.2538263491419051,\n",
       "               0.25381110597524753,\n",
       "               0.25381224670496777,\n",
       "               0.25381204270367635,\n",
       "               0.25381006568003633,\n",
       "               0.25380959740937115,\n",
       "               0.25380633322023954,\n",
       "               0.2538026981913189,\n",
       "               0.25380188468715487,\n",
       "               0.2538213383341055,\n",
       "               0.25382878115506396,\n",
       "               0.2538265118619838,\n",
       "               0.2538437334977342,\n",
       "               0.2538320895490034,\n",
       "               0.2538349603600114,\n",
       "               0.25383404607730703,\n",
       "               0.25383194310413054,\n",
       "               0.25383167540223345,\n",
       "               0.25384905877683295,\n",
       "               0.2538496372984491,\n",
       "               0.25385518449370115,\n",
       "               0.2538710171204131,\n",
       "               0.253871603022716,\n",
       "               0.2538743783402014,\n",
       "               0.2538706485234295,\n",
       "               0.2538747556550671,\n",
       "               0.25387835716693874,\n",
       "               0.2538733972729812,\n",
       "               0.25388200422630586,\n",
       "               0.253882806183795,\n",
       "               0.2538831364679011,\n",
       "               0.25387081882876855,\n",
       "               0.25387818919686783,\n",
       "               0.25388005124224455,\n",
       "               0.25389395510207,\n",
       "               0.2538921109803638,\n",
       "               0.2539003338487935,\n",
       "               0.25390209782652584,\n",
       "               0.2539118099202617,\n",
       "               0.2539171762930813,\n",
       "               0.253931033665187,\n",
       "               0.2539297743485556,\n",
       "               ...],\n",
       "              'test-RMSE-std': [0.0038142578411326424,\n",
       "               0.004178909851482393,\n",
       "               0.004885930540841319,\n",
       "               0.004450011718393323,\n",
       "               0.004657659957755807,\n",
       "               0.004596751502796055,\n",
       "               0.0040792507463824285,\n",
       "               0.0030888760934071322,\n",
       "               0.003697833731764407,\n",
       "               0.0036281944999642752,\n",
       "               0.004568080735443647,\n",
       "               0.004137708190974729,\n",
       "               0.004843470749044672,\n",
       "               0.004914390910346948,\n",
       "               0.005077255794588832,\n",
       "               0.005290508448233478,\n",
       "               0.0049566561422091735,\n",
       "               0.0044582063191462695,\n",
       "               0.004354071901367353,\n",
       "               0.0045328163295873585,\n",
       "               0.004427227957897089,\n",
       "               0.00463758788913531,\n",
       "               0.004363101030919912,\n",
       "               0.004291015214726986,\n",
       "               0.004187159124423693,\n",
       "               0.0036582202940162894,\n",
       "               0.0037682818000082867,\n",
       "               0.003927826776472575,\n",
       "               0.003649651027428251,\n",
       "               0.003683189345642869,\n",
       "               0.0034122631949234728,\n",
       "               0.003166794441257118,\n",
       "               0.0028461206931096167,\n",
       "               0.003188286060323695,\n",
       "               0.002921263119602574,\n",
       "               0.0030629943679619143,\n",
       "               0.002927195827786383,\n",
       "               0.002736965963377023,\n",
       "               0.0021476637899290646,\n",
       "               0.0020600303604896386,\n",
       "               0.00219952013499345,\n",
       "               0.002183709503983355,\n",
       "               0.0023121874767524767,\n",
       "               0.002271054857794343,\n",
       "               0.0025210651488820125,\n",
       "               0.0031415854518062605,\n",
       "               0.0037353839137066,\n",
       "               0.004083785015391617,\n",
       "               0.004589559728390243,\n",
       "               0.004926475808053128,\n",
       "               0.004786222026646711,\n",
       "               0.0052234826128051024,\n",
       "               0.005569288277776208,\n",
       "               0.0059478729622198705,\n",
       "               0.005700963070996724,\n",
       "               0.006095687157825774,\n",
       "               0.006238579445782665,\n",
       "               0.00622919221761196,\n",
       "               0.0064327688121619715,\n",
       "               0.006596468749385015,\n",
       "               0.006672511776730532,\n",
       "               0.006863866904298003,\n",
       "               0.0069406459705423805,\n",
       "               0.006953999031128048,\n",
       "               0.0070715532699782745,\n",
       "               0.007060592799824818,\n",
       "               0.0072086861637608,\n",
       "               0.007217139915234511,\n",
       "               0.007341522287081548,\n",
       "               0.007405430264985169,\n",
       "               0.007354301373708918,\n",
       "               0.007449631754488219,\n",
       "               0.007584114916402988,\n",
       "               0.007530214959050164,\n",
       "               0.007602689964251574,\n",
       "               0.0077172310893023795,\n",
       "               0.007743224180210808,\n",
       "               0.007688271692134564,\n",
       "               0.007641069207760332,\n",
       "               0.007698966921456499,\n",
       "               0.007831559069933667,\n",
       "               0.007810005835140767,\n",
       "               0.007821758828125495,\n",
       "               0.00776661468004484,\n",
       "               0.007836927765553715,\n",
       "               0.007819472065932203,\n",
       "               0.007828281126374884,\n",
       "               0.007603703705253583,\n",
       "               0.007700320227669693,\n",
       "               0.007692807167590501,\n",
       "               0.007611034179875687,\n",
       "               0.007716084192977883,\n",
       "               0.007690492926673178,\n",
       "               0.007577663622374847,\n",
       "               0.007655510716723292,\n",
       "               0.0076512758900116095,\n",
       "               0.0075933816143653925,\n",
       "               0.007533811963496743,\n",
       "               0.00751841502084093,\n",
       "               0.007406538160996517,\n",
       "               0.007328004021237083,\n",
       "               0.007319646836514329,\n",
       "               0.007276468441045912,\n",
       "               0.007235190134077852,\n",
       "               0.007281568921747524,\n",
       "               0.007263024662802934,\n",
       "               0.007361169901009877,\n",
       "               0.007236610983867789,\n",
       "               0.007358299938130286,\n",
       "               0.007272874697524747,\n",
       "               0.00728594835597079,\n",
       "               0.007376347012253891,\n",
       "               0.007498823121205191,\n",
       "               0.007518775410972397,\n",
       "               0.007582976369257658,\n",
       "               0.007285432153245481,\n",
       "               0.0071304632273204785,\n",
       "               0.007089460703501635,\n",
       "               0.00700171277882244,\n",
       "               0.006918529122522817,\n",
       "               0.006962110643690773,\n",
       "               0.007093777852368955,\n",
       "               0.007093076051331971,\n",
       "               0.007166096912125654,\n",
       "               0.007263873987608244,\n",
       "               0.007352134509403595,\n",
       "               0.007467387606143758,\n",
       "               0.007521038950295368,\n",
       "               0.0074658954959814115,\n",
       "               0.007534371894528293,\n",
       "               0.007597359666889194,\n",
       "               0.007629457461345974,\n",
       "               0.007613971751200796,\n",
       "               0.007625836404861965,\n",
       "               0.007628406372488314,\n",
       "               0.007633896519818561,\n",
       "               0.007523889039863254,\n",
       "               0.007501509433172386,\n",
       "               0.007679371852324372,\n",
       "               0.007680199349292708,\n",
       "               0.007765194198270744,\n",
       "               0.007809409574986214,\n",
       "               0.007828327960416647,\n",
       "               0.007825404915269831,\n",
       "               0.007813101843022432,\n",
       "               0.007738287412276468,\n",
       "               0.0077949148738774435,\n",
       "               0.007806196249777189,\n",
       "               0.007732400867995154,\n",
       "               0.007754074836900092,\n",
       "               0.007737290745458526,\n",
       "               0.007733116757808092,\n",
       "               0.007756369229965011,\n",
       "               0.007660233310776782,\n",
       "               0.007679795955011731,\n",
       "               0.007719512147885772,\n",
       "               0.0077528937301535,\n",
       "               0.007712148060122396,\n",
       "               0.007694773116474144,\n",
       "               0.007706216825847358,\n",
       "               0.007614569581407327,\n",
       "               0.00760225400358058,\n",
       "               0.0076473028420267364,\n",
       "               0.007619569058110266,\n",
       "               0.007601333548934032,\n",
       "               0.007584930619307618,\n",
       "               0.0076012251029969734,\n",
       "               0.007632230104698042,\n",
       "               0.007595210919931104,\n",
       "               0.0076382535152799335,\n",
       "               0.007645244215104952,\n",
       "               0.007666720182318745,\n",
       "               0.007646748807452218,\n",
       "               0.007635692900960979,\n",
       "               0.007634889223940683,\n",
       "               0.007596759897246103,\n",
       "               0.007638221808640464,\n",
       "               0.007667922539545769,\n",
       "               0.007660332875653463,\n",
       "               0.007643342528891525,\n",
       "               0.007626390558892177,\n",
       "               0.0076724278942557934,\n",
       "               0.007681613960745476,\n",
       "               0.007701080105151713,\n",
       "               0.007736223512033795,\n",
       "               0.0076817166648303955,\n",
       "               0.007709484754441746,\n",
       "               0.007705697912607768,\n",
       "               0.007740475274430804,\n",
       "               0.007703538160771826,\n",
       "               0.007677335968364179,\n",
       "               0.007640495666259294,\n",
       "               0.007685714966202285,\n",
       "               0.0077037387550641465,\n",
       "               0.007664401638997133,\n",
       "               0.007642048806912345,\n",
       "               0.007678059900266598,\n",
       "               0.0076682870294751135,\n",
       "               0.007665915276963365,\n",
       "               0.007677669301582904,\n",
       "               0.007744575693392993,\n",
       "               0.00780559670907659,\n",
       "               0.007825573121057363,\n",
       "               0.007828960502204135,\n",
       "               0.007837071553807898,\n",
       "               0.007796788015850386,\n",
       "               0.007840243738046818,\n",
       "               0.007846594536288,\n",
       "               0.007880582922522755,\n",
       "               0.007882424382513081,\n",
       "               0.00790014284814616,\n",
       "               0.007867576075502352,\n",
       "               0.007853466722678795,\n",
       "               0.007877652628490942,\n",
       "               0.007895934131121309,\n",
       "               0.007921172674886966,\n",
       "               0.007905188833934334,\n",
       "               0.007926313511100016,\n",
       "               0.007911844749268038,\n",
       "               0.007909628682441008,\n",
       "               0.007932905134474663,\n",
       "               0.007934419182112228,\n",
       "               0.00794122518022523,\n",
       "               0.007921100878376072,\n",
       "               0.007930208098245323,\n",
       "               0.007962721969045274,\n",
       "               0.007928159919831175,\n",
       "               0.007918539247567271,\n",
       "               0.007922394145703126,\n",
       "               0.007908036425571946,\n",
       "               0.007887256670433282,\n",
       "               0.007881822708108685,\n",
       "               0.007881688821904098,\n",
       "               0.007884550285311773,\n",
       "               0.00789475036739784,\n",
       "               0.007884075321621626,\n",
       "               0.007803744994724255,\n",
       "               0.007823002872471023,\n",
       "               0.00782197223131934,\n",
       "               0.007793317659109375,\n",
       "               0.007811038215175749,\n",
       "               0.00780845901915798,\n",
       "               0.007846027708124379,\n",
       "               0.00785092709847795,\n",
       "               0.007823236542170138,\n",
       "               0.0078103435668163395,\n",
       "               0.0078027963322568165,\n",
       "               0.007813564798971754,\n",
       "               0.007822634036696533,\n",
       "               0.007827280516231641,\n",
       "               0.007841585149421631,\n",
       "               0.00778584711897423,\n",
       "               0.007750917557627093,\n",
       "               0.007754325552887386,\n",
       "               0.007766570928814102,\n",
       "               0.007793823371019284,\n",
       "               0.007794749089528028,\n",
       "               0.00780893619327079,\n",
       "               0.00781231640612268,\n",
       "               0.0077936688899705965,\n",
       "               0.007769664800509685,\n",
       "               0.007712557316394841,\n",
       "               0.007685908850312266,\n",
       "               0.007649311316804594,\n",
       "               0.007638625015459399,\n",
       "               0.007627708224805258,\n",
       "               0.0076508361273143885,\n",
       "               0.007649110717122819,\n",
       "               0.007653807189792009,\n",
       "               0.00767953989660645,\n",
       "               0.00765946106486343,\n",
       "               0.007670804992497615,\n",
       "               0.007694610888987856,\n",
       "               0.007714652288264103,\n",
       "               0.007715076188294466,\n",
       "               0.007716076949748751,\n",
       "               0.0077358655431562125,\n",
       "               0.0077343552009353275,\n",
       "               0.007767906075601732,\n",
       "               0.0077409204176940105,\n",
       "               0.00778275689267068,\n",
       "               0.007784495078553531,\n",
       "               0.0077867938192695075,\n",
       "               0.00778270956961908,\n",
       "               0.0077925892706584695,\n",
       "               0.007788456194091884,\n",
       "               0.007805622387233383,\n",
       "               0.007800447976118538,\n",
       "               0.0077738505831169615,\n",
       "               0.007768856040057717,\n",
       "               0.007775045801301391,\n",
       "               0.007794245667297702,\n",
       "               0.007781182548162749,\n",
       "               0.007780446613632087,\n",
       "               0.00781433640289933,\n",
       "               0.007805570248223092,\n",
       "               0.007876792997526269,\n",
       "               0.007884153582759314,\n",
       "               0.007873304069728223,\n",
       "               0.007885729213666126,\n",
       "               0.007890567036185602,\n",
       "               0.007900225192761378,\n",
       "               0.007909912392164663,\n",
       "               0.007897363073679262,\n",
       "               0.007925303534982676,\n",
       "               0.007930286473679667,\n",
       "               0.007938552192305557,\n",
       "               0.007942745853002761,\n",
       "               0.007945870301956804,\n",
       "               0.007949812001677306,\n",
       "               0.00798147178182733,\n",
       "               0.008006054568742716,\n",
       "               0.007996899154090126,\n",
       "               0.008019899902413113,\n",
       "               0.007981084383353597,\n",
       "               0.007934955504622363,\n",
       "               0.007912703002780911,\n",
       "               0.007907292769864845,\n",
       "               0.007911370769092287,\n",
       "               0.007886986762417302,\n",
       "               0.007878982590766729,\n",
       "               0.007856214479931076,\n",
       "               0.007839384811092805,\n",
       "               0.007834549169934871,\n",
       "               0.007841934977786432,\n",
       "               0.007836515844214449,\n",
       "               0.007829167616983547,\n",
       "               0.00784505124788444,\n",
       "               0.007841759101068832,\n",
       "               0.007827230474479085,\n",
       "               0.00783051020737302,\n",
       "               0.007849787234905939,\n",
       "               0.007854255007332136,\n",
       "               0.00783186037879671,\n",
       "               0.0078161801456394,\n",
       "               0.007776315054601236,\n",
       "               0.007762376628323032,\n",
       "               0.007744901345228737,\n",
       "               0.0077732935507642455,\n",
       "               0.007757454264179066,\n",
       "               0.007776402967546499,\n",
       "               0.007787171220305367,\n",
       "               0.007836834372446278,\n",
       "               0.007848341193187064,\n",
       "               0.007844292118387407,\n",
       "               0.007823740075634548,\n",
       "               0.007830238403909357,\n",
       "               0.007814307402806787,\n",
       "               0.007828719035942242,\n",
       "               0.007821472740099896,\n",
       "               0.007814234343903067,\n",
       "               0.007820068750684053,\n",
       "               0.007816508578404015,\n",
       "               0.007832072207148558,\n",
       "               0.007839517385075151,\n",
       "               0.007862792666699155,\n",
       "               0.007861264433191935,\n",
       "               0.00787122930737323,\n",
       "               0.007870123389190577,\n",
       "               0.007860863921783279,\n",
       "               0.007840934515892952,\n",
       "               0.007825736674617823,\n",
       "               0.007850484015963295,\n",
       "               0.007857883072278029,\n",
       "               0.007871735497986171,\n",
       "               0.007877047705075363,\n",
       "               0.007894546476882218,\n",
       "               0.007879939857776014,\n",
       "               0.00787326103506579,\n",
       "               0.007872787177427279,\n",
       "               0.007881903084028771,\n",
       "               0.00787648531248759,\n",
       "               0.007899413570210078,\n",
       "               0.007912164589646699,\n",
       "               0.007921916881028248,\n",
       "               0.007918976868458053,\n",
       "               0.007926032355392153,\n",
       "               0.007924486748804693,\n",
       "               0.00793039835331327,\n",
       "               0.007948376660354358,\n",
       "               0.007958786689910092,\n",
       "               0.007955259043893744,\n",
       "               0.007968878141807873,\n",
       "               0.007957103097026914,\n",
       "               0.007967085648910969,\n",
       "               0.007957435717736421,\n",
       "               0.007998685540651904,\n",
       "               0.008000142225677846,\n",
       "               0.007999067760706406,\n",
       "               0.007987003883914304,\n",
       "               0.007976670739711108,\n",
       "               0.007972693130598795,\n",
       "               0.00795564654513475,\n",
       "               0.007961503969878585,\n",
       "               0.007968213819173712,\n",
       "               0.007982338505268206,\n",
       "               0.007980022871555473,\n",
       "               0.007987419803910937,\n",
       "               0.007992957846528623,\n",
       "               0.007999217322960762,\n",
       "               0.008011806243022265,\n",
       "               0.008005562669580869,\n",
       "               0.008007032438695875,\n",
       "               0.00800957514616414,\n",
       "               0.00803194784609179,\n",
       "               0.008008299256353303,\n",
       "               0.008026719984912938,\n",
       "               0.008022691826918518,\n",
       "               0.008039207864498731,\n",
       "               0.00803873021118429,\n",
       "               0.008049586527031565,\n",
       "               0.00803463666375615,\n",
       "               0.008019922115974755,\n",
       "               0.008025268634075981,\n",
       "               0.00803310861706401,\n",
       "               0.008032688366680137,\n",
       "               0.008053968395642793,\n",
       "               0.008069642101727179,\n",
       "               0.008051582761298803,\n",
       "               0.008058645932605314,\n",
       "               0.008052693685662098,\n",
       "               0.008044598600799825,\n",
       "               0.008037468799846478,\n",
       "               0.008018046285709181,\n",
       "               0.008039622534281126,\n",
       "               0.008011746774444158,\n",
       "               0.008002585426508863,\n",
       "               0.0080201324781775,\n",
       "               0.00801131984003204,\n",
       "               0.00799076097002968,\n",
       "               0.007989328069067735,\n",
       "               0.007987040258789511,\n",
       "               0.007991222804300764,\n",
       "               0.007999696834050187,\n",
       "               0.008016845280064872,\n",
       "               0.008006073955445213,\n",
       "               0.008024020580244614,\n",
       "               0.008012607112436653,\n",
       "               0.008024125208852192,\n",
       "               0.008035514758061642,\n",
       "               0.008039758060041837,\n",
       "               0.008014918384326553,\n",
       "               0.008041044697242853,\n",
       "               0.008058786572647187,\n",
       "               0.008043823270595185,\n",
       "               0.008008698027477036,\n",
       "               0.008009960070452592,\n",
       "               0.00800210646019032,\n",
       "               0.00800889332369292,\n",
       "               0.008016412249098093,\n",
       "               0.008005575378629162,\n",
       "               0.008013869420930263,\n",
       "               0.008030203700542467,\n",
       "               0.008035359805540723,\n",
       "               0.008043976709225147,\n",
       "               0.008054485291242985,\n",
       "               0.008043480757593794,\n",
       "               0.008077224826194392,\n",
       "               0.008093288625153038,\n",
       "               0.008076683815726826,\n",
       "               0.008067759134162768,\n",
       "               0.00808310054120499,\n",
       "               0.00807675935877923,\n",
       "               0.008073456797226453,\n",
       "               0.008068994152048892,\n",
       "               0.00809383424412132,\n",
       "               0.008105986137821595,\n",
       "               0.008100765486614215,\n",
       "               0.008102153002591294,\n",
       "               0.008087104497116367,\n",
       "               0.008095384140878365,\n",
       "               0.008085322728814048,\n",
       "               0.008096489350391959,\n",
       "               0.008091719797150985,\n",
       "               0.008090166328519112,\n",
       "               0.008091678617272221,\n",
       "               0.008081361763871194,\n",
       "               0.008050744259198214,\n",
       "               0.008054586009914183,\n",
       "               0.008039412912982219,\n",
       "               0.008032629315025798,\n",
       "               0.008034978001026382,\n",
       "               0.00803436413952303,\n",
       "               0.008024311918154265,\n",
       "               0.008041046028636879,\n",
       "               0.00806139764630649,\n",
       "               0.008074812059299887,\n",
       "               0.008110213366993713,\n",
       "               0.008108105999453972,\n",
       "               0.00812118025249415,\n",
       "               0.00812970054862316,\n",
       "               0.008128670253457957,\n",
       "               0.00813171176209488,\n",
       "               0.008140531688494676,\n",
       "               0.008151056867487842,\n",
       "               0.008166313105975615,\n",
       "               0.008164713263496548,\n",
       "               0.00814143098508191,\n",
       "               0.008151456128632039,\n",
       "               0.008176234201312603,\n",
       "               0.008175691763224923,\n",
       "               0.008172086774954738,\n",
       "               0.008188093309724972,\n",
       "               0.008181462978762235,\n",
       "               0.008166722499937594,\n",
       "               0.008185919768172888,\n",
       "               0.00817613342647809,\n",
       "               0.008181933463684654,\n",
       "               0.008189974110400167,\n",
       "               0.00815718865051674,\n",
       "               0.008133130690106707,\n",
       "               0.008138145568222139,\n",
       "               0.008153750947176993,\n",
       "               0.008155786105951818,\n",
       "               0.00816819584077622,\n",
       "               0.008184907072756027,\n",
       "               0.008195303633286079,\n",
       "               0.008254997646851251,\n",
       "               0.008240779617097882,\n",
       "               0.008250053917598942,\n",
       "               0.008259005695693973,\n",
       "               0.008235210495426151,\n",
       "               0.008237034466154007,\n",
       "               0.008255682237205835,\n",
       "               0.008263847483368622,\n",
       "               0.008251265708813552,\n",
       "               0.008242107549112252,\n",
       "               0.008244944561637059,\n",
       "               0.008251360247177727,\n",
       "               0.00824863553210297,\n",
       "               0.008226935367176455,\n",
       "               0.008212213246855156,\n",
       "               0.008197267915942595,\n",
       "               0.008219590557833618,\n",
       "               0.008209659348936495,\n",
       "               0.008207078167309352,\n",
       "               0.008197358998491154,\n",
       "               0.008195460798633173,\n",
       "               0.008197682210086191,\n",
       "               0.00820161463446883,\n",
       "               0.008197882453313812,\n",
       "               0.008209856069306425,\n",
       "               0.008209596640270756,\n",
       "               0.008239400020185826,\n",
       "               0.008252291210882988,\n",
       "               0.008265623117867589,\n",
       "               0.008270759379782623,\n",
       "               0.00827676475539136,\n",
       "               0.00830042813590283,\n",
       "               0.008307629724914263,\n",
       "               0.008315090817101885,\n",
       "               0.008315454203445866,\n",
       "               0.008310518764103653,\n",
       "               0.008318465379948325,\n",
       "               0.008315950455076198,\n",
       "               0.00831284558622404,\n",
       "               0.008318222989649071,\n",
       "               0.008332001534398597,\n",
       "               0.008352079688811995,\n",
       "               0.008353335384217134,\n",
       "               0.008353963480791036,\n",
       "               0.008365950128925444,\n",
       "               0.008361195703681514,\n",
       "               0.008344710870047883,\n",
       "               0.008359108165941462,\n",
       "               0.008361361763253083,\n",
       "               0.008370923665892269,\n",
       "               0.008364602764490477,\n",
       "               0.008359559160570284,\n",
       "               0.008356640823477087,\n",
       "               0.008353866926311217,\n",
       "               0.008363233835841661,\n",
       "               0.008369391789478651,\n",
       "               0.00837551296269878,\n",
       "               0.008366243507862558,\n",
       "               0.008367835798940666,\n",
       "               0.00837153178553393,\n",
       "               0.008375523810806348,\n",
       "               0.00836949514765128,\n",
       "               0.008369802008984519,\n",
       "               0.0083679423184023,\n",
       "               0.008378369836768831,\n",
       "               0.008387427545726564,\n",
       "               0.008393117350106305,\n",
       "               0.008385766831488891,\n",
       "               0.008368708175926508,\n",
       "               0.008362183653607616,\n",
       "               0.008356623433452259,\n",
       "               0.008356339123945546,\n",
       "               0.00836587549545706,\n",
       "               0.008387408379644058,\n",
       "               0.00839937698667143,\n",
       "               0.008426086403706637,\n",
       "               0.008424397023570333,\n",
       "               0.008429420174423921,\n",
       "               0.008412556404392294,\n",
       "               0.008404891820932583,\n",
       "               0.008367859620843012,\n",
       "               0.008383086623387107,\n",
       "               0.00838959573232224,\n",
       "               0.008371503619372115,\n",
       "               0.008378977970770082,\n",
       "               0.008376420892718294,\n",
       "               0.008354054291980089,\n",
       "               0.008358912830534086,\n",
       "               0.008358685377665967,\n",
       "               0.008371723726356679,\n",
       "               0.008379058782776436,\n",
       "               0.00839333799692956,\n",
       "               0.008390110007825725,\n",
       "               0.008390249394177396,\n",
       "               0.00837601522862021,\n",
       "               0.008388940738117492,\n",
       "               0.008391046050524409,\n",
       "               0.008389053990461061,\n",
       "               0.00838644548659246,\n",
       "               0.008369740264250134,\n",
       "               0.008382044183148194,\n",
       "               0.008375248018981638,\n",
       "               0.008378278608818006,\n",
       "               0.008386285350857446,\n",
       "               0.00839078532800288,\n",
       "               0.00841663752540705,\n",
       "               0.008405704378007795,\n",
       "               0.008397285418240173,\n",
       "               0.008398520924043284,\n",
       "               0.008382604805809647,\n",
       "               0.008381500488151925,\n",
       "               0.008384048749780252,\n",
       "               0.008378234850809864,\n",
       "               0.008360687816613772,\n",
       "               0.008358651395921155,\n",
       "               0.008337349231689198,\n",
       "               0.008348168231377885,\n",
       "               0.00834103716827549,\n",
       "               0.00833494951643841,\n",
       "               0.008330411835493717,\n",
       "               0.008349958964118056,\n",
       "               0.008352144717568646,\n",
       "               0.008353203272601924,\n",
       "               0.008357726138258168,\n",
       "               0.008343816092365631,\n",
       "               0.00836884957486458,\n",
       "               0.008349789236270857,\n",
       "               0.008363601491464877,\n",
       "               0.008370289320944349,\n",
       "               0.00837377113080886,\n",
       "               0.008387869977221697,\n",
       "               0.008384332023867394,\n",
       "               0.008380530637332101,\n",
       "               0.008382482365503636,\n",
       "               0.008378132293441296,\n",
       "               0.008384988153032225,\n",
       "               0.008386487792695052,\n",
       "               0.008388884965835897,\n",
       "               0.008382127721287016,\n",
       "               0.008382151155761058,\n",
       "               0.008372044758852507,\n",
       "               0.008375440175782766,\n",
       "               0.008378365513621817,\n",
       "               0.00836387704132685,\n",
       "               0.008344793404796129,\n",
       "               0.008346519748872051,\n",
       "               0.008331169725458736,\n",
       "               0.008332309909464394,\n",
       "               0.008325630734894543,\n",
       "               0.008330434511767387,\n",
       "               0.008333642030208043,\n",
       "               0.008344825971435302,\n",
       "               0.00834021392070032,\n",
       "               0.008325786406994367,\n",
       "               0.008324712616716998,\n",
       "               0.00830450369942239,\n",
       "               0.008319764430922921,\n",
       "               0.008318867108961405,\n",
       "               0.00833148146971074,\n",
       "               0.008333601977928939,\n",
       "               0.008337236739295935,\n",
       "               0.00835312605185355,\n",
       "               0.008369182200243505,\n",
       "               0.008360411718397699,\n",
       "               0.00835634898936563,\n",
       "               0.008334122519221582,\n",
       "               0.008326824106603983,\n",
       "               0.008327675219268903,\n",
       "               0.00831819065631904,\n",
       "               0.008312492008852994,\n",
       "               0.00830002695870158,\n",
       "               0.008309868998152028,\n",
       "               0.008304002092769614,\n",
       "               0.008292331471902522,\n",
       "               0.008294935139649299,\n",
       "               0.008314158872717008,\n",
       "               0.008291125605282066,\n",
       "               0.00831460576077509,\n",
       "               0.00831219258365712,\n",
       "               0.008304666949423396,\n",
       "               0.00830444442120515,\n",
       "               0.008311594223823786,\n",
       "               0.008313332594699093,\n",
       "               0.00833201924911954,\n",
       "               0.008331728119210511,\n",
       "               0.008344646844711107,\n",
       "               0.008322499603571175,\n",
       "               0.008316266026325469,\n",
       "               0.008324604665911683,\n",
       "               0.00832160481484764,\n",
       "               0.008328663216545518,\n",
       "               0.008335942088472876,\n",
       "               0.008325745741369567,\n",
       "               0.008333094535284198,\n",
       "               0.008326712092216538,\n",
       "               0.008324072786264554,\n",
       "               0.008324774225926531,\n",
       "               0.008319222824399284,\n",
       "               0.008325384928227495,\n",
       "               0.008327759080655939,\n",
       "               0.008318952554076966,\n",
       "               0.008329575083414436,\n",
       "               0.008313435828391955,\n",
       "               0.008315870566211173,\n",
       "               0.008305129456885581,\n",
       "               0.0082916596999207,\n",
       "               0.008290901914296416,\n",
       "               0.008290518169473673,\n",
       "               0.008306248329861337,\n",
       "               0.008320744057830487,\n",
       "               0.008340074460711305,\n",
       "               0.008337953124613632,\n",
       "               0.008324603454812817,\n",
       "               0.008324081669342976,\n",
       "               0.008330118222195471,\n",
       "               0.00831859003707066,\n",
       "               0.008314325166716806,\n",
       "               0.00830069615512961,\n",
       "               0.008310319864134389,\n",
       "               0.00831524941574332,\n",
       "               0.008310190770321033,\n",
       "               0.008331223714894974,\n",
       "               0.008321774158565224,\n",
       "               0.008316440958391449,\n",
       "               0.008292571263357133,\n",
       "               0.008301538597052462,\n",
       "               0.00830234808805635,\n",
       "               0.008298963108530143,\n",
       "               0.008290699154164536,\n",
       "               0.008283867805343311,\n",
       "               0.00829059347286806,\n",
       "               0.00829818570498116,\n",
       "               0.008297734702242187,\n",
       "               0.008305084269790614,\n",
       "               0.00831675509504592,\n",
       "               0.00832451700020463,\n",
       "               0.008336633663637143,\n",
       "               0.008333036468384614,\n",
       "               0.008331896212298134,\n",
       "               0.008316019307986578,\n",
       "               0.008306414708908472,\n",
       "               0.008297027290906278,\n",
       "               0.008283524186950417,\n",
       "               0.008286740456034976,\n",
       "               0.008272012373044405,\n",
       "               0.0082647244980293,\n",
       "               0.008250624189581791,\n",
       "               0.008245164256596925,\n",
       "               0.008248105746914083,\n",
       "               0.008241925585784383,\n",
       "               0.008236825386323978,\n",
       "               0.008223984093294638,\n",
       "               0.008254336224737657,\n",
       "               0.008238085407237616,\n",
       "               0.008231953559642992,\n",
       "               0.008229448595784929,\n",
       "               0.008232779213750157,\n",
       "               0.0082078337930723,\n",
       "               0.008212345968354873,\n",
       "               0.008234839111380853,\n",
       "               0.008227461118099657,\n",
       "               0.008230113137690672,\n",
       "               0.0082488880101446,\n",
       "               0.008238262346645268,\n",
       "               0.008240842567627357,\n",
       "               0.008217848613048646,\n",
       "               0.008218677801610633,\n",
       "               0.008212301472984407,\n",
       "               0.008215555215701111,\n",
       "               0.008207295479409887,\n",
       "               0.008203267682312266,\n",
       "               0.008213255139701668,\n",
       "               0.008207646620828868,\n",
       "               0.008218203134293658,\n",
       "               0.008221181352887864,\n",
       "               0.008216198420489342,\n",
       "               0.008204554880896425,\n",
       "               0.008205608286015771,\n",
       "               0.008223939039474173,\n",
       "               0.008220597659891719,\n",
       "               0.00821542066481161,\n",
       "               0.008215069946091804,\n",
       "               0.008204960862888369,\n",
       "               0.008217544310515468,\n",
       "               0.008216648846133023,\n",
       "               0.008221752448872827,\n",
       "               0.008224094753031451,\n",
       "               0.008213926503431255,\n",
       "               0.008195683090512494,\n",
       "               0.008178345783358366,\n",
       "               0.00818457217964515,\n",
       "               0.008170058289273759,\n",
       "               0.008176166351091724,\n",
       "               0.008162671439063442,\n",
       "               0.008151262416225514,\n",
       "               0.008148809009070982,\n",
       "               0.00814425283669292,\n",
       "               0.008141924575711003,\n",
       "               0.008142131692046868,\n",
       "               0.008153254057855141,\n",
       "               0.008151697436572968,\n",
       "               0.008162646844999627,\n",
       "               0.008148425377453836,\n",
       "               0.008140143824128128,\n",
       "               0.008135766244013042,\n",
       "               0.008127743091793904,\n",
       "               0.008116016156052798,\n",
       "               0.008125431860186312,\n",
       "               0.00812668027822608,\n",
       "               0.008126272387154531,\n",
       "               0.008115938810075425,\n",
       "               0.008106507262497495,\n",
       "               0.008102639913014187,\n",
       "               0.008110040535836964,\n",
       "               0.00811329881456096,\n",
       "               0.008101490405518138,\n",
       "               0.008093675742491289,\n",
       "               0.008087088875708501,\n",
       "               0.008070027225455084,\n",
       "               0.008080910576849018,\n",
       "               0.008090232190432428,\n",
       "               0.008083160074166427,\n",
       "               0.008076901445964341,\n",
       "               0.008069456659329106,\n",
       "               0.008073266552924297,\n",
       "               0.008069458017636947,\n",
       "               0.008068082970654847,\n",
       "               0.008073028885347338,\n",
       "               0.008084060712751728,\n",
       "               0.008083216780925235,\n",
       "               0.008082460539182922,\n",
       "               0.008085560709438357,\n",
       "               0.008082460270569036,\n",
       "               0.008096290253579335,\n",
       "               0.008093806783206202,\n",
       "               0.008093729224286753,\n",
       "               0.008094438394907496,\n",
       "               0.00809679453787514,\n",
       "               0.008092344085046842,\n",
       "               0.00810198974960972,\n",
       "               0.00811414029225911,\n",
       "               0.008118190209524373,\n",
       "               0.008104252657044597,\n",
       "               0.008105527828346648,\n",
       "               0.008108112136212901,\n",
       "               0.008105492621034405,\n",
       "               0.008111822719482346,\n",
       "               0.008123888051703086,\n",
       "               0.008132476968950189,\n",
       "               0.008133060251128154,\n",
       "               0.008135411467996739,\n",
       "               0.0081136767754037,\n",
       "               0.008093827469842808,\n",
       "               0.00810133066728507,\n",
       "               0.00809820792896994,\n",
       "               0.008103860373374593,\n",
       "               0.008107722261692705,\n",
       "               0.008116422748416029,\n",
       "               0.008130789796615419,\n",
       "               0.008114402773033604,\n",
       "               0.008120228005151862,\n",
       "               0.008149664643133896,\n",
       "               0.008151580619237273,\n",
       "               0.008143097100239456,\n",
       "               0.008139005533157278,\n",
       "               0.008155328550162424,\n",
       "               0.00814381638447106,\n",
       "               0.008157041658252236,\n",
       "               0.008150721623799977,\n",
       "               0.00815400455256014,\n",
       "               0.008151359016526574,\n",
       "               0.008157150558383553,\n",
       "               0.008150280681563928,\n",
       "               0.008155225601533162,\n",
       "               0.008146715388050693,\n",
       "               0.00815077844243071,\n",
       "               0.008147833263823592,\n",
       "               0.008141607758856015,\n",
       "               0.008165179387673874,\n",
       "               0.008180463879966095,\n",
       "               0.008194444399142164,\n",
       "               0.008185972192186452,\n",
       "               0.008179110641020875,\n",
       "               0.008180363967934656,\n",
       "               0.008173489693744861,\n",
       "               0.008178969381020194,\n",
       "               0.008188511721451403,\n",
       "               0.008198385532541113,\n",
       "               0.008210308251119097,\n",
       "               0.00820956324630151,\n",
       "               0.008205135216086991,\n",
       "               0.008209597938314637,\n",
       "               0.008209131019718752,\n",
       "               0.008185717589959562,\n",
       "               0.008186130647717279,\n",
       "               0.00818880425596662,\n",
       "               0.008188324983594711,\n",
       "               0.008186867947742127,\n",
       "               0.008180857953810279,\n",
       "               0.008184110350774673,\n",
       "               0.008176429751286199,\n",
       "               0.008164617944237295,\n",
       "               0.008169227408299725,\n",
       "               0.008166416117096334,\n",
       "               0.008178968325441419,\n",
       "               0.008173422267201916,\n",
       "               0.00817328665847102,\n",
       "               0.00817461017440828,\n",
       "               0.008166015788365759,\n",
       "               0.00816311456332819,\n",
       "               0.008164360488644915,\n",
       "               0.008166269396899451,\n",
       "               0.008166368147545386,\n",
       "               0.008147722563250841,\n",
       "               0.008151370671114357,\n",
       "               0.008153224917020637,\n",
       "               0.008141047804294886,\n",
       "               0.008142317964032393,\n",
       "               0.00812922034967009,\n",
       "               0.008120366979396491,\n",
       "               0.008120698485532351,\n",
       "               0.00811987019475145,\n",
       "               0.008103466997395302,\n",
       "               0.008086778402022318,\n",
       "               0.008089895776975534,\n",
       "               0.008091997723256281,\n",
       "               0.008088432938336826,\n",
       "               0.008085332872262315,\n",
       "               0.008083916924117985,\n",
       "               0.008085158382025174,\n",
       "               0.008080753975591494,\n",
       "               0.00808373287897287,\n",
       "               0.008093098012547076,\n",
       "               0.008087598743960938,\n",
       "               0.008082833079075442,\n",
       "               0.00807632210432589,\n",
       "               0.008074691858173864,\n",
       "               0.008076475257658077,\n",
       "               0.008070905667829425,\n",
       "               0.00806324270507121,\n",
       "               0.0080669405432502,\n",
       "               0.008064569975364718,\n",
       "               0.008096043410929196,\n",
       "               0.008092407394406875,\n",
       "               0.008090664949931287,\n",
       "               0.008098942758131179,\n",
       "               0.008100977838534931,\n",
       "               0.008099485228973368,\n",
       "               0.008115766471064509,\n",
       "               0.008116278180748332,\n",
       "               0.00812103942737525,\n",
       "               0.008126443952398655,\n",
       "               0.008139147794576826,\n",
       "               0.008145401104449838,\n",
       "               0.008157207437030944,\n",
       "               0.008164265450205498,\n",
       "               0.008172952295252764,\n",
       "               0.008194477501795352,\n",
       "               0.00819579484367327,\n",
       "               0.008192057086441709,\n",
       "               0.008188815410965068,\n",
       "               0.008181760090770143,\n",
       "               0.00817391308725062,\n",
       "               0.008184456152486167,\n",
       "               0.008185728952525072,\n",
       "               0.00818235398390584,\n",
       "               0.008194123800249656,\n",
       "               0.008192561453359748,\n",
       "               0.008182211104788128,\n",
       "               0.00818888532734827,\n",
       "               0.008187549750497276,\n",
       "               0.008188323371075033,\n",
       "               0.008199443380718548,\n",
       "               0.008217167889746675,\n",
       "               0.008220404063232817,\n",
       "               0.008221445338301703,\n",
       "               0.008209990875724863,\n",
       "               0.00821787685806713,\n",
       "               0.008216243814562022,\n",
       "               0.008218374662492506,\n",
       "               0.00821037925935016,\n",
       "               0.008215973545442816,\n",
       "               0.0082169969962932,\n",
       "               ...],\n",
       "              'train-RMSE-mean': [14.340748201150994,\n",
       "               13.113159988756943,\n",
       "               11.992280712028167,\n",
       "               10.967624371186146,\n",
       "               10.031558502843497,\n",
       "               9.173398864446803,\n",
       "               8.38945561419245,\n",
       "               7.674488728497411,\n",
       "               7.019767653888972,\n",
       "               6.420112280105073,\n",
       "               5.874936527016832,\n",
       "               5.374637145328105,\n",
       "               4.918573793913718,\n",
       "               4.5014527399615645,\n",
       "               4.120832122549107,\n",
       "               3.7722438775052702,\n",
       "               3.4535738146716057,\n",
       "               3.1625359544616978,\n",
       "               2.8969323911485834,\n",
       "               2.654746752896415,\n",
       "               2.433575324437243,\n",
       "               2.2316531037622833,\n",
       "               2.0473590009423273,\n",
       "               1.8794449091897174,\n",
       "               1.7273105592358364,\n",
       "               1.5883139356180813,\n",
       "               1.4599159699246533,\n",
       "               1.3443634693243804,\n",
       "               1.2400238052396755,\n",
       "               1.1416741982745298,\n",
       "               1.0522839665911778,\n",
       "               0.971586693976675,\n",
       "               0.898139134232531,\n",
       "               0.831536473157696,\n",
       "               0.7714128067425173,\n",
       "               0.7163587609791208,\n",
       "               0.668507226921408,\n",
       "               0.6242498935605736,\n",
       "               0.584132916028688,\n",
       "               0.5484706408551775,\n",
       "               0.5158958308049234,\n",
       "               0.48781326818669934,\n",
       "               0.46172077671877937,\n",
       "               0.4384694305939858,\n",
       "               0.4180597959761935,\n",
       "               0.4002275107535225,\n",
       "               0.384279341643762,\n",
       "               0.37000566310682453,\n",
       "               0.3581587646446713,\n",
       "               0.34701831194926225,\n",
       "               0.3373045010855271,\n",
       "               0.32877784373412117,\n",
       "               0.3211893442547828,\n",
       "               0.3151180784981162,\n",
       "               0.30938672470854073,\n",
       "               0.30433983979383167,\n",
       "               0.29964811125043767,\n",
       "               0.29576483902525985,\n",
       "               0.29234187653608484,\n",
       "               0.2894219900269772,\n",
       "               0.2868717539662809,\n",
       "               0.28438835509734645,\n",
       "               0.282271048964515,\n",
       "               0.2804741701651651,\n",
       "               0.2788499498234093,\n",
       "               0.2771689236092217,\n",
       "               0.2756605386020154,\n",
       "               0.27444113864545705,\n",
       "               0.2733897284023658,\n",
       "               0.27230776969422976,\n",
       "               0.2712898514948637,\n",
       "               0.2703464733891044,\n",
       "               0.2693662986474935,\n",
       "               0.2685266651410255,\n",
       "               0.26782238748547954,\n",
       "               0.26724130933731033,\n",
       "               0.2666522093945866,\n",
       "               0.26601309418664254,\n",
       "               0.26545104742343056,\n",
       "               0.26483796334065685,\n",
       "               0.2643153302553259,\n",
       "               0.2637765731973984,\n",
       "               0.26337995571021167,\n",
       "               0.2627873958775177,\n",
       "               0.2623048664837095,\n",
       "               0.2619093971163344,\n",
       "               0.261472993571057,\n",
       "               0.26095233554413966,\n",
       "               0.2605346736016408,\n",
       "               0.2601542921088491,\n",
       "               0.25966388437077764,\n",
       "               0.2592228847084517,\n",
       "               0.25893681405470975,\n",
       "               0.2584482862712744,\n",
       "               0.25813128725534257,\n",
       "               0.2578341563851625,\n",
       "               0.25747034945503616,\n",
       "               0.2571477618663033,\n",
       "               0.25685081244271485,\n",
       "               0.2565103280210868,\n",
       "               0.25622410696333364,\n",
       "               0.255886486589416,\n",
       "               0.25544609910888816,\n",
       "               0.25519670815785855,\n",
       "               0.2547463210529765,\n",
       "               0.25448225998327895,\n",
       "               0.2541953748581554,\n",
       "               0.2538249718308499,\n",
       "               0.25343367573405406,\n",
       "               0.2531558209916456,\n",
       "               0.2528983217958394,\n",
       "               0.2526703428039127,\n",
       "               0.2523335978177204,\n",
       "               0.2520966756804614,\n",
       "               0.2518072825614461,\n",
       "               0.25144800616571444,\n",
       "               0.25123561961461505,\n",
       "               0.25097765749747697,\n",
       "               0.2507180844215941,\n",
       "               0.25049736637628456,\n",
       "               0.2502303010378839,\n",
       "               0.24989351496473713,\n",
       "               0.24967638744279097,\n",
       "               0.2493846638912939,\n",
       "               0.24913035903831884,\n",
       "               0.24888688101460096,\n",
       "               0.2485705398476125,\n",
       "               0.2484819188212398,\n",
       "               0.2483078056541139,\n",
       "               0.24812851389635393,\n",
       "               0.2478209804479515,\n",
       "               0.24773545120150672,\n",
       "               0.24746436085792145,\n",
       "               0.2471413498841599,\n",
       "               0.24686860137355818,\n",
       "               0.24669984391155786,\n",
       "               0.24651630779937125,\n",
       "               0.24641620679109652,\n",
       "               0.2461472925737813,\n",
       "               0.24587951266017302,\n",
       "               0.2456219927962396,\n",
       "               0.24534091094103563,\n",
       "               0.2451569176345144,\n",
       "               0.24482220167179894,\n",
       "               0.2447984258397121,\n",
       "               0.24446835690765933,\n",
       "               0.24423276982313502,\n",
       "               0.2440212243458604,\n",
       "               0.24386680581194287,\n",
       "               0.24377311263096277,\n",
       "               0.24357108059210922,\n",
       "               0.2433106889981217,\n",
       "               0.24315260507926786,\n",
       "               0.24298714002750751,\n",
       "               0.24278045698774622,\n",
       "               0.2426775615247672,\n",
       "               0.24247450426973924,\n",
       "               0.24231797221570042,\n",
       "               0.24209256930976972,\n",
       "               0.24192652635488662,\n",
       "               0.24169983590152255,\n",
       "               0.24153071196103984,\n",
       "               0.2413713104375077,\n",
       "               0.24113502735719902,\n",
       "               0.24093342413054075,\n",
       "               0.2407237518852635,\n",
       "               0.240657214144237,\n",
       "               0.24049408497692149,\n",
       "               0.24035616549925942,\n",
       "               0.24012718088862176,\n",
       "               0.23999312330821787,\n",
       "               0.23970397850477254,\n",
       "               0.23951064041725031,\n",
       "               0.2393600648643891,\n",
       "               0.23934107931706236,\n",
       "               0.2391098671648196,\n",
       "               0.23888877631276229,\n",
       "               0.23866761080323795,\n",
       "               0.23858012730268688,\n",
       "               0.23841169248733904,\n",
       "               0.23818357290257042,\n",
       "               0.23796301295594935,\n",
       "               0.23774550452855148,\n",
       "               0.23757299304972843,\n",
       "               0.2374588607927914,\n",
       "               0.23721352399465812,\n",
       "               0.23716480263682882,\n",
       "               0.23698642832313796,\n",
       "               0.23683898725842703,\n",
       "               0.23659675522510862,\n",
       "               0.23644837159020746,\n",
       "               0.23625014826187116,\n",
       "               0.23605157538366453,\n",
       "               0.23583340745135042,\n",
       "               0.23570495966460334,\n",
       "               0.23561297113865406,\n",
       "               0.23546666431192387,\n",
       "               0.235315117173126,\n",
       "               0.23509899949708998,\n",
       "               0.2349562844990776,\n",
       "               0.23487290504583844,\n",
       "               0.2346452791478595,\n",
       "               0.23446634195477078,\n",
       "               0.2343790387760748,\n",
       "               0.2342006217624126,\n",
       "               0.2340368202315822,\n",
       "               0.23393089680540458,\n",
       "               0.23375935164817288,\n",
       "               0.23363374272207252,\n",
       "               0.23347162667719856,\n",
       "               0.2333033631527728,\n",
       "               0.23316706498831233,\n",
       "               0.23297060979085168,\n",
       "               0.23278787854166236,\n",
       "               0.23258895901313625,\n",
       "               0.23239458810190153,\n",
       "               0.23223911447286552,\n",
       "               0.23214263498958523,\n",
       "               0.23194544146375237,\n",
       "               0.2317887677604806,\n",
       "               0.23173193886008137,\n",
       "               0.2316190404871046,\n",
       "               0.2314292143118016,\n",
       "               0.2312969554385118,\n",
       "               0.2311027798356282,\n",
       "               0.23095741332534506,\n",
       "               0.2307965730504148,\n",
       "               0.23062845785081895,\n",
       "               0.2304747820186934,\n",
       "               0.23032466954337646,\n",
       "               0.23019773522570774,\n",
       "               0.22996628177934775,\n",
       "               0.2297503854021817,\n",
       "               0.2296064675309595,\n",
       "               0.2294066876778452,\n",
       "               0.22926027522411452,\n",
       "               0.22907754907824077,\n",
       "               0.2288636836205112,\n",
       "               0.22875593637396943,\n",
       "               0.22867553724534706,\n",
       "               0.228588859841248,\n",
       "               0.22842164535408427,\n",
       "               0.22822139603603922,\n",
       "               0.22814690848681932,\n",
       "               0.22798601879899516,\n",
       "               0.2278101002474235,\n",
       "               0.22766155908765393,\n",
       "               0.22753330766112043,\n",
       "               0.22733742595905906,\n",
       "               0.22719152670618512,\n",
       "               0.22703638558609218,\n",
       "               0.2268467762052082,\n",
       "               0.22669115456811775,\n",
       "               0.22651682166330142,\n",
       "               0.22637599110026904,\n",
       "               0.22628364582295243,\n",
       "               0.2260944216442048,\n",
       "               0.2259227085024662,\n",
       "               0.22576307822344668,\n",
       "               0.2256110053369982,\n",
       "               0.2254726294336951,\n",
       "               0.22534705990099888,\n",
       "               0.22520875772665863,\n",
       "               0.22502000730893623,\n",
       "               0.22489937967387733,\n",
       "               0.22476520518255558,\n",
       "               0.22463623072195826,\n",
       "               0.224426948798375,\n",
       "               0.22431233118096935,\n",
       "               0.2241289669241682,\n",
       "               0.2239739420732548,\n",
       "               0.22386168485676408,\n",
       "               0.22374999062734238,\n",
       "               0.22359655222434893,\n",
       "               0.2234710134700355,\n",
       "               0.22330704440056817,\n",
       "               0.22318793861173603,\n",
       "               0.22299333326050616,\n",
       "               0.22286508839751115,\n",
       "               0.22270385488419128,\n",
       "               0.22255362574119567,\n",
       "               0.22241733310771059,\n",
       "               0.22224479858493454,\n",
       "               0.2221384753812211,\n",
       "               0.22194140179473285,\n",
       "               0.221873765905413,\n",
       "               0.221764798811643,\n",
       "               0.22168306902691406,\n",
       "               0.22148091398523306,\n",
       "               0.22135788306721263,\n",
       "               0.22119794702451082,\n",
       "               0.2210052160682654,\n",
       "               0.22089756221395188,\n",
       "               0.22078938100916926,\n",
       "               0.2206515863040781,\n",
       "               0.2204921844584181,\n",
       "               0.22031749787087515,\n",
       "               0.22019971628904933,\n",
       "               0.22004434389884045,\n",
       "               0.2198823746483672,\n",
       "               0.21972313266334298,\n",
       "               0.21957959291683474,\n",
       "               0.21946665841369886,\n",
       "               0.21929363334644303,\n",
       "               0.219174737932212,\n",
       "               0.2190865595739966,\n",
       "               0.2189210155779535,\n",
       "               0.2187850068742266,\n",
       "               0.2186923214575419,\n",
       "               0.21857827685971232,\n",
       "               0.2184065803452199,\n",
       "               0.2182877410732003,\n",
       "               0.21815555764846525,\n",
       "               0.2180490991911038,\n",
       "               0.21794651432622528,\n",
       "               0.2177714530508191,\n",
       "               0.21761672692438724,\n",
       "               0.2174070958185231,\n",
       "               0.21725113956141193,\n",
       "               0.21711155232930923,\n",
       "               0.21701140930581672,\n",
       "               0.21687417706840997,\n",
       "               0.21674590955592246,\n",
       "               0.2165891660789947,\n",
       "               0.21644114461755434,\n",
       "               0.21633553690772386,\n",
       "               0.2161936912430691,\n",
       "               0.2161086943732641,\n",
       "               0.21603051614985946,\n",
       "               0.21588155388777705,\n",
       "               0.21579732837970292,\n",
       "               0.21570392429213556,\n",
       "               0.21557654148585423,\n",
       "               0.21540612929691735,\n",
       "               0.2152900519493363,\n",
       "               0.2151292241941284,\n",
       "               0.21503794437724374,\n",
       "               0.21486459155078866,\n",
       "               0.2146947058125038,\n",
       "               0.2145997418308304,\n",
       "               0.21446610367647115,\n",
       "               0.21434797867034971,\n",
       "               0.21418202409199782,\n",
       "               0.21405687640431084,\n",
       "               0.2139987430726887,\n",
       "               0.21385023128848799,\n",
       "               0.21376866764177713,\n",
       "               0.21358258368546382,\n",
       "               0.21349800683597156,\n",
       "               0.21340399732071466,\n",
       "               0.21329755094684097,\n",
       "               0.21315800150613487,\n",
       "               0.21310392681442233,\n",
       "               0.21299224152467847,\n",
       "               0.2128192295150969,\n",
       "               0.21263597474809562,\n",
       "               0.21248653611892507,\n",
       "               0.2123364743358183,\n",
       "               0.21219232279516884,\n",
       "               0.21202479166847785,\n",
       "               0.21189271326641293,\n",
       "               0.211802588873644,\n",
       "               0.21166395895043025,\n",
       "               0.2115314721057158,\n",
       "               0.21139246915962095,\n",
       "               0.21127644916546176,\n",
       "               0.21115907976918394,\n",
       "               0.2110092989041763,\n",
       "               0.21091025337661332,\n",
       "               0.210810711415668,\n",
       "               0.21064114924624047,\n",
       "               0.21053806305010972,\n",
       "               0.21037575157161292,\n",
       "               0.21023016688306714,\n",
       "               0.21007661288229465,\n",
       "               0.20999186181181106,\n",
       "               0.2098588908380082,\n",
       "               0.2097265006342842,\n",
       "               0.20963538736501822,\n",
       "               0.20952088313937348,\n",
       "               0.20941539770381343,\n",
       "               0.20927586747821939,\n",
       "               0.20916964267979923,\n",
       "               0.20904806888470975,\n",
       "               0.20898165259352922,\n",
       "               0.20889093561078986,\n",
       "               0.20873757338932966,\n",
       "               0.20863580683382912,\n",
       "               0.2085511740831821,\n",
       "               0.20843311066112113,\n",
       "               0.208284545983581,\n",
       "               0.20822153739238936,\n",
       "               0.20805659111242703,\n",
       "               0.20792570004544234,\n",
       "               0.2077974950685794,\n",
       "               0.20768720567313215,\n",
       "               0.20754594204958413,\n",
       "               0.20741028854472923,\n",
       "               0.20730557205043168,\n",
       "               0.20721487703117827,\n",
       "               0.20714897953904463,\n",
       "               0.2070092628815686,\n",
       "               0.2068698583593667,\n",
       "               0.2067258717358019,\n",
       "               0.20658291180627564,\n",
       "               0.2064446941380953,\n",
       "               0.20635041945087726,\n",
       "               0.20619726290260243,\n",
       "               0.2060576726762703,\n",
       "               0.20595920614646093,\n",
       "               0.20585858388932785,\n",
       "               0.2057522298708353,\n",
       "               0.20566085946603538,\n",
       "               0.20553702712200347,\n",
       "               0.20546074003205694,\n",
       "               0.2053674633640565,\n",
       "               0.20526366149324163,\n",
       "               0.2051486296347611,\n",
       "               0.2049775392408554,\n",
       "               0.2048425375308346,\n",
       "               0.2047835505850529,\n",
       "               0.20466362431901428,\n",
       "               0.20458926721259796,\n",
       "               0.20448013153432787,\n",
       "               0.20436347511512687,\n",
       "               0.2042430349591663,\n",
       "               0.20411264216142633,\n",
       "               0.20399354766246927,\n",
       "               0.20386594142072867,\n",
       "               0.2037813622289907,\n",
       "               0.20370034916253918,\n",
       "               0.20357379033194975,\n",
       "               0.2034874235773836,\n",
       "               0.2033979692434176,\n",
       "               0.20335357741175109,\n",
       "               0.20327079521463073,\n",
       "               0.2031326625264472,\n",
       "               0.2029990888709224,\n",
       "               0.20291152208586938,\n",
       "               0.20281980118262255,\n",
       "               0.2026936079656276,\n",
       "               0.20253915815445875,\n",
       "               0.20246366427693738,\n",
       "               0.20238921183642886,\n",
       "               0.2022589757800913,\n",
       "               0.20210069066075279,\n",
       "               0.20203419425477218,\n",
       "               0.20196181237639335,\n",
       "               0.2018471177974397,\n",
       "               0.20176078133784991,\n",
       "               0.20157404974803614,\n",
       "               0.20146479827289962,\n",
       "               0.2013978725999379,\n",
       "               0.20127111146448165,\n",
       "               0.20118106237979907,\n",
       "               0.20107813508023642,\n",
       "               0.20099408580703582,\n",
       "               0.2008882772229935,\n",
       "               0.20080043275745565,\n",
       "               0.20067615124285595,\n",
       "               0.20056124698816227,\n",
       "               0.2004375864558383,\n",
       "               0.20031648272382596,\n",
       "               0.20021324107739136,\n",
       "               0.20010941929957307,\n",
       "               0.1999785762761803,\n",
       "               0.19989789858002693,\n",
       "               0.19979229090123915,\n",
       "               0.19969743453161035,\n",
       "               0.19958694654072914,\n",
       "               0.19948924500848506,\n",
       "               0.19934402519427788,\n",
       "               0.19924811049430088,\n",
       "               0.19913585484134674,\n",
       "               0.19905775743895418,\n",
       "               0.19896944596154,\n",
       "               0.1988806772329219,\n",
       "               0.19876396999148951,\n",
       "               0.19868727107574627,\n",
       "               0.1986186379930568,\n",
       "               0.1985320058203592,\n",
       "               0.1984351699694045,\n",
       "               0.19836803596485142,\n",
       "               0.198231046238459,\n",
       "               0.19816648846374277,\n",
       "               0.19808897640436732,\n",
       "               0.19797568500374083,\n",
       "               0.19783867549492828,\n",
       "               0.19776180298702703,\n",
       "               0.19763775917023887,\n",
       "               0.19753323447885482,\n",
       "               0.19742457698608637,\n",
       "               0.19732543239726183,\n",
       "               0.19720360485551125,\n",
       "               0.19712587692372321,\n",
       "               0.19701201833351054,\n",
       "               0.19689437989255285,\n",
       "               0.19676795209250772,\n",
       "               0.19667832980164188,\n",
       "               0.19656970925421235,\n",
       "               0.19647554332713055,\n",
       "               0.19639446104486089,\n",
       "               0.196295074776745,\n",
       "               0.19621439313230282,\n",
       "               0.19612503351923458,\n",
       "               0.1960702706827949,\n",
       "               0.19601283162802652,\n",
       "               0.19591445821582498,\n",
       "               0.19585966984340655,\n",
       "               0.19575829365005568,\n",
       "               0.19564965415789295,\n",
       "               0.19555459245358034,\n",
       "               0.19545596336638135,\n",
       "               0.19535994116534147,\n",
       "               0.19523682598023526,\n",
       "               0.19508924991222476,\n",
       "               0.19498959364848004,\n",
       "               0.1949027826838923,\n",
       "               0.19481719276742257,\n",
       "               0.19471469310559578,\n",
       "               0.19465887577273988,\n",
       "               0.1945376696555228,\n",
       "               0.1944136134132727,\n",
       "               0.19433664168877926,\n",
       "               0.19421183572745662,\n",
       "               0.19413563019601718,\n",
       "               0.1940524477251525,\n",
       "               0.19397574346271348,\n",
       "               0.19386910858542258,\n",
       "               0.193764705872734,\n",
       "               0.19367503972340214,\n",
       "               0.1935822367684825,\n",
       "               0.19347858567733137,\n",
       "               0.19336598185299658,\n",
       "               0.19331149516493237,\n",
       "               0.1932133700325344,\n",
       "               0.1931189095111451,\n",
       "               0.19303237151534472,\n",
       "               0.19292555648339413,\n",
       "               0.1928321273395673,\n",
       "               0.19273066330665814,\n",
       "               0.19262233670798398,\n",
       "               0.192564513119575,\n",
       "               0.19246461426457884,\n",
       "               0.1923592852653602,\n",
       "               0.19225194825914868,\n",
       "               0.19218002449953206,\n",
       "               0.19208723061957922,\n",
       "               0.1919653110702544,\n",
       "               0.19188725037547263,\n",
       "               0.1917903777155298,\n",
       "               0.19170753461074339,\n",
       "               0.1916301339151493,\n",
       "               0.19152793366663148,\n",
       "               0.19147260496069274,\n",
       "               0.19140265552855476,\n",
       "               0.19125456804258287,\n",
       "               0.19119521592522015,\n",
       "               0.19109955577384477,\n",
       "               0.19101807268601556,\n",
       "               0.19088359336096059,\n",
       "               0.19072897831320787,\n",
       "               0.1906336508050682,\n",
       "               0.19057225509288864,\n",
       "               0.19046390252704573,\n",
       "               0.190387971270545,\n",
       "               0.19031203311131692,\n",
       "               0.19022130048001482,\n",
       "               0.19015371386819604,\n",
       "               0.19007376617966856,\n",
       "               0.1900180192277693,\n",
       "               0.18991319084055688,\n",
       "               0.1898684470667206,\n",
       "               0.18981982407109935,\n",
       "               0.1896936880051834,\n",
       "               0.18961804902004653,\n",
       "               0.18955490311739054,\n",
       "               0.18949778525520003,\n",
       "               0.18943119820295173,\n",
       "               0.18935784044772244,\n",
       "               0.1892402293343377,\n",
       "               0.18915747507283798,\n",
       "               0.1890713532995103,\n",
       "               0.18898450564676736,\n",
       "               0.1888988869344835,\n",
       "               0.18882772030064435,\n",
       "               0.18874328045949587,\n",
       "               0.18864340320443482,\n",
       "               0.18852054809291965,\n",
       "               0.18841401517996959,\n",
       "               0.18834175714996207,\n",
       "               0.18823868349274195,\n",
       "               0.18810733359775064,\n",
       "               0.18801207252960825,\n",
       "               0.18793837413307854,\n",
       "               0.1878434067663163,\n",
       "               0.18775808428217555,\n",
       "               0.18761809329388845,\n",
       "               0.18751326056599218,\n",
       "               0.1874498962393848,\n",
       "               0.1873648697185699,\n",
       "               0.18728796365971126,\n",
       "               0.18722452337437914,\n",
       "               0.18715561186948074,\n",
       "               0.18707829522108121,\n",
       "               0.18703387058177734,\n",
       "               0.1869185857394481,\n",
       "               0.1868661123808718,\n",
       "               0.18674428717346117,\n",
       "               0.1866656665575217,\n",
       "               0.18657980217291495,\n",
       "               0.1864893825680616,\n",
       "               0.18641415737476075,\n",
       "               0.18633529891087233,\n",
       "               0.1861981619621439,\n",
       "               0.18615253713889215,\n",
       "               0.1860497933124332,\n",
       "               0.18598663726162692,\n",
       "               0.18591648605476574,\n",
       "               0.18582985645499947,\n",
       "               0.18571904568367859,\n",
       "               0.1855927057760264,\n",
       "               0.18551546389699333,\n",
       "               0.1854217900467645,\n",
       "               0.18532159957120578,\n",
       "               0.18526321231819529,\n",
       "               0.18515762703529745,\n",
       "               0.18507901481342162,\n",
       "               0.1849763719386457,\n",
       "               0.18493151667914032,\n",
       "               0.18483516182045023,\n",
       "               0.1847166221257671,\n",
       "               0.18461487156218245,\n",
       "               0.1845362120288266,\n",
       "               0.1844405531344491,\n",
       "               0.18440746345327722,\n",
       "               0.18433749165765986,\n",
       "               0.18425200408142642,\n",
       "               0.18413914561179165,\n",
       "               0.1840269389455725,\n",
       "               0.1839841532499715,\n",
       "               0.1838987307669111,\n",
       "               0.18379255241635337,\n",
       "               0.1837029255610236,\n",
       "               0.1836091510709296,\n",
       "               0.18353912923149365,\n",
       "               0.18345670218488142,\n",
       "               0.18336414532166403,\n",
       "               0.18330039022933375,\n",
       "               0.1832057034797793,\n",
       "               0.18312610093130663,\n",
       "               0.183058634230464,\n",
       "               0.18297793273763893,\n",
       "               0.1829454682460843,\n",
       "               0.18286635744853016,\n",
       "               0.18279942653583722,\n",
       "               0.18275369984798442,\n",
       "               0.18268758688996767,\n",
       "               0.18259779431188386,\n",
       "               0.18248834539878275,\n",
       "               0.18241685069282154,\n",
       "               0.1822945803581664,\n",
       "               0.18220657359125358,\n",
       "               0.18213875609397834,\n",
       "               0.1820176972190373,\n",
       "               0.18196263883694921,\n",
       "               0.18183906726951818,\n",
       "               0.18176379646024546,\n",
       "               0.18167241932819955,\n",
       "               0.18161420012993199,\n",
       "               0.1815331696570713,\n",
       "               0.18142359312263165,\n",
       "               0.18136127601415256,\n",
       "               0.18125291925103051,\n",
       "               0.18120750847511616,\n",
       "               0.18112518293300472,\n",
       "               0.18104607700169847,\n",
       "               0.1809389578137894,\n",
       "               0.18085026263910245,\n",
       "               0.18073978744183358,\n",
       "               0.18064895620067456,\n",
       "               0.18054719792201945,\n",
       "               0.18046638372720128,\n",
       "               0.18038673353655318,\n",
       "               0.18028161860745384,\n",
       "               0.18021101807772708,\n",
       "               0.18015825038955705,\n",
       "               0.18008168929963672,\n",
       "               0.18001768333017132,\n",
       "               0.17997745080636643,\n",
       "               0.17990385117874622,\n",
       "               0.1798268639382917,\n",
       "               0.179729760653185,\n",
       "               0.1796128018491713,\n",
       "               0.17949677955286616,\n",
       "               0.17941574543938735,\n",
       "               0.1793525338045061,\n",
       "               0.1792546876334127,\n",
       "               0.1791800919399039,\n",
       "               0.17910625838593794,\n",
       "               0.1790101382493301,\n",
       "               0.17889746918987826,\n",
       "               0.1788028030696989,\n",
       "               0.17870337007413117,\n",
       "               0.17862051761769027,\n",
       "               0.17853397703688378,\n",
       "               0.17846505922837008,\n",
       "               0.17839346732735425,\n",
       "               0.17830976264129347,\n",
       "               0.17822665944637486,\n",
       "               0.17816631729678845,\n",
       "               0.17808852877452233,\n",
       "               0.1780189544812931,\n",
       "               0.17796601660196565,\n",
       "               0.17789472526150107,\n",
       "               0.17781467122734293,\n",
       "               0.17774703595261132,\n",
       "               0.17762970611785134,\n",
       "               0.177571558410167,\n",
       "               0.1775130962890388,\n",
       "               0.17744832602026575,\n",
       "               0.1774081233825037,\n",
       "               0.17730496110663183,\n",
       "               0.17728008207273047,\n",
       "               0.17720233159679158,\n",
       "               0.1771338852704478,\n",
       "               0.1770055255121968,\n",
       "               0.1769313519287317,\n",
       "               0.1768370090611068,\n",
       "               0.17675470427932582,\n",
       "               0.17669558211825956,\n",
       "               0.17659219996516676,\n",
       "               0.17653475820068845,\n",
       "               0.17644120318068657,\n",
       "               0.17634689785515956,\n",
       "               0.17624783348074716,\n",
       "               0.17618020324780628,\n",
       "               0.17611655987239605,\n",
       "               0.17604713652073087,\n",
       "               0.17594060941735923,\n",
       "               0.17585557810529617,\n",
       "               0.17577951547669782,\n",
       "               0.1756931980162039,\n",
       "               0.17564314261747707,\n",
       "               0.17554636233270635,\n",
       "               0.175455543693483,\n",
       "               0.17535607510842763,\n",
       "               0.17527594123743992,\n",
       "               0.17518485463703912,\n",
       "               0.17509360183833786,\n",
       "               0.174992564257575,\n",
       "               0.1749064261051189,\n",
       "               0.17480992639795312,\n",
       "               0.1747474302380312,\n",
       "               0.1746887908033541,\n",
       "               0.17463541557027593,\n",
       "               0.174570779841993,\n",
       "               0.17448016023502735,\n",
       "               0.17441818975474765,\n",
       "               0.1743588298336806,\n",
       "               0.17429229293614368,\n",
       "               0.174208394554463,\n",
       "               0.17416194100502702,\n",
       "               0.1741124715245722,\n",
       "               0.17401922661872238,\n",
       "               0.17397085019563782,\n",
       "               0.1738951714456962,\n",
       "               0.17383276217637922,\n",
       "               0.17375713715020413,\n",
       "               0.17366002585993146,\n",
       "               0.1735798925651347,\n",
       "               0.17353226921481843,\n",
       "               0.17345795086525373,\n",
       "               0.17339669102766095,\n",
       "               0.17334276780540026,\n",
       "               0.1732678916789333,\n",
       "               0.17318132715791038,\n",
       "               0.17308705970281038,\n",
       "               0.17302283012383537,\n",
       "               0.1729419726260785,\n",
       "               0.1728681164803946,\n",
       "               0.1728043669902192,\n",
       "               0.17271519643104938,\n",
       "               0.17262576879536182,\n",
       "               0.17254203133455737,\n",
       "               0.1724825494978266,\n",
       "               0.17242821748285433,\n",
       "               0.1723572752445026,\n",
       "               0.17227066744262334,\n",
       "               0.17220420182128224,\n",
       "               0.17213205764832665,\n",
       "               0.17207200679027726,\n",
       "               0.1720147123456892,\n",
       "               0.1719362135815877,\n",
       "               0.17184824062600554,\n",
       "               0.171778567854495,\n",
       "               0.17170130880857004,\n",
       "               0.17163463231952206,\n",
       "               0.1715952620346477,\n",
       "               0.17151804932648249,\n",
       "               0.17144669061808937,\n",
       "               0.17138136577537555,\n",
       "               0.1712684166437335,\n",
       "               0.17117142537087657,\n",
       "               0.1710927627619158,\n",
       "               0.1710028127948806,\n",
       "               0.170881478780898,\n",
       "               0.1707874390920371,\n",
       "               0.1707169478740854,\n",
       "               0.1706577315120602,\n",
       "               0.17058057539193275,\n",
       "               0.17049693419100517,\n",
       "               0.17043537415791898,\n",
       "               0.17035963746585917,\n",
       "               0.17029783414837332,\n",
       "               0.17025819599119282,\n",
       "               0.17016924876688733,\n",
       "               0.1701003443156588,\n",
       "               0.17000015454311138,\n",
       "               0.16989634121797118,\n",
       "               0.16980925717354234,\n",
       "               0.16973285690730802,\n",
       "               0.16964834611483756,\n",
       "               0.16954979119603567,\n",
       "               0.16947270913300452,\n",
       "               0.16941799051085002,\n",
       "               0.16933364070015808,\n",
       "               0.16924998233761848,\n",
       "               0.1691538395216484,\n",
       "               0.16904913153944645,\n",
       "               0.1689665133361741,\n",
       "               0.1688852683119687,\n",
       "               0.1688102871534559,\n",
       "               0.16872498080630705,\n",
       "               0.16865146148033094,\n",
       "               0.16857623765286045,\n",
       "               0.16848753457108434,\n",
       "               0.16842962059184186,\n",
       "               0.16837023108829943,\n",
       "               0.1683049184621825,\n",
       "               0.16822971407990353,\n",
       "               0.16815680936729274,\n",
       "               0.16808310075513355,\n",
       "               0.1680084543360684,\n",
       "               0.16793840203782326,\n",
       "               0.16785350126710483,\n",
       "               0.16774380926044186,\n",
       "               0.16764822147828595,\n",
       "               0.167556850705745,\n",
       "               0.16748958349615684,\n",
       "               0.1674035955907498,\n",
       "               0.1673389613664781,\n",
       "               0.16728039305217102,\n",
       "               0.16721066500720697,\n",
       "               0.1671633473491604,\n",
       "               0.16709877878105164,\n",
       "               0.16701391954279257,\n",
       "               0.16693414597405976,\n",
       "               0.16682275213111641,\n",
       "               0.16672261968380508,\n",
       "               0.16663082223603146,\n",
       "               0.1665455932711101,\n",
       "               0.16647285121978408,\n",
       "               0.16640953411126203,\n",
       "               0.16638459622746973,\n",
       "               0.16628400524252251,\n",
       "               0.16621755460599288,\n",
       "               0.16615101960974601,\n",
       "               0.1660529147936046,\n",
       "               0.16598083059560229,\n",
       "               0.16590784700259167,\n",
       "               0.16582033952757658,\n",
       "               0.16573379038011213,\n",
       "               0.1656590751528937,\n",
       "               0.16560942365941944,\n",
       "               0.16555207587114215,\n",
       "               0.16546880294578623,\n",
       "               0.16538566632985774,\n",
       "               0.1653095252742333,\n",
       "               0.1652485731802692,\n",
       "               0.1651705349911872,\n",
       "               0.16508638132434153,\n",
       "               0.16501863375735473,\n",
       "               0.1649445550677671,\n",
       "               0.16489909266723143,\n",
       "               0.16483793652168632,\n",
       "               0.16477882806033206,\n",
       "               0.16471504709009221,\n",
       "               0.16465243982409045,\n",
       "               0.16459431750021816,\n",
       "               0.16452840674390048,\n",
       "               0.16445236966027224,\n",
       "               0.1643991059378887,\n",
       "               0.16432345238035445,\n",
       "               0.16427329364142343,\n",
       "               0.16416756203687238,\n",
       "               0.16409406631279647,\n",
       "               0.1640139085724925,\n",
       "               0.16395407638103623,\n",
       "               0.16388636329123238,\n",
       "               0.16380416717735138,\n",
       "               0.16373065283712065,\n",
       "               0.16366902264462335,\n",
       "               0.1636019716344528,\n",
       "               0.16354147791721432,\n",
       "               0.16348794204604652,\n",
       "               0.16340023857179076,\n",
       "               0.1633290185205413,\n",
       "               0.16326776912104193,\n",
       "               0.16319149146318987,\n",
       "               0.16313528312250317,\n",
       "               0.16305168847254534,\n",
       "               0.16297097762709192,\n",
       "               0.16291489878367607,\n",
       "               0.16285164723489126,\n",
       "               0.16279894167221368,\n",
       "               0.16274223133918406,\n",
       "               0.16267151550294287,\n",
       "               0.16258430659221232,\n",
       "               0.1625314279996598,\n",
       "               0.16251080258079723,\n",
       "               0.16245583742075906,\n",
       "               0.16239400891828762,\n",
       "               0.1623351717010103,\n",
       "               0.16226576030468462,\n",
       "               0.16219691297098784,\n",
       "               0.1621328411294869,\n",
       "               0.162043504544187,\n",
       "               0.16195387535371442,\n",
       "               0.1618978701996467,\n",
       "               0.16183353233103845,\n",
       "               0.16175332377907828,\n",
       "               0.1616945858889328,\n",
       "               0.1616344850348278,\n",
       "               0.16155824672253635,\n",
       "               0.1614611244973154,\n",
       "               0.16139448954438132,\n",
       "               0.16130766075222544,\n",
       "               0.16124607340397842,\n",
       "               0.16115108699904623,\n",
       "               0.16109164388546124,\n",
       "               0.16106155128373564,\n",
       "               0.16099623835398735,\n",
       "               0.16094118274844482,\n",
       "               0.16090072694117316,\n",
       "               0.16084032456550876,\n",
       "               0.16078426664008005,\n",
       "               0.16067372162998672,\n",
       "               0.16058637191085598,\n",
       "               0.16053557698594936,\n",
       "               0.1604624974657047,\n",
       "               0.16039375513545848,\n",
       "               0.16033532241115903,\n",
       "               0.16025179420757094,\n",
       "               0.16018845932238565,\n",
       "               0.1601417505136877,\n",
       "               0.16006741312260916,\n",
       "               0.15999001024026482,\n",
       "               0.15992454726192054,\n",
       "               0.1598633648734993,\n",
       "               0.1598190233972558,\n",
       "               0.15974211914992129,\n",
       "               0.15969521040000914,\n",
       "               0.15965525676764591,\n",
       "               0.15959176367779682,\n",
       "               0.15953225836853138,\n",
       "               0.15948271891710505,\n",
       "               0.1593905011712132,\n",
       "               0.15932989021351862,\n",
       "               0.1592446313636321,\n",
       "               0.15917982684402876,\n",
       "               0.15909683855514264,\n",
       "               0.1590267160916711,\n",
       "               0.15897186301901187,\n",
       "               0.15890723481848126,\n",
       "               0.1588599896791841,\n",
       "               0.1587847778952783,\n",
       "               0.15873395473795504,\n",
       "               0.15864678102085497,\n",
       "               0.15858531839194867,\n",
       "               0.15851075445783228,\n",
       "               0.15843553494972626,\n",
       "               0.15836499496032366,\n",
       "               0.1582839411505599,\n",
       "               0.15823832696502674,\n",
       "               0.1581584637798615,\n",
       "               0.1580823026282142,\n",
       "               0.15805094575847847,\n",
       "               0.1579697113244346,\n",
       "               0.1578825243776217,\n",
       "               0.1578279323608338,\n",
       "               0.15774736565847733,\n",
       "               0.15767608845476058,\n",
       "               0.15759386834678316,\n",
       "               0.15753033232796906,\n",
       "               0.157453670057386,\n",
       "               0.1573757579880853,\n",
       "               0.15733207582560405,\n",
       "               0.15727826633464248,\n",
       "               0.15720679390438527,\n",
       "               ...],\n",
       "              'train-RMSE-std': [0.0027488987949132147,\n",
       "               0.003183350687905266,\n",
       "               0.001129799904624834,\n",
       "               0.0010932865739617362,\n",
       "               0.0010994768429231382,\n",
       "               0.0007409030620352866,\n",
       "               0.0013471322939900918,\n",
       "               0.0020982284971912683,\n",
       "               0.001327180625300263,\n",
       "               0.0013732628492749844,\n",
       "               0.0007240359758296768,\n",
       "               0.0009363436400898284,\n",
       "               0.0004713769297709458,\n",
       "               0.0005222486886320959,\n",
       "               0.000206002735768374,\n",
       "               0.00029959410687822543,\n",
       "               0.0007717071306043704,\n",
       "               0.0008122341320774913,\n",
       "               0.0007792283503582255,\n",
       "               0.0004943089336587029,\n",
       "               0.000720576292780098,\n",
       "               0.0006082245192953225,\n",
       "               0.0005372160260509431,\n",
       "               0.0003408977739430486,\n",
       "               0.0005227312107969134,\n",
       "               0.001041392078063666,\n",
       "               0.0008360192150038741,\n",
       "               0.0010453392238090743,\n",
       "               0.0012360334154951386,\n",
       "               0.001111878968312219,\n",
       "               0.0011702081944652805,\n",
       "               0.0012196150917885226,\n",
       "               0.001242231242131996,\n",
       "               0.0016584956400180885,\n",
       "               0.0017058788408180925,\n",
       "               0.0017084793824915971,\n",
       "               0.0014845755571161901,\n",
       "               0.001599481596062144,\n",
       "               0.001539175144274746,\n",
       "               0.0015633125725184004,\n",
       "               0.0012007781405127746,\n",
       "               0.00010969722754803874,\n",
       "               0.0004499821901748915,\n",
       "               0.0004211767420813171,\n",
       "               0.0004169100671477267,\n",
       "               0.000835621927565733,\n",
       "               0.0011154871404649694,\n",
       "               0.001216922727541523,\n",
       "               0.0014123822102444497,\n",
       "               0.0014134018771285793,\n",
       "               0.0011364524399762618,\n",
       "               0.0011899161888782727,\n",
       "               0.001310714794516817,\n",
       "               0.0014498209856825806,\n",
       "               0.0012041756728419126,\n",
       "               0.0013337629770743113,\n",
       "               0.0014016940250293783,\n",
       "               0.0013813478787612276,\n",
       "               0.0013811939841666314,\n",
       "               0.0012638742833738057,\n",
       "               0.001425042922134383,\n",
       "               0.0014803087428703439,\n",
       "               0.0013905942834873907,\n",
       "               0.0012153797257955655,\n",
       "               0.0012150541074064213,\n",
       "               0.001334693358799137,\n",
       "               0.0013714450000052014,\n",
       "               0.00145311830476147,\n",
       "               0.001481064184751626,\n",
       "               0.0015439733129291458,\n",
       "               0.0015905213469862784,\n",
       "               0.0015969341751304465,\n",
       "               0.0015959205210253494,\n",
       "               0.0017424279892336936,\n",
       "               0.0017636768402142361,\n",
       "               0.0017852268643672408,\n",
       "               0.001816178671819774,\n",
       "               0.0018864033632613648,\n",
       "               0.001977395396762243,\n",
       "               0.001977091169537174,\n",
       "               0.0019734571960684636,\n",
       "               0.0019376296812835705,\n",
       "               0.0019422800636740582,\n",
       "               0.002031149962586706,\n",
       "               0.002081950979244699,\n",
       "               0.002084441807634276,\n",
       "               0.0021533510809052503,\n",
       "               0.0023892798471456195,\n",
       "               0.0023843669098502014,\n",
       "               0.00247634538072521,\n",
       "               0.00246194519707769,\n",
       "               0.0024872151139616384,\n",
       "               0.002465728431666003,\n",
       "               0.0024566480791136983,\n",
       "               0.002470625746226051,\n",
       "               0.002446541684989175,\n",
       "               0.0025327248067873857,\n",
       "               0.0025203563073139695,\n",
       "               0.0026130935034019134,\n",
       "               0.0027436945895776997,\n",
       "               0.002838025269595928,\n",
       "               0.0028398913277600537,\n",
       "               0.0029967541804314535,\n",
       "               0.0030605346666544315,\n",
       "               0.003229147102866841,\n",
       "               0.0032844517856872426,\n",
       "               0.0032662633350493925,\n",
       "               0.003169638629549053,\n",
       "               0.0030141544763071597,\n",
       "               0.0031081832834354193,\n",
       "               0.003083235103791574,\n",
       "               0.0030716241723114657,\n",
       "               0.0029992937694771744,\n",
       "               0.002991676621673848,\n",
       "               0.0030100778444935665,\n",
       "               0.0030822070334444434,\n",
       "               0.003132323162255517,\n",
       "               0.0032748194204937067,\n",
       "               0.0033258499425807535,\n",
       "               0.0033600337403156583,\n",
       "               0.0033588908181905377,\n",
       "               0.0033919014864598183,\n",
       "               0.0034394265235944506,\n",
       "               0.003433292086013737,\n",
       "               0.003368885835680708,\n",
       "               0.0035020594107589243,\n",
       "               0.003477759691416589,\n",
       "               0.0034467675204699786,\n",
       "               0.0035739862476570705,\n",
       "               0.003638648854850302,\n",
       "               0.003613395729352054,\n",
       "               0.0035879319363654474,\n",
       "               0.0033446353583083763,\n",
       "               0.0033210231109727793,\n",
       "               0.0033619909194743487,\n",
       "               0.003256690813654304,\n",
       "               0.0035018921080127454,\n",
       "               0.0034121302126239777,\n",
       "               0.0034770112540988903,\n",
       "               0.0032507039471190054,\n",
       "               0.003284230135481337,\n",
       "               0.0033259125066661594,\n",
       "               0.003390609837883615,\n",
       "               0.003359970780600155,\n",
       "               0.0033597214891846455,\n",
       "               0.0032882695481456616,\n",
       "               0.0032085468396579253,\n",
       "               0.003043416613408897,\n",
       "               0.0030635630361695956,\n",
       "               0.003038943229505398,\n",
       "               0.0030509396822697627,\n",
       "               0.003075774627461099,\n",
       "               0.002964429637480031,\n",
       "               0.003184403569201514,\n",
       "               0.002990798894063056,\n",
       "               0.0029601501998919627,\n",
       "               0.0029547396319193195,\n",
       "               0.0030114435069304515,\n",
       "               0.0029443407206932713,\n",
       "               0.00284124344813566,\n",
       "               0.0029654066956471,\n",
       "               0.00308590622548836,\n",
       "               0.0029904744987718345,\n",
       "               0.0029656963301433127,\n",
       "               0.0028989957585476883,\n",
       "               0.0029125123230910777,\n",
       "               0.0029888820910383878,\n",
       "               0.0028736827255712973,\n",
       "               0.002730358108081625,\n",
       "               0.0027884967307737715,\n",
       "               0.0028758558756745607,\n",
       "               0.0029406426627944,\n",
       "               0.002981010894748534,\n",
       "               0.0029950310788399554,\n",
       "               0.002991920471607841,\n",
       "               0.0030926872742272236,\n",
       "               0.003110937813538284,\n",
       "               0.0030945851321600806,\n",
       "               0.0032141161941226437,\n",
       "               0.0030951805191076743,\n",
       "               0.0030495556732428415,\n",
       "               0.0030437783401953697,\n",
       "               0.00303923484074096,\n",
       "               0.0029109554113626677,\n",
       "               0.0028360822217016893,\n",
       "               0.002990829997346325,\n",
       "               0.0030355308006102563,\n",
       "               0.0030821431061434828,\n",
       "               0.0031365588713626958,\n",
       "               0.0031913099698501596,\n",
       "               0.0031709429213753037,\n",
       "               0.0031829869512766847,\n",
       "               0.0031333333432788666,\n",
       "               0.003128220586613389,\n",
       "               0.003217423321277911,\n",
       "               0.003174569201106539,\n",
       "               0.0032243576436385636,\n",
       "               0.0031945633823514167,\n",
       "               0.0032652108307685375,\n",
       "               0.003269398479706649,\n",
       "               0.003237829443925816,\n",
       "               0.0031982131244934304,\n",
       "               0.0032321248500106316,\n",
       "               0.0031450258921036553,\n",
       "               0.0031234801148368363,\n",
       "               0.003123180589039746,\n",
       "               0.0031416633771115476,\n",
       "               0.003140332721021342,\n",
       "               0.0032238332015351446,\n",
       "               0.003244122580666208,\n",
       "               0.003201650748184462,\n",
       "               0.0032503261775948364,\n",
       "               0.0032598142346275927,\n",
       "               0.003267301550938563,\n",
       "               0.0032512951656002965,\n",
       "               0.0032388835495187783,\n",
       "               0.0032462963697735873,\n",
       "               0.0032906427777788625,\n",
       "               0.0033267825564965974,\n",
       "               0.0033178545404757794,\n",
       "               0.0033222752847955664,\n",
       "               0.003397265172068741,\n",
       "               0.0034821719261366674,\n",
       "               0.003531474257089981,\n",
       "               0.0035977004119299586,\n",
       "               0.003626241565371655,\n",
       "               0.0036695132207372866,\n",
       "               0.00364899603641601,\n",
       "               0.0036686987702366164,\n",
       "               0.003708849151786358,\n",
       "               0.003673303814861368,\n",
       "               0.0036238116793984895,\n",
       "               0.0036056629851139014,\n",
       "               0.003583207254816487,\n",
       "               0.00359188723179884,\n",
       "               0.00361333623874577,\n",
       "               0.003644319951810453,\n",
       "               0.0037054359640396415,\n",
       "               0.0036129148101695717,\n",
       "               0.003726497360891113,\n",
       "               0.0037682623148888915,\n",
       "               0.003792639986759746,\n",
       "               0.0038340149899360318,\n",
       "               0.0037789810504355796,\n",
       "               0.0037962214710679444,\n",
       "               0.0038355547795740387,\n",
       "               0.0038129966255385653,\n",
       "               0.0038067135480883757,\n",
       "               0.0037923419847458745,\n",
       "               0.003782707954419034,\n",
       "               0.0037908721788756402,\n",
       "               0.0037738312113542766,\n",
       "               0.003797717153219121,\n",
       "               0.0037442276509245405,\n",
       "               0.0037737731896771926,\n",
       "               0.0037488309305650507,\n",
       "               0.003808566117626269,\n",
       "               0.003822139084641579,\n",
       "               0.003809495886822904,\n",
       "               0.0038352647519134396,\n",
       "               0.0039023902400285187,\n",
       "               0.003935869771957859,\n",
       "               0.003902190316896139,\n",
       "               0.003896969113103653,\n",
       "               0.003957021747630466,\n",
       "               0.003955275710054682,\n",
       "               0.003931960808798326,\n",
       "               0.003932543217770327,\n",
       "               0.003906718060081802,\n",
       "               0.00394098504559613,\n",
       "               0.00393277735045807,\n",
       "               0.003988877736834529,\n",
       "               0.003958155506744322,\n",
       "               0.0039344695848194415,\n",
       "               0.0039537791229785815,\n",
       "               0.0039220053520586,\n",
       "               0.003859719348345533,\n",
       "               0.003877123376336941,\n",
       "               0.0037962009741429395,\n",
       "               0.003768246081621545,\n",
       "               0.0037522462924572783,\n",
       "               0.0038243016692233477,\n",
       "               0.003880147442979668,\n",
       "               0.003819871905258425,\n",
       "               0.0037843471185375534,\n",
       "               0.003735168226612705,\n",
       "               0.003693467773403498,\n",
       "               0.003641874379525081,\n",
       "               0.003686417769546088,\n",
       "               0.0037509342120650257,\n",
       "               0.0037528586580878962,\n",
       "               0.003728321046826251,\n",
       "               0.0037892754753682334,\n",
       "               0.003799719304664639,\n",
       "               0.00378734884931804,\n",
       "               0.003777285996388799,\n",
       "               0.003806894750066962,\n",
       "               0.003796728337113651,\n",
       "               0.003788912354785764,\n",
       "               0.003834136909658932,\n",
       "               0.0038130959149611505,\n",
       "               0.003801156479065817,\n",
       "               0.003786209924771034,\n",
       "               0.0037936799777297616,\n",
       "               0.003703374529621955,\n",
       "               0.0037375384690482853,\n",
       "               0.003668868186415799,\n",
       "               0.003675373226545674,\n",
       "               0.0036837110151533518,\n",
       "               0.003694593049744135,\n",
       "               0.0036767768850720843,\n",
       "               0.003634257118432723,\n",
       "               0.0036438871061796286,\n",
       "               0.0036064704047472584,\n",
       "               0.0036849797950754388,\n",
       "               0.0037042063206492847,\n",
       "               0.003710998517676087,\n",
       "               0.0037713432312563564,\n",
       "               0.003747440131236078,\n",
       "               0.003784882985383099,\n",
       "               0.0037075827289827085,\n",
       "               0.0037087602814227494,\n",
       "               0.0036967900190813478,\n",
       "               0.003690294279520115,\n",
       "               0.0036937229893102413,\n",
       "               0.003690602890474715,\n",
       "               0.0036802414948110887,\n",
       "               0.0036642901918070426,\n",
       "               0.00368605962856255,\n",
       "               0.0036767319559247017,\n",
       "               0.0037210251290318874,\n",
       "               0.0037901258662472524,\n",
       "               0.0037622159934566505,\n",
       "               0.0038383404709590643,\n",
       "               0.0038724894083759015,\n",
       "               0.0038112122526701743,\n",
       "               0.0038278223918315037,\n",
       "               0.003895944542170277,\n",
       "               0.003884778919310235,\n",
       "               0.003928466918729972,\n",
       "               0.00393954140488326,\n",
       "               0.0038817010397189954,\n",
       "               0.0038430649735726515,\n",
       "               0.003849412194292206,\n",
       "               0.0038907612860059064,\n",
       "               0.0038959967517550424,\n",
       "               0.0039110768290721,\n",
       "               0.003927872852923608,\n",
       "               0.0038914522395800287,\n",
       "               0.003945940220417636,\n",
       "               0.0039057032831866763,\n",
       "               0.003910406186192614,\n",
       "               0.003988102658223251,\n",
       "               0.003984618567764172,\n",
       "               0.003986044481427666,\n",
       "               0.00395917741350655,\n",
       "               0.003957474010496439,\n",
       "               0.003931450433303271,\n",
       "               0.003973207716020625,\n",
       "               0.004011143155535234,\n",
       "               0.003999460023907753,\n",
       "               0.004041787015423324,\n",
       "               0.0040532837982177735,\n",
       "               0.004075126886875292,\n",
       "               0.004089614270453897,\n",
       "               0.004061474472520215,\n",
       "               0.004034602164298895,\n",
       "               0.00403420511460664,\n",
       "               0.004040249962732044,\n",
       "               0.004120429799131041,\n",
       "               0.0041590304054160395,\n",
       "               0.00420230579235887,\n",
       "               0.0042362303357021515,\n",
       "               0.004217201348524437,\n",
       "               0.004188811046574112,\n",
       "               0.0041836085291825946,\n",
       "               0.004173327691374124,\n",
       "               0.004187269596436283,\n",
       "               0.004188644016894649,\n",
       "               0.004189635786212352,\n",
       "               0.004187323185562554,\n",
       "               0.0041926614729413305,\n",
       "               0.004158190468796227,\n",
       "               0.004168468824501729,\n",
       "               0.004137193446776417,\n",
       "               0.004150409979471629,\n",
       "               0.004208528631478503,\n",
       "               0.004189114115466508,\n",
       "               0.004147862017625842,\n",
       "               0.00418609932446768,\n",
       "               0.004217782302288855,\n",
       "               0.004192582638078439,\n",
       "               0.004201139446399672,\n",
       "               0.004230049625121487,\n",
       "               0.00421019249795006,\n",
       "               0.004242875438996379,\n",
       "               0.004232073613714196,\n",
       "               0.004208481463069314,\n",
       "               0.004239040587628138,\n",
       "               0.00430272502670733,\n",
       "               0.004302761559586227,\n",
       "               0.00428690071758892,\n",
       "               0.004235292668298515,\n",
       "               0.004237196898424322,\n",
       "               0.004176887150353554,\n",
       "               0.004223352063153853,\n",
       "               0.004239526942556894,\n",
       "               0.0042477908530530305,\n",
       "               0.004243518334941969,\n",
       "               0.0042534217236691275,\n",
       "               0.004292746195242443,\n",
       "               0.00432341603565008,\n",
       "               0.004392085197622624,\n",
       "               0.004377054890927773,\n",
       "               0.0044156532923569644,\n",
       "               0.004432065281142613,\n",
       "               0.004428703397820262,\n",
       "               0.004396129491302867,\n",
       "               0.004468971584523084,\n",
       "               0.004464227523687574,\n",
       "               0.00447270183970921,\n",
       "               0.004500579148994123,\n",
       "               0.004483580029747039,\n",
       "               0.004458515629469242,\n",
       "               0.0044223841539074455,\n",
       "               0.004451610500947875,\n",
       "               0.004454993567184612,\n",
       "               0.004407025148743809,\n",
       "               0.004333683571594194,\n",
       "               0.004344558322131898,\n",
       "               0.004309596194152932,\n",
       "               0.004291329945423461,\n",
       "               0.004275300627419827,\n",
       "               0.004224469019809551,\n",
       "               0.004217349778961536,\n",
       "               0.004173944946047458,\n",
       "               0.004160202788513884,\n",
       "               0.004152762912661416,\n",
       "               0.0041448144740826014,\n",
       "               0.004144558315126558,\n",
       "               0.0041782012300284445,\n",
       "               0.004220592327257993,\n",
       "               0.004228598949515141,\n",
       "               0.004274276560429047,\n",
       "               0.004313728867485956,\n",
       "               0.004322979621865258,\n",
       "               0.004341305917284692,\n",
       "               0.00437310081387441,\n",
       "               0.004348150321217555,\n",
       "               0.004284234005729084,\n",
       "               0.004290804168483434,\n",
       "               0.004267640335906946,\n",
       "               0.004270109340141735,\n",
       "               0.004274580649706373,\n",
       "               0.004205458909687326,\n",
       "               0.004208749050616173,\n",
       "               0.004226201194700546,\n",
       "               0.0042459134081618095,\n",
       "               0.004282497374208994,\n",
       "               0.004287694034545183,\n",
       "               0.004323948530349589,\n",
       "               0.004310986077294831,\n",
       "               0.0042943477993573785,\n",
       "               0.004266249226071851,\n",
       "               0.0042968374536189735,\n",
       "               0.004282386923607722,\n",
       "               0.004224332303344112,\n",
       "               0.004199316576016853,\n",
       "               0.004146059131390337,\n",
       "               0.004166043120168168,\n",
       "               0.0041645042197521005,\n",
       "               0.004178995891934626,\n",
       "               0.004145129996941587,\n",
       "               0.004166224743913969,\n",
       "               0.004177380043924659,\n",
       "               0.004152242299963795,\n",
       "               0.004112340622420491,\n",
       "               0.004161795840757017,\n",
       "               0.0041004653524933845,\n",
       "               0.004127135343666114,\n",
       "               0.004101356148190981,\n",
       "               0.0040946868895620275,\n",
       "               0.004120402038263121,\n",
       "               0.00407390335557344,\n",
       "               0.004054840026867221,\n",
       "               0.004002166104902776,\n",
       "               0.004008019408960024,\n",
       "               0.003941487453903853,\n",
       "               0.0038952024330388205,\n",
       "               0.003851484067503908,\n",
       "               0.0038870078782755166,\n",
       "               0.003879571452554448,\n",
       "               0.003899661833179927,\n",
       "               0.003935105959440772,\n",
       "               0.003908908635883807,\n",
       "               0.003910619060718761,\n",
       "               0.0039038502922720993,\n",
       "               0.003942555980036956,\n",
       "               0.003940063512567775,\n",
       "               0.003935687433547335,\n",
       "               0.003929853191148802,\n",
       "               0.003917449075384285,\n",
       "               0.003990787698958534,\n",
       "               0.003928054147615658,\n",
       "               0.003916142012758958,\n",
       "               0.003944718652590186,\n",
       "               0.003994635012973849,\n",
       "               0.0039804066519978235,\n",
       "               0.004014853741496161,\n",
       "               0.003993148317762157,\n",
       "               0.0039709122053423656,\n",
       "               0.003975481852053131,\n",
       "               0.003983813429625681,\n",
       "               0.003988168347721314,\n",
       "               0.00398957484417501,\n",
       "               0.003963142836960707,\n",
       "               0.003956706549808552,\n",
       "               0.003911646403158755,\n",
       "               0.003944631517357404,\n",
       "               0.003951069169714274,\n",
       "               0.003927719204719513,\n",
       "               0.0039060365358853416,\n",
       "               0.0038937442882881978,\n",
       "               0.0038340985141122152,\n",
       "               0.0038489756918139158,\n",
       "               0.003828288632462182,\n",
       "               0.0038643348627559414,\n",
       "               0.0038689251160684518,\n",
       "               0.003928988655264679,\n",
       "               0.0038966411501065367,\n",
       "               0.003926259627879173,\n",
       "               0.003914972610413353,\n",
       "               0.003926745550875566,\n",
       "               0.003934658364178735,\n",
       "               0.003919637759600354,\n",
       "               0.0039030920002933256,\n",
       "               0.003897723974345898,\n",
       "               0.0038956653911572537,\n",
       "               0.003901911535620693,\n",
       "               0.003880708079404827,\n",
       "               0.0038639390034873244,\n",
       "               0.0038409740493143755,\n",
       "               0.0038741677715611552,\n",
       "               0.003895672827697132,\n",
       "               0.003914617984480901,\n",
       "               0.003932111088710197,\n",
       "               0.0039643206436035805,\n",
       "               0.003944975499705558,\n",
       "               0.003952860581006728,\n",
       "               0.003930734283244248,\n",
       "               0.0038675252514178524,\n",
       "               0.003860351095851247,\n",
       "               0.003869795992005258,\n",
       "               0.003885915283110507,\n",
       "               0.003906954573614083,\n",
       "               0.0038736228384654695,\n",
       "               0.0038406984218696573,\n",
       "               0.0038381505585703803,\n",
       "               0.0038506935418192697,\n",
       "               0.0038069091157607116,\n",
       "               0.003798492254492711,\n",
       "               0.0037732268853758735,\n",
       "               0.003731789046501431,\n",
       "               0.0037055579435729753,\n",
       "               0.0036857339242025414,\n",
       "               0.003709025705200394,\n",
       "               0.003730887816524616,\n",
       "               0.003768526475740583,\n",
       "               0.0038169890354374588,\n",
       "               0.003820912769555111,\n",
       "               0.0037920750292433063,\n",
       "               0.003861432308029447,\n",
       "               0.003873520145610416,\n",
       "               0.0038587592077976283,\n",
       "               0.003888616414552127,\n",
       "               0.003876967362386803,\n",
       "               0.0038253335042691657,\n",
       "               0.003860586156096791,\n",
       "               0.0038328254864715304,\n",
       "               0.003821172089528389,\n",
       "               0.003794280136669095,\n",
       "               0.0037710957914538616,\n",
       "               0.003716384494390911,\n",
       "               0.003708927493488035,\n",
       "               0.0037202080347755275,\n",
       "               0.0037396098512348427,\n",
       "               0.0037343931148161517,\n",
       "               0.0037651412520886404,\n",
       "               0.0038095482206374847,\n",
       "               0.0037954886587461168,\n",
       "               0.0037624207239940113,\n",
       "               0.003750418207237158,\n",
       "               0.003732026881585658,\n",
       "               0.0037084205449909174,\n",
       "               0.0036520312701623175,\n",
       "               0.003624750910978562,\n",
       "               0.0036714505531581032,\n",
       "               0.0037196300763506374,\n",
       "               0.003703061383989896,\n",
       "               0.0037069443596011564,\n",
       "               0.0037022170980564872,\n",
       "               0.0036717521938321286,\n",
       "               0.0036844486887093455,\n",
       "               0.0036738203248049637,\n",
       "               0.0036401282107928834,\n",
       "               0.0036617209647921926,\n",
       "               0.0036474752445269415,\n",
       "               0.0036907668386081697,\n",
       "               0.003696520980009185,\n",
       "               0.003686480595940409,\n",
       "               0.003703758345798905,\n",
       "               0.0036829489431001996,\n",
       "               0.003712704560367933,\n",
       "               0.0036552587572014337,\n",
       "               0.0036885516596939943,\n",
       "               0.0037230002085319553,\n",
       "               0.0036810440163649954,\n",
       "               0.003690517471396076,\n",
       "               0.003677735794638791,\n",
       "               0.003650325683324937,\n",
       "               0.0036971801373453642,\n",
       "               0.0036864017599196647,\n",
       "               0.003672803119612794,\n",
       "               0.003661734835178012,\n",
       "               0.0036491690831018746,\n",
       "               0.003658067274847982,\n",
       "               0.003644280700550959,\n",
       "               0.003661662865164467,\n",
       "               0.0036495767822850504,\n",
       "               0.0036061467532983353,\n",
       "               0.0035700096501189538,\n",
       "               0.0035126391313515803,\n",
       "               0.0034871064039138527,\n",
       "               0.0035221084855691968,\n",
       "               0.003519713210434833,\n",
       "               0.003502296926329774,\n",
       "               0.0034858210425097865,\n",
       "               0.0034647270601392242,\n",
       "               0.003455897308079204,\n",
       "               0.003374235505932752,\n",
       "               0.0033578074902662143,\n",
       "               0.0033532806173462914,\n",
       "               0.003342349298427059,\n",
       "               0.0034047970395275494,\n",
       "               0.003409501646866589,\n",
       "               0.0034227186220461446,\n",
       "               0.0033762734408680074,\n",
       "               0.0033502520719518986,\n",
       "               0.0032971872674218746,\n",
       "               0.0033164376786933942,\n",
       "               0.0032816347660298817,\n",
       "               0.0032875064561178145,\n",
       "               0.00327663719612657,\n",
       "               0.0032503536876539035,\n",
       "               0.003239089684458231,\n",
       "               0.0032575515589531624,\n",
       "               0.003207468609144681,\n",
       "               0.0032278075841269144,\n",
       "               0.003246342235140309,\n",
       "               0.0032858658460058793,\n",
       "               0.003250450910171338,\n",
       "               0.0032248023650828165,\n",
       "               0.0031910656831379714,\n",
       "               0.003224335688567095,\n",
       "               0.0031869241228455513,\n",
       "               0.003231880122930039,\n",
       "               0.0032412280516457095,\n",
       "               0.0032356963378558047,\n",
       "               0.003217790194232576,\n",
       "               0.0032541564268403294,\n",
       "               0.0032405422030609816,\n",
       "               0.0032408797760405676,\n",
       "               0.0032218945075166987,\n",
       "               0.003276544263425539,\n",
       "               0.003244580244425482,\n",
       "               0.0032346675789726932,\n",
       "               0.003179200334639517,\n",
       "               0.003205012621600865,\n",
       "               0.003242385472362981,\n",
       "               0.0032315127503936914,\n",
       "               0.003182361076406428,\n",
       "               0.0031357357098183974,\n",
       "               0.0030723509787115594,\n",
       "               0.0030797498687528267,\n",
       "               0.003055565685583647,\n",
       "               0.0030619106006884262,\n",
       "               0.003018091403225982,\n",
       "               0.0029997321219975286,\n",
       "               0.0030011240457821432,\n",
       "               0.002979197963282087,\n",
       "               0.0029741927461433113,\n",
       "               0.002939572927805893,\n",
       "               0.002991604540168753,\n",
       "               0.003023683829515534,\n",
       "               0.00299895767240165,\n",
       "               0.002997521962987893,\n",
       "               0.003007512413219514,\n",
       "               0.002987770200750021,\n",
       "               0.0029438705136170997,\n",
       "               0.0029401160755600673,\n",
       "               0.002934079390647179,\n",
       "               0.0029354424219972157,\n",
       "               0.0028931080666354794,\n",
       "               0.0028751679243170843,\n",
       "               0.002876472529047049,\n",
       "               0.0028782711017466506,\n",
       "               0.0029035532347320074,\n",
       "               0.0028884584402338216,\n",
       "               0.0028985943783175414,\n",
       "               0.0029070714122835096,\n",
       "               0.0029242608989638224,\n",
       "               0.0028756802521187302,\n",
       "               0.0029079226343689396,\n",
       "               0.0029312207869449337,\n",
       "               0.0029176779160461357,\n",
       "               0.0029343891703452435,\n",
       "               0.002940518261452063,\n",
       "               0.0029145888474634875,\n",
       "               0.002938927725081371,\n",
       "               0.002954458995487857,\n",
       "               0.002948974931046879,\n",
       "               0.002934534813080139,\n",
       "               0.0029310993492075122,\n",
       "               0.002965187453022648,\n",
       "               0.0029533514815547703,\n",
       "               0.002946582002175707,\n",
       "               0.002985370027861513,\n",
       "               0.0029923324115374026,\n",
       "               0.003000165136398039,\n",
       "               0.0030357824413807973,\n",
       "               0.0030300500251192485,\n",
       "               0.0030274333990382043,\n",
       "               0.0030382402928226947,\n",
       "               0.0030234439096394937,\n",
       "               0.0029767458594589023,\n",
       "               0.00301620266689938,\n",
       "               0.0030140761721861604,\n",
       "               0.003001397522998143,\n",
       "               0.0030031055004244743,\n",
       "               0.0030158553316512984,\n",
       "               0.003015950687585904,\n",
       "               0.0029810389462063794,\n",
       "               0.0030131175531812548,\n",
       "               0.0029783537544593535,\n",
       "               0.00298056186305934,\n",
       "               0.0029485875571941076,\n",
       "               0.002944182122540064,\n",
       "               0.0029252849322576662,\n",
       "               0.0029392329328964103,\n",
       "               0.0029596250109667536,\n",
       "               0.0029479886103330444,\n",
       "               0.0029085892608971004,\n",
       "               0.002911289031660101,\n",
       "               0.0029326439261370247,\n",
       "               0.002932117995166216,\n",
       "               0.0029476165927430366,\n",
       "               0.0029749449761494293,\n",
       "               0.0029740649403158033,\n",
       "               0.003006209340297642,\n",
       "               0.0029832843955418112,\n",
       "               0.002976753793256485,\n",
       "               0.0029656815958398453,\n",
       "               0.002947543229116713,\n",
       "               0.0029439536677957944,\n",
       "               0.0029268804854526457,\n",
       "               0.002953099660938345,\n",
       "               0.002954616180894244,\n",
       "               0.00293716973930764,\n",
       "               0.002904936531893267,\n",
       "               0.0029358565055152084,\n",
       "               0.0029336495747141456,\n",
       "               0.002994897014966282,\n",
       "               0.00302149934893047,\n",
       "               0.0029846662967255534,\n",
       "               0.0029826806073065637,\n",
       "               0.002983837132941244,\n",
       "               0.0029682798375133723,\n",
       "               0.0029579158584558786,\n",
       "               0.0029692389357485315,\n",
       "               0.002995635676813905,\n",
       "               0.002962892239612294,\n",
       "               0.002914472459263262,\n",
       "               0.002921463540775958,\n",
       "               0.0029331670927858784,\n",
       "               0.0028935549752550286,\n",
       "               0.0028972727256392342,\n",
       "               0.0029282588486266043,\n",
       "               0.0029260336827140083,\n",
       "               0.002950202964492836,\n",
       "               0.002968879741664616,\n",
       "               0.0029880901393503946,\n",
       "               0.003012717423292608,\n",
       "               0.003002852995150441,\n",
       "               0.0030087877331279236,\n",
       "               0.0029804880921111615,\n",
       "               0.0029806243574136463,\n",
       "               0.0029494011966542046,\n",
       "               0.002979574698278127,\n",
       "               0.0029891883366837575,\n",
       "               0.002967391158834495,\n",
       "               0.0029469270999766227,\n",
       "               0.0028990176558579893,\n",
       "               0.002896080991236849,\n",
       "               0.0028786423464272288,\n",
       "               0.0028700518758624327,\n",
       "               0.0028537617244070576,\n",
       "               0.0028848368817952926,\n",
       "               0.0029121956418433517,\n",
       "               0.0029039848587374805,\n",
       "               0.002908023712366702,\n",
       "               0.0029043705966394114,\n",
       "               0.002913642802305135,\n",
       "               0.002906865899572969,\n",
       "               0.0029002952255395877,\n",
       "               0.002921625835735708,\n",
       "               0.0028870189316332617,\n",
       "               0.0028774633502176724,\n",
       "               0.002864366807722107,\n",
       "               0.0028952548804982207,\n",
       "               0.0029161609616647605,\n",
       "               0.0028831517602438063,\n",
       "               0.00286832047644518,\n",
       "               0.002834203651128319,\n",
       "               0.002847171780874876,\n",
       "               0.0028607521933390607,\n",
       "               0.0028390847436708102,\n",
       "               0.0028656568609109487,\n",
       "               0.002896585093632665,\n",
       "               0.002878137292586999,\n",
       "               0.002894903350579607,\n",
       "               0.0029083925594858666,\n",
       "               0.0028658829146227705,\n",
       "               0.002834072858598176,\n",
       "               0.0028336359080961184,\n",
       "               0.0028472465747700296,\n",
       "               0.0028635473923456886,\n",
       "               0.002867469242037837,\n",
       "               0.0029047363989570373,\n",
       "               0.0028991128989806336,\n",
       "               0.0028473691018727765,\n",
       "               0.0028347706056505158,\n",
       "               0.0028349675372001857,\n",
       "               0.002804596620027303,\n",
       "               0.002814423434126768,\n",
       "               0.0028347174166333134,\n",
       "               0.0028006512156613845,\n",
       "               0.0027986523984205786,\n",
       "               0.0027994356368756987,\n",
       "               0.0027855095157223197,\n",
       "               0.002760787720390382,\n",
       "               0.002771420797879803,\n",
       "               0.0027449153738974765,\n",
       "               0.002733448866813159,\n",
       "               0.0027523868267393635,\n",
       "               0.0027723039177461675,\n",
       "               0.0027685448439672116,\n",
       "               0.0027516748864037767,\n",
       "               0.002771962499318855,\n",
       "               0.0027752812281611667,\n",
       "               0.0027914649330525207,\n",
       "               0.0028120115154945356,\n",
       "               0.0027777182407229604,\n",
       "               0.0027932285619716984,\n",
       "               0.0027910921500665003,\n",
       "               0.002808457714099492,\n",
       "               0.0028023277581421405,\n",
       "               0.0027739774075197826,\n",
       "               0.0027686640397436924,\n",
       "               0.002754237200412863,\n",
       "               0.0027287098813475307,\n",
       "               0.0027647812399121396,\n",
       "               0.0027548828927306057,\n",
       "               0.0027814257574978597,\n",
       "               0.002741218475271223,\n",
       "               0.002734834874927565,\n",
       "               0.002741203027469898,\n",
       "               0.0027296389857560423,\n",
       "               0.002718286088992891,\n",
       "               0.0027518060852663334,\n",
       "               0.0027895123663906106,\n",
       "               0.0028082261148223765,\n",
       "               0.002757634774603608,\n",
       "               0.002744007758741887,\n",
       "               0.002763606225847816,\n",
       "               0.002761157374796218,\n",
       "               0.0027354780115887685,\n",
       "               0.0027635332409789706,\n",
       "               0.002714006065632579,\n",
       "               0.0027129362021705242,\n",
       "               0.002738671096832373,\n",
       "               0.002744381579633689,\n",
       "               0.0027454158462414217,\n",
       "               0.0027616438429510877,\n",
       "               0.002769632400012055,\n",
       "               0.0027355538123582284,\n",
       "               0.0027376014953281952,\n",
       "               0.002741446013235268,\n",
       "               0.0027262487092826943,\n",
       "               0.0027019647091514423,\n",
       "               0.0027309766271099672,\n",
       "               0.0027240343457153758,\n",
       "               0.002751051955615445,\n",
       "               0.0027829767371596037,\n",
       "               0.0027834578776868213,\n",
       "               0.002772125493298609,\n",
       "               0.0027713427830044074,\n",
       "               0.0027591308705254645,\n",
       "               0.002808065949415925,\n",
       "               0.002824348530699588,\n",
       "               0.0028152576608957342,\n",
       "               0.0028324964079205588,\n",
       "               0.0028556112140711294,\n",
       "               0.002837140623383548,\n",
       "               0.002838434205830248,\n",
       "               0.0028407173272824472,\n",
       "               0.0028249023308212235,\n",
       "               0.0027896541106460513,\n",
       "               0.002790882993183099,\n",
       "               0.0027895400693392666,\n",
       "               0.0027662248756388534,\n",
       "               0.0027798732786367356,\n",
       "               0.0027776789025223047,\n",
       "               0.0027438817809732445,\n",
       "               0.002724547991613486,\n",
       "               0.0027317848755002636,\n",
       "               0.0027330444190495212,\n",
       "               0.002750881190904281,\n",
       "               0.002771139190848538,\n",
       "               0.002794679365811828,\n",
       "               0.002751652324686472,\n",
       "               0.0027416389299001354,\n",
       "               0.002734398147566746,\n",
       "               0.002720000435149358,\n",
       "               0.0027293968019317487,\n",
       "               0.0027457781095872346,\n",
       "               0.0027314454661010105,\n",
       "               0.002720672812839854,\n",
       "               0.002683167536889069,\n",
       "               0.0026749842598386094,\n",
       "               0.002674047513199687,\n",
       "               0.0026489087314486653,\n",
       "               0.002636627948828102,\n",
       "               0.0025814960413163674,\n",
       "               0.002551457755645812,\n",
       "               0.0025789670753579353,\n",
       "               0.0025929514178111754,\n",
       "               0.0025934384347647524,\n",
       "               0.002585229626198428,\n",
       "               0.0025405795581858845,\n",
       "               0.0025154407511348473,\n",
       "               0.0024935503888938006,\n",
       "               0.002484876498487282,\n",
       "               0.002471282517179007,\n",
       "               0.002476329352530215,\n",
       "               0.0024693791897377223,\n",
       "               0.0024476209480708837,\n",
       "               0.002425184767177762,\n",
       "               0.0024081164495409167,\n",
       "               0.0024019950213645578,\n",
       "               0.002430814412785098,\n",
       "               0.0024235786353108135,\n",
       "               0.002415383604119538,\n",
       "               0.00238057399808372,\n",
       "               0.0023627161639298844,\n",
       "               0.00233522388471965,\n",
       "               0.0023267355498105217,\n",
       "               0.00233773918359056,\n",
       "               0.0023465017404967056,\n",
       "               0.0023506878124629955,\n",
       "               0.002339184883109294,\n",
       "               0.0023396199589194267,\n",
       "               0.002329682501807159,\n",
       "               0.002334920593382528,\n",
       "               0.0023192889884456063,\n",
       "               0.0023025601932322743,\n",
       "               0.0023054933771457834,\n",
       "               0.0022903962494171567,\n",
       "               0.0022827047881644642,\n",
       "               0.0022882637783645243,\n",
       "               0.0022651890021278317,\n",
       "               0.0022772094005666147,\n",
       "               0.002279381309933048,\n",
       "               0.0022835590617438432,\n",
       "               0.002280104887118821,\n",
       "               0.0022983651195159827,\n",
       "               0.002296445638811287,\n",
       "               0.0022883397287844233,\n",
       "               0.0022658671838657295,\n",
       "               0.002231624577183311,\n",
       "               0.002174239494742862,\n",
       "               0.002160012322177287,\n",
       "               0.0021616070331540492,\n",
       "               0.0021379760208453456,\n",
       "               0.002100093484247141,\n",
       "               0.0021309907693089006,\n",
       "               0.0021126812351029904,\n",
       "               0.0020923343756334856,\n",
       "               0.002078020633804963,\n",
       "               0.00209971009722225,\n",
       "               0.002099058958847488,\n",
       "               ...]})}"
      ]
     },
     "execution_count": 204,
     "metadata": {},
     "output_type": "execute_result"
    }
   ],
   "source": [
    "model_cat_all_features.grid_search(params_cat, train_dataset_all_features, plot=True)"
   ]
  },
  {
   "cell_type": "code",
   "execution_count": 154,
   "metadata": {},
   "outputs": [],
   "source": [
    "best_params_cat = model_cat_all_features.get_all_params"
   ]
  },
  {
   "cell_type": "code",
   "execution_count": 153,
   "metadata": {},
   "outputs": [
    {
     "name": "stdout",
     "output_type": "stream",
     "text": [
      "RMSLE: 0.254\n"
     ]
    }
   ],
   "source": [
    "pred_reg_cat_all_features = np.exp(model_cat_all_features.predict(test_dataset_all_features))\n",
    "rmsle_cat = np.sqrt(mean_squared_log_error(y_test, pred_reg_cat_all_features))\n",
    "\n",
    "print('RMSLE: {:.3f}'.format(rmsle))"
   ]
  },
  {
   "cell_type": "markdown",
   "metadata": {},
   "source": [
    "#### Обучим на всех данных и сделаем subbmit"
   ]
  },
  {
   "cell_type": "code",
   "execution_count": 155,
   "metadata": {},
   "outputs": [],
   "source": [
    "train_dataset_all_features_cat = cb.Pool(df_train.drop(columns=['price_doc']), np.log1p(y))\n",
    "test_dataset_all_features_cat = cb.Pool(df_test.drop(columns=['price_doc']))"
   ]
  },
  {
   "cell_type": "code",
   "execution_count": 190,
   "metadata": {},
   "outputs": [],
   "source": [
    "best_cat_params = {\n",
    "    'iterations': 1000,\n",
    "    'learning_rate': 0.03,\n",
    "    'max_depth': 6,\n",
    "    'loss_function': 'RMSE',\n",
    "    'silent': True\n",
    "}"
   ]
  },
  {
   "cell_type": "code",
   "execution_count": 191,
   "metadata": {},
   "outputs": [],
   "source": [
    "best_cat_model = CatBoostRegressor(**best_cat_params)"
   ]
  },
  {
   "cell_type": "code",
   "execution_count": 192,
   "metadata": {},
   "outputs": [
    {
     "data": {
      "text/plain": [
       "<catboost.core.CatBoostRegressor at 0x226b487aeb0>"
      ]
     },
     "execution_count": 192,
     "metadata": {},
     "output_type": "execute_result"
    }
   ],
   "source": [
    "best_cat_model.fit(train_dataset_all_features_cat)"
   ]
  },
  {
   "cell_type": "code",
   "execution_count": 193,
   "metadata": {},
   "outputs": [],
   "source": [
    "pred_reg_cat_all_features_for_subbmit = np.exp(best_cat_model.predict(test_dataset_all_features_cat))"
   ]
  },
  {
   "cell_type": "code",
   "execution_count": 194,
   "metadata": {},
   "outputs": [],
   "source": [
    "submission = pd.DataFrame({'id': id_test, 'price_doc': pred_reg_cat_all_features_for_subbmit})\n",
    "submission.to_csv('CatB_all_features.csv', index=False)"
   ]
  },
  {
   "cell_type": "markdown",
   "metadata": {},
   "source": [
    "##### Получили score на Kaggle"
   ]
  },
  {
   "cell_type": "code",
   "execution_count": 206,
   "metadata": {},
   "outputs": [
    {
     "name": "stdout",
     "output_type": "stream",
     "text": [
      "Public score: 0.32349, Private Score: 0.32633, Top 59%\n"
     ]
    }
   ],
   "source": [
    "print('Public score: 0.32349, Private Score: 0.32633, Top 59%')"
   ]
  },
  {
   "cell_type": "markdown",
   "metadata": {},
   "source": [
    "### Регрессия. Обучение на отборных признаках."
   ]
  },
  {
   "cell_type": "code",
   "execution_count": 99,
   "metadata": {},
   "outputs": [],
   "source": [
    "X_train_sf, X_test_sf, y_train_sf, y_test_sf = train_test_split(df_train_selected_features, y, \n",
    "                                                    test_size=0.2, shuffle=False)"
   ]
  },
  {
   "cell_type": "code",
   "execution_count": 100,
   "metadata": {},
   "outputs": [],
   "source": [
    "train_matrix_selected_features = xgb.DMatrix(X_train_sf, np.log1p(y_train_sf), feature_names=feature_forms)\n",
    "test_matrix_selected_features = xgb.DMatrix(X_test_sf, feature_names=feature_forms)"
   ]
  },
  {
   "cell_type": "code",
   "execution_count": 106,
   "metadata": {},
   "outputs": [
    {
     "name": "stdout",
     "output_type": "stream",
     "text": [
      "[22:57:12] WARNING: C:/Users/Administrator/workspace/xgboost-win64_release_1.6.0/src/objective/regression_obj.cu:203: reg:linear is now deprecated in favor of reg:squarederror.\n",
      "[22:57:12] WARNING: C:/Users/Administrator/workspace/xgboost-win64_release_1.6.0/src/learner.cc:627: \n",
      "Parameters: { \"n_estimators\", \"silent\" } might not be used.\n",
      "\n",
      "  This could be a false alarm, with some parameters getting used by language bindings but\n",
      "  then being mistakenly passed down to XGBoost core, or some parameter actually being used\n",
      "  but getting flagged wrongly here. Please open an issue if you find any such cases.\n",
      "\n",
      "\n"
     ]
    }
   ],
   "source": [
    "model_reg_selected_features = xgb.train(xgb_params, train_matrix_selected_features, num_boost_round=num_boost_rounds)\n",
    "pred_reg_selected_features = np.exp(model_reg_selected_features.predict(test_matrix_selected_features))"
   ]
  },
  {
   "cell_type": "code",
   "execution_count": 107,
   "metadata": {},
   "outputs": [
    {
     "name": "stdout",
     "output_type": "stream",
     "text": [
      "RMSLE с отобранными признаками: 0.267\n"
     ]
    }
   ],
   "source": [
    "rmsle_sf = np.sqrt(mean_squared_log_error(y_test_sf, pred_reg_selected_features))\n",
    "print('RMSLE с отобранными признаками: {:.3f}'.format(rmsle_sf))"
   ]
  },
  {
   "cell_type": "markdown",
   "metadata": {},
   "source": [
    "##### Опять обучим на всех данных и сделаем саббмит на Kaggle"
   ]
  },
  {
   "cell_type": "code",
   "execution_count": 108,
   "metadata": {},
   "outputs": [],
   "source": [
    "df_matrix_selected_features = xgb.DMatrix(df_train_selected_features, np.log1p(y), feature_names=feature_forms)\n",
    "test_df_matrix_selected_features = xgb.DMatrix(df_test_selected_features, feature_names=feature_forms)"
   ]
  },
  {
   "cell_type": "code",
   "execution_count": 109,
   "metadata": {},
   "outputs": [
    {
     "name": "stdout",
     "output_type": "stream",
     "text": [
      "[23:01:02] WARNING: C:/Users/Administrator/workspace/xgboost-win64_release_1.6.0/src/objective/regression_obj.cu:203: reg:linear is now deprecated in favor of reg:squarederror.\n",
      "[23:01:02] WARNING: C:/Users/Administrator/workspace/xgboost-win64_release_1.6.0/src/learner.cc:627: \n",
      "Parameters: { \"n_estimators\", \"silent\" } might not be used.\n",
      "\n",
      "  This could be a false alarm, with some parameters getting used by language bindings but\n",
      "  then being mistakenly passed down to XGBoost core, or some parameter actually being used\n",
      "  but getting flagged wrongly here. Please open an issue if you find any such cases.\n",
      "\n",
      "\n"
     ]
    }
   ],
   "source": [
    "model_for_subbmit_selected_features = xgb.train(xgb_params, df_matrix_selected_features, num_boost_round=num_boost_rounds)\n",
    "pred_for_subbmit_selected_features = np.exp(model_for_subbmit_selected_features.predict(test_df_matrix_selected_features))"
   ]
  },
  {
   "cell_type": "code",
   "execution_count": 110,
   "metadata": {},
   "outputs": [],
   "source": [
    "submission_sf = pd.DataFrame({'id': id_test, 'price_doc': pred_for_subbmit_selected_features})\n",
    "submission_sf.to_csv('XGB_selected_features.csv', index=False)"
   ]
  },
  {
   "cell_type": "markdown",
   "metadata": {},
   "source": [
    "##### Получили score на Kaggle"
   ]
  },
  {
   "cell_type": "code",
   "execution_count": 112,
   "metadata": {},
   "outputs": [
    {
     "name": "stdout",
     "output_type": "stream",
     "text": [
      "Public score: 0.34180, Private Score: 0.34673, Top 78%\n"
     ]
    }
   ],
   "source": [
    "print('Public score: 0.34180, Private Score: 0.34673, Top 78%')"
   ]
  },
  {
   "cell_type": "code",
   "execution_count": 112,
   "metadata": {},
   "outputs": [],
   "source": [
    "# Выгрузка модели\n",
    "# pickle.dump(model_reg, open('model.pkl', \"wb\"))"
   ]
  },
  {
   "cell_type": "markdown",
   "metadata": {},
   "source": [
    "## Классификация районов"
   ]
  },
  {
   "cell_type": "markdown",
   "metadata": {},
   "source": [
    "##### Датасет для классификации"
   ]
  },
  {
   "cell_type": "code",
   "execution_count": 26,
   "metadata": {},
   "outputs": [],
   "source": [
    "y_classifier = df_all_classifier['sub_area']\n",
    "X_classifier = df_all_classifier[feature_forms_classifier]"
   ]
  },
  {
   "cell_type": "code",
   "execution_count": 27,
   "metadata": {},
   "outputs": [],
   "source": [
    "X_classifier.loc[num_train:, 'price_doc'] = pred_reg"
   ]
  },
  {
   "cell_type": "code",
   "execution_count": 29,
   "metadata": {},
   "outputs": [
    {
     "data": {
      "text/plain": [
       "((36489, 18), (36489,))"
      ]
     },
     "execution_count": 29,
     "metadata": {},
     "output_type": "execute_result"
    }
   ],
   "source": [
    "X_classifier.shape, y_classifier.shape"
   ]
  },
  {
   "cell_type": "code",
   "execution_count": 30,
   "metadata": {},
   "outputs": [],
   "source": [
    "xgb_params_cl = {\n",
    "    'n_estimators' : 300,\n",
    "    'learning_rate': 0.05,\n",
    "    'max_depth': 5,\n",
    "    'n_jobs' : -1,\n",
    "    'silent': 1\n",
    "}"
   ]
  },
  {
   "cell_type": "code",
   "execution_count": 33,
   "metadata": {},
   "outputs": [],
   "source": [
    "classifier_model = xgb.XGBClassifier(**xgb_params_cl)"
   ]
  },
  {
   "cell_type": "code",
   "execution_count": 38,
   "metadata": {},
   "outputs": [],
   "source": [
    "X_train_cl, X_test_cl, y_train_cl, y_test_cl = train_test_split(X_classifier, y_classifier, test_size=0.2)"
   ]
  },
  {
   "cell_type": "code",
   "execution_count": 143,
   "metadata": {},
   "outputs": [
    {
     "name": "stdout",
     "output_type": "stream",
     "text": [
      "[00:00:29] WARNING: C:/Users/Administrator/workspace/xgboost-win64_release_1.6.0/src/learner.cc:627: \n",
      "Parameters: { \"silent\" } might not be used.\n",
      "\n",
      "  This could be a false alarm, with some parameters getting used by language bindings but\n",
      "  then being mistakenly passed down to XGBoost core, or some parameter actually being used\n",
      "  but getting flagged wrongly here. Please open an issue if you find any such cases.\n",
      "\n",
      "\n"
     ]
    },
    {
     "data": {
      "text/plain": [
       "XGBClassifier(base_score=0.5, booster='gbtree', callbacks=None,\n",
       "              colsample_bylevel=1, colsample_bynode=1, colsample_bytree=1,\n",
       "              early_stopping_rounds=None, enable_categorical=False,\n",
       "              eval_metric=None, gamma=0, gpu_id=-1, grow_policy='depthwise',\n",
       "              importance_type=None, interaction_constraints='',\n",
       "              learning_rate=0.05, max_bin=256, max_cat_to_onehot=4,\n",
       "              max_delta_step=0, max_depth=5, max_leaves=0, min_child_weight=1,\n",
       "              missing=nan, monotone_constraints='()', n_estimators=300,\n",
       "              n_jobs=-1, num_parallel_tree=1, objective='multi:softprob',\n",
       "              predictor='auto', random_state=0, reg_alpha=0, ...)"
      ]
     },
     "execution_count": 143,
     "metadata": {},
     "output_type": "execute_result"
    }
   ],
   "source": [
    "classifier_model.fit(X_train_cl, y_train_cl.values)"
   ]
  },
  {
   "cell_type": "code",
   "execution_count": 45,
   "metadata": {},
   "outputs": [],
   "source": [
    "# Датасет для классификации районов\n",
    "# X_classifier.to_csv('data/classification_data.csv', index=False)"
   ]
  },
  {
   "cell_type": "code",
   "execution_count": 34,
   "metadata": {},
   "outputs": [
    {
     "name": "stdout",
     "output_type": "stream",
     "text": [
      "[20:46:35] WARNING: C:/Users/Administrator/workspace/xgboost-win64_release_1.6.0/src/learner.cc:627: \n",
      "Parameters: { \"silent\" } might not be used.\n",
      "\n",
      "  This could be a false alarm, with some parameters getting used by language bindings but\n",
      "  then being mistakenly passed down to XGBoost core, or some parameter actually being used\n",
      "  but getting flagged wrongly here. Please open an issue if you find any such cases.\n",
      "\n",
      "\n"
     ]
    },
    {
     "data": {
      "text/plain": [
       "XGBClassifier(base_score=0.5, booster='gbtree', callbacks=None,\n",
       "              colsample_bylevel=1, colsample_bynode=1, colsample_bytree=1,\n",
       "              early_stopping_rounds=None, enable_categorical=False,\n",
       "              eval_metric=None, gamma=0, gpu_id=-1, grow_policy='depthwise',\n",
       "              importance_type=None, interaction_constraints='',\n",
       "              learning_rate=0.05, max_bin=256, max_cat_to_onehot=4,\n",
       "              max_delta_step=0, max_depth=5, max_leaves=0, min_child_weight=1,\n",
       "              missing=nan, monotone_constraints='()', n_estimators=300,\n",
       "              n_jobs=-1, num_parallel_tree=1, objective='multi:softprob',\n",
       "              predictor='auto', random_state=0, reg_alpha=0, ...)"
      ]
     },
     "execution_count": 34,
     "metadata": {},
     "output_type": "execute_result"
    }
   ],
   "source": [
    "# Обучение на всех данных\n",
    "# classifier_model.fit(X_classifier, y_classifier.values)"
   ]
  },
  {
   "cell_type": "code",
   "execution_count": 35,
   "metadata": {},
   "outputs": [],
   "source": [
    "# Выгрузка модели для классификаци\n",
    "# pickle.dump(classifier_model, open('model_cl.pkl', \"wb\"))"
   ]
  },
  {
   "cell_type": "markdown",
   "metadata": {},
   "source": [
    "##### Вероятности классов для каждого объекта"
   ]
  },
  {
   "cell_type": "code",
   "execution_count": 40,
   "metadata": {},
   "outputs": [],
   "source": [
    "pred_c_probs = classifier_model.predict_proba(X_test_cl)"
   ]
  },
  {
   "cell_type": "code",
   "execution_count": 39,
   "metadata": {},
   "outputs": [],
   "source": [
    "pred_c = classifier_model.predict(X_test_cl)"
   ]
  },
  {
   "cell_type": "code",
   "execution_count": 122,
   "metadata": {},
   "outputs": [],
   "source": [
    "f_el = pred_c_probs[147]\n",
    "dict_probs = {idx : el for idx, el in enumerate(f_el)}"
   ]
  },
  {
   "cell_type": "markdown",
   "metadata": {},
   "source": [
    "##### Топ 5 подходящих районов по указанным параметрам"
   ]
  },
  {
   "cell_type": "code",
   "execution_count": 123,
   "metadata": {},
   "outputs": [
    {
     "data": {
      "text/plain": [
       "[134, 123, 142, 50, 36]"
      ]
     },
     "execution_count": 123,
     "metadata": {},
     "output_type": "execute_result"
    }
   ],
   "source": [
    "top5_sub_areas = heapq.nlargest(5, dict_probs, key=dict_probs.get)\n",
    "top5_sub_areas"
   ]
  },
  {
   "cell_type": "code",
   "execution_count": 124,
   "metadata": {},
   "outputs": [
    {
     "data": {
      "text/plain": [
       "array(['Veshnjaki', 'Solncevo', 'Zapadnoe Degunino', 'Kuncevo',\n",
       "       'Jaroslavskoe'], dtype='<U30')"
      ]
     },
     "execution_count": 124,
     "metadata": {},
     "output_type": "execute_result"
    }
   ],
   "source": [
    "lbl.inverse_transform(top5_sub_areas)"
   ]
  },
  {
   "cell_type": "markdown",
   "metadata": {},
   "source": [
    "##### F1 score"
   ]
  },
  {
   "cell_type": "code",
   "execution_count": 148,
   "metadata": {},
   "outputs": [
    {
     "data": {
      "text/plain": [
       "0.5108774134462816"
      ]
     },
     "execution_count": 148,
     "metadata": {},
     "output_type": "execute_result"
    }
   ],
   "source": [
    "f1_score(y_test_cl, pred_c, average='weighted')"
   ]
  },
  {
   "cell_type": "code",
   "execution_count": 149,
   "metadata": {},
   "outputs": [],
   "source": [
    "res_c = pd.DataFrame([y_test_cl.values,pred_c]).T\n",
    "res_c.rename({0 : 'test', 1 : 'pred'}, axis=1, inplace=True)"
   ]
  },
  {
   "cell_type": "code",
   "execution_count": 150,
   "metadata": {
    "scrolled": true
   },
   "outputs": [
    {
     "data": {
      "text/html": [
       "<div>\n",
       "<style scoped>\n",
       "    .dataframe tbody tr th:only-of-type {\n",
       "        vertical-align: middle;\n",
       "    }\n",
       "\n",
       "    .dataframe tbody tr th {\n",
       "        vertical-align: top;\n",
       "    }\n",
       "\n",
       "    .dataframe thead th {\n",
       "        text-align: right;\n",
       "    }\n",
       "</style>\n",
       "<table border=\"1\" class=\"dataframe\">\n",
       "  <thead>\n",
       "    <tr style=\"text-align: right;\">\n",
       "      <th></th>\n",
       "      <th>test</th>\n",
       "      <th>pred</th>\n",
       "    </tr>\n",
       "  </thead>\n",
       "  <tbody>\n",
       "    <tr>\n",
       "      <th>0</th>\n",
       "      <td>110</td>\n",
       "      <td>20</td>\n",
       "    </tr>\n",
       "    <tr>\n",
       "      <th>1</th>\n",
       "      <td>84</td>\n",
       "      <td>101</td>\n",
       "    </tr>\n",
       "    <tr>\n",
       "      <th>2</th>\n",
       "      <td>9</td>\n",
       "      <td>136</td>\n",
       "    </tr>\n",
       "    <tr>\n",
       "      <th>3</th>\n",
       "      <td>133</td>\n",
       "      <td>133</td>\n",
       "    </tr>\n",
       "    <tr>\n",
       "      <th>4</th>\n",
       "      <td>109</td>\n",
       "      <td>15</td>\n",
       "    </tr>\n",
       "    <tr>\n",
       "      <th>5</th>\n",
       "      <td>17</td>\n",
       "      <td>17</td>\n",
       "    </tr>\n",
       "    <tr>\n",
       "      <th>6</th>\n",
       "      <td>100</td>\n",
       "      <td>100</td>\n",
       "    </tr>\n",
       "    <tr>\n",
       "      <th>7</th>\n",
       "      <td>38</td>\n",
       "      <td>38</td>\n",
       "    </tr>\n",
       "    <tr>\n",
       "      <th>8</th>\n",
       "      <td>108</td>\n",
       "      <td>127</td>\n",
       "    </tr>\n",
       "    <tr>\n",
       "      <th>9</th>\n",
       "      <td>27</td>\n",
       "      <td>27</td>\n",
       "    </tr>\n",
       "    <tr>\n",
       "      <th>10</th>\n",
       "      <td>109</td>\n",
       "      <td>137</td>\n",
       "    </tr>\n",
       "    <tr>\n",
       "      <th>11</th>\n",
       "      <td>30</td>\n",
       "      <td>85</td>\n",
       "    </tr>\n",
       "    <tr>\n",
       "      <th>12</th>\n",
       "      <td>104</td>\n",
       "      <td>104</td>\n",
       "    </tr>\n",
       "    <tr>\n",
       "      <th>13</th>\n",
       "      <td>102</td>\n",
       "      <td>102</td>\n",
       "    </tr>\n",
       "    <tr>\n",
       "      <th>14</th>\n",
       "      <td>110</td>\n",
       "      <td>132</td>\n",
       "    </tr>\n",
       "  </tbody>\n",
       "</table>\n",
       "</div>"
      ],
      "text/plain": [
       "    test  pred\n",
       "0    110    20\n",
       "1     84   101\n",
       "2      9   136\n",
       "3    133   133\n",
       "4    109    15\n",
       "5     17    17\n",
       "6    100   100\n",
       "7     38    38\n",
       "8    108   127\n",
       "9     27    27\n",
       "10   109   137\n",
       "11    30    85\n",
       "12   104   104\n",
       "13   102   102\n",
       "14   110   132"
      ]
     },
     "execution_count": 150,
     "metadata": {},
     "output_type": "execute_result"
    }
   ],
   "source": [
    "res_c.head(15)"
   ]
  },
  {
   "cell_type": "markdown",
   "metadata": {},
   "source": [
    "### Сопоставление районов"
   ]
  },
  {
   "cell_type": "code",
   "execution_count": 25,
   "metadata": {},
   "outputs": [],
   "source": [
    "with open('map/mo.geojson', encoding='utf-8') as f:\n",
    "    gj = geojson.load(f)"
   ]
  },
  {
   "cell_type": "code",
   "execution_count": 26,
   "metadata": {},
   "outputs": [],
   "source": [
    "names = []\n",
    "for name in gj['features']:\n",
    "    names.append(name['properties']['NAME'])\n",
    "names.remove('\"Мосрентген\"')\n",
    "names.append('Мосрентген')"
   ]
  },
  {
   "cell_type": "code",
   "execution_count": 27,
   "metadata": {},
   "outputs": [],
   "source": [
    "names_areas = [lbl.inverse_transform([x])[0] for x in np.arange(0,145)]\n",
    "names_areas = [translit(x, 'ru') for x in names_areas]\n",
    "names_areas = pd.Series(names_areas)\n",
    "names_areas = names_areas.apply(lambda x : x[10:] if x.startswith('Поселение') else x)\n",
    "names_areas = list(names_areas)"
   ]
  },
  {
   "cell_type": "code",
   "execution_count": 28,
   "metadata": {},
   "outputs": [
    {
     "data": {
      "text/plain": [
       "(146, 145)"
      ]
     },
     "execution_count": 28,
     "metadata": {},
     "output_type": "execute_result"
    }
   ],
   "source": [
    "len(names), len(names_areas)"
   ]
  },
  {
   "cell_type": "code",
   "execution_count": 29,
   "metadata": {},
   "outputs": [
    {
     "data": {
      "text/plain": [
       "82"
      ]
     },
     "execution_count": 29,
     "metadata": {},
     "output_type": "execute_result"
    }
   ],
   "source": [
    "similar_text('Аэропорт', 'Айеропорт')"
   ]
  },
  {
   "cell_type": "code",
   "execution_count": 34,
   "metadata": {},
   "outputs": [],
   "source": [
    "dict_similar_areas = {}\n",
    "for area in names_areas:\n",
    "    dict_similar_areas[area] = [similar_text(area, i) for i in names]"
   ]
  },
  {
   "cell_type": "code",
   "execution_count": 35,
   "metadata": {},
   "outputs": [],
   "source": [
    "for k, v in dict_similar_areas.items():\n",
    "    dict_similar_areas[k] = np.argmax(v)"
   ]
  },
  {
   "cell_type": "code",
   "execution_count": 36,
   "metadata": {},
   "outputs": [],
   "source": [
    "for k, v in dict_similar_areas.items():\n",
    "    dict_similar_areas[k] = names[v]"
   ]
  },
  {
   "cell_type": "code",
   "execution_count": 39,
   "metadata": {},
   "outputs": [],
   "source": [
    "pd.set_option('display.max_rows', 150)"
   ]
  },
  {
   "cell_type": "code",
   "execution_count": 42,
   "metadata": {
    "scrolled": true
   },
   "outputs": [],
   "source": [
    "areas_df = pd.DataFrame(dict_similar_areas.items(), columns=['df_areas', 'json_areas'])\n",
    "areas_df['label'] = np.arange(0,145)"
   ]
  },
  {
   "cell_type": "code",
   "execution_count": 43,
   "metadata": {},
   "outputs": [
    {
     "data": {
      "text/plain": [
       "{'Бабушкинский',\n",
       " 'Войковский',\n",
       " 'Клёновское',\n",
       " 'Марьино',\n",
       " 'Мещанский',\n",
       " 'Хорошёвский'}"
      ]
     },
     "execution_count": 43,
     "metadata": {},
     "output_type": "execute_result"
    }
   ],
   "source": [
    "set(areas_df.json_areas) ^ set(names)"
   ]
  },
  {
   "cell_type": "code",
   "execution_count": 46,
   "metadata": {},
   "outputs": [],
   "source": [
    "areas_df.loc[5 , 'json_areas'] = 'Бабушкинский'\n",
    "areas_df.loc[31 , 'json_areas'] = 'Хорошёвский'\n",
    "areas_df.loc[60 , 'json_areas'] = 'Марьино'\n",
    "areas_df.loc[63 , 'json_areas'] = 'Мещанский'\n",
    "areas_df.loc[136 , 'json_areas'] = 'Войковский'"
   ]
  },
  {
   "cell_type": "code",
   "execution_count": 69,
   "metadata": {},
   "outputs": [
    {
     "data": {
      "text/plain": [
       "array(['Vojkovskoe'], dtype='<U30')"
      ]
     },
     "execution_count": 69,
     "metadata": {},
     "output_type": "execute_result"
    }
   ],
   "source": [
    "lbl.inverse_transform([136])"
   ]
  },
  {
   "cell_type": "code",
   "execution_count": 71,
   "metadata": {
    "scrolled": true
   },
   "outputs": [],
   "source": [
    "areas_df.to_csv('data/areas_df.csv', index=False)"
   ]
  },
  {
   "cell_type": "code",
   "execution_count": 74,
   "metadata": {},
   "outputs": [
    {
     "data": {
      "text/plain": [
       "31"
      ]
     },
     "execution_count": 74,
     "metadata": {},
     "output_type": "execute_result"
    }
   ],
   "source": [
    "areas_df[areas_df.json_areas == 'Хорошёвский']['label'].values[0]"
   ]
  },
  {
   "cell_type": "code",
   "execution_count": 76,
   "metadata": {},
   "outputs": [
    {
     "data": {
      "text/plain": [
       "'Новофёдоровское'"
      ]
     },
     "execution_count": 76,
     "metadata": {},
     "output_type": "execute_result"
    }
   ],
   "source": [
    "areas_df.loc[95 , 'json_areas']"
   ]
  },
  {
   "cell_type": "code",
   "execution_count": null,
   "metadata": {},
   "outputs": [],
   "source": []
  }
 ],
 "metadata": {
  "colab": {
   "collapsed_sections": [],
   "name": "NaNImputer.ipynb",
   "provenance": []
  },
  "kernelspec": {
   "display_name": "Python 3 (ipykernel)",
   "language": "python",
   "name": "python3"
  },
  "language_info": {
   "codemirror_mode": {
    "name": "ipython",
    "version": 3
   },
   "file_extension": ".py",
   "mimetype": "text/x-python",
   "name": "python",
   "nbconvert_exporter": "python",
   "pygments_lexer": "ipython3",
   "version": "3.9.12"
  },
  "widgets": {
   "application/vnd.jupyter.widget-state+json": {
    "1007923d08894ce681f4412d9933d063": {
     "model_module": "catboost-widget",
     "model_module_version": "^1.0.0",
     "model_name": "CatboostWidgetModel",
     "state": {
      "_dom_classes": [],
      "_model_module": "catboost-widget",
      "_model_module_version": "^1.0.0",
      "_model_name": "CatboostWidgetModel",
      "_view_count": null,
      "_view_module": "catboost-widget",
      "_view_module_version": "^1.0.0",
      "_view_name": "CatboostWidgetView",
      "data": {
       "catboost_info": {
        "content": {
         "data": {
          "iterations": [
           {
            "iteration": 0,
            "learn": [
             14.13843831
            ],
            "parameters": [
             {
              "depth": 4,
              "iterations": 100,
              "l2_leaf_reg": 1,
              "learning_rate": 0.001
             }
            ],
            "passed_time": 12.04640928,
            "remaining_time": 2204.492899,
            "test": [
             14.15028214
            ]
           },
           {
            "iteration": 1,
            "learn": [
             0.5405419899
            ],
            "parameters": [
             {
              "depth": 4,
              "iterations": 100,
              "l2_leaf_reg": 1,
              "learning_rate": 0.041
             }
            ],
            "passed_time": 21.9755031,
            "remaining_time": 1999.770782,
            "test": [
             0.5443848048
            ]
           },
           {
            "iteration": 2,
            "learn": [
             0.4551012223
            ],
            "parameters": [
             {
              "depth": 4,
              "iterations": 100,
              "l2_leaf_reg": 1,
              "learning_rate": 0.081
             }
            ],
            "passed_time": 29.08019446,
            "remaining_time": 1754.505066,
            "test": [
             0.4568382627
            ]
           },
           {
            "iteration": 3,
            "learn": [
             0.4443685929
            ],
            "parameters": [
             {
              "depth": 4,
              "iterations": 100,
              "l2_leaf_reg": 1,
              "learning_rate": 0.121
             }
            ],
            "passed_time": 36.26697055,
            "remaining_time": 1632.013675,
            "test": [
             0.4509831077
            ]
           },
           {
            "iteration": 4,
            "learn": [
             0.4373196138
            ],
            "parameters": [
             {
              "depth": 4,
              "iterations": 100,
              "l2_leaf_reg": 1,
              "learning_rate": 0.161
             }
            ],
            "passed_time": 43.06701292,
            "remaining_time": 1541.799062,
            "test": [
             0.447799738
            ]
           },
           {
            "iteration": 5,
            "learn": [
             0.4297751273
            ],
            "parameters": [
             {
              "depth": 4,
              "iterations": 100,
              "l2_leaf_reg": 1,
              "learning_rate": 0.201
             }
            ],
            "passed_time": 50.53075753,
            "remaining_time": 1499.07914,
            "test": [
             0.4473339486
            ]
           },
           {
            "iteration": 6,
            "learn": [
             0.4251424115
            ],
            "parameters": [
             {
              "depth": 4,
              "iterations": 100,
              "l2_leaf_reg": 1,
              "learning_rate": 0.241
             }
            ],
            "passed_time": 57.46965781,
            "remaining_time": 1453.161347,
            "test": [
             0.4486515833
            ]
           },
           {
            "iteration": 7,
            "learn": [
             0.4214541911
            ],
            "parameters": [
             {
              "depth": 4,
              "iterations": 100,
              "l2_leaf_reg": 1,
              "learning_rate": 0.281
             }
            ],
            "passed_time": 64.4641851,
            "remaining_time": 1418.212072,
            "test": [
             0.447821702
            ]
           },
           {
            "iteration": 8,
            "learn": [
             0.4154644853
            ],
            "parameters": [
             {
              "depth": 4,
              "iterations": 100,
              "l2_leaf_reg": 1,
              "learning_rate": 0.321
             }
            ],
            "passed_time": 70.98799323,
            "remaining_time": 1380.322091,
            "test": [
             0.4495495389
            ]
           },
           {
            "iteration": 9,
            "learn": [
             0.4130083945
            ],
            "parameters": [
             {
              "depth": 4,
              "iterations": 100,
              "l2_leaf_reg": 1,
              "learning_rate": 0.361
             }
            ],
            "passed_time": 75.00306237,
            "remaining_time": 1305.053285,
            "test": [
             0.4481232665
            ]
           },
           {
            "iteration": 10,
            "learn": [
             0.4072193847
            ],
            "parameters": [
             {
              "depth": 4,
              "iterations": 100,
              "l2_leaf_reg": 1,
              "learning_rate": 0.401
             }
            ],
            "passed_time": 78.64009773,
            "remaining_time": 1236.794264,
            "test": [
             0.449469252
            ]
           },
           {
            "iteration": 11,
            "learn": [
             0.4040890008
            ],
            "parameters": [
             {
              "depth": 4,
              "iterations": 100,
              "l2_leaf_reg": 1,
              "learning_rate": 0.441
             }
            ],
            "passed_time": 82.37302531,
            "remaining_time": 1180.68003,
            "test": [
             0.4513653118
            ]
           },
           {
            "iteration": 12,
            "learn": [
             0.3999938608
            ],
            "parameters": [
             {
              "depth": 4,
              "iterations": 100,
              "l2_leaf_reg": 1,
              "learning_rate": 0.481
             }
            ],
            "passed_time": 86.04686695,
            "remaining_time": 1131.84725,
            "test": [
             0.4519435906
            ]
           },
           {
            "iteration": 13,
            "learn": [
             0.3968233571
            ],
            "parameters": [
             {
              "depth": 4,
              "iterations": 100,
              "l2_leaf_reg": 1,
              "learning_rate": 0.521
             }
            ],
            "passed_time": 89.69909968,
            "remaining_time": 1089.203353,
            "test": [
             0.4525491979
            ]
           },
           {
            "iteration": 14,
            "learn": [
             0.393393461
            ],
            "parameters": [
             {
              "depth": 4,
              "iterations": 100,
              "l2_leaf_reg": 1,
              "learning_rate": 0.561
             }
            ],
            "passed_time": 93.37587851,
            "remaining_time": 1052.034898,
            "test": [
             0.4547491665
            ]
           },
           {
            "iteration": 15,
            "learn": [
             0.3924372758
            ],
            "parameters": [
             {
              "depth": 4,
              "iterations": 100,
              "l2_leaf_reg": 1,
              "learning_rate": 0.601
             }
            ],
            "passed_time": 97.02348002,
            "remaining_time": 1018.74654,
            "test": [
             0.4516248736
            ]
           },
           {
            "iteration": 16,
            "learn": [
             0.3883298954
            ],
            "parameters": [
             {
              "depth": 4,
              "iterations": 100,
              "l2_leaf_reg": 1,
              "learning_rate": 0.641
             }
            ],
            "passed_time": 100.6802506,
            "remaining_time": 989.0354026,
            "test": [
             0.4519944757
            ]
           },
           {
            "iteration": 17,
            "learn": [
             0.3871224835
            ],
            "parameters": [
             {
              "depth": 4,
              "iterations": 100,
              "l2_leaf_reg": 1,
              "learning_rate": 0.681
             }
            ],
            "passed_time": 104.3666559,
            "remaining_time": 962.4924931,
            "test": [
             0.4577786035
            ]
           },
           {
            "iteration": 18,
            "learn": [
             0.3833416396
            ],
            "parameters": [
             {
              "depth": 4,
              "iterations": 100,
              "l2_leaf_reg": 1,
              "learning_rate": 0.721
             }
            ],
            "passed_time": 108.0573634,
            "remaining_time": 938.3928924,
            "test": [
             0.4574422364
            ]
           },
           {
            "iteration": 19,
            "learn": [
             0.3834030236
            ],
            "parameters": [
             {
              "depth": 4,
              "iterations": 100,
              "l2_leaf_reg": 1,
              "learning_rate": 0.761
             }
            ],
            "passed_time": 111.6299833,
            "remaining_time": 915.3658633,
            "test": [
             0.4548471911
            ]
           },
           {
            "iteration": 20,
            "learn": [
             0.3795744742
            ],
            "parameters": [
             {
              "depth": 4,
              "iterations": 100,
              "l2_leaf_reg": 1,
              "learning_rate": 0.801
             }
            ],
            "passed_time": 115.3177032,
            "remaining_time": 895.0850294,
            "test": [
             0.4571527087
            ]
           },
           {
            "iteration": 21,
            "learn": [
             0.3796418965
            ],
            "parameters": [
             {
              "depth": 4,
              "iterations": 100,
              "l2_leaf_reg": 1,
              "learning_rate": 0.841
             }
            ],
            "passed_time": 118.9319222,
            "remaining_time": 875.7714269,
            "test": [
             0.4567984894
            ]
           },
           {
            "iteration": 22,
            "learn": [
             0.3775000249
            ],
            "parameters": [
             {
              "depth": 4,
              "iterations": 100,
              "l2_leaf_reg": 1,
              "learning_rate": 0.881
             }
            ],
            "passed_time": 122.5830289,
            "remaining_time": 858.081202,
            "test": [
             0.4533196168
            ]
           },
           {
            "iteration": 23,
            "learn": [
             14.1399363
            ],
            "parameters": [
             {
              "depth": 4,
              "iterations": 100,
              "l2_leaf_reg": 3,
              "learning_rate": 0.001
             }
            ],
            "passed_time": 126.282958,
            "remaining_time": 841.8863868,
            "test": [
             14.15177508
            ]
           },
           {
            "iteration": 24,
            "learn": [
             0.5416923902
            ],
            "parameters": [
             {
              "depth": 4,
              "iterations": 100,
              "l2_leaf_reg": 3,
              "learning_rate": 0.041
             }
            ],
            "passed_time": 130.0000868,
            "remaining_time": 826.8005519,
            "test": [
             0.5456574211
            ]
           },
           {
            "iteration": 25,
            "learn": [
             0.4562973296
            ],
            "parameters": [
             {
              "depth": 4,
              "iterations": 100,
              "l2_leaf_reg": 3,
              "learning_rate": 0.081
             }
            ],
            "passed_time": 133.6974015,
            "remaining_time": 812.4688242,
            "test": [
             0.4577535786
            ]
           },
           {
            "iteration": 26,
            "learn": [
             0.4463443643
            ],
            "parameters": [
             {
              "depth": 4,
              "iterations": 100,
              "l2_leaf_reg": 3,
              "learning_rate": 0.121
             }
            ],
            "passed_time": 137.3652463,
            "remaining_time": 798.7534692,
            "test": [
             0.4512717348
            ]
           },
           {
            "iteration": 27,
            "learn": [
             0.4389401414
            ],
            "parameters": [
             {
              "depth": 4,
              "iterations": 100,
              "l2_leaf_reg": 3,
              "learning_rate": 0.161
             }
            ],
            "passed_time": 141.0916908,
            "remaining_time": 786.0822775,
            "test": [
             0.4494886569
            ]
           },
           {
            "iteration": 28,
            "learn": [
             0.434498974
            ],
            "parameters": [
             {
              "depth": 4,
              "iterations": 100,
              "l2_leaf_reg": 3,
              "learning_rate": 0.201
             }
            ],
            "passed_time": 144.7572538,
            "remaining_time": 773.7025632,
            "test": [
             0.4494557615
            ]
           },
           {
            "iteration": 29,
            "learn": [
             0.4303854764
            ],
            "parameters": [
             {
              "depth": 4,
              "iterations": 100,
              "l2_leaf_reg": 3,
              "learning_rate": 0.241
             }
            ],
            "passed_time": 148.3877419,
            "remaining_time": 761.7237416,
            "test": [
             0.4493494632
            ]
           },
           {
            "iteration": 30,
            "learn": [
             0.4253647441
            ],
            "parameters": [
             {
              "depth": 4,
              "iterations": 100,
              "l2_leaf_reg": 3,
              "learning_rate": 0.281
             }
            ],
            "passed_time": 152.000796,
            "remaining_time": 750.1974771,
            "test": [
             0.4485849462
            ]
           },
           {
            "iteration": 31,
            "learn": [
             0.4199947537
            ],
            "parameters": [
             {
              "depth": 4,
              "iterations": 100,
              "l2_leaf_reg": 3,
              "learning_rate": 0.321
             }
            ],
            "passed_time": 156.0990388,
            "remaining_time": 741.4704341,
            "test": [
             0.4484377777
            ]
           },
           {
            "iteration": 32,
            "learn": [
             0.4176077649
            ],
            "parameters": [
             {
              "depth": 4,
              "iterations": 100,
              "l2_leaf_reg": 3,
              "learning_rate": 0.361
             }
            ],
            "passed_time": 159.7134735,
            "remaining_time": 730.8101365,
            "test": [
             0.4493893701
            ]
           },
           {
            "iteration": 33,
            "learn": [
             0.4120263547
            ],
            "parameters": [
             {
              "depth": 4,
              "iterations": 100,
              "l2_leaf_reg": 3,
              "learning_rate": 0.401
             }
            ],
            "passed_time": 163.351166,
            "remaining_time": 720.6669086,
            "test": [
             0.44949047
            ]
           },
           {
            "iteration": 34,
            "learn": [
             0.4085912524
            ],
            "parameters": [
             {
              "depth": 4,
              "iterations": 100,
              "l2_leaf_reg": 3,
              "learning_rate": 0.441
             }
            ],
            "passed_time": 167.0543001,
            "remaining_time": 711.1740203,
            "test": [
             0.4538890437
            ]
           },
           {
            "iteration": 35,
            "learn": [
             0.4059318608
            ],
            "parameters": [
             {
              "depth": 4,
              "iterations": 100,
              "l2_leaf_reg": 3,
              "learning_rate": 0.481
             }
            ],
            "passed_time": 170.6725094,
            "remaining_time": 701.6536499,
            "test": [
             0.4536942056
            ]
           },
           {
            "iteration": 36,
            "learn": [
             0.4035221543
            ],
            "parameters": [
             {
              "depth": 4,
              "iterations": 100,
              "l2_leaf_reg": 3,
              "learning_rate": 0.521
             }
            ],
            "passed_time": 174.3004828,
            "remaining_time": 692.4911071,
            "test": [
             0.4526544205
            ]
           },
           {
            "iteration": 37,
            "learn": [
             0.4009393948
            ],
            "parameters": [
             {
              "depth": 4,
              "iterations": 100,
              "l2_leaf_reg": 3,
              "learning_rate": 0.561
             }
            ],
            "passed_time": 177.9261312,
            "remaining_time": 683.610925,
            "test": [
             0.4504376826
            ]
           },
           {
            "iteration": 38,
            "learn": [
             0.3941233656
            ],
            "parameters": [
             {
              "depth": 4,
              "iterations": 100,
              "l2_leaf_reg": 3,
              "learning_rate": 0.601
             }
            ],
            "passed_time": 181.5613986,
            "remaining_time": 675.0359693,
            "test": [
             0.4520521843
            ]
           },
           {
            "iteration": 39,
            "learn": [
             0.39295809
            ],
            "parameters": [
             {
              "depth": 4,
              "iterations": 100,
              "l2_leaf_reg": 3,
              "learning_rate": 0.641
             }
            ],
            "passed_time": 185.2002277,
            "remaining_time": 666.7208196,
            "test": [
             0.4527097938
            ]
           },
           {
            "iteration": 40,
            "learn": [
             0.3908224315
            ],
            "parameters": [
             {
              "depth": 4,
              "iterations": 100,
              "l2_leaf_reg": 3,
              "learning_rate": 0.681
             }
            ],
            "passed_time": 188.856552,
            "remaining_time": 658.6948033,
            "test": [
             0.4565078529
            ]
           },
           {
            "iteration": 41,
            "learn": [
             0.3917491958
            ],
            "parameters": [
             {
              "depth": 4,
              "iterations": 100,
              "l2_leaf_reg": 3,
              "learning_rate": 0.721
             }
            ],
            "passed_time": 192.5225128,
            "remaining_time": 650.9094479,
            "test": [
             0.4534462863
            ]
           },
           {
            "iteration": 42,
            "learn": [
             0.3880191282
            ],
            "parameters": [
             {
              "depth": 4,
              "iterations": 100,
              "l2_leaf_reg": 3,
              "learning_rate": 0.761
             }
            ],
            "passed_time": 196.2047087,
            "remaining_time": 643.3689285,
            "test": [
             0.4583412649
            ]
           },
           {
            "iteration": 43,
            "learn": [
             0.3870920336
            ],
            "parameters": [
             {
              "depth": 4,
              "iterations": 100,
              "l2_leaf_reg": 3,
              "learning_rate": 0.801
             }
            ],
            "passed_time": 199.9353166,
            "remaining_time": 636.1578256,
            "test": [
             0.4593414923
            ]
           },
           {
            "iteration": 44,
            "learn": [
             0.386453823
            ],
            "parameters": [
             {
              "depth": 4,
              "iterations": 100,
              "l2_leaf_reg": 3,
              "learning_rate": 0.841
             }
            ],
            "passed_time": 203.5840922,
            "remaining_time": 628.8486405,
            "test": [
             0.4572188401
            ]
           },
           {
            "iteration": 45,
            "learn": [
             0.3856828647
            ],
            "parameters": [
             {
              "depth": 4,
              "iterations": 100,
              "l2_leaf_reg": 3,
              "learning_rate": 0.881
             }
            ],
            "passed_time": 207.232928,
            "remaining_time": 621.6987841,
            "test": [
             0.4625768652
            ]
           },
           {
            "iteration": 46,
            "learn": [
             13.45014009
            ],
            "parameters": [
             {
              "depth": 4,
              "iterations": 150,
              "l2_leaf_reg": 1,
              "learning_rate": 0.001
             }
            ],
            "passed_time": 212.7326796,
            "remaining_time": 620.09313,
            "test": [
             13.46196995
            ]
           },
           {
            "iteration": 47,
            "learn": [
             0.4637808447
            ],
            "parameters": [
             {
              "depth": 4,
              "iterations": 150,
              "l2_leaf_reg": 1,
              "learning_rate": 0.041
             }
            ],
            "passed_time": 218.3341432,
            "remaining_time": 618.6134056,
            "test": [
             0.465072945
            ]
           },
           {
            "iteration": 48,
            "learn": [
             0.4442013139
            ],
            "parameters": [
             {
              "depth": 4,
              "iterations": 150,
              "l2_leaf_reg": 1,
              "learning_rate": 0.081
             }
            ],
            "passed_time": 223.8647282,
            "remaining_time": 616.7701694,
            "test": [
             0.4503238655
            ]
           },
           {
            "iteration": 49,
            "learn": [
             0.4320704826
            ],
            "parameters": [
             {
              "depth": 4,
              "iterations": 150,
              "l2_leaf_reg": 1,
              "learning_rate": 0.121
             }
            ],
            "passed_time": 229.3927148,
            "remaining_time": 614.7724757,
            "test": [
             0.4460810891
            ]
           },
           {
            "iteration": 50,
            "learn": [
             0.4244219194
            ],
            "parameters": [
             {
              "depth": 4,
              "iterations": 150,
              "l2_leaf_reg": 1,
              "learning_rate": 0.161
             }
            ],
            "passed_time": 234.8046177,
            "remaining_time": 612.3336109,
            "test": [
             0.4466617538
            ]
           },
           {
            "iteration": 51,
            "learn": [
             0.4150519763
            ],
            "parameters": [
             {
              "depth": 4,
              "iterations": 150,
              "l2_leaf_reg": 1,
              "learning_rate": 0.201
             }
            ],
            "passed_time": 240.278405,
            "remaining_time": 609.9374897,
            "test": [
             0.4453617316
            ]
           },
           {
            "iteration": 52,
            "learn": [
             0.4090228944
            ],
            "parameters": [
             {
              "depth": 4,
              "iterations": 150,
              "l2_leaf_reg": 1,
              "learning_rate": 0.241
             }
            ],
            "passed_time": 245.6961967,
            "remaining_time": 607.2868258,
            "test": [
             0.448589161
            ]
           },
           {
            "iteration": 53,
            "learn": [
             0.4037158943
            ],
            "parameters": [
             {
              "depth": 4,
              "iterations": 150,
              "l2_leaf_reg": 1,
              "learning_rate": 0.281
             }
            ],
            "passed_time": 251.1132397,
            "remaining_time": 604.5318733,
            "test": [
             0.447821702
            ]
           },
           {
            "iteration": 54,
            "learn": [
             0.397252142
            ],
            "parameters": [
             {
              "depth": 4,
              "iterations": 150,
              "l2_leaf_reg": 1,
              "learning_rate": 0.321
             }
            ],
            "passed_time": 256.5754655,
            "remaining_time": 601.7860918,
            "test": [
             0.4489279756
            ]
           },
           {
            "iteration": 55,
            "learn": [
             0.3924656069
            ],
            "parameters": [
             {
              "depth": 4,
              "iterations": 150,
              "l2_leaf_reg": 1,
              "learning_rate": 0.361
             }
            ],
            "passed_time": 262.0334582,
            "remaining_time": 598.9336187,
            "test": [
             0.4481232665
            ]
           },
           {
            "iteration": 56,
            "learn": [
             0.3845203308
            ],
            "parameters": [
             {
              "depth": 4,
              "iterations": 150,
              "l2_leaf_reg": 1,
              "learning_rate": 0.401
             }
            ],
            "passed_time": 267.45449,
            "remaining_time": 595.9073724,
            "test": [
             0.449469252
            ]
           },
           {
            "iteration": 57,
            "learn": [
             0.3794207903
            ],
            "parameters": [
             {
              "depth": 4,
              "iterations": 150,
              "l2_leaf_reg": 1,
              "learning_rate": 0.441
             }
            ],
            "passed_time": 272.8934702,
            "remaining_time": 592.8375388,
            "test": [
             0.4513653118
            ]
           },
           {
            "iteration": 58,
            "learn": [
             0.3770126752
            ],
            "parameters": [
             {
              "depth": 4,
              "iterations": 150,
              "l2_leaf_reg": 1,
              "learning_rate": 0.481
             }
            ],
            "passed_time": 278.4003217,
            "remaining_time": 589.8311899,
            "test": [
             0.4519435906
            ]
           },
           {
            "iteration": 59,
            "learn": [
             0.370716555
            ],
            "parameters": [
             {
              "depth": 4,
              "iterations": 150,
              "l2_leaf_reg": 1,
              "learning_rate": 0.521
             }
            ],
            "passed_time": 283.850569,
            "remaining_time": 586.6245093,
            "test": [
             0.4525491979
            ]
           },
           {
            "iteration": 60,
            "learn": [
             0.3672925577
            ],
            "parameters": [
             {
              "depth": 4,
              "iterations": 150,
              "l2_leaf_reg": 1,
              "learning_rate": 0.561
             }
            ],
            "passed_time": 289.2793248,
            "remaining_time": 583.3009336,
            "test": [
             0.4547491665
            ]
           },
           {
            "iteration": 61,
            "learn": [
             0.3665345385
            ],
            "parameters": [
             {
              "depth": 4,
              "iterations": 150,
              "l2_leaf_reg": 1,
              "learning_rate": 0.601
             }
            ],
            "passed_time": 294.7040919,
            "remaining_time": 579.9016001,
            "test": [
             0.4516248736
            ]
           },
           {
            "iteration": 62,
            "learn": [
             0.3618475033
            ],
            "parameters": [
             {
              "depth": 4,
              "iterations": 150,
              "l2_leaf_reg": 1,
              "learning_rate": 0.641
             }
            ],
            "passed_time": 300.1571803,
            "remaining_time": 576.4923621,
            "test": [
             0.4519944757
            ]
           },
           {
            "iteration": 63,
            "learn": [
             0.3619321111
            ],
            "parameters": [
             {
              "depth": 4,
              "iterations": 150,
              "l2_leaf_reg": 1,
              "learning_rate": 0.681
             }
            ],
            "passed_time": 305.5968086,
            "remaining_time": 572.9940161,
            "test": [
             0.4577786035
            ]
           },
           {
            "iteration": 64,
            "learn": [
             0.3560480625
            ],
            "parameters": [
             {
              "depth": 4,
              "iterations": 150,
              "l2_leaf_reg": 1,
              "learning_rate": 0.721
             }
            ],
            "passed_time": 311.0108237,
            "remaining_time": 569.3890464,
            "test": [
             0.4574422364
            ]
           },
           {
            "iteration": 65,
            "learn": [
             0.3547801153
            ],
            "parameters": [
             {
              "depth": 4,
              "iterations": 150,
              "l2_leaf_reg": 1,
              "learning_rate": 0.761
             }
            ],
            "passed_time": 316.4282569,
            "remaining_time": 565.7353684,
            "test": [
             0.4548471911
            ]
           },
           {
            "iteration": 66,
            "learn": [
             0.3506480275
            ],
            "parameters": [
             {
              "depth": 4,
              "iterations": 150,
              "l2_leaf_reg": 1,
              "learning_rate": 0.801
             }
            ],
            "passed_time": 321.930039,
            "remaining_time": 562.1763367,
            "test": [
             0.4571527087
            ]
           },
           {
            "iteration": 67,
            "learn": [
             0.3493324691
            ],
            "parameters": [
             {
              "depth": 4,
              "iterations": 150,
              "l2_leaf_reg": 1,
              "learning_rate": 0.841
             }
            ],
            "passed_time": 327.3863911,
            "remaining_time": 558.4826671,
            "test": [
             0.4567984894
            ]
           },
           {
            "iteration": 68,
            "learn": [
             0.347352288
            ],
            "parameters": [
             {
              "depth": 4,
              "iterations": 150,
              "l2_leaf_reg": 1,
              "learning_rate": 0.881
             }
            ],
            "passed_time": 332.8592752,
            "remaining_time": 554.7654587,
            "test": [
             0.4533196168
            ]
           },
           {
            "iteration": 69,
            "learn": [
             13.45226857
            ],
            "parameters": [
             {
              "depth": 4,
              "iterations": 150,
              "l2_leaf_reg": 3,
              "learning_rate": 0.001
             }
            ],
            "passed_time": 338.3990934,
            "remaining_time": 551.1070949,
            "test": [
             13.46408854
            ]
           },
           {
            "iteration": 70,
            "learn": [
             0.4647251251
            ],
            "parameters": [
             {
              "depth": 4,
              "iterations": 150,
              "l2_leaf_reg": 3,
              "learning_rate": 0.041
             }
            ],
            "passed_time": 343.9948776,
            "remaining_time": 547.4848051,
            "test": [
             0.4660527271
            ]
           },
           {
            "iteration": 71,
            "learn": [
             0.4458410407
            ],
            "parameters": [
             {
              "depth": 4,
              "iterations": 150,
              "l2_leaf_reg": 3,
              "learning_rate": 0.081
             }
            ],
            "passed_time": 349.558415,
            "remaining_time": 543.7575345,
            "test": [
             0.4510363873
            ]
           },
           {
            "iteration": 72,
            "learn": [
             0.4347838647
            ],
            "parameters": [
             {
              "depth": 4,
              "iterations": 150,
              "l2_leaf_reg": 3,
              "learning_rate": 0.121
             }
            ],
            "passed_time": 355.0921084,
            "remaining_time": 539.9345758,
            "test": [
             0.4460781573
            ]
           },
           {
            "iteration": 73,
            "learn": [
             0.4272557695
            ],
            "parameters": [
             {
              "depth": 4,
              "iterations": 150,
              "l2_leaf_reg": 3,
              "learning_rate": 0.161
             }
            ],
            "passed_time": 360.6222961,
            "remaining_time": 536.0601698,
            "test": [
             0.4468604479
            ]
           },
           {
            "iteration": 74,
            "learn": [
             0.4214204969
            ],
            "parameters": [
             {
              "depth": 4,
              "iterations": 150,
              "l2_leaf_reg": 3,
              "learning_rate": 0.201
             }
            ],
            "passed_time": 366.0431218,
            "remaining_time": 531.9826703,
            "test": [
             0.4475538779
            ]
           },
           {
            "iteration": 75,
            "learn": [
             0.4160240507
            ],
            "parameters": [
             {
              "depth": 4,
              "iterations": 150,
              "l2_leaf_reg": 3,
              "learning_rate": 0.241
             }
            ],
            "passed_time": 371.4474302,
            "remaining_time": 527.8463481,
            "test": [
             0.4479675544
            ]
           },
           {
            "iteration": 76,
            "learn": [
             0.4085346283
            ],
            "parameters": [
             {
              "depth": 4,
              "iterations": 150,
              "l2_leaf_reg": 3,
              "learning_rate": 0.281
             }
            ],
            "passed_time": 376.8524115,
            "remaining_time": 523.6780264,
            "test": [
             0.4485828293
            ]
           },
           {
            "iteration": 77,
            "learn": [
             0.4035756097
            ],
            "parameters": [
             {
              "depth": 4,
              "iterations": 150,
              "l2_leaf_reg": 3,
              "learning_rate": 0.321
             }
            ],
            "passed_time": 382.3181464,
            "remaining_time": 519.5605579,
            "test": [
             0.4482931721
            ]
           },
           {
            "iteration": 78,
            "learn": [
             0.3994045442
            ],
            "parameters": [
             {
              "depth": 4,
              "iterations": 150,
              "l2_leaf_reg": 3,
              "learning_rate": 0.361
             }
            ],
            "passed_time": 387.7181818,
            "remaining_time": 515.321634,
            "test": [
             0.4491773125
            ]
           },
           {
            "iteration": 79,
            "learn": [
             0.3925922192
            ],
            "parameters": [
             {
              "depth": 4,
              "iterations": 150,
              "l2_leaf_reg": 3,
              "learning_rate": 0.401
             }
            ],
            "passed_time": 393.1168647,
            "remaining_time": 511.0519241,
            "test": [
             0.44949047
            ]
           },
           {
            "iteration": 80,
            "learn": [
             0.385684738
            ],
            "parameters": [
             {
              "depth": 4,
              "iterations": 150,
              "l2_leaf_reg": 3,
              "learning_rate": 0.441
             }
            ],
            "passed_time": 398.5613909,
            "remaining_time": 506.8126328,
            "test": [
             0.4538890437
            ]
           },
           {
            "iteration": 81,
            "learn": [
             0.3845735283
            ],
            "parameters": [
             {
              "depth": 4,
              "iterations": 150,
              "l2_leaf_reg": 3,
              "learning_rate": 0.481
             }
            ],
            "passed_time": 404.4537915,
            "remaining_time": 503.1010577,
            "test": [
             0.4536942056
            ]
           },
           {
            "iteration": 82,
            "learn": [
             0.3805745603
            ],
            "parameters": [
             {
              "depth": 4,
              "iterations": 150,
              "l2_leaf_reg": 3,
              "learning_rate": 0.521
             }
            ],
            "passed_time": 409.89893,
            "remaining_time": 498.7926738,
            "test": [
             0.4526544205
            ]
           },
           {
            "iteration": 83,
            "learn": [
             0.3784996416
            ],
            "parameters": [
             {
              "depth": 4,
              "iterations": 150,
              "l2_leaf_reg": 3,
              "learning_rate": 0.561
             }
            ],
            "passed_time": 415.3759613,
            "remaining_time": 494.495192,
            "test": [
             0.4504376826
            ]
           },
           {
            "iteration": 84,
            "learn": [
             0.371736934
            ],
            "parameters": [
             {
              "depth": 4,
              "iterations": 150,
              "l2_leaf_reg": 3,
              "learning_rate": 0.601
             }
            ],
            "passed_time": 420.7869909,
            "remaining_time": 490.0930836,
            "test": [
             0.4520521843
            ]
           },
           {
            "iteration": 85,
            "learn": [
             0.3709145742
            ],
            "parameters": [
             {
              "depth": 4,
              "iterations": 150,
              "l2_leaf_reg": 3,
              "learning_rate": 0.641
             }
            ],
            "passed_time": 426.2639434,
            "remaining_time": 485.7426331,
            "test": [
             0.4527097938
            ]
           },
           {
            "iteration": 86,
            "learn": [
             0.3658549461
            ],
            "parameters": [
             {
              "depth": 4,
              "iterations": 150,
              "l2_leaf_reg": 3,
              "learning_rate": 0.681
             }
            ],
            "passed_time": 431.7047502,
            "remaining_time": 481.3259858,
            "test": [
             0.4565078529
            ]
           },
           {
            "iteration": 87,
            "learn": [
             0.3660091032
            ],
            "parameters": [
             {
              "depth": 4,
              "iterations": 150,
              "l2_leaf_reg": 3,
              "learning_rate": 0.721
             }
            ],
            "passed_time": 437.109432,
            "remaining_time": 476.8466531,
            "test": [
             0.4534462863
            ]
           },
           {
            "iteration": 88,
            "learn": [
             0.3613725948
            ],
            "parameters": [
             {
              "depth": 4,
              "iterations": 150,
              "l2_leaf_reg": 3,
              "learning_rate": 0.761
             }
            ],
            "passed_time": 442.5603773,
            "remaining_time": 472.3959084,
            "test": [
             0.4583412649
            ]
           },
           {
            "iteration": 89,
            "learn": [
             0.3599070185
            ],
            "parameters": [
             {
              "depth": 4,
              "iterations": 150,
              "l2_leaf_reg": 3,
              "learning_rate": 0.801
             }
            ],
            "passed_time": 448.0973196,
            "remaining_time": 468.012756,
            "test": [
             0.4593414923
            ]
           },
           {
            "iteration": 90,
            "learn": [
             0.3579917271
            ],
            "parameters": [
             {
              "depth": 4,
              "iterations": 150,
              "l2_leaf_reg": 3,
              "learning_rate": 0.841
             }
            ],
            "passed_time": 453.5744774,
            "remaining_time": 463.5431472,
            "test": [
             0.4572188401
            ]
           },
           {
            "iteration": 91,
            "learn": [
             0.3573592408
            ],
            "parameters": [
             {
              "depth": 4,
              "iterations": 150,
              "l2_leaf_reg": 3,
              "learning_rate": 0.881
             }
            ],
            "passed_time": 459.0427671,
            "remaining_time": 459.0427671,
            "test": [
             0.4625768652
            ]
           },
           {
            "iteration": 92,
            "learn": [
             14.13886274
            ],
            "parameters": [
             {
              "depth": 5,
              "iterations": 100,
              "l2_leaf_reg": 1,
              "learning_rate": 0.001
             }
            ],
            "passed_time": 464.0845407,
            "remaining_time": 454.104228,
            "test": [
             14.15075182
            ]
           },
           {
            "iteration": 93,
            "learn": [
             0.5372531619
            ],
            "parameters": [
             {
              "depth": 5,
              "iterations": 100,
              "l2_leaf_reg": 1,
              "learning_rate": 0.041
             }
            ],
            "passed_time": 469.2196599,
            "remaining_time": 449.2528659,
            "test": [
             0.5422582832
            ]
           },
           {
            "iteration": 94,
            "learn": [
             0.4510588894
            ],
            "parameters": [
             {
              "depth": 5,
              "iterations": 100,
              "l2_leaf_reg": 1,
              "learning_rate": 0.081
             }
            ],
            "passed_time": 474.2858067,
            "remaining_time": 444.3309136,
            "test": [
             0.4571697038
            ]
           },
           {
            "iteration": 95,
            "learn": [
             0.4408613516
            ],
            "parameters": [
             {
              "depth": 5,
              "iterations": 100,
              "l2_leaf_reg": 1,
              "learning_rate": 0.121
             }
            ],
            "passed_time": 479.3359701,
            "remaining_time": 439.391306,
            "test": [
             0.4538252805
            ]
           },
           {
            "iteration": 96,
            "learn": [
             0.4278442929
            ],
            "parameters": [
             {
              "depth": 5,
              "iterations": 100,
              "l2_leaf_reg": 1,
              "learning_rate": 0.161
             }
            ],
            "passed_time": 484.4699983,
            "remaining_time": 434.5246377,
            "test": [
             0.4509640378
            ]
           },
           {
            "iteration": 97,
            "learn": [
             0.4197698732
            ],
            "parameters": [
             {
              "depth": 5,
              "iterations": 100,
              "l2_leaf_reg": 1,
              "learning_rate": 0.201
             }
            ],
            "passed_time": 489.5346843,
            "remaining_time": 429.5916617,
            "test": [
             0.4515428998
            ]
           },
           {
            "iteration": 98,
            "learn": [
             0.4130613826
            ],
            "parameters": [
             {
              "depth": 5,
              "iterations": 100,
              "l2_leaf_reg": 1,
              "learning_rate": 0.241
             }
            ],
            "passed_time": 494.5862296,
            "remaining_time": 424.6447426,
            "test": [
             0.4505253402
            ]
           },
           {
            "iteration": 99,
            "learn": [
             0.4071578377
            ],
            "parameters": [
             {
              "depth": 5,
              "iterations": 100,
              "l2_leaf_reg": 1,
              "learning_rate": 0.281
             }
            ],
            "passed_time": 499.6033144,
            "remaining_time": 419.6667841,
            "test": [
             0.4513740008
            ]
           },
           {
            "iteration": 100,
            "learn": [
             0.400847104
            ],
            "parameters": [
             {
              "depth": 5,
              "iterations": 100,
              "l2_leaf_reg": 1,
              "learning_rate": 0.321
             }
            ],
            "passed_time": 504.6078581,
            "remaining_time": 414.6777448,
            "test": [
             0.4549230913
            ]
           },
           {
            "iteration": 101,
            "learn": [
             0.3966714689
            ],
            "parameters": [
             {
              "depth": 5,
              "iterations": 100,
              "l2_leaf_reg": 1,
              "learning_rate": 0.361
             }
            ],
            "passed_time": 509.645911,
            "remaining_time": 409.7153402,
            "test": [
             0.4556735337
            ]
           },
           {
            "iteration": 102,
            "learn": [
             0.389316358
            ],
            "parameters": [
             {
              "depth": 5,
              "iterations": 100,
              "l2_leaf_reg": 1,
              "learning_rate": 0.401
             }
            ],
            "passed_time": 514.7022718,
            "remaining_time": 404.7658642,
            "test": [
             0.4534671214
            ]
           },
           {
            "iteration": 103,
            "learn": [
             0.3822881457
            ],
            "parameters": [
             {
              "depth": 5,
              "iterations": 100,
              "l2_leaf_reg": 1,
              "learning_rate": 0.441
             }
            ],
            "passed_time": 519.7759273,
            "remaining_time": 399.8276364,
            "test": [
             0.4542380391
            ]
           },
           {
            "iteration": 104,
            "learn": [
             0.3784180511
            ],
            "parameters": [
             {
              "depth": 5,
              "iterations": 100,
              "l2_leaf_reg": 1,
              "learning_rate": 0.481
             }
            ],
            "passed_time": 524.8773221,
            "remaining_time": 394.9076995,
            "test": [
             0.4543930395
            ]
           },
           {
            "iteration": 105,
            "learn": [
             0.3752393414
            ],
            "parameters": [
             {
              "depth": 5,
              "iterations": 100,
              "l2_leaf_reg": 1,
              "learning_rate": 0.521
             }
            ],
            "passed_time": 529.921426,
            "remaining_time": 389.9421814,
            "test": [
             0.4559210167
            ]
           },
           {
            "iteration": 106,
            "learn": [
             0.3704465374
            ],
            "parameters": [
             {
              "depth": 5,
              "iterations": 100,
              "l2_leaf_reg": 1,
              "learning_rate": 0.561
             }
            ],
            "passed_time": 535.0053812,
            "remaining_time": 385.0038725,
            "test": [
             0.4575556099
            ]
           },
           {
            "iteration": 107,
            "learn": [
             0.3643254193
            ],
            "parameters": [
             {
              "depth": 5,
              "iterations": 100,
              "l2_leaf_reg": 1,
              "learning_rate": 0.601
             }
            ],
            "passed_time": 540.0655639,
            "remaining_time": 380.0461376,
            "test": [
             0.4538450328
            ]
           },
           {
            "iteration": 108,
            "learn": [
             0.3627747209
            ],
            "parameters": [
             {
              "depth": 5,
              "iterations": 100,
              "l2_leaf_reg": 1,
              "learning_rate": 0.641
             }
            ],
            "passed_time": 545.1157449,
            "remaining_time": 375.079641,
            "test": [
             0.4572260126
            ]
           },
           {
            "iteration": 109,
            "learn": [
             0.3600902668
            ],
            "parameters": [
             {
              "depth": 5,
              "iterations": 100,
              "l2_leaf_reg": 1,
              "learning_rate": 0.681
             }
            ],
            "passed_time": 550.1929743,
            "remaining_time": 370.1298191,
            "test": [
             0.4590081926
            ]
           },
           {
            "iteration": 110,
            "learn": [
             0.3568991443
            ],
            "parameters": [
             {
              "depth": 5,
              "iterations": 100,
              "l2_leaf_reg": 1,
              "learning_rate": 0.721
             }
            ],
            "passed_time": 555.2471189,
            "remaining_time": 365.1625196,
            "test": [
             0.4588851272
            ]
           },
           {
            "iteration": 111,
            "learn": [
             0.3539268799
            ],
            "parameters": [
             {
              "depth": 5,
              "iterations": 100,
              "l2_leaf_reg": 1,
              "learning_rate": 0.761
             }
            ],
            "passed_time": 560.3236541,
            "remaining_time": 360.2080634,
            "test": [
             0.4656424952
            ]
           },
           {
            "iteration": 112,
            "learn": [
             0.3545605082
            ],
            "parameters": [
             {
              "depth": 5,
              "iterations": 100,
              "l2_leaf_reg": 1,
              "learning_rate": 0.801
             }
            ],
            "passed_time": 565.3715134,
            "remaining_time": 355.2334288,
            "test": [
             0.4619802165
            ]
           },
           {
            "iteration": 113,
            "learn": [
             0.3460727445
            ],
            "parameters": [
             {
              "depth": 5,
              "iterations": 100,
              "l2_leaf_reg": 1,
              "learning_rate": 0.841
             }
            ],
            "passed_time": 570.4090326,
            "remaining_time": 350.2511604,
            "test": [
             0.459713916
            ]
           },
           {
            "iteration": 114,
            "learn": [
             0.3470172807
            ],
            "parameters": [
             {
              "depth": 5,
              "iterations": 100,
              "l2_leaf_reg": 1,
              "learning_rate": 0.881
             }
            ],
            "passed_time": 575.5055153,
            "remaining_time": 345.3033092,
            "test": [
             0.463110594
            ]
           },
           {
            "iteration": 115,
            "learn": [
             14.14113776
            ],
            "parameters": [
             {
              "depth": 5,
              "iterations": 100,
              "l2_leaf_reg": 3,
              "learning_rate": 0.001
             }
            ],
            "passed_time": 580.5234902,
            "remaining_time": 340.3068735,
            "test": [
             14.1530406
            ]
           },
           {
            "iteration": 116,
            "learn": [
             0.5391062004
            ],
            "parameters": [
             {
              "depth": 5,
              "iterations": 100,
              "l2_leaf_reg": 3,
              "learning_rate": 0.041
             }
            ],
            "passed_time": 585.6392693,
            "remaining_time": 335.3660773,
            "test": [
             0.5447840131
            ]
           },
           {
            "iteration": 117,
            "learn": [
             0.4524038032
            ],
            "parameters": [
             {
              "depth": 5,
              "iterations": 100,
              "l2_leaf_reg": 3,
              "learning_rate": 0.081
             }
            ],
            "passed_time": 590.6871857,
            "remaining_time": 330.3843581,
            "test": [
             0.4586331601
            ]
           },
           {
            "iteration": 118,
            "learn": [
             0.441823497
            ],
            "parameters": [
             {
              "depth": 5,
              "iterations": 100,
              "l2_leaf_reg": 3,
              "learning_rate": 0.121
             }
            ],
            "passed_time": 595.7328066,
            "remaining_time": 325.4002725,
            "test": [
             0.4528396145
            ]
           },
           {
            "iteration": 119,
            "learn": [
             0.4319821274
            ],
            "parameters": [
             {
              "depth": 5,
              "iterations": 100,
              "l2_leaf_reg": 3,
              "learning_rate": 0.161
             }
            ],
            "passed_time": 600.8277028,
            "remaining_time": 320.4414415,
            "test": [
             0.4509037854
            ]
           },
           {
            "iteration": 120,
            "learn": [
             0.4240690065
            ],
            "parameters": [
             {
              "depth": 5,
              "iterations": 100,
              "l2_leaf_reg": 3,
              "learning_rate": 0.201
             }
            ],
            "passed_time": 607.1376554,
            "remaining_time": 316.1129941,
            "test": [
             0.4489030116
            ]
           },
           {
            "iteration": 121,
            "learn": [
             0.4201157372
            ],
            "parameters": [
             {
              "depth": 5,
              "iterations": 100,
              "l2_leaf_reg": 3,
              "learning_rate": 0.241
             }
            ],
            "passed_time": 613.8557468,
            "remaining_time": 311.9594779,
            "test": [
             0.4499776143
            ]
           },
           {
            "iteration": 122,
            "learn": [
             0.4144115261
            ],
            "parameters": [
             {
              "depth": 5,
              "iterations": 100,
              "l2_leaf_reg": 3,
              "learning_rate": 0.281
             }
            ],
            "passed_time": 618.9134354,
            "remaining_time": 306.9408094,
            "test": [
             0.4522359911
            ]
           },
           {
            "iteration": 123,
            "learn": [
             0.4069170298
            ],
            "parameters": [
             {
              "depth": 5,
              "iterations": 100,
              "l2_leaf_reg": 3,
              "learning_rate": 0.321
             }
            ],
            "passed_time": 623.9906673,
            "remaining_time": 301.9309681,
            "test": [
             0.4532693672
            ]
           },
           {
            "iteration": 124,
            "learn": [
             0.4042723927
            ],
            "parameters": [
             {
              "depth": 5,
              "iterations": 100,
              "l2_leaf_reg": 3,
              "learning_rate": 0.361
             }
            ],
            "passed_time": 629.0971778,
            "remaining_time": 296.9338679,
            "test": [
             0.4512522797
            ]
           },
           {
            "iteration": 125,
            "learn": [
             0.398561611
            ],
            "parameters": [
             {
              "depth": 5,
              "iterations": 100,
              "l2_leaf_reg": 3,
              "learning_rate": 0.401
             }
            ],
            "passed_time": 636.9858465,
            "remaining_time": 293.2157071,
            "test": [
             0.4531529467
            ]
           },
           {
            "iteration": 126,
            "learn": [
             0.3941560785
            ],
            "parameters": [
             {
              "depth": 5,
              "iterations": 100,
              "l2_leaf_reg": 3,
              "learning_rate": 0.441
             }
            ],
            "passed_time": 642.0058213,
            "remaining_time": 288.144345,
            "test": [
             0.4540998138
            ]
           },
           {
            "iteration": 127,
            "learn": [
             0.3902563396
            ],
            "parameters": [
             {
              "depth": 5,
              "iterations": 100,
              "l2_leaf_reg": 3,
              "learning_rate": 0.481
             }
            ],
            "passed_time": 647.0992548,
            "remaining_time": 283.105924,
            "test": [
             0.4595026174
            ]
           },
           {
            "iteration": 128,
            "learn": [
             0.3867244677
            ],
            "parameters": [
             {
              "depth": 5,
              "iterations": 100,
              "l2_leaf_reg": 3,
              "learning_rate": 0.521
             }
            ],
            "passed_time": 652.1912561,
            "remaining_time": 278.0660394,
            "test": [
             0.4574142897
            ]
           },
           {
            "iteration": 129,
            "learn": [
             0.3787811422
            ],
            "parameters": [
             {
              "depth": 5,
              "iterations": 100,
              "l2_leaf_reg": 3,
              "learning_rate": 0.561
             }
            ],
            "passed_time": 657.3313562,
            "remaining_time": 273.0453326,
            "test": [
             0.4564977518
            ]
           },
           {
            "iteration": 130,
            "learn": [
             0.3784660247
            ],
            "parameters": [
             {
              "depth": 5,
              "iterations": 100,
              "l2_leaf_reg": 3,
              "learning_rate": 0.601
             }
            ],
            "passed_time": 662.3591399,
            "remaining_time": 267.977362,
            "test": [
             0.4584074421
            ]
           },
           {
            "iteration": 131,
            "learn": [
             0.3758138456
            ],
            "parameters": [
             {
              "depth": 5,
              "iterations": 100,
              "l2_leaf_reg": 3,
              "learning_rate": 0.641
             }
            ],
            "passed_time": 667.4280746,
            "remaining_time": 262.9262112,
            "test": [
             0.4568970981
            ]
           },
           {
            "iteration": 132,
            "learn": [
             0.3709145997
            ],
            "parameters": [
             {
              "depth": 5,
              "iterations": 100,
              "l2_leaf_reg": 3,
              "learning_rate": 0.681
             }
            ],
            "passed_time": 672.5058032,
            "remaining_time": 257.8781651,
            "test": [
             0.4600660133
            ]
           },
           {
            "iteration": 133,
            "learn": [
             0.3685939117
            ],
            "parameters": [
             {
              "depth": 5,
              "iterations": 100,
              "l2_leaf_reg": 3,
              "learning_rate": 0.721
             }
            ],
            "passed_time": 677.5836676,
            "remaining_time": 252.8297267,
            "test": [
             0.4639907317
            ]
           },
           {
            "iteration": 134,
            "learn": [
             0.3654841858
            ],
            "parameters": [
             {
              "depth": 5,
              "iterations": 100,
              "l2_leaf_reg": 3,
              "learning_rate": 0.761
             }
            ],
            "passed_time": 682.6550538,
            "remaining_time": 247.778501,
            "test": [
             0.4615250062
            ]
           },
           {
            "iteration": 135,
            "learn": [
             0.3592530207
            ],
            "parameters": [
             {
              "depth": 5,
              "iterations": 100,
              "l2_leaf_reg": 3,
              "learning_rate": 0.801
             }
            ],
            "passed_time": 687.7822237,
            "remaining_time": 242.7466672,
            "test": [
             0.4612836395
            ]
           },
           {
            "iteration": 136,
            "learn": [
             0.3599360977
            ],
            "parameters": [
             {
              "depth": 5,
              "iterations": 100,
              "l2_leaf_reg": 3,
              "learning_rate": 0.841
             }
            ],
            "passed_time": 692.8283545,
            "remaining_time": 237.6856399,
            "test": [
             0.462002662
            ]
           },
           {
            "iteration": 137,
            "learn": [
             0.3589124156
            ],
            "parameters": [
             {
              "depth": 5,
              "iterations": 100,
              "l2_leaf_reg": 3,
              "learning_rate": 0.881
             }
            ],
            "passed_time": 697.8771788,
            "remaining_time": 232.6257263,
            "test": [
             0.4600351171
            ]
           },
           {
            "iteration": 138,
            "learn": [
             13.45081464
            ],
            "parameters": [
             {
              "depth": 5,
              "iterations": 150,
              "l2_leaf_reg": 1,
              "learning_rate": 0.001
             }
            ],
            "passed_time": 705.4674544,
            "remaining_time": 228.3887442,
            "test": [
             13.46269038
            ]
           },
           {
            "iteration": 139,
            "learn": [
             0.4605630564
            ],
            "parameters": [
             {
              "depth": 5,
              "iterations": 150,
              "l2_leaf_reg": 1,
              "learning_rate": 0.041
             }
            ],
            "passed_time": 713.115021,
            "remaining_time": 224.1218637,
            "test": [
             0.4633451638
            ]
           },
           {
            "iteration": 140,
            "learn": [
             0.4383859013
            ],
            "parameters": [
             {
              "depth": 5,
              "iterations": 150,
              "l2_leaf_reg": 1,
              "learning_rate": 0.081
             }
            ],
            "passed_time": 720.7695317,
            "remaining_time": 219.809148,
            "test": [
             0.4505484873
            ]
           },
           {
            "iteration": 141,
            "learn": [
             0.4238441909
            ],
            "parameters": [
             {
              "depth": 5,
              "iterations": 150,
              "l2_leaf_reg": 1,
              "learning_rate": 0.121
             }
            ],
            "passed_time": 728.3274929,
            "remaining_time": 215.4208077,
            "test": [
             0.4488985262
            ]
           },
           {
            "iteration": 142,
            "learn": [
             0.4105967043
            ],
            "parameters": [
             {
              "depth": 5,
              "iterations": 150,
              "l2_leaf_reg": 1,
              "learning_rate": 0.161
             }
            ],
            "passed_time": 735.9479734,
            "remaining_time": 211.0060623,
            "test": [
             0.450367247
            ]
           },
           {
            "iteration": 143,
            "learn": [
             0.4000879662
            ],
            "parameters": [
             {
              "depth": 5,
              "iterations": 150,
              "l2_leaf_reg": 1,
              "learning_rate": 0.201
             }
            ],
            "passed_time": 743.5358104,
            "remaining_time": 206.5377251,
            "test": [
             0.4497987307
            ]
           },
           {
            "iteration": 144,
            "learn": [
             0.390840838
            ],
            "parameters": [
             {
              "depth": 5,
              "iterations": 150,
              "l2_leaf_reg": 1,
              "learning_rate": 0.241
             }
            ],
            "passed_time": 751.139439,
            "remaining_time": 202.0306077,
            "test": [
             0.4505253402
            ]
           },
           {
            "iteration": 145,
            "learn": [
             0.3831561337
            ],
            "parameters": [
             {
              "depth": 5,
              "iterations": 150,
              "l2_leaf_reg": 1,
              "learning_rate": 0.281
             }
            ],
            "passed_time": 758.6582009,
            "remaining_time": 197.4589838,
            "test": [
             0.4510473013
            ]
           },
           {
            "iteration": 146,
            "learn": [
             0.3737110126
            ],
            "parameters": [
             {
              "depth": 5,
              "iterations": 150,
              "l2_leaf_reg": 1,
              "learning_rate": 0.321
             }
            ],
            "passed_time": 766.2233452,
            "remaining_time": 192.8589372,
            "test": [
             0.4549230913
            ]
           },
           {
            "iteration": 147,
            "learn": [
             0.367762511
            ],
            "parameters": [
             {
              "depth": 5,
              "iterations": 150,
              "l2_leaf_reg": 1,
              "learning_rate": 0.361
             }
            ],
            "passed_time": 773.8221858,
            "remaining_time": 188.2270182,
            "test": [
             0.4556735337
            ]
           },
           {
            "iteration": 148,
            "learn": [
             0.3610368055
            ],
            "parameters": [
             {
              "depth": 5,
              "iterations": 150,
              "l2_leaf_reg": 1,
              "learning_rate": 0.401
             }
            ],
            "passed_time": 781.372719,
            "remaining_time": 183.5439273,
            "test": [
             0.4534671214
            ]
           },
           {
            "iteration": 149,
            "learn": [
             0.351552822
            ],
            "parameters": [
             {
              "depth": 5,
              "iterations": 150,
              "l2_leaf_reg": 1,
              "learning_rate": 0.441
             }
            ],
            "passed_time": 788.9786439,
            "remaining_time": 178.8351593,
            "test": [
             0.4542380391
            ]
           },
           {
            "iteration": 150,
            "learn": [
             0.3483998029
            ],
            "parameters": [
             {
              "depth": 5,
              "iterations": 150,
              "l2_leaf_reg": 1,
              "learning_rate": 0.481
             }
            ],
            "passed_time": 796.5546694,
            "remaining_time": 174.081484,
            "test": [
             0.4543930395
            ]
           },
           {
            "iteration": 151,
            "learn": [
             0.3414902132
            ],
            "parameters": [
             {
              "depth": 5,
              "iterations": 150,
              "l2_leaf_reg": 1,
              "learning_rate": 0.521
             }
            ],
            "passed_time": 804.0776347,
            "remaining_time": 169.2795021,
            "test": [
             0.4559210167
            ]
           },
           {
            "iteration": 152,
            "learn": [
             0.3368220314
            ],
            "parameters": [
             {
              "depth": 5,
              "iterations": 150,
              "l2_leaf_reg": 1,
              "learning_rate": 0.561
             }
            ],
            "passed_time": 811.6016655,
            "remaining_time": 164.4421675,
            "test": [
             0.4575556099
            ]
           },
           {
            "iteration": 153,
            "learn": [
             0.3307444224
            ],
            "parameters": [
             {
              "depth": 5,
              "iterations": 150,
              "l2_leaf_reg": 1,
              "learning_rate": 0.601
             }
            ],
            "passed_time": 819.157928,
            "remaining_time": 159.5762197,
            "test": [
             0.4538450328
            ]
           },
           {
            "iteration": 154,
            "learn": [
             0.3287108908
            ],
            "parameters": [
             {
              "depth": 5,
              "iterations": 150,
              "l2_leaf_reg": 1,
              "learning_rate": 0.641
             }
            ],
            "passed_time": 826.6999943,
            "remaining_time": 154.6729022,
            "test": [
             0.4572260126
            ]
           },
           {
            "iteration": 155,
            "learn": [
             0.3222171736
            ],
            "parameters": [
             {
              "depth": 5,
              "iterations": 150,
              "l2_leaf_reg": 1,
              "learning_rate": 0.681
             }
            ],
            "passed_time": 834.2743135,
            "remaining_time": 149.7415434,
            "test": [
             0.4590081926
            ]
           },
           {
            "iteration": 156,
            "learn": [
             0.3172227385
            ],
            "parameters": [
             {
              "depth": 5,
              "iterations": 150,
              "l2_leaf_reg": 1,
              "learning_rate": 0.721
             }
            ],
            "passed_time": 841.8485258,
            "remaining_time": 144.7764981,
            "test": [
             0.4588851272
            ]
           },
           {
            "iteration": 157,
            "learn": [
             0.3172023967
            ],
            "parameters": [
             {
              "depth": 5,
              "iterations": 150,
              "l2_leaf_reg": 1,
              "learning_rate": 0.761
             }
            ],
            "passed_time": 849.430181,
            "remaining_time": 139.77965,
            "test": [
             0.4656424952
            ]
           },
           {
            "iteration": 158,
            "learn": [
             0.3166401527
            ],
            "parameters": [
             {
              "depth": 5,
              "iterations": 150,
              "l2_leaf_reg": 1,
              "learning_rate": 0.801
             }
            ],
            "passed_time": 856.9462563,
            "remaining_time": 134.7399774,
            "test": [
             0.4619802165
            ]
           },
           {
            "iteration": 159,
            "learn": [
             0.306530582
            ],
            "parameters": [
             {
              "depth": 5,
              "iterations": 150,
              "l2_leaf_reg": 1,
              "learning_rate": 0.841
             }
            ],
            "passed_time": 864.5930316,
            "remaining_time": 129.6889547,
            "test": [
             0.459713916
            ]
           },
           {
            "iteration": 160,
            "learn": [
             0.3089621999
            ],
            "parameters": [
             {
              "depth": 5,
              "iterations": 150,
              "l2_leaf_reg": 1,
              "learning_rate": 0.881
             }
            ],
            "passed_time": 872.2003215,
            "remaining_time": 124.6000459,
            "test": [
             0.463110594
            ]
           },
           {
            "iteration": 161,
            "learn": [
             13.45419069
            ],
            "parameters": [
             {
              "depth": 5,
              "iterations": 150,
              "l2_leaf_reg": 3,
              "learning_rate": 0.001
             }
            ],
            "passed_time": 879.8898159,
            "remaining_time": 119.4912096,
            "test": [
             13.46607635
            ]
           },
           {
            "iteration": 162,
            "learn": [
             0.4616266743
            ],
            "parameters": [
             {
              "depth": 5,
              "iterations": 150,
              "l2_leaf_reg": 3,
              "learning_rate": 0.041
             }
            ],
            "passed_time": 887.9018308,
            "remaining_time": 114.3922604,
            "test": [
             0.465008176
            ]
           },
           {
            "iteration": 163,
            "learn": [
             0.4401109014
            ],
            "parameters": [
             {
              "depth": 5,
              "iterations": 150,
              "l2_leaf_reg": 3,
              "learning_rate": 0.081
             }
            ],
            "passed_time": 895.5227037,
            "remaining_time": 109.2100858,
            "test": [
             0.4513334852
            ]
           },
           {
            "iteration": 164,
            "learn": [
             0.4284757863
            ],
            "parameters": [
             {
              "depth": 5,
              "iterations": 150,
              "l2_leaf_reg": 3,
              "learning_rate": 0.121
             }
            ],
            "passed_time": 903.0026529,
            "remaining_time": 103.9821237,
            "test": [
             0.4489363875
            ]
           },
           {
            "iteration": 165,
            "learn": [
             0.4170963082
            ],
            "parameters": [
             {
              "depth": 5,
              "iterations": 150,
              "l2_leaf_reg": 3,
              "learning_rate": 0.161
             }
            ],
            "passed_time": 910.6030543,
            "remaining_time": 98.74009023,
            "test": [
             0.4489384343
            ]
           },
           {
            "iteration": 166,
            "learn": [
             0.4068912607
            ],
            "parameters": [
             {
              "depth": 5,
              "iterations": 150,
              "l2_leaf_reg": 3,
              "learning_rate": 0.201
             }
            ],
            "passed_time": 918.1859176,
            "remaining_time": 93.46802754,
            "test": [
             0.4484108573
            ]
           },
           {
            "iteration": 167,
            "learn": [
             0.4001101358
            ],
            "parameters": [
             {
              "depth": 5,
              "iterations": 150,
              "l2_leaf_reg": 3,
              "learning_rate": 0.241
             }
            ],
            "passed_time": 925.7712471,
            "remaining_time": 88.1686902,
            "test": [
             0.4490499657
            ]
           },
           {
            "iteration": 168,
            "learn": [
             0.395076012
            ],
            "parameters": [
             {
              "depth": 5,
              "iterations": 150,
              "l2_leaf_reg": 3,
              "learning_rate": 0.281
             }
            ],
            "passed_time": 933.2745974,
            "remaining_time": 82.83502344,
            "test": [
             0.451864906
            ]
           },
           {
            "iteration": 169,
            "learn": [
             0.3852430408
            ],
            "parameters": [
             {
              "depth": 5,
              "iterations": 150,
              "l2_leaf_reg": 3,
              "learning_rate": 0.321
             }
            ],
            "passed_time": 940.8727813,
            "remaining_time": 77.48364081,
            "test": [
             0.4527639629
            ]
           },
           {
            "iteration": 170,
            "learn": [
             0.379842665
            ],
            "parameters": [
             {
              "depth": 5,
              "iterations": 150,
              "l2_leaf_reg": 3,
              "learning_rate": 0.361
             }
            ],
            "passed_time": 948.4713884,
            "remaining_time": 72.10601198,
            "test": [
             0.4512522797
            ]
           },
           {
            "iteration": 171,
            "learn": [
             0.3725434031
            ],
            "parameters": [
             {
              "depth": 5,
              "iterations": 150,
              "l2_leaf_reg": 3,
              "learning_rate": 0.401
             }
            ],
            "passed_time": 956.0470299,
            "remaining_time": 66.70095557,
            "test": [
             0.4527041233
            ]
           },
           {
            "iteration": 172,
            "learn": [
             0.3676996711
            ],
            "parameters": [
             {
              "depth": 5,
              "iterations": 150,
              "l2_leaf_reg": 3,
              "learning_rate": 0.441
             }
            ],
            "passed_time": 963.5903602,
            "remaining_time": 61.26875123,
            "test": [
             0.4540998138
            ]
           },
           {
            "iteration": 173,
            "learn": [
             0.3624962512
            ],
            "parameters": [
             {
              "depth": 5,
              "iterations": 150,
              "l2_leaf_reg": 3,
              "learning_rate": 0.481
             }
            ],
            "passed_time": 971.1187758,
            "remaining_time": 55.8114239,
            "test": [
             0.4595026174
            ]
           },
           {
            "iteration": 174,
            "learn": [
             0.3574309425
            ],
            "parameters": [
             {
              "depth": 5,
              "iterations": 150,
              "l2_leaf_reg": 3,
              "learning_rate": 0.521
             }
            ],
            "passed_time": 978.6531654,
            "remaining_time": 50.33073422,
            "test": [
             0.4574142897
            ]
           },
           {
            "iteration": 175,
            "learn": [
             0.3472453781
            ],
            "parameters": [
             {
              "depth": 5,
              "iterations": 150,
              "l2_leaf_reg": 3,
              "learning_rate": 0.561
             }
            ],
            "passed_time": 986.2667185,
            "remaining_time": 44.83030539,
            "test": [
             0.4564977518
            ]
           },
           {
            "iteration": 176,
            "learn": [
             0.347736899
            ],
            "parameters": [
             {
              "depth": 5,
              "iterations": 150,
              "l2_leaf_reg": 3,
              "learning_rate": 0.601
             }
            ],
            "passed_time": 993.7704323,
            "remaining_time": 39.30165552,
            "test": [
             0.4584074421
            ]
           },
           {
            "iteration": 177,
            "learn": [
             0.3425573937
            ],
            "parameters": [
             {
              "depth": 5,
              "iterations": 150,
              "l2_leaf_reg": 3,
              "learning_rate": 0.641
             }
            ],
            "passed_time": 1001.356198,
            "remaining_time": 33.7535797,
            "test": [
             0.4568970981
            ]
           },
           {
            "iteration": 178,
            "learn": [
             0.3362656094
            ],
            "parameters": [
             {
              "depth": 5,
              "iterations": 150,
              "l2_leaf_reg": 3,
              "learning_rate": 0.681
             }
            ],
            "passed_time": 1008.945359,
            "remaining_time": 28.18283126,
            "test": [
             0.4600660133
            ]
           },
           {
            "iteration": 179,
            "learn": [
             0.3353433171
            ],
            "parameters": [
             {
              "depth": 5,
              "iterations": 150,
              "l2_leaf_reg": 3,
              "learning_rate": 0.721
             }
            ],
            "passed_time": 1016.508207,
            "remaining_time": 22.58907127,
            "test": [
             0.4639907317
            ]
           },
           {
            "iteration": 180,
            "learn": [
             0.3305957493
            ],
            "parameters": [
             {
              "depth": 5,
              "iterations": 150,
              "l2_leaf_reg": 3,
              "learning_rate": 0.761
             }
            ],
            "passed_time": 1024.082336,
            "remaining_time": 16.97374038,
            "test": [
             0.4615250062
            ]
           },
           {
            "iteration": 181,
            "learn": [
             0.3232621625
            ],
            "parameters": [
             {
              "depth": 5,
              "iterations": 150,
              "l2_leaf_reg": 3,
              "learning_rate": 0.801
             }
            ],
            "passed_time": 1031.670501,
            "remaining_time": 11.33703847,
            "test": [
             0.4612836395
            ]
           },
           {
            "iteration": 182,
            "learn": [
             0.3242706929
            ],
            "parameters": [
             {
              "depth": 5,
              "iterations": 150,
              "l2_leaf_reg": 3,
              "learning_rate": 0.841
             }
            ],
            "passed_time": 1039.238881,
            "remaining_time": 5.678900988,
            "test": [
             0.462002662
            ]
           },
           {
            "iteration": 183,
            "learn": [
             0.3223823495
            ],
            "parameters": [
             {
              "depth": 5,
              "iterations": 150,
              "l2_leaf_reg": 3,
              "learning_rate": 0.881
             }
            ],
            "passed_time": 1046.899861,
            "remaining_time": 0,
            "test": [
             0.4600351171
            ]
           }
          ],
          "meta": {
           "iteration_count": 184,
           "launch_mode": "Train",
           "learn_metrics": [
            {
             "best_value": "Min",
             "name": "RMSE"
            }
           ],
           "learn_sets": [
            "learn"
           ],
           "name": "experiment",
           "parameters": "parameters",
           "test_metrics": [
            {
             "best_value": "Min",
             "name": "RMSE"
            }
           ],
           "test_sets": [
            "test"
           ]
          }
         },
         "passed_iterations": 183,
         "total_iterations": 184
        },
        "name": "catboost_info",
        "path": "catboost_info"
       }
      },
      "layout": "IPY_MODEL_a6b21e94ab404dd7a85ec6da261f44aa"
     }
    }
   }
  }
 },
 "nbformat": 4,
 "nbformat_minor": 1
}
