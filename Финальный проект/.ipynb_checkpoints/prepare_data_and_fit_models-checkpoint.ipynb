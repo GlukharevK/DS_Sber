{
 "cells": [
  {
   "cell_type": "markdown",
   "metadata": {},
   "source": [
    "## Предобработка данных и обучение модели"
   ]
  },
  {
   "cell_type": "code",
   "execution_count": 119,
   "metadata": {
    "id": "-Hb7vcgzEfep"
   },
   "outputs": [],
   "source": [
    "import pandas as pd\n",
    "import numpy as np\n",
    "import seaborn as sns\n",
    "import matplotlib.pyplot as plt\n",
    "from sklearn.impute import SimpleImputer,  KNNImputer\n",
    "from sklearn.preprocessing import OneHotEncoder, LabelEncoder\n",
    "from sklearn.model_selection import train_test_split, GridSearchCV\n",
    "from sklearn.metrics import mean_squared_log_error, make_scorer, f1_score, accuracy_score\n",
    "from transliterate import translit\n",
    "import xgboost as xgb\n",
    "import heapq\n",
    "import geojson\n",
    "import json\n",
    "import pickle\n",
    "from catboost import CatBoostRegressor\n",
    "import catboost as cb\n",
    "from similar_text import similar_text"
   ]
  },
  {
   "cell_type": "code",
   "execution_count": 27,
   "metadata": {
    "id": "4CVobU_aGEU7"
   },
   "outputs": [],
   "source": [
    "train = pd.read_csv('data/train.csv', parse_dates=['timestamp'])\n",
    "test = pd.read_csv('data/test.csv', parse_dates=['timestamp'])\n",
    "macro = pd.read_csv('data/macro.csv', parse_dates=['timestamp'])"
   ]
  },
  {
   "cell_type": "code",
   "execution_count": 28,
   "metadata": {
    "id": "sN9TcsKwGEXd"
   },
   "outputs": [],
   "source": [
    "id_test = test['id']\n",
    "\n",
    "train.drop(['id'], axis=1, inplace=True)\n",
    "test.drop(['id'], axis=1, inplace=True)\n",
    "num_train = len(train)"
   ]
  },
  {
   "cell_type": "code",
   "execution_count": 29,
   "metadata": {
    "colab": {
     "base_uri": "https://localhost:8080/"
    },
    "id": "UhH_dxARHniZ",
    "outputId": "25ec1857-70c4-4b0f-9566-5a98158c7a44"
   },
   "outputs": [
    {
     "name": "stdout",
     "output_type": "stream",
     "text": [
      "Data Clean...\n"
     ]
    }
   ],
   "source": [
    "#Очистка данных\n",
    "print('Data Clean...')\n",
    "bad_index = train[train.life_sq > train.full_sq].index\n",
    "train.loc[bad_index, \"life_sq\"] = np.NaN\n",
    "equal_index = [601,1896,2791]\n",
    "test.loc[equal_index, \"life_sq\"] = test.loc[equal_index, \"full_sq\"]\n",
    "bad_index = test[test.life_sq > test.full_sq].index\n",
    "test.loc[bad_index, \"life_sq\"] = np.NaN\n",
    "bad_index = train[train.life_sq < 5].index\n",
    "train.loc[bad_index, \"life_sq\"] = np.NaN\n",
    "bad_index = test[test.life_sq < 5].index\n",
    "test.loc[bad_index, \"life_sq\"] = np.NaN\n",
    "bad_index = train[train.full_sq < 5].index\n",
    "train.loc[bad_index, \"full_sq\"] = np.NaN\n",
    "bad_index = test[test.full_sq < 5].index\n",
    "test.loc[bad_index, \"full_sq\"] = np.NaN\n",
    "kitch_is_build_year = [13117]\n",
    "train.loc[kitch_is_build_year, \"build_year\"] = train.loc[kitch_is_build_year, \"kitch_sq\"]\n",
    "bad_index = train[train.kitch_sq >= train.life_sq].index\n",
    "train.loc[bad_index, \"kitch_sq\"] = np.NaN\n",
    "bad_index = test[test.kitch_sq >= test.life_sq].index\n",
    "test.loc[bad_index, \"kitch_sq\"] = np.NaN\n",
    "bad_index = train[(train.kitch_sq == 0).values + (train.kitch_sq == 1).values].index\n",
    "train.loc[bad_index, \"kitch_sq\"] = np.NaN\n",
    "bad_index = test[(test.kitch_sq == 0).values + (test.kitch_sq == 1).values].index\n",
    "test.loc[bad_index, \"kitch_sq\"] = np.NaN\n",
    "bad_index = train[(train.full_sq > 210) & (train.life_sq / train.full_sq < 0.3)].index\n",
    "train.loc[bad_index, \"full_sq\"] = np.NaN\n",
    "bad_index = test[(test.full_sq > 150) & (test.life_sq / test.full_sq < 0.3)].index\n",
    "test.loc[bad_index, \"full_sq\"] = np.NaN\n",
    "bad_index = train[(train.kitch_sq / train.full_sq > 0.6)].index\n",
    "train.loc[bad_index, \"kitch_sq\"] = np.NaN\n",
    "bad_index = test[(test.kitch_sq / test.full_sq > 0.6)].index\n",
    "test.loc[bad_index, \"kitch_sq\"] = np.NaN\n",
    "bad_index = train[train.life_sq > 300].index\n",
    "train.loc[bad_index, [\"life_sq\", \"full_sq\"]] = np.NaN\n",
    "bad_index = test[test.life_sq > 200].index\n",
    "test.loc[bad_index, [\"life_sq\", \"full_sq\"]] = np.NaN\n",
    "train.product_type.value_counts(normalize= True)\n",
    "test.product_type.value_counts(normalize= True)\n",
    "bad_index = train[train.build_year < 1500].index\n",
    "train.loc[bad_index, \"build_year\"] = np.NaN\n",
    "bad_index = test[test.build_year < 1500].index\n",
    "test.loc[bad_index, \"build_year\"] = np.NaN\n",
    "bad_index = train[train.build_year > 2019].index\n",
    "train.loc[bad_index, \"build_year\"] = np.NaN\n",
    "bad_index = train[train.num_room == 0].index\n",
    "train.loc[bad_index, \"num_room\"] = np.NaN\n",
    "bad_index = test[test.num_room == 0].index\n",
    "test.loc[bad_index, \"num_room\"] = np.NaN\n",
    "bad_index = [10076, 11621, 17764, 19390, 24007, 26713, 29172]\n",
    "train.loc[bad_index, \"num_room\"] = np.NaN\n",
    "bad_index = [3174, 7313]\n",
    "test.loc[bad_index, \"num_room\"] = np.NaN\n",
    "bad_index = train[(train.floor == 0).values * (train.max_floor == 0).values].index\n",
    "train.loc[bad_index, [\"max_floor\", \"floor\"]] = np.NaN\n",
    "bad_index = train[train.floor == 0].index\n",
    "train.loc[bad_index, \"floor\"] = np.NaN\n",
    "bad_index = train[train.max_floor == 0].index\n",
    "train.loc[bad_index, \"max_floor\"] = np.NaN\n",
    "bad_index = test[test.max_floor == 0].index\n",
    "test.loc[bad_index, \"max_floor\"] = np.NaN\n",
    "bad_index = train[train.floor > train.max_floor].index\n",
    "train.loc[bad_index, \"max_floor\"] = np.NaN\n",
    "bad_index = test[test.floor > test.max_floor].index\n",
    "test.loc[bad_index, \"max_floor\"] = np.NaN\n",
    "train.floor.describe(percentiles= [0.9999])\n",
    "bad_index = [23584]\n",
    "train.loc[bad_index, \"floor\"] = np.NaN\n",
    "train.material.value_counts()\n",
    "test.material.value_counts()\n",
    "train.state.value_counts()\n",
    "bad_index = train[train.state == 33].index\n",
    "train.loc[bad_index, \"state\"] = np.NaN\n",
    "test.state.value_counts()\n",
    "\n",
    "# Очитка выбросов. Отношение стоимости к общей площади недвижимости.\n",
    "train.loc[train.full_sq == 0, 'full_sq'] = 50\n",
    "train = train[train.price_doc/train.full_sq <= 600000]\n",
    "train = train[train.price_doc/train.full_sq >= 40000]\n"
   ]
  },
  {
   "cell_type": "code",
   "execution_count": 30,
   "metadata": {
    "id": "LfkxaR61G5Km"
   },
   "outputs": [],
   "source": [
    "y = train['price_doc'].values\n",
    "# train.drop(['price_doc'], axis=1, inplace=True)\n",
    "train['month'] = train.timestamp.dt.month\n",
    "train['dow'] = train.timestamp.dt.dayofweek\n",
    "train['year'] = train.timestamp.dt.year\n",
    "\n",
    "train['rel_floor'] = train['floor'] / train['max_floor'].astype(float)\n",
    "train['rel_kitch_sq'] = train['kitch_sq'] / train['full_sq'].astype(float)"
   ]
  },
  {
   "cell_type": "code",
   "execution_count": 31,
   "metadata": {
    "id": "XzzrrK7YDCJD"
   },
   "outputs": [],
   "source": [
    "test['month'] = test.timestamp.dt.month\n",
    "test['dow'] = test.timestamp.dt.dayofweek\n",
    "test['year'] = test.timestamp.dt.year\n",
    "\n",
    "test['rel_floor'] = test['floor'] / test['max_floor'].astype(float)\n",
    "test['rel_kitch_sq'] = test['kitch_sq'] / test['full_sq'].astype(float)"
   ]
  },
  {
   "cell_type": "code",
   "execution_count": 32,
   "metadata": {},
   "outputs": [],
   "source": [
    "train['kindergarten_closely'] = train.kindergarten_km.apply(lambda x : 1 if x < 0.5 else 0)\n",
    "test['kindergarten_closely'] = test.kindergarten_km.apply(lambda x : 1 if x < 0.5 else 0)"
   ]
  },
  {
   "cell_type": "code",
   "execution_count": 33,
   "metadata": {},
   "outputs": [],
   "source": [
    "train['railroad_closely'] = train.railroad_km.apply(lambda x : 1 if x < 1.5 else 0)\n",
    "test['railroad_closely'] = test.railroad_km.apply(lambda x : 1 if x < 1.5 else 0)"
   ]
  },
  {
   "cell_type": "code",
   "execution_count": 34,
   "metadata": {},
   "outputs": [],
   "source": [
    "train['public_transport_station_closely'] = train.public_transport_station_km.apply(lambda x : 1 if x < 0.5 else 0)\n",
    "test['public_transport_station_closely'] = test.public_transport_station_km.apply(lambda x : 1 if x < 0.5 else 0)"
   ]
  },
  {
   "cell_type": "code",
   "execution_count": 35,
   "metadata": {},
   "outputs": [],
   "source": [
    "train['metro_closely'] = train.metro_min_walk.apply(lambda x : 1 if x < 17 else 0)\n",
    "test['metro_closely'] = test.metro_min_walk.apply(lambda x : 1 if x < 17 else 0)"
   ]
  },
  {
   "cell_type": "code",
   "execution_count": 36,
   "metadata": {},
   "outputs": [],
   "source": [
    "train['school_closely'] = train.school_km.apply(lambda x : 1 if x < 0.5 else 0)\n",
    "test['school_closely'] = test.school_km.apply(lambda x : 1 if x < 0.5 else 0)"
   ]
  },
  {
   "cell_type": "code",
   "execution_count": 37,
   "metadata": {},
   "outputs": [],
   "source": [
    "train['park_closely'] = train.park_km.apply(lambda x : 1 if x < 0.5 else 0)\n",
    "test['park_closely'] = test.park_km.apply(lambda x : 1 if x < 0.5 else 0)"
   ]
  },
  {
   "cell_type": "code",
   "execution_count": 38,
   "metadata": {},
   "outputs": [],
   "source": [
    "train['water_closely'] = train.water_km.apply(lambda x : 1 if x < 0.5 else 0)\n",
    "test['water_closely'] = test.water_km.apply(lambda x : 1 if x < 0.5 else 0)"
   ]
  },
  {
   "cell_type": "code",
   "execution_count": 39,
   "metadata": {},
   "outputs": [],
   "source": [
    "feature_forms = ['build_year', 'sub_area', 'full_sq', 'kitch_sq', 'life_sq', 'num_room', 'floor', 'max_floor',\n",
    "                'month', 'dow', 'year', 'rel_floor', 'rel_kitch_sq', 'state', 'kindergarten_closely', 'railroad_closely',\n",
    "                'public_transport_station_closely', 'metro_closely', 'school_closely', 'park_closely', 'water_closely']"
   ]
  },
  {
   "cell_type": "code",
   "execution_count": 40,
   "metadata": {},
   "outputs": [],
   "source": [
    "feature_forms_classifier = ['build_year', 'full_sq', 'kitch_sq', 'life_sq', 'num_room', 'floor', 'max_floor',\n",
    "                'rel_floor', 'rel_kitch_sq', 'state', 'kindergarten_closely', 'railroad_closely',\n",
    "                'public_transport_station_closely', 'metro_closely', 'school_closely', 'park_closely', 'water_closely', 'price_doc']"
   ]
  },
  {
   "cell_type": "code",
   "execution_count": 41,
   "metadata": {
    "colab": {
     "base_uri": "https://localhost:8080/"
    },
    "id": "tdIs-HT4Vwr7",
    "outputId": "ee27ff65-be8d-4f4a-93d6-bc6f62563462"
   },
   "outputs": [
    {
     "data": {
      "text/plain": [
       "28827"
      ]
     },
     "execution_count": 41,
     "metadata": {},
     "output_type": "execute_result"
    }
   ],
   "source": [
    "num_train = len(train)\n",
    "num_train"
   ]
  },
  {
   "cell_type": "code",
   "execution_count": 42,
   "metadata": {
    "id": "hOKlpHZbDCLx"
   },
   "outputs": [],
   "source": [
    "df_all = pd.concat([train, test])\n",
    "df_all = pd.merge_ordered(df_all, macro, on='timestamp', how='left')\n",
    "df_all.drop(['timestamp'], axis=1, inplace=True)"
   ]
  },
  {
   "cell_type": "markdown",
   "metadata": {},
   "source": [
    "##### Датасеты для регрессии и классификации"
   ]
  },
  {
   "cell_type": "code",
   "execution_count": 97,
   "metadata": {
    "id": "-LWiIZNGT72q"
   },
   "outputs": [],
   "source": [
    "for c in df_all.columns:\n",
    "    if df_all[c].dtype == 'object':\n",
    "        lbl = LabelEncoder()\n",
    "        lbl.fit(list(df_all[c].values))\n",
    "        df_all[c] = lbl.transform(list(df_all[c].values))\n",
    "\n",
    "# Датасет для предсказания районов\n",
    "df_all_classifier = df_all.copy() \n",
    "\n",
    "# Датасет со всеми признаками\n",
    "df_train = df_all[:num_train]\n",
    "df_test = df_all[num_train:]\n",
    "\n",
    "# Датасет с отборными признаками\n",
    "df_selected_features = df_all.copy()\n",
    "df_selected_features = df_selected_features[feature_forms]\n",
    "df_train_selected_features = df_selected_features[:num_train]\n",
    "df_test_selected_features = df_selected_features[num_train:]\n"
   ]
  },
  {
   "cell_type": "markdown",
   "metadata": {},
   "source": [
    "## Регрессия. Обучение на всех данных."
   ]
  },
  {
   "cell_type": "code",
   "execution_count": 65,
   "metadata": {
    "id": "Gnq7PTnrN_v4"
   },
   "outputs": [],
   "source": [
    "xgb_params = {\n",
    "    'n_estimators' : 300,\n",
    "    'eta': 0.05,\n",
    "    'max_depth': 5,\n",
    "    'objective': 'reg:linear',\n",
    "    'eval_metric' : 'rmse',\n",
    "    'silent': 1\n",
    "}"
   ]
  },
  {
   "cell_type": "code",
   "execution_count": 66,
   "metadata": {
    "id": "h9q5qIcwbe-y"
   },
   "outputs": [],
   "source": [
    "num_boost_rounds = 422\n",
    "# model = xgb.XGBRegressor(**xgb_params, )"
   ]
  },
  {
   "cell_type": "code",
   "execution_count": 67,
   "metadata": {},
   "outputs": [],
   "source": [
    "X_train, X_test, y_train, y_test = train_test_split(df_train.drop(columns=['price_doc']), y, test_size=0.2, shuffle=False)"
   ]
  },
  {
   "cell_type": "code",
   "execution_count": 68,
   "metadata": {},
   "outputs": [],
   "source": [
    "train_matrix_all_features = xgb.DMatrix(X_train, np.log1p(y_train), feature_names=X_train.columns.values)\n",
    "test_matrix_all_features = xgb.DMatrix(X_test, feature_names=X_test.columns.values)"
   ]
  },
  {
   "cell_type": "code",
   "execution_count": 70,
   "metadata": {},
   "outputs": [
    {
     "name": "stdout",
     "output_type": "stream",
     "text": [
      "[22:31:10] WARNING: C:/Users/Administrator/workspace/xgboost-win64_release_1.6.0/src/objective/regression_obj.cu:203: reg:linear is now deprecated in favor of reg:squarederror.\n",
      "[22:31:10] WARNING: C:/Users/Administrator/workspace/xgboost-win64_release_1.6.0/src/learner.cc:627: \n",
      "Parameters: { \"n_estimators\", \"silent\" } might not be used.\n",
      "\n",
      "  This could be a false alarm, with some parameters getting used by language bindings but\n",
      "  then being mistakenly passed down to XGBoost core, or some parameter actually being used\n",
      "  but getting flagged wrongly here. Please open an issue if you find any such cases.\n",
      "\n",
      "\n"
     ]
    }
   ],
   "source": [
    "model_reg_all_features = xgb.train(xgb_params, train_matrix_all_features, num_boost_round=num_boost_rounds)\n",
    "pred_reg_all_features = np.exp(model_reg_all_features.predict(test_matrix_all_features))"
   ]
  },
  {
   "cell_type": "code",
   "execution_count": 86,
   "metadata": {},
   "outputs": [
    {
     "name": "stdout",
     "output_type": "stream",
     "text": [
      "RMSLE: 0.255\n"
     ]
    }
   ],
   "source": [
    "rmsle = np.sqrt(mean_squared_log_error(y_test, pred_reg_all_features))\n",
    "\n",
    "print('RMSLE: {:.3f}'.format(rmsle))"
   ]
  },
  {
   "cell_type": "markdown",
   "metadata": {},
   "source": [
    "#### Обучим на всех данных и сделаем саббмит на Kaggle"
   ]
  },
  {
   "cell_type": "code",
   "execution_count": 90,
   "metadata": {},
   "outputs": [],
   "source": [
    "columns_for_subbmit = df_train.drop(columns=['price_doc']).columns.values\n",
    "all_df_matrix_all_features = xgb.DMatrix(df_train.drop(columns=['price_doc']), np.log1p(y), feature_names=columns_for_subbmit)\n",
    "test_df_matrix_all_features = xgb.DMatrix(df_test.drop(columns=['price_doc']), feature_names=columns_for_subbmit)"
   ]
  },
  {
   "cell_type": "code",
   "execution_count": 92,
   "metadata": {},
   "outputs": [
    {
     "name": "stdout",
     "output_type": "stream",
     "text": [
      "[22:44:15] WARNING: C:/Users/Administrator/workspace/xgboost-win64_release_1.6.0/src/objective/regression_obj.cu:203: reg:linear is now deprecated in favor of reg:squarederror.\n",
      "[22:44:15] WARNING: C:/Users/Administrator/workspace/xgboost-win64_release_1.6.0/src/learner.cc:627: \n",
      "Parameters: { \"n_estimators\", \"silent\" } might not be used.\n",
      "\n",
      "  This could be a false alarm, with some parameters getting used by language bindings but\n",
      "  then being mistakenly passed down to XGBoost core, or some parameter actually being used\n",
      "  but getting flagged wrongly here. Please open an issue if you find any such cases.\n",
      "\n",
      "\n"
     ]
    }
   ],
   "source": [
    "model_for_subbmit_all_features = xgb.train(xgb_params, all_df_matrix_all_features, num_boost_round=num_boost_rounds)\n",
    "pred_for_subbmit_all_features = np.exp(model_reg_all_features.predict(test_df_matrix_all_features))"
   ]
  },
  {
   "cell_type": "code",
   "execution_count": 94,
   "metadata": {},
   "outputs": [],
   "source": [
    "submission = pd.DataFrame({'id': id_test, 'price_doc': pred_for_subbmit_all_features})\n",
    "submission.to_csv('XGB_all_features.csv', index=False)"
   ]
  },
  {
   "cell_type": "markdown",
   "metadata": {},
   "source": [
    "##### Получили score на Kaggle"
   ]
  },
  {
   "cell_type": "code",
   "execution_count": 113,
   "metadata": {},
   "outputs": [
    {
     "name": "stdout",
     "output_type": "stream",
     "text": [
      "Public score: 0.32513, Private Score: 0.32491, Top 59%\n"
     ]
    }
   ],
   "source": [
    "print('Public score: 0.32513, Private Score: 0.32491, Top 59%')"
   ]
  },
  {
   "cell_type": "markdown",
   "metadata": {},
   "source": [
    "### Попробуем Catboost и GridSearch"
   ]
  },
  {
   "cell_type": "code",
   "execution_count": 201,
   "metadata": {},
   "outputs": [],
   "source": [
    "params_cat = {'iterations' : [800, 1000],\n",
    "          'learning_rate' : np.arange(0.04, 0.07, 0.003),\n",
    "          'depth' : [6]}"
   ]
  },
  {
   "cell_type": "code",
   "execution_count": 202,
   "metadata": {},
   "outputs": [],
   "source": [
    "train_dataset_all_features = cb.Pool(X_train, np.log1p(y_train))\n",
    "test_dataset_all_features = cb.Pool(X_test, np.log1p(y_test))"
   ]
  },
  {
   "cell_type": "code",
   "execution_count": 203,
   "metadata": {},
   "outputs": [],
   "source": [
    "model_cat_all_features = CatBoostRegressor(loss_function='RMSE', silent=True)"
   ]
  },
  {
   "cell_type": "code",
   "execution_count": null,
   "metadata": {
    "scrolled": true
   },
   "outputs": [],
   "source": [
    "model_cat_all_features.grid_search(params_cat, train_dataset_all_features, plot=True)"
   ]
  },
  {
   "cell_type": "code",
   "execution_count": 154,
   "metadata": {},
   "outputs": [],
   "source": [
    "best_params_cat = model_cat_all_features.get_all_params"
   ]
  },
  {
   "cell_type": "code",
   "execution_count": 153,
   "metadata": {},
   "outputs": [
    {
     "name": "stdout",
     "output_type": "stream",
     "text": [
      "RMSLE: 0.254\n"
     ]
    }
   ],
   "source": [
    "pred_reg_cat_all_features = np.exp(model_cat_all_features.predict(test_dataset_all_features))\n",
    "rmsle_cat = np.sqrt(mean_squared_log_error(y_test, pred_reg_cat_all_features))\n",
    "\n",
    "print('RMSLE: {:.3f}'.format(rmsle))"
   ]
  },
  {
   "cell_type": "markdown",
   "metadata": {},
   "source": [
    "#### Обучим на всех данных и сделаем subbmit"
   ]
  },
  {
   "cell_type": "code",
   "execution_count": 155,
   "metadata": {},
   "outputs": [],
   "source": [
    "train_dataset_all_features_cat = cb.Pool(df_train.drop(columns=['price_doc']), np.log1p(y))\n",
    "test_dataset_all_features_cat = cb.Pool(df_test.drop(columns=['price_doc']))"
   ]
  },
  {
   "cell_type": "code",
   "execution_count": 190,
   "metadata": {},
   "outputs": [],
   "source": [
    "best_cat_params = {\n",
    "    'iterations': 1000,\n",
    "    'learning_rate': 0.03,\n",
    "    'max_depth': 6,\n",
    "    'loss_function': 'RMSE',\n",
    "    'silent': True\n",
    "}"
   ]
  },
  {
   "cell_type": "code",
   "execution_count": 191,
   "metadata": {},
   "outputs": [],
   "source": [
    "best_cat_model = CatBoostRegressor(**best_cat_params)"
   ]
  },
  {
   "cell_type": "code",
   "execution_count": 192,
   "metadata": {},
   "outputs": [
    {
     "data": {
      "text/plain": [
       "<catboost.core.CatBoostRegressor at 0x226b487aeb0>"
      ]
     },
     "execution_count": 192,
     "metadata": {},
     "output_type": "execute_result"
    }
   ],
   "source": [
    "best_cat_model.fit(train_dataset_all_features_cat)"
   ]
  },
  {
   "cell_type": "code",
   "execution_count": 193,
   "metadata": {},
   "outputs": [],
   "source": [
    "pred_reg_cat_all_features_for_subbmit = np.exp(best_cat_model.predict(test_dataset_all_features_cat))"
   ]
  },
  {
   "cell_type": "code",
   "execution_count": 194,
   "metadata": {},
   "outputs": [],
   "source": [
    "submission = pd.DataFrame({'id': id_test, 'price_doc': pred_reg_cat_all_features_for_subbmit})\n",
    "submission.to_csv('CatB_all_features.csv', index=False)"
   ]
  },
  {
   "cell_type": "markdown",
   "metadata": {},
   "source": [
    "##### Получили score на Kaggle"
   ]
  },
  {
   "cell_type": "code",
   "execution_count": 206,
   "metadata": {},
   "outputs": [
    {
     "name": "stdout",
     "output_type": "stream",
     "text": [
      "Public score: 0.32349, Private Score: 0.32633, Top 59%\n"
     ]
    }
   ],
   "source": [
    "print('Public score: 0.32349, Private Score: 0.32633, Top 59%')"
   ]
  },
  {
   "cell_type": "markdown",
   "metadata": {},
   "source": [
    "### Регрессия. Обучение на отборных признаках."
   ]
  },
  {
   "cell_type": "code",
   "execution_count": 99,
   "metadata": {},
   "outputs": [],
   "source": [
    "X_train_sf, X_test_sf, y_train_sf, y_test_sf = train_test_split(df_train_selected_features, y, \n",
    "                                                    test_size=0.2, shuffle=False)"
   ]
  },
  {
   "cell_type": "code",
   "execution_count": 100,
   "metadata": {},
   "outputs": [],
   "source": [
    "train_matrix_selected_features = xgb.DMatrix(X_train_sf, np.log1p(y_train_sf), feature_names=feature_forms)\n",
    "test_matrix_selected_features = xgb.DMatrix(X_test_sf, feature_names=feature_forms)"
   ]
  },
  {
   "cell_type": "code",
   "execution_count": 106,
   "metadata": {},
   "outputs": [
    {
     "name": "stdout",
     "output_type": "stream",
     "text": [
      "[22:57:12] WARNING: C:/Users/Administrator/workspace/xgboost-win64_release_1.6.0/src/objective/regression_obj.cu:203: reg:linear is now deprecated in favor of reg:squarederror.\n",
      "[22:57:12] WARNING: C:/Users/Administrator/workspace/xgboost-win64_release_1.6.0/src/learner.cc:627: \n",
      "Parameters: { \"n_estimators\", \"silent\" } might not be used.\n",
      "\n",
      "  This could be a false alarm, with some parameters getting used by language bindings but\n",
      "  then being mistakenly passed down to XGBoost core, or some parameter actually being used\n",
      "  but getting flagged wrongly here. Please open an issue if you find any such cases.\n",
      "\n",
      "\n"
     ]
    }
   ],
   "source": [
    "model_reg_selected_features = xgb.train(xgb_params, train_matrix_selected_features, num_boost_round=num_boost_rounds)\n",
    "pred_reg_selected_features = np.exp(model_reg_selected_features.predict(test_matrix_selected_features))"
   ]
  },
  {
   "cell_type": "code",
   "execution_count": 107,
   "metadata": {},
   "outputs": [
    {
     "name": "stdout",
     "output_type": "stream",
     "text": [
      "RMSLE с отобранными признаками: 0.267\n"
     ]
    }
   ],
   "source": [
    "rmsle_sf = np.sqrt(mean_squared_log_error(y_test_sf, pred_reg_selected_features))\n",
    "print('RMSLE с отобранными признаками: {:.3f}'.format(rmsle_sf))"
   ]
  },
  {
   "cell_type": "markdown",
   "metadata": {},
   "source": [
    "##### Опять обучим на всех данных и сделаем саббмит на Kaggle"
   ]
  },
  {
   "cell_type": "code",
   "execution_count": 108,
   "metadata": {},
   "outputs": [],
   "source": [
    "df_matrix_selected_features = xgb.DMatrix(df_train_selected_features, np.log1p(y), feature_names=feature_forms)\n",
    "test_df_matrix_selected_features = xgb.DMatrix(df_test_selected_features, feature_names=feature_forms)"
   ]
  },
  {
   "cell_type": "code",
   "execution_count": 109,
   "metadata": {},
   "outputs": [
    {
     "name": "stdout",
     "output_type": "stream",
     "text": [
      "[23:01:02] WARNING: C:/Users/Administrator/workspace/xgboost-win64_release_1.6.0/src/objective/regression_obj.cu:203: reg:linear is now deprecated in favor of reg:squarederror.\n",
      "[23:01:02] WARNING: C:/Users/Administrator/workspace/xgboost-win64_release_1.6.0/src/learner.cc:627: \n",
      "Parameters: { \"n_estimators\", \"silent\" } might not be used.\n",
      "\n",
      "  This could be a false alarm, with some parameters getting used by language bindings but\n",
      "  then being mistakenly passed down to XGBoost core, or some parameter actually being used\n",
      "  but getting flagged wrongly here. Please open an issue if you find any such cases.\n",
      "\n",
      "\n"
     ]
    }
   ],
   "source": [
    "model_for_subbmit_selected_features = xgb.train(xgb_params, df_matrix_selected_features, num_boost_round=num_boost_rounds)\n",
    "pred_for_subbmit_selected_features = np.exp(model_for_subbmit_selected_features.predict(test_df_matrix_selected_features))"
   ]
  },
  {
   "cell_type": "code",
   "execution_count": 110,
   "metadata": {},
   "outputs": [],
   "source": [
    "submission_sf = pd.DataFrame({'id': id_test, 'price_doc': pred_for_subbmit_selected_features})\n",
    "submission_sf.to_csv('XGB_selected_features.csv', index=False)"
   ]
  },
  {
   "cell_type": "markdown",
   "metadata": {},
   "source": [
    "##### Получили score на Kaggle"
   ]
  },
  {
   "cell_type": "code",
   "execution_count": 112,
   "metadata": {},
   "outputs": [
    {
     "name": "stdout",
     "output_type": "stream",
     "text": [
      "Public score: 0.34180, Private Score: 0.34673, Top 78%\n"
     ]
    }
   ],
   "source": [
    "print('Public score: 0.34180, Private Score: 0.34673, Top 78%')"
   ]
  },
  {
   "cell_type": "code",
   "execution_count": 112,
   "metadata": {},
   "outputs": [],
   "source": [
    "# Выгрузка модели\n",
    "# pickle.dump(model_reg, open('model.pkl', \"wb\"))"
   ]
  },
  {
   "cell_type": "markdown",
   "metadata": {},
   "source": [
    "## Классификация районов"
   ]
  },
  {
   "cell_type": "markdown",
   "metadata": {},
   "source": [
    "##### Датасет для классификации"
   ]
  },
  {
   "cell_type": "code",
   "execution_count": 26,
   "metadata": {},
   "outputs": [],
   "source": [
    "y_classifier = df_all_classifier['sub_area']\n",
    "X_classifier = df_all_classifier[feature_forms_classifier]"
   ]
  },
  {
   "cell_type": "code",
   "execution_count": 27,
   "metadata": {},
   "outputs": [],
   "source": [
    "X_classifier.loc[num_train:, 'price_doc'] = pred_reg"
   ]
  },
  {
   "cell_type": "code",
   "execution_count": 29,
   "metadata": {},
   "outputs": [
    {
     "data": {
      "text/plain": [
       "((36489, 18), (36489,))"
      ]
     },
     "execution_count": 29,
     "metadata": {},
     "output_type": "execute_result"
    }
   ],
   "source": [
    "X_classifier.shape, y_classifier.shape"
   ]
  },
  {
   "cell_type": "code",
   "execution_count": 30,
   "metadata": {},
   "outputs": [],
   "source": [
    "xgb_params_cl = {\n",
    "    'n_estimators' : 300,\n",
    "    'learning_rate': 0.05,\n",
    "    'max_depth': 5,\n",
    "    'n_jobs' : -1,\n",
    "    'silent': 1\n",
    "}"
   ]
  },
  {
   "cell_type": "code",
   "execution_count": 33,
   "metadata": {},
   "outputs": [],
   "source": [
    "classifier_model = xgb.XGBClassifier(**xgb_params_cl)"
   ]
  },
  {
   "cell_type": "code",
   "execution_count": 38,
   "metadata": {},
   "outputs": [],
   "source": [
    "X_train_cl, X_test_cl, y_train_cl, y_test_cl = train_test_split(X_classifier, y_classifier, test_size=0.2)"
   ]
  },
  {
   "cell_type": "code",
   "execution_count": 143,
   "metadata": {},
   "outputs": [
    {
     "name": "stdout",
     "output_type": "stream",
     "text": [
      "[00:00:29] WARNING: C:/Users/Administrator/workspace/xgboost-win64_release_1.6.0/src/learner.cc:627: \n",
      "Parameters: { \"silent\" } might not be used.\n",
      "\n",
      "  This could be a false alarm, with some parameters getting used by language bindings but\n",
      "  then being mistakenly passed down to XGBoost core, or some parameter actually being used\n",
      "  but getting flagged wrongly here. Please open an issue if you find any such cases.\n",
      "\n",
      "\n"
     ]
    },
    {
     "data": {
      "text/plain": [
       "XGBClassifier(base_score=0.5, booster='gbtree', callbacks=None,\n",
       "              colsample_bylevel=1, colsample_bynode=1, colsample_bytree=1,\n",
       "              early_stopping_rounds=None, enable_categorical=False,\n",
       "              eval_metric=None, gamma=0, gpu_id=-1, grow_policy='depthwise',\n",
       "              importance_type=None, interaction_constraints='',\n",
       "              learning_rate=0.05, max_bin=256, max_cat_to_onehot=4,\n",
       "              max_delta_step=0, max_depth=5, max_leaves=0, min_child_weight=1,\n",
       "              missing=nan, monotone_constraints='()', n_estimators=300,\n",
       "              n_jobs=-1, num_parallel_tree=1, objective='multi:softprob',\n",
       "              predictor='auto', random_state=0, reg_alpha=0, ...)"
      ]
     },
     "execution_count": 143,
     "metadata": {},
     "output_type": "execute_result"
    }
   ],
   "source": [
    "classifier_model.fit(X_train_cl, y_train_cl.values)"
   ]
  },
  {
   "cell_type": "code",
   "execution_count": 45,
   "metadata": {},
   "outputs": [],
   "source": [
    "# Датасет для классификации районов\n",
    "# X_classifier.to_csv('data/classification_data.csv', index=False)"
   ]
  },
  {
   "cell_type": "code",
   "execution_count": 34,
   "metadata": {},
   "outputs": [
    {
     "name": "stdout",
     "output_type": "stream",
     "text": [
      "[20:46:35] WARNING: C:/Users/Administrator/workspace/xgboost-win64_release_1.6.0/src/learner.cc:627: \n",
      "Parameters: { \"silent\" } might not be used.\n",
      "\n",
      "  This could be a false alarm, with some parameters getting used by language bindings but\n",
      "  then being mistakenly passed down to XGBoost core, or some parameter actually being used\n",
      "  but getting flagged wrongly here. Please open an issue if you find any such cases.\n",
      "\n",
      "\n"
     ]
    },
    {
     "data": {
      "text/plain": [
       "XGBClassifier(base_score=0.5, booster='gbtree', callbacks=None,\n",
       "              colsample_bylevel=1, colsample_bynode=1, colsample_bytree=1,\n",
       "              early_stopping_rounds=None, enable_categorical=False,\n",
       "              eval_metric=None, gamma=0, gpu_id=-1, grow_policy='depthwise',\n",
       "              importance_type=None, interaction_constraints='',\n",
       "              learning_rate=0.05, max_bin=256, max_cat_to_onehot=4,\n",
       "              max_delta_step=0, max_depth=5, max_leaves=0, min_child_weight=1,\n",
       "              missing=nan, monotone_constraints='()', n_estimators=300,\n",
       "              n_jobs=-1, num_parallel_tree=1, objective='multi:softprob',\n",
       "              predictor='auto', random_state=0, reg_alpha=0, ...)"
      ]
     },
     "execution_count": 34,
     "metadata": {},
     "output_type": "execute_result"
    }
   ],
   "source": [
    "# Обучение на всех данных\n",
    "# classifier_model.fit(X_classifier, y_classifier.values)"
   ]
  },
  {
   "cell_type": "code",
   "execution_count": 35,
   "metadata": {},
   "outputs": [],
   "source": [
    "# Выгрузка модели для классификаци\n",
    "# pickle.dump(classifier_model, open('model_cl.pkl', \"wb\"))"
   ]
  },
  {
   "cell_type": "markdown",
   "metadata": {},
   "source": [
    "##### Вероятности классов для каждого объекта"
   ]
  },
  {
   "cell_type": "code",
   "execution_count": 40,
   "metadata": {},
   "outputs": [],
   "source": [
    "pred_c_probs = classifier_model.predict_proba(X_test_cl)"
   ]
  },
  {
   "cell_type": "code",
   "execution_count": 39,
   "metadata": {},
   "outputs": [],
   "source": [
    "pred_c = classifier_model.predict(X_test_cl)"
   ]
  },
  {
   "cell_type": "code",
   "execution_count": 122,
   "metadata": {},
   "outputs": [],
   "source": [
    "f_el = pred_c_probs[147]\n",
    "dict_probs = {idx : el for idx, el in enumerate(f_el)}"
   ]
  },
  {
   "cell_type": "markdown",
   "metadata": {},
   "source": [
    "##### Топ 5 подходящих районов по указанным параметрам"
   ]
  },
  {
   "cell_type": "code",
   "execution_count": 123,
   "metadata": {},
   "outputs": [
    {
     "data": {
      "text/plain": [
       "[134, 123, 142, 50, 36]"
      ]
     },
     "execution_count": 123,
     "metadata": {},
     "output_type": "execute_result"
    }
   ],
   "source": [
    "top5_sub_areas = heapq.nlargest(5, dict_probs, key=dict_probs.get)\n",
    "top5_sub_areas"
   ]
  },
  {
   "cell_type": "code",
   "execution_count": 124,
   "metadata": {},
   "outputs": [
    {
     "data": {
      "text/plain": [
       "array(['Veshnjaki', 'Solncevo', 'Zapadnoe Degunino', 'Kuncevo',\n",
       "       'Jaroslavskoe'], dtype='<U30')"
      ]
     },
     "execution_count": 124,
     "metadata": {},
     "output_type": "execute_result"
    }
   ],
   "source": [
    "lbl.inverse_transform(top5_sub_areas)"
   ]
  },
  {
   "cell_type": "markdown",
   "metadata": {},
   "source": [
    "##### F1 score"
   ]
  },
  {
   "cell_type": "code",
   "execution_count": 148,
   "metadata": {},
   "outputs": [
    {
     "data": {
      "text/plain": [
       "0.5108774134462816"
      ]
     },
     "execution_count": 148,
     "metadata": {},
     "output_type": "execute_result"
    }
   ],
   "source": [
    "f1_score(y_test_cl, pred_c, average='weighted')"
   ]
  },
  {
   "cell_type": "code",
   "execution_count": 149,
   "metadata": {},
   "outputs": [],
   "source": [
    "res_c = pd.DataFrame([y_test_cl.values,pred_c]).T\n",
    "res_c.rename({0 : 'test', 1 : 'pred'}, axis=1, inplace=True)"
   ]
  },
  {
   "cell_type": "code",
   "execution_count": 150,
   "metadata": {
    "scrolled": true
   },
   "outputs": [
    {
     "data": {
      "text/html": [
       "<div>\n",
       "<style scoped>\n",
       "    .dataframe tbody tr th:only-of-type {\n",
       "        vertical-align: middle;\n",
       "    }\n",
       "\n",
       "    .dataframe tbody tr th {\n",
       "        vertical-align: top;\n",
       "    }\n",
       "\n",
       "    .dataframe thead th {\n",
       "        text-align: right;\n",
       "    }\n",
       "</style>\n",
       "<table border=\"1\" class=\"dataframe\">\n",
       "  <thead>\n",
       "    <tr style=\"text-align: right;\">\n",
       "      <th></th>\n",
       "      <th>test</th>\n",
       "      <th>pred</th>\n",
       "    </tr>\n",
       "  </thead>\n",
       "  <tbody>\n",
       "    <tr>\n",
       "      <th>0</th>\n",
       "      <td>110</td>\n",
       "      <td>20</td>\n",
       "    </tr>\n",
       "    <tr>\n",
       "      <th>1</th>\n",
       "      <td>84</td>\n",
       "      <td>101</td>\n",
       "    </tr>\n",
       "    <tr>\n",
       "      <th>2</th>\n",
       "      <td>9</td>\n",
       "      <td>136</td>\n",
       "    </tr>\n",
       "    <tr>\n",
       "      <th>3</th>\n",
       "      <td>133</td>\n",
       "      <td>133</td>\n",
       "    </tr>\n",
       "    <tr>\n",
       "      <th>4</th>\n",
       "      <td>109</td>\n",
       "      <td>15</td>\n",
       "    </tr>\n",
       "    <tr>\n",
       "      <th>5</th>\n",
       "      <td>17</td>\n",
       "      <td>17</td>\n",
       "    </tr>\n",
       "    <tr>\n",
       "      <th>6</th>\n",
       "      <td>100</td>\n",
       "      <td>100</td>\n",
       "    </tr>\n",
       "    <tr>\n",
       "      <th>7</th>\n",
       "      <td>38</td>\n",
       "      <td>38</td>\n",
       "    </tr>\n",
       "    <tr>\n",
       "      <th>8</th>\n",
       "      <td>108</td>\n",
       "      <td>127</td>\n",
       "    </tr>\n",
       "    <tr>\n",
       "      <th>9</th>\n",
       "      <td>27</td>\n",
       "      <td>27</td>\n",
       "    </tr>\n",
       "    <tr>\n",
       "      <th>10</th>\n",
       "      <td>109</td>\n",
       "      <td>137</td>\n",
       "    </tr>\n",
       "    <tr>\n",
       "      <th>11</th>\n",
       "      <td>30</td>\n",
       "      <td>85</td>\n",
       "    </tr>\n",
       "    <tr>\n",
       "      <th>12</th>\n",
       "      <td>104</td>\n",
       "      <td>104</td>\n",
       "    </tr>\n",
       "    <tr>\n",
       "      <th>13</th>\n",
       "      <td>102</td>\n",
       "      <td>102</td>\n",
       "    </tr>\n",
       "    <tr>\n",
       "      <th>14</th>\n",
       "      <td>110</td>\n",
       "      <td>132</td>\n",
       "    </tr>\n",
       "  </tbody>\n",
       "</table>\n",
       "</div>"
      ],
      "text/plain": [
       "    test  pred\n",
       "0    110    20\n",
       "1     84   101\n",
       "2      9   136\n",
       "3    133   133\n",
       "4    109    15\n",
       "5     17    17\n",
       "6    100   100\n",
       "7     38    38\n",
       "8    108   127\n",
       "9     27    27\n",
       "10   109   137\n",
       "11    30    85\n",
       "12   104   104\n",
       "13   102   102\n",
       "14   110   132"
      ]
     },
     "execution_count": 150,
     "metadata": {},
     "output_type": "execute_result"
    }
   ],
   "source": [
    "res_c.head(15)"
   ]
  },
  {
   "cell_type": "markdown",
   "metadata": {},
   "source": [
    "### Сопоставление районов"
   ]
  },
  {
   "cell_type": "code",
   "execution_count": 25,
   "metadata": {},
   "outputs": [],
   "source": [
    "with open('map/mo.geojson', encoding='utf-8') as f:\n",
    "    gj = geojson.load(f)"
   ]
  },
  {
   "cell_type": "code",
   "execution_count": 26,
   "metadata": {},
   "outputs": [],
   "source": [
    "names = []\n",
    "for name in gj['features']:\n",
    "    names.append(name['properties']['NAME'])\n",
    "names.remove('\"Мосрентген\"')\n",
    "names.append('Мосрентген')"
   ]
  },
  {
   "cell_type": "code",
   "execution_count": 27,
   "metadata": {},
   "outputs": [],
   "source": [
    "names_areas = [lbl.inverse_transform([x])[0] for x in np.arange(0,145)]\n",
    "names_areas = [translit(x, 'ru') for x in names_areas]\n",
    "names_areas = pd.Series(names_areas)\n",
    "names_areas = names_areas.apply(lambda x : x[10:] if x.startswith('Поселение') else x)\n",
    "names_areas = list(names_areas)"
   ]
  },
  {
   "cell_type": "code",
   "execution_count": 28,
   "metadata": {},
   "outputs": [
    {
     "data": {
      "text/plain": [
       "(146, 145)"
      ]
     },
     "execution_count": 28,
     "metadata": {},
     "output_type": "execute_result"
    }
   ],
   "source": [
    "len(names), len(names_areas)"
   ]
  },
  {
   "cell_type": "code",
   "execution_count": 29,
   "metadata": {},
   "outputs": [
    {
     "data": {
      "text/plain": [
       "82"
      ]
     },
     "execution_count": 29,
     "metadata": {},
     "output_type": "execute_result"
    }
   ],
   "source": [
    "similar_text('Аэропорт', 'Айеропорт')"
   ]
  },
  {
   "cell_type": "code",
   "execution_count": 34,
   "metadata": {},
   "outputs": [],
   "source": [
    "dict_similar_areas = {}\n",
    "for area in names_areas:\n",
    "    dict_similar_areas[area] = [similar_text(area, i) for i in names]"
   ]
  },
  {
   "cell_type": "code",
   "execution_count": 35,
   "metadata": {},
   "outputs": [],
   "source": [
    "for k, v in dict_similar_areas.items():\n",
    "    dict_similar_areas[k] = np.argmax(v)"
   ]
  },
  {
   "cell_type": "code",
   "execution_count": 36,
   "metadata": {},
   "outputs": [],
   "source": [
    "for k, v in dict_similar_areas.items():\n",
    "    dict_similar_areas[k] = names[v]"
   ]
  },
  {
   "cell_type": "code",
   "execution_count": 39,
   "metadata": {},
   "outputs": [],
   "source": [
    "pd.set_option('display.max_rows', 150)"
   ]
  },
  {
   "cell_type": "code",
   "execution_count": 42,
   "metadata": {
    "scrolled": true
   },
   "outputs": [],
   "source": [
    "areas_df = pd.DataFrame(dict_similar_areas.items(), columns=['df_areas', 'json_areas'])\n",
    "areas_df['label'] = np.arange(0,145)"
   ]
  },
  {
   "cell_type": "code",
   "execution_count": 43,
   "metadata": {},
   "outputs": [
    {
     "data": {
      "text/plain": [
       "{'Бабушкинский',\n",
       " 'Войковский',\n",
       " 'Клёновское',\n",
       " 'Марьино',\n",
       " 'Мещанский',\n",
       " 'Хорошёвский'}"
      ]
     },
     "execution_count": 43,
     "metadata": {},
     "output_type": "execute_result"
    }
   ],
   "source": [
    "set(areas_df.json_areas) ^ set(names)"
   ]
  },
  {
   "cell_type": "code",
   "execution_count": 46,
   "metadata": {},
   "outputs": [],
   "source": [
    "areas_df.loc[5 , 'json_areas'] = 'Бабушкинский'\n",
    "areas_df.loc[31 , 'json_areas'] = 'Хорошёвский'\n",
    "areas_df.loc[60 , 'json_areas'] = 'Марьино'\n",
    "areas_df.loc[63 , 'json_areas'] = 'Мещанский'\n",
    "areas_df.loc[136 , 'json_areas'] = 'Войковский'"
   ]
  },
  {
   "cell_type": "code",
   "execution_count": 69,
   "metadata": {},
   "outputs": [
    {
     "data": {
      "text/plain": [
       "array(['Vojkovskoe'], dtype='<U30')"
      ]
     },
     "execution_count": 69,
     "metadata": {},
     "output_type": "execute_result"
    }
   ],
   "source": [
    "lbl.inverse_transform([136])"
   ]
  },
  {
   "cell_type": "code",
   "execution_count": 71,
   "metadata": {
    "scrolled": true
   },
   "outputs": [],
   "source": [
    "areas_df.to_csv('data/areas_df.csv', index=False)"
   ]
  },
  {
   "cell_type": "code",
   "execution_count": 74,
   "metadata": {},
   "outputs": [
    {
     "data": {
      "text/plain": [
       "31"
      ]
     },
     "execution_count": 74,
     "metadata": {},
     "output_type": "execute_result"
    }
   ],
   "source": [
    "areas_df[areas_df.json_areas == 'Хорошёвский']['label'].values[0]"
   ]
  },
  {
   "cell_type": "code",
   "execution_count": 76,
   "metadata": {},
   "outputs": [
    {
     "data": {
      "text/plain": [
       "'Новофёдоровское'"
      ]
     },
     "execution_count": 76,
     "metadata": {},
     "output_type": "execute_result"
    }
   ],
   "source": [
    "areas_df.loc[95 , 'json_areas']"
   ]
  },
  {
   "cell_type": "code",
   "execution_count": null,
   "metadata": {},
   "outputs": [],
   "source": []
  }
 ],
 "metadata": {
  "colab": {
   "collapsed_sections": [],
   "name": "NaNImputer.ipynb",
   "provenance": []
  },
  "kernelspec": {
   "display_name": "Python 3 (ipykernel)",
   "language": "python",
   "name": "python3"
  },
  "language_info": {
   "codemirror_mode": {
    "name": "ipython",
    "version": 3
   },
   "file_extension": ".py",
   "mimetype": "text/x-python",
   "name": "python",
   "nbconvert_exporter": "python",
   "pygments_lexer": "ipython3",
   "version": "3.9.12"
  },
  "widgets": {
   "application/vnd.jupyter.widget-state+json": {
    "1007923d08894ce681f4412d9933d063": {
     "model_module": "catboost-widget",
     "model_module_version": "^1.0.0",
     "model_name": "CatboostWidgetModel",
     "state": {
      "_dom_classes": [],
      "_model_module": "catboost-widget",
      "_model_module_version": "^1.0.0",
      "_model_name": "CatboostWidgetModel",
      "_view_count": null,
      "_view_module": "catboost-widget",
      "_view_module_version": "^1.0.0",
      "_view_name": "CatboostWidgetView",
      "data": {
       "catboost_info": {
        "content": {
         "data": {
          "iterations": [
           {
            "iteration": 0,
            "learn": [
             14.13843831
            ],
            "parameters": [
             {
              "depth": 4,
              "iterations": 100,
              "l2_leaf_reg": 1,
              "learning_rate": 0.001
             }
            ],
            "passed_time": 12.04640928,
            "remaining_time": 2204.492899,
            "test": [
             14.15028214
            ]
           },
           {
            "iteration": 1,
            "learn": [
             0.5405419899
            ],
            "parameters": [
             {
              "depth": 4,
              "iterations": 100,
              "l2_leaf_reg": 1,
              "learning_rate": 0.041
             }
            ],
            "passed_time": 21.9755031,
            "remaining_time": 1999.770782,
            "test": [
             0.5443848048
            ]
           },
           {
            "iteration": 2,
            "learn": [
             0.4551012223
            ],
            "parameters": [
             {
              "depth": 4,
              "iterations": 100,
              "l2_leaf_reg": 1,
              "learning_rate": 0.081
             }
            ],
            "passed_time": 29.08019446,
            "remaining_time": 1754.505066,
            "test": [
             0.4568382627
            ]
           },
           {
            "iteration": 3,
            "learn": [
             0.4443685929
            ],
            "parameters": [
             {
              "depth": 4,
              "iterations": 100,
              "l2_leaf_reg": 1,
              "learning_rate": 0.121
             }
            ],
            "passed_time": 36.26697055,
            "remaining_time": 1632.013675,
            "test": [
             0.4509831077
            ]
           },
           {
            "iteration": 4,
            "learn": [
             0.4373196138
            ],
            "parameters": [
             {
              "depth": 4,
              "iterations": 100,
              "l2_leaf_reg": 1,
              "learning_rate": 0.161
             }
            ],
            "passed_time": 43.06701292,
            "remaining_time": 1541.799062,
            "test": [
             0.447799738
            ]
           },
           {
            "iteration": 5,
            "learn": [
             0.4297751273
            ],
            "parameters": [
             {
              "depth": 4,
              "iterations": 100,
              "l2_leaf_reg": 1,
              "learning_rate": 0.201
             }
            ],
            "passed_time": 50.53075753,
            "remaining_time": 1499.07914,
            "test": [
             0.4473339486
            ]
           },
           {
            "iteration": 6,
            "learn": [
             0.4251424115
            ],
            "parameters": [
             {
              "depth": 4,
              "iterations": 100,
              "l2_leaf_reg": 1,
              "learning_rate": 0.241
             }
            ],
            "passed_time": 57.46965781,
            "remaining_time": 1453.161347,
            "test": [
             0.4486515833
            ]
           },
           {
            "iteration": 7,
            "learn": [
             0.4214541911
            ],
            "parameters": [
             {
              "depth": 4,
              "iterations": 100,
              "l2_leaf_reg": 1,
              "learning_rate": 0.281
             }
            ],
            "passed_time": 64.4641851,
            "remaining_time": 1418.212072,
            "test": [
             0.447821702
            ]
           },
           {
            "iteration": 8,
            "learn": [
             0.4154644853
            ],
            "parameters": [
             {
              "depth": 4,
              "iterations": 100,
              "l2_leaf_reg": 1,
              "learning_rate": 0.321
             }
            ],
            "passed_time": 70.98799323,
            "remaining_time": 1380.322091,
            "test": [
             0.4495495389
            ]
           },
           {
            "iteration": 9,
            "learn": [
             0.4130083945
            ],
            "parameters": [
             {
              "depth": 4,
              "iterations": 100,
              "l2_leaf_reg": 1,
              "learning_rate": 0.361
             }
            ],
            "passed_time": 75.00306237,
            "remaining_time": 1305.053285,
            "test": [
             0.4481232665
            ]
           },
           {
            "iteration": 10,
            "learn": [
             0.4072193847
            ],
            "parameters": [
             {
              "depth": 4,
              "iterations": 100,
              "l2_leaf_reg": 1,
              "learning_rate": 0.401
             }
            ],
            "passed_time": 78.64009773,
            "remaining_time": 1236.794264,
            "test": [
             0.449469252
            ]
           },
           {
            "iteration": 11,
            "learn": [
             0.4040890008
            ],
            "parameters": [
             {
              "depth": 4,
              "iterations": 100,
              "l2_leaf_reg": 1,
              "learning_rate": 0.441
             }
            ],
            "passed_time": 82.37302531,
            "remaining_time": 1180.68003,
            "test": [
             0.4513653118
            ]
           },
           {
            "iteration": 12,
            "learn": [
             0.3999938608
            ],
            "parameters": [
             {
              "depth": 4,
              "iterations": 100,
              "l2_leaf_reg": 1,
              "learning_rate": 0.481
             }
            ],
            "passed_time": 86.04686695,
            "remaining_time": 1131.84725,
            "test": [
             0.4519435906
            ]
           },
           {
            "iteration": 13,
            "learn": [
             0.3968233571
            ],
            "parameters": [
             {
              "depth": 4,
              "iterations": 100,
              "l2_leaf_reg": 1,
              "learning_rate": 0.521
             }
            ],
            "passed_time": 89.69909968,
            "remaining_time": 1089.203353,
            "test": [
             0.4525491979
            ]
           },
           {
            "iteration": 14,
            "learn": [
             0.393393461
            ],
            "parameters": [
             {
              "depth": 4,
              "iterations": 100,
              "l2_leaf_reg": 1,
              "learning_rate": 0.561
             }
            ],
            "passed_time": 93.37587851,
            "remaining_time": 1052.034898,
            "test": [
             0.4547491665
            ]
           },
           {
            "iteration": 15,
            "learn": [
             0.3924372758
            ],
            "parameters": [
             {
              "depth": 4,
              "iterations": 100,
              "l2_leaf_reg": 1,
              "learning_rate": 0.601
             }
            ],
            "passed_time": 97.02348002,
            "remaining_time": 1018.74654,
            "test": [
             0.4516248736
            ]
           },
           {
            "iteration": 16,
            "learn": [
             0.3883298954
            ],
            "parameters": [
             {
              "depth": 4,
              "iterations": 100,
              "l2_leaf_reg": 1,
              "learning_rate": 0.641
             }
            ],
            "passed_time": 100.6802506,
            "remaining_time": 989.0354026,
            "test": [
             0.4519944757
            ]
           },
           {
            "iteration": 17,
            "learn": [
             0.3871224835
            ],
            "parameters": [
             {
              "depth": 4,
              "iterations": 100,
              "l2_leaf_reg": 1,
              "learning_rate": 0.681
             }
            ],
            "passed_time": 104.3666559,
            "remaining_time": 962.4924931,
            "test": [
             0.4577786035
            ]
           },
           {
            "iteration": 18,
            "learn": [
             0.3833416396
            ],
            "parameters": [
             {
              "depth": 4,
              "iterations": 100,
              "l2_leaf_reg": 1,
              "learning_rate": 0.721
             }
            ],
            "passed_time": 108.0573634,
            "remaining_time": 938.3928924,
            "test": [
             0.4574422364
            ]
           },
           {
            "iteration": 19,
            "learn": [
             0.3834030236
            ],
            "parameters": [
             {
              "depth": 4,
              "iterations": 100,
              "l2_leaf_reg": 1,
              "learning_rate": 0.761
             }
            ],
            "passed_time": 111.6299833,
            "remaining_time": 915.3658633,
            "test": [
             0.4548471911
            ]
           },
           {
            "iteration": 20,
            "learn": [
             0.3795744742
            ],
            "parameters": [
             {
              "depth": 4,
              "iterations": 100,
              "l2_leaf_reg": 1,
              "learning_rate": 0.801
             }
            ],
            "passed_time": 115.3177032,
            "remaining_time": 895.0850294,
            "test": [
             0.4571527087
            ]
           },
           {
            "iteration": 21,
            "learn": [
             0.3796418965
            ],
            "parameters": [
             {
              "depth": 4,
              "iterations": 100,
              "l2_leaf_reg": 1,
              "learning_rate": 0.841
             }
            ],
            "passed_time": 118.9319222,
            "remaining_time": 875.7714269,
            "test": [
             0.4567984894
            ]
           },
           {
            "iteration": 22,
            "learn": [
             0.3775000249
            ],
            "parameters": [
             {
              "depth": 4,
              "iterations": 100,
              "l2_leaf_reg": 1,
              "learning_rate": 0.881
             }
            ],
            "passed_time": 122.5830289,
            "remaining_time": 858.081202,
            "test": [
             0.4533196168
            ]
           },
           {
            "iteration": 23,
            "learn": [
             14.1399363
            ],
            "parameters": [
             {
              "depth": 4,
              "iterations": 100,
              "l2_leaf_reg": 3,
              "learning_rate": 0.001
             }
            ],
            "passed_time": 126.282958,
            "remaining_time": 841.8863868,
            "test": [
             14.15177508
            ]
           },
           {
            "iteration": 24,
            "learn": [
             0.5416923902
            ],
            "parameters": [
             {
              "depth": 4,
              "iterations": 100,
              "l2_leaf_reg": 3,
              "learning_rate": 0.041
             }
            ],
            "passed_time": 130.0000868,
            "remaining_time": 826.8005519,
            "test": [
             0.5456574211
            ]
           },
           {
            "iteration": 25,
            "learn": [
             0.4562973296
            ],
            "parameters": [
             {
              "depth": 4,
              "iterations": 100,
              "l2_leaf_reg": 3,
              "learning_rate": 0.081
             }
            ],
            "passed_time": 133.6974015,
            "remaining_time": 812.4688242,
            "test": [
             0.4577535786
            ]
           },
           {
            "iteration": 26,
            "learn": [
             0.4463443643
            ],
            "parameters": [
             {
              "depth": 4,
              "iterations": 100,
              "l2_leaf_reg": 3,
              "learning_rate": 0.121
             }
            ],
            "passed_time": 137.3652463,
            "remaining_time": 798.7534692,
            "test": [
             0.4512717348
            ]
           },
           {
            "iteration": 27,
            "learn": [
             0.4389401414
            ],
            "parameters": [
             {
              "depth": 4,
              "iterations": 100,
              "l2_leaf_reg": 3,
              "learning_rate": 0.161
             }
            ],
            "passed_time": 141.0916908,
            "remaining_time": 786.0822775,
            "test": [
             0.4494886569
            ]
           },
           {
            "iteration": 28,
            "learn": [
             0.434498974
            ],
            "parameters": [
             {
              "depth": 4,
              "iterations": 100,
              "l2_leaf_reg": 3,
              "learning_rate": 0.201
             }
            ],
            "passed_time": 144.7572538,
            "remaining_time": 773.7025632,
            "test": [
             0.4494557615
            ]
           },
           {
            "iteration": 29,
            "learn": [
             0.4303854764
            ],
            "parameters": [
             {
              "depth": 4,
              "iterations": 100,
              "l2_leaf_reg": 3,
              "learning_rate": 0.241
             }
            ],
            "passed_time": 148.3877419,
            "remaining_time": 761.7237416,
            "test": [
             0.4493494632
            ]
           },
           {
            "iteration": 30,
            "learn": [
             0.4253647441
            ],
            "parameters": [
             {
              "depth": 4,
              "iterations": 100,
              "l2_leaf_reg": 3,
              "learning_rate": 0.281
             }
            ],
            "passed_time": 152.000796,
            "remaining_time": 750.1974771,
            "test": [
             0.4485849462
            ]
           },
           {
            "iteration": 31,
            "learn": [
             0.4199947537
            ],
            "parameters": [
             {
              "depth": 4,
              "iterations": 100,
              "l2_leaf_reg": 3,
              "learning_rate": 0.321
             }
            ],
            "passed_time": 156.0990388,
            "remaining_time": 741.4704341,
            "test": [
             0.4484377777
            ]
           },
           {
            "iteration": 32,
            "learn": [
             0.4176077649
            ],
            "parameters": [
             {
              "depth": 4,
              "iterations": 100,
              "l2_leaf_reg": 3,
              "learning_rate": 0.361
             }
            ],
            "passed_time": 159.7134735,
            "remaining_time": 730.8101365,
            "test": [
             0.4493893701
            ]
           },
           {
            "iteration": 33,
            "learn": [
             0.4120263547
            ],
            "parameters": [
             {
              "depth": 4,
              "iterations": 100,
              "l2_leaf_reg": 3,
              "learning_rate": 0.401
             }
            ],
            "passed_time": 163.351166,
            "remaining_time": 720.6669086,
            "test": [
             0.44949047
            ]
           },
           {
            "iteration": 34,
            "learn": [
             0.4085912524
            ],
            "parameters": [
             {
              "depth": 4,
              "iterations": 100,
              "l2_leaf_reg": 3,
              "learning_rate": 0.441
             }
            ],
            "passed_time": 167.0543001,
            "remaining_time": 711.1740203,
            "test": [
             0.4538890437
            ]
           },
           {
            "iteration": 35,
            "learn": [
             0.4059318608
            ],
            "parameters": [
             {
              "depth": 4,
              "iterations": 100,
              "l2_leaf_reg": 3,
              "learning_rate": 0.481
             }
            ],
            "passed_time": 170.6725094,
            "remaining_time": 701.6536499,
            "test": [
             0.4536942056
            ]
           },
           {
            "iteration": 36,
            "learn": [
             0.4035221543
            ],
            "parameters": [
             {
              "depth": 4,
              "iterations": 100,
              "l2_leaf_reg": 3,
              "learning_rate": 0.521
             }
            ],
            "passed_time": 174.3004828,
            "remaining_time": 692.4911071,
            "test": [
             0.4526544205
            ]
           },
           {
            "iteration": 37,
            "learn": [
             0.4009393948
            ],
            "parameters": [
             {
              "depth": 4,
              "iterations": 100,
              "l2_leaf_reg": 3,
              "learning_rate": 0.561
             }
            ],
            "passed_time": 177.9261312,
            "remaining_time": 683.610925,
            "test": [
             0.4504376826
            ]
           },
           {
            "iteration": 38,
            "learn": [
             0.3941233656
            ],
            "parameters": [
             {
              "depth": 4,
              "iterations": 100,
              "l2_leaf_reg": 3,
              "learning_rate": 0.601
             }
            ],
            "passed_time": 181.5613986,
            "remaining_time": 675.0359693,
            "test": [
             0.4520521843
            ]
           },
           {
            "iteration": 39,
            "learn": [
             0.39295809
            ],
            "parameters": [
             {
              "depth": 4,
              "iterations": 100,
              "l2_leaf_reg": 3,
              "learning_rate": 0.641
             }
            ],
            "passed_time": 185.2002277,
            "remaining_time": 666.7208196,
            "test": [
             0.4527097938
            ]
           },
           {
            "iteration": 40,
            "learn": [
             0.3908224315
            ],
            "parameters": [
             {
              "depth": 4,
              "iterations": 100,
              "l2_leaf_reg": 3,
              "learning_rate": 0.681
             }
            ],
            "passed_time": 188.856552,
            "remaining_time": 658.6948033,
            "test": [
             0.4565078529
            ]
           },
           {
            "iteration": 41,
            "learn": [
             0.3917491958
            ],
            "parameters": [
             {
              "depth": 4,
              "iterations": 100,
              "l2_leaf_reg": 3,
              "learning_rate": 0.721
             }
            ],
            "passed_time": 192.5225128,
            "remaining_time": 650.9094479,
            "test": [
             0.4534462863
            ]
           },
           {
            "iteration": 42,
            "learn": [
             0.3880191282
            ],
            "parameters": [
             {
              "depth": 4,
              "iterations": 100,
              "l2_leaf_reg": 3,
              "learning_rate": 0.761
             }
            ],
            "passed_time": 196.2047087,
            "remaining_time": 643.3689285,
            "test": [
             0.4583412649
            ]
           },
           {
            "iteration": 43,
            "learn": [
             0.3870920336
            ],
            "parameters": [
             {
              "depth": 4,
              "iterations": 100,
              "l2_leaf_reg": 3,
              "learning_rate": 0.801
             }
            ],
            "passed_time": 199.9353166,
            "remaining_time": 636.1578256,
            "test": [
             0.4593414923
            ]
           },
           {
            "iteration": 44,
            "learn": [
             0.386453823
            ],
            "parameters": [
             {
              "depth": 4,
              "iterations": 100,
              "l2_leaf_reg": 3,
              "learning_rate": 0.841
             }
            ],
            "passed_time": 203.5840922,
            "remaining_time": 628.8486405,
            "test": [
             0.4572188401
            ]
           },
           {
            "iteration": 45,
            "learn": [
             0.3856828647
            ],
            "parameters": [
             {
              "depth": 4,
              "iterations": 100,
              "l2_leaf_reg": 3,
              "learning_rate": 0.881
             }
            ],
            "passed_time": 207.232928,
            "remaining_time": 621.6987841,
            "test": [
             0.4625768652
            ]
           },
           {
            "iteration": 46,
            "learn": [
             13.45014009
            ],
            "parameters": [
             {
              "depth": 4,
              "iterations": 150,
              "l2_leaf_reg": 1,
              "learning_rate": 0.001
             }
            ],
            "passed_time": 212.7326796,
            "remaining_time": 620.09313,
            "test": [
             13.46196995
            ]
           },
           {
            "iteration": 47,
            "learn": [
             0.4637808447
            ],
            "parameters": [
             {
              "depth": 4,
              "iterations": 150,
              "l2_leaf_reg": 1,
              "learning_rate": 0.041
             }
            ],
            "passed_time": 218.3341432,
            "remaining_time": 618.6134056,
            "test": [
             0.465072945
            ]
           },
           {
            "iteration": 48,
            "learn": [
             0.4442013139
            ],
            "parameters": [
             {
              "depth": 4,
              "iterations": 150,
              "l2_leaf_reg": 1,
              "learning_rate": 0.081
             }
            ],
            "passed_time": 223.8647282,
            "remaining_time": 616.7701694,
            "test": [
             0.4503238655
            ]
           },
           {
            "iteration": 49,
            "learn": [
             0.4320704826
            ],
            "parameters": [
             {
              "depth": 4,
              "iterations": 150,
              "l2_leaf_reg": 1,
              "learning_rate": 0.121
             }
            ],
            "passed_time": 229.3927148,
            "remaining_time": 614.7724757,
            "test": [
             0.4460810891
            ]
           },
           {
            "iteration": 50,
            "learn": [
             0.4244219194
            ],
            "parameters": [
             {
              "depth": 4,
              "iterations": 150,
              "l2_leaf_reg": 1,
              "learning_rate": 0.161
             }
            ],
            "passed_time": 234.8046177,
            "remaining_time": 612.3336109,
            "test": [
             0.4466617538
            ]
           },
           {
            "iteration": 51,
            "learn": [
             0.4150519763
            ],
            "parameters": [
             {
              "depth": 4,
              "iterations": 150,
              "l2_leaf_reg": 1,
              "learning_rate": 0.201
             }
            ],
            "passed_time": 240.278405,
            "remaining_time": 609.9374897,
            "test": [
             0.4453617316
            ]
           },
           {
            "iteration": 52,
            "learn": [
             0.4090228944
            ],
            "parameters": [
             {
              "depth": 4,
              "iterations": 150,
              "l2_leaf_reg": 1,
              "learning_rate": 0.241
             }
            ],
            "passed_time": 245.6961967,
            "remaining_time": 607.2868258,
            "test": [
             0.448589161
            ]
           },
           {
            "iteration": 53,
            "learn": [
             0.4037158943
            ],
            "parameters": [
             {
              "depth": 4,
              "iterations": 150,
              "l2_leaf_reg": 1,
              "learning_rate": 0.281
             }
            ],
            "passed_time": 251.1132397,
            "remaining_time": 604.5318733,
            "test": [
             0.447821702
            ]
           },
           {
            "iteration": 54,
            "learn": [
             0.397252142
            ],
            "parameters": [
             {
              "depth": 4,
              "iterations": 150,
              "l2_leaf_reg": 1,
              "learning_rate": 0.321
             }
            ],
            "passed_time": 256.5754655,
            "remaining_time": 601.7860918,
            "test": [
             0.4489279756
            ]
           },
           {
            "iteration": 55,
            "learn": [
             0.3924656069
            ],
            "parameters": [
             {
              "depth": 4,
              "iterations": 150,
              "l2_leaf_reg": 1,
              "learning_rate": 0.361
             }
            ],
            "passed_time": 262.0334582,
            "remaining_time": 598.9336187,
            "test": [
             0.4481232665
            ]
           },
           {
            "iteration": 56,
            "learn": [
             0.3845203308
            ],
            "parameters": [
             {
              "depth": 4,
              "iterations": 150,
              "l2_leaf_reg": 1,
              "learning_rate": 0.401
             }
            ],
            "passed_time": 267.45449,
            "remaining_time": 595.9073724,
            "test": [
             0.449469252
            ]
           },
           {
            "iteration": 57,
            "learn": [
             0.3794207903
            ],
            "parameters": [
             {
              "depth": 4,
              "iterations": 150,
              "l2_leaf_reg": 1,
              "learning_rate": 0.441
             }
            ],
            "passed_time": 272.8934702,
            "remaining_time": 592.8375388,
            "test": [
             0.4513653118
            ]
           },
           {
            "iteration": 58,
            "learn": [
             0.3770126752
            ],
            "parameters": [
             {
              "depth": 4,
              "iterations": 150,
              "l2_leaf_reg": 1,
              "learning_rate": 0.481
             }
            ],
            "passed_time": 278.4003217,
            "remaining_time": 589.8311899,
            "test": [
             0.4519435906
            ]
           },
           {
            "iteration": 59,
            "learn": [
             0.370716555
            ],
            "parameters": [
             {
              "depth": 4,
              "iterations": 150,
              "l2_leaf_reg": 1,
              "learning_rate": 0.521
             }
            ],
            "passed_time": 283.850569,
            "remaining_time": 586.6245093,
            "test": [
             0.4525491979
            ]
           },
           {
            "iteration": 60,
            "learn": [
             0.3672925577
            ],
            "parameters": [
             {
              "depth": 4,
              "iterations": 150,
              "l2_leaf_reg": 1,
              "learning_rate": 0.561
             }
            ],
            "passed_time": 289.2793248,
            "remaining_time": 583.3009336,
            "test": [
             0.4547491665
            ]
           },
           {
            "iteration": 61,
            "learn": [
             0.3665345385
            ],
            "parameters": [
             {
              "depth": 4,
              "iterations": 150,
              "l2_leaf_reg": 1,
              "learning_rate": 0.601
             }
            ],
            "passed_time": 294.7040919,
            "remaining_time": 579.9016001,
            "test": [
             0.4516248736
            ]
           },
           {
            "iteration": 62,
            "learn": [
             0.3618475033
            ],
            "parameters": [
             {
              "depth": 4,
              "iterations": 150,
              "l2_leaf_reg": 1,
              "learning_rate": 0.641
             }
            ],
            "passed_time": 300.1571803,
            "remaining_time": 576.4923621,
            "test": [
             0.4519944757
            ]
           },
           {
            "iteration": 63,
            "learn": [
             0.3619321111
            ],
            "parameters": [
             {
              "depth": 4,
              "iterations": 150,
              "l2_leaf_reg": 1,
              "learning_rate": 0.681
             }
            ],
            "passed_time": 305.5968086,
            "remaining_time": 572.9940161,
            "test": [
             0.4577786035
            ]
           },
           {
            "iteration": 64,
            "learn": [
             0.3560480625
            ],
            "parameters": [
             {
              "depth": 4,
              "iterations": 150,
              "l2_leaf_reg": 1,
              "learning_rate": 0.721
             }
            ],
            "passed_time": 311.0108237,
            "remaining_time": 569.3890464,
            "test": [
             0.4574422364
            ]
           },
           {
            "iteration": 65,
            "learn": [
             0.3547801153
            ],
            "parameters": [
             {
              "depth": 4,
              "iterations": 150,
              "l2_leaf_reg": 1,
              "learning_rate": 0.761
             }
            ],
            "passed_time": 316.4282569,
            "remaining_time": 565.7353684,
            "test": [
             0.4548471911
            ]
           },
           {
            "iteration": 66,
            "learn": [
             0.3506480275
            ],
            "parameters": [
             {
              "depth": 4,
              "iterations": 150,
              "l2_leaf_reg": 1,
              "learning_rate": 0.801
             }
            ],
            "passed_time": 321.930039,
            "remaining_time": 562.1763367,
            "test": [
             0.4571527087
            ]
           },
           {
            "iteration": 67,
            "learn": [
             0.3493324691
            ],
            "parameters": [
             {
              "depth": 4,
              "iterations": 150,
              "l2_leaf_reg": 1,
              "learning_rate": 0.841
             }
            ],
            "passed_time": 327.3863911,
            "remaining_time": 558.4826671,
            "test": [
             0.4567984894
            ]
           },
           {
            "iteration": 68,
            "learn": [
             0.347352288
            ],
            "parameters": [
             {
              "depth": 4,
              "iterations": 150,
              "l2_leaf_reg": 1,
              "learning_rate": 0.881
             }
            ],
            "passed_time": 332.8592752,
            "remaining_time": 554.7654587,
            "test": [
             0.4533196168
            ]
           },
           {
            "iteration": 69,
            "learn": [
             13.45226857
            ],
            "parameters": [
             {
              "depth": 4,
              "iterations": 150,
              "l2_leaf_reg": 3,
              "learning_rate": 0.001
             }
            ],
            "passed_time": 338.3990934,
            "remaining_time": 551.1070949,
            "test": [
             13.46408854
            ]
           },
           {
            "iteration": 70,
            "learn": [
             0.4647251251
            ],
            "parameters": [
             {
              "depth": 4,
              "iterations": 150,
              "l2_leaf_reg": 3,
              "learning_rate": 0.041
             }
            ],
            "passed_time": 343.9948776,
            "remaining_time": 547.4848051,
            "test": [
             0.4660527271
            ]
           },
           {
            "iteration": 71,
            "learn": [
             0.4458410407
            ],
            "parameters": [
             {
              "depth": 4,
              "iterations": 150,
              "l2_leaf_reg": 3,
              "learning_rate": 0.081
             }
            ],
            "passed_time": 349.558415,
            "remaining_time": 543.7575345,
            "test": [
             0.4510363873
            ]
           },
           {
            "iteration": 72,
            "learn": [
             0.4347838647
            ],
            "parameters": [
             {
              "depth": 4,
              "iterations": 150,
              "l2_leaf_reg": 3,
              "learning_rate": 0.121
             }
            ],
            "passed_time": 355.0921084,
            "remaining_time": 539.9345758,
            "test": [
             0.4460781573
            ]
           },
           {
            "iteration": 73,
            "learn": [
             0.4272557695
            ],
            "parameters": [
             {
              "depth": 4,
              "iterations": 150,
              "l2_leaf_reg": 3,
              "learning_rate": 0.161
             }
            ],
            "passed_time": 360.6222961,
            "remaining_time": 536.0601698,
            "test": [
             0.4468604479
            ]
           },
           {
            "iteration": 74,
            "learn": [
             0.4214204969
            ],
            "parameters": [
             {
              "depth": 4,
              "iterations": 150,
              "l2_leaf_reg": 3,
              "learning_rate": 0.201
             }
            ],
            "passed_time": 366.0431218,
            "remaining_time": 531.9826703,
            "test": [
             0.4475538779
            ]
           },
           {
            "iteration": 75,
            "learn": [
             0.4160240507
            ],
            "parameters": [
             {
              "depth": 4,
              "iterations": 150,
              "l2_leaf_reg": 3,
              "learning_rate": 0.241
             }
            ],
            "passed_time": 371.4474302,
            "remaining_time": 527.8463481,
            "test": [
             0.4479675544
            ]
           },
           {
            "iteration": 76,
            "learn": [
             0.4085346283
            ],
            "parameters": [
             {
              "depth": 4,
              "iterations": 150,
              "l2_leaf_reg": 3,
              "learning_rate": 0.281
             }
            ],
            "passed_time": 376.8524115,
            "remaining_time": 523.6780264,
            "test": [
             0.4485828293
            ]
           },
           {
            "iteration": 77,
            "learn": [
             0.4035756097
            ],
            "parameters": [
             {
              "depth": 4,
              "iterations": 150,
              "l2_leaf_reg": 3,
              "learning_rate": 0.321
             }
            ],
            "passed_time": 382.3181464,
            "remaining_time": 519.5605579,
            "test": [
             0.4482931721
            ]
           },
           {
            "iteration": 78,
            "learn": [
             0.3994045442
            ],
            "parameters": [
             {
              "depth": 4,
              "iterations": 150,
              "l2_leaf_reg": 3,
              "learning_rate": 0.361
             }
            ],
            "passed_time": 387.7181818,
            "remaining_time": 515.321634,
            "test": [
             0.4491773125
            ]
           },
           {
            "iteration": 79,
            "learn": [
             0.3925922192
            ],
            "parameters": [
             {
              "depth": 4,
              "iterations": 150,
              "l2_leaf_reg": 3,
              "learning_rate": 0.401
             }
            ],
            "passed_time": 393.1168647,
            "remaining_time": 511.0519241,
            "test": [
             0.44949047
            ]
           },
           {
            "iteration": 80,
            "learn": [
             0.385684738
            ],
            "parameters": [
             {
              "depth": 4,
              "iterations": 150,
              "l2_leaf_reg": 3,
              "learning_rate": 0.441
             }
            ],
            "passed_time": 398.5613909,
            "remaining_time": 506.8126328,
            "test": [
             0.4538890437
            ]
           },
           {
            "iteration": 81,
            "learn": [
             0.3845735283
            ],
            "parameters": [
             {
              "depth": 4,
              "iterations": 150,
              "l2_leaf_reg": 3,
              "learning_rate": 0.481
             }
            ],
            "passed_time": 404.4537915,
            "remaining_time": 503.1010577,
            "test": [
             0.4536942056
            ]
           },
           {
            "iteration": 82,
            "learn": [
             0.3805745603
            ],
            "parameters": [
             {
              "depth": 4,
              "iterations": 150,
              "l2_leaf_reg": 3,
              "learning_rate": 0.521
             }
            ],
            "passed_time": 409.89893,
            "remaining_time": 498.7926738,
            "test": [
             0.4526544205
            ]
           },
           {
            "iteration": 83,
            "learn": [
             0.3784996416
            ],
            "parameters": [
             {
              "depth": 4,
              "iterations": 150,
              "l2_leaf_reg": 3,
              "learning_rate": 0.561
             }
            ],
            "passed_time": 415.3759613,
            "remaining_time": 494.495192,
            "test": [
             0.4504376826
            ]
           },
           {
            "iteration": 84,
            "learn": [
             0.371736934
            ],
            "parameters": [
             {
              "depth": 4,
              "iterations": 150,
              "l2_leaf_reg": 3,
              "learning_rate": 0.601
             }
            ],
            "passed_time": 420.7869909,
            "remaining_time": 490.0930836,
            "test": [
             0.4520521843
            ]
           },
           {
            "iteration": 85,
            "learn": [
             0.3709145742
            ],
            "parameters": [
             {
              "depth": 4,
              "iterations": 150,
              "l2_leaf_reg": 3,
              "learning_rate": 0.641
             }
            ],
            "passed_time": 426.2639434,
            "remaining_time": 485.7426331,
            "test": [
             0.4527097938
            ]
           },
           {
            "iteration": 86,
            "learn": [
             0.3658549461
            ],
            "parameters": [
             {
              "depth": 4,
              "iterations": 150,
              "l2_leaf_reg": 3,
              "learning_rate": 0.681
             }
            ],
            "passed_time": 431.7047502,
            "remaining_time": 481.3259858,
            "test": [
             0.4565078529
            ]
           },
           {
            "iteration": 87,
            "learn": [
             0.3660091032
            ],
            "parameters": [
             {
              "depth": 4,
              "iterations": 150,
              "l2_leaf_reg": 3,
              "learning_rate": 0.721
             }
            ],
            "passed_time": 437.109432,
            "remaining_time": 476.8466531,
            "test": [
             0.4534462863
            ]
           },
           {
            "iteration": 88,
            "learn": [
             0.3613725948
            ],
            "parameters": [
             {
              "depth": 4,
              "iterations": 150,
              "l2_leaf_reg": 3,
              "learning_rate": 0.761
             }
            ],
            "passed_time": 442.5603773,
            "remaining_time": 472.3959084,
            "test": [
             0.4583412649
            ]
           },
           {
            "iteration": 89,
            "learn": [
             0.3599070185
            ],
            "parameters": [
             {
              "depth": 4,
              "iterations": 150,
              "l2_leaf_reg": 3,
              "learning_rate": 0.801
             }
            ],
            "passed_time": 448.0973196,
            "remaining_time": 468.012756,
            "test": [
             0.4593414923
            ]
           },
           {
            "iteration": 90,
            "learn": [
             0.3579917271
            ],
            "parameters": [
             {
              "depth": 4,
              "iterations": 150,
              "l2_leaf_reg": 3,
              "learning_rate": 0.841
             }
            ],
            "passed_time": 453.5744774,
            "remaining_time": 463.5431472,
            "test": [
             0.4572188401
            ]
           },
           {
            "iteration": 91,
            "learn": [
             0.3573592408
            ],
            "parameters": [
             {
              "depth": 4,
              "iterations": 150,
              "l2_leaf_reg": 3,
              "learning_rate": 0.881
             }
            ],
            "passed_time": 459.0427671,
            "remaining_time": 459.0427671,
            "test": [
             0.4625768652
            ]
           },
           {
            "iteration": 92,
            "learn": [
             14.13886274
            ],
            "parameters": [
             {
              "depth": 5,
              "iterations": 100,
              "l2_leaf_reg": 1,
              "learning_rate": 0.001
             }
            ],
            "passed_time": 464.0845407,
            "remaining_time": 454.104228,
            "test": [
             14.15075182
            ]
           },
           {
            "iteration": 93,
            "learn": [
             0.5372531619
            ],
            "parameters": [
             {
              "depth": 5,
              "iterations": 100,
              "l2_leaf_reg": 1,
              "learning_rate": 0.041
             }
            ],
            "passed_time": 469.2196599,
            "remaining_time": 449.2528659,
            "test": [
             0.5422582832
            ]
           },
           {
            "iteration": 94,
            "learn": [
             0.4510588894
            ],
            "parameters": [
             {
              "depth": 5,
              "iterations": 100,
              "l2_leaf_reg": 1,
              "learning_rate": 0.081
             }
            ],
            "passed_time": 474.2858067,
            "remaining_time": 444.3309136,
            "test": [
             0.4571697038
            ]
           },
           {
            "iteration": 95,
            "learn": [
             0.4408613516
            ],
            "parameters": [
             {
              "depth": 5,
              "iterations": 100,
              "l2_leaf_reg": 1,
              "learning_rate": 0.121
             }
            ],
            "passed_time": 479.3359701,
            "remaining_time": 439.391306,
            "test": [
             0.4538252805
            ]
           },
           {
            "iteration": 96,
            "learn": [
             0.4278442929
            ],
            "parameters": [
             {
              "depth": 5,
              "iterations": 100,
              "l2_leaf_reg": 1,
              "learning_rate": 0.161
             }
            ],
            "passed_time": 484.4699983,
            "remaining_time": 434.5246377,
            "test": [
             0.4509640378
            ]
           },
           {
            "iteration": 97,
            "learn": [
             0.4197698732
            ],
            "parameters": [
             {
              "depth": 5,
              "iterations": 100,
              "l2_leaf_reg": 1,
              "learning_rate": 0.201
             }
            ],
            "passed_time": 489.5346843,
            "remaining_time": 429.5916617,
            "test": [
             0.4515428998
            ]
           },
           {
            "iteration": 98,
            "learn": [
             0.4130613826
            ],
            "parameters": [
             {
              "depth": 5,
              "iterations": 100,
              "l2_leaf_reg": 1,
              "learning_rate": 0.241
             }
            ],
            "passed_time": 494.5862296,
            "remaining_time": 424.6447426,
            "test": [
             0.4505253402
            ]
           },
           {
            "iteration": 99,
            "learn": [
             0.4071578377
            ],
            "parameters": [
             {
              "depth": 5,
              "iterations": 100,
              "l2_leaf_reg": 1,
              "learning_rate": 0.281
             }
            ],
            "passed_time": 499.6033144,
            "remaining_time": 419.6667841,
            "test": [
             0.4513740008
            ]
           },
           {
            "iteration": 100,
            "learn": [
             0.400847104
            ],
            "parameters": [
             {
              "depth": 5,
              "iterations": 100,
              "l2_leaf_reg": 1,
              "learning_rate": 0.321
             }
            ],
            "passed_time": 504.6078581,
            "remaining_time": 414.6777448,
            "test": [
             0.4549230913
            ]
           },
           {
            "iteration": 101,
            "learn": [
             0.3966714689
            ],
            "parameters": [
             {
              "depth": 5,
              "iterations": 100,
              "l2_leaf_reg": 1,
              "learning_rate": 0.361
             }
            ],
            "passed_time": 509.645911,
            "remaining_time": 409.7153402,
            "test": [
             0.4556735337
            ]
           },
           {
            "iteration": 102,
            "learn": [
             0.389316358
            ],
            "parameters": [
             {
              "depth": 5,
              "iterations": 100,
              "l2_leaf_reg": 1,
              "learning_rate": 0.401
             }
            ],
            "passed_time": 514.7022718,
            "remaining_time": 404.7658642,
            "test": [
             0.4534671214
            ]
           },
           {
            "iteration": 103,
            "learn": [
             0.3822881457
            ],
            "parameters": [
             {
              "depth": 5,
              "iterations": 100,
              "l2_leaf_reg": 1,
              "learning_rate": 0.441
             }
            ],
            "passed_time": 519.7759273,
            "remaining_time": 399.8276364,
            "test": [
             0.4542380391
            ]
           },
           {
            "iteration": 104,
            "learn": [
             0.3784180511
            ],
            "parameters": [
             {
              "depth": 5,
              "iterations": 100,
              "l2_leaf_reg": 1,
              "learning_rate": 0.481
             }
            ],
            "passed_time": 524.8773221,
            "remaining_time": 394.9076995,
            "test": [
             0.4543930395
            ]
           },
           {
            "iteration": 105,
            "learn": [
             0.3752393414
            ],
            "parameters": [
             {
              "depth": 5,
              "iterations": 100,
              "l2_leaf_reg": 1,
              "learning_rate": 0.521
             }
            ],
            "passed_time": 529.921426,
            "remaining_time": 389.9421814,
            "test": [
             0.4559210167
            ]
           },
           {
            "iteration": 106,
            "learn": [
             0.3704465374
            ],
            "parameters": [
             {
              "depth": 5,
              "iterations": 100,
              "l2_leaf_reg": 1,
              "learning_rate": 0.561
             }
            ],
            "passed_time": 535.0053812,
            "remaining_time": 385.0038725,
            "test": [
             0.4575556099
            ]
           },
           {
            "iteration": 107,
            "learn": [
             0.3643254193
            ],
            "parameters": [
             {
              "depth": 5,
              "iterations": 100,
              "l2_leaf_reg": 1,
              "learning_rate": 0.601
             }
            ],
            "passed_time": 540.0655639,
            "remaining_time": 380.0461376,
            "test": [
             0.4538450328
            ]
           },
           {
            "iteration": 108,
            "learn": [
             0.3627747209
            ],
            "parameters": [
             {
              "depth": 5,
              "iterations": 100,
              "l2_leaf_reg": 1,
              "learning_rate": 0.641
             }
            ],
            "passed_time": 545.1157449,
            "remaining_time": 375.079641,
            "test": [
             0.4572260126
            ]
           },
           {
            "iteration": 109,
            "learn": [
             0.3600902668
            ],
            "parameters": [
             {
              "depth": 5,
              "iterations": 100,
              "l2_leaf_reg": 1,
              "learning_rate": 0.681
             }
            ],
            "passed_time": 550.1929743,
            "remaining_time": 370.1298191,
            "test": [
             0.4590081926
            ]
           },
           {
            "iteration": 110,
            "learn": [
             0.3568991443
            ],
            "parameters": [
             {
              "depth": 5,
              "iterations": 100,
              "l2_leaf_reg": 1,
              "learning_rate": 0.721
             }
            ],
            "passed_time": 555.2471189,
            "remaining_time": 365.1625196,
            "test": [
             0.4588851272
            ]
           },
           {
            "iteration": 111,
            "learn": [
             0.3539268799
            ],
            "parameters": [
             {
              "depth": 5,
              "iterations": 100,
              "l2_leaf_reg": 1,
              "learning_rate": 0.761
             }
            ],
            "passed_time": 560.3236541,
            "remaining_time": 360.2080634,
            "test": [
             0.4656424952
            ]
           },
           {
            "iteration": 112,
            "learn": [
             0.3545605082
            ],
            "parameters": [
             {
              "depth": 5,
              "iterations": 100,
              "l2_leaf_reg": 1,
              "learning_rate": 0.801
             }
            ],
            "passed_time": 565.3715134,
            "remaining_time": 355.2334288,
            "test": [
             0.4619802165
            ]
           },
           {
            "iteration": 113,
            "learn": [
             0.3460727445
            ],
            "parameters": [
             {
              "depth": 5,
              "iterations": 100,
              "l2_leaf_reg": 1,
              "learning_rate": 0.841
             }
            ],
            "passed_time": 570.4090326,
            "remaining_time": 350.2511604,
            "test": [
             0.459713916
            ]
           },
           {
            "iteration": 114,
            "learn": [
             0.3470172807
            ],
            "parameters": [
             {
              "depth": 5,
              "iterations": 100,
              "l2_leaf_reg": 1,
              "learning_rate": 0.881
             }
            ],
            "passed_time": 575.5055153,
            "remaining_time": 345.3033092,
            "test": [
             0.463110594
            ]
           },
           {
            "iteration": 115,
            "learn": [
             14.14113776
            ],
            "parameters": [
             {
              "depth": 5,
              "iterations": 100,
              "l2_leaf_reg": 3,
              "learning_rate": 0.001
             }
            ],
            "passed_time": 580.5234902,
            "remaining_time": 340.3068735,
            "test": [
             14.1530406
            ]
           },
           {
            "iteration": 116,
            "learn": [
             0.5391062004
            ],
            "parameters": [
             {
              "depth": 5,
              "iterations": 100,
              "l2_leaf_reg": 3,
              "learning_rate": 0.041
             }
            ],
            "passed_time": 585.6392693,
            "remaining_time": 335.3660773,
            "test": [
             0.5447840131
            ]
           },
           {
            "iteration": 117,
            "learn": [
             0.4524038032
            ],
            "parameters": [
             {
              "depth": 5,
              "iterations": 100,
              "l2_leaf_reg": 3,
              "learning_rate": 0.081
             }
            ],
            "passed_time": 590.6871857,
            "remaining_time": 330.3843581,
            "test": [
             0.4586331601
            ]
           },
           {
            "iteration": 118,
            "learn": [
             0.441823497
            ],
            "parameters": [
             {
              "depth": 5,
              "iterations": 100,
              "l2_leaf_reg": 3,
              "learning_rate": 0.121
             }
            ],
            "passed_time": 595.7328066,
            "remaining_time": 325.4002725,
            "test": [
             0.4528396145
            ]
           },
           {
            "iteration": 119,
            "learn": [
             0.4319821274
            ],
            "parameters": [
             {
              "depth": 5,
              "iterations": 100,
              "l2_leaf_reg": 3,
              "learning_rate": 0.161
             }
            ],
            "passed_time": 600.8277028,
            "remaining_time": 320.4414415,
            "test": [
             0.4509037854
            ]
           },
           {
            "iteration": 120,
            "learn": [
             0.4240690065
            ],
            "parameters": [
             {
              "depth": 5,
              "iterations": 100,
              "l2_leaf_reg": 3,
              "learning_rate": 0.201
             }
            ],
            "passed_time": 607.1376554,
            "remaining_time": 316.1129941,
            "test": [
             0.4489030116
            ]
           },
           {
            "iteration": 121,
            "learn": [
             0.4201157372
            ],
            "parameters": [
             {
              "depth": 5,
              "iterations": 100,
              "l2_leaf_reg": 3,
              "learning_rate": 0.241
             }
            ],
            "passed_time": 613.8557468,
            "remaining_time": 311.9594779,
            "test": [
             0.4499776143
            ]
           },
           {
            "iteration": 122,
            "learn": [
             0.4144115261
            ],
            "parameters": [
             {
              "depth": 5,
              "iterations": 100,
              "l2_leaf_reg": 3,
              "learning_rate": 0.281
             }
            ],
            "passed_time": 618.9134354,
            "remaining_time": 306.9408094,
            "test": [
             0.4522359911
            ]
           },
           {
            "iteration": 123,
            "learn": [
             0.4069170298
            ],
            "parameters": [
             {
              "depth": 5,
              "iterations": 100,
              "l2_leaf_reg": 3,
              "learning_rate": 0.321
             }
            ],
            "passed_time": 623.9906673,
            "remaining_time": 301.9309681,
            "test": [
             0.4532693672
            ]
           },
           {
            "iteration": 124,
            "learn": [
             0.4042723927
            ],
            "parameters": [
             {
              "depth": 5,
              "iterations": 100,
              "l2_leaf_reg": 3,
              "learning_rate": 0.361
             }
            ],
            "passed_time": 629.0971778,
            "remaining_time": 296.9338679,
            "test": [
             0.4512522797
            ]
           },
           {
            "iteration": 125,
            "learn": [
             0.398561611
            ],
            "parameters": [
             {
              "depth": 5,
              "iterations": 100,
              "l2_leaf_reg": 3,
              "learning_rate": 0.401
             }
            ],
            "passed_time": 636.9858465,
            "remaining_time": 293.2157071,
            "test": [
             0.4531529467
            ]
           },
           {
            "iteration": 126,
            "learn": [
             0.3941560785
            ],
            "parameters": [
             {
              "depth": 5,
              "iterations": 100,
              "l2_leaf_reg": 3,
              "learning_rate": 0.441
             }
            ],
            "passed_time": 642.0058213,
            "remaining_time": 288.144345,
            "test": [
             0.4540998138
            ]
           },
           {
            "iteration": 127,
            "learn": [
             0.3902563396
            ],
            "parameters": [
             {
              "depth": 5,
              "iterations": 100,
              "l2_leaf_reg": 3,
              "learning_rate": 0.481
             }
            ],
            "passed_time": 647.0992548,
            "remaining_time": 283.105924,
            "test": [
             0.4595026174
            ]
           },
           {
            "iteration": 128,
            "learn": [
             0.3867244677
            ],
            "parameters": [
             {
              "depth": 5,
              "iterations": 100,
              "l2_leaf_reg": 3,
              "learning_rate": 0.521
             }
            ],
            "passed_time": 652.1912561,
            "remaining_time": 278.0660394,
            "test": [
             0.4574142897
            ]
           },
           {
            "iteration": 129,
            "learn": [
             0.3787811422
            ],
            "parameters": [
             {
              "depth": 5,
              "iterations": 100,
              "l2_leaf_reg": 3,
              "learning_rate": 0.561
             }
            ],
            "passed_time": 657.3313562,
            "remaining_time": 273.0453326,
            "test": [
             0.4564977518
            ]
           },
           {
            "iteration": 130,
            "learn": [
             0.3784660247
            ],
            "parameters": [
             {
              "depth": 5,
              "iterations": 100,
              "l2_leaf_reg": 3,
              "learning_rate": 0.601
             }
            ],
            "passed_time": 662.3591399,
            "remaining_time": 267.977362,
            "test": [
             0.4584074421
            ]
           },
           {
            "iteration": 131,
            "learn": [
             0.3758138456
            ],
            "parameters": [
             {
              "depth": 5,
              "iterations": 100,
              "l2_leaf_reg": 3,
              "learning_rate": 0.641
             }
            ],
            "passed_time": 667.4280746,
            "remaining_time": 262.9262112,
            "test": [
             0.4568970981
            ]
           },
           {
            "iteration": 132,
            "learn": [
             0.3709145997
            ],
            "parameters": [
             {
              "depth": 5,
              "iterations": 100,
              "l2_leaf_reg": 3,
              "learning_rate": 0.681
             }
            ],
            "passed_time": 672.5058032,
            "remaining_time": 257.8781651,
            "test": [
             0.4600660133
            ]
           },
           {
            "iteration": 133,
            "learn": [
             0.3685939117
            ],
            "parameters": [
             {
              "depth": 5,
              "iterations": 100,
              "l2_leaf_reg": 3,
              "learning_rate": 0.721
             }
            ],
            "passed_time": 677.5836676,
            "remaining_time": 252.8297267,
            "test": [
             0.4639907317
            ]
           },
           {
            "iteration": 134,
            "learn": [
             0.3654841858
            ],
            "parameters": [
             {
              "depth": 5,
              "iterations": 100,
              "l2_leaf_reg": 3,
              "learning_rate": 0.761
             }
            ],
            "passed_time": 682.6550538,
            "remaining_time": 247.778501,
            "test": [
             0.4615250062
            ]
           },
           {
            "iteration": 135,
            "learn": [
             0.3592530207
            ],
            "parameters": [
             {
              "depth": 5,
              "iterations": 100,
              "l2_leaf_reg": 3,
              "learning_rate": 0.801
             }
            ],
            "passed_time": 687.7822237,
            "remaining_time": 242.7466672,
            "test": [
             0.4612836395
            ]
           },
           {
            "iteration": 136,
            "learn": [
             0.3599360977
            ],
            "parameters": [
             {
              "depth": 5,
              "iterations": 100,
              "l2_leaf_reg": 3,
              "learning_rate": 0.841
             }
            ],
            "passed_time": 692.8283545,
            "remaining_time": 237.6856399,
            "test": [
             0.462002662
            ]
           },
           {
            "iteration": 137,
            "learn": [
             0.3589124156
            ],
            "parameters": [
             {
              "depth": 5,
              "iterations": 100,
              "l2_leaf_reg": 3,
              "learning_rate": 0.881
             }
            ],
            "passed_time": 697.8771788,
            "remaining_time": 232.6257263,
            "test": [
             0.4600351171
            ]
           },
           {
            "iteration": 138,
            "learn": [
             13.45081464
            ],
            "parameters": [
             {
              "depth": 5,
              "iterations": 150,
              "l2_leaf_reg": 1,
              "learning_rate": 0.001
             }
            ],
            "passed_time": 705.4674544,
            "remaining_time": 228.3887442,
            "test": [
             13.46269038
            ]
           },
           {
            "iteration": 139,
            "learn": [
             0.4605630564
            ],
            "parameters": [
             {
              "depth": 5,
              "iterations": 150,
              "l2_leaf_reg": 1,
              "learning_rate": 0.041
             }
            ],
            "passed_time": 713.115021,
            "remaining_time": 224.1218637,
            "test": [
             0.4633451638
            ]
           },
           {
            "iteration": 140,
            "learn": [
             0.4383859013
            ],
            "parameters": [
             {
              "depth": 5,
              "iterations": 150,
              "l2_leaf_reg": 1,
              "learning_rate": 0.081
             }
            ],
            "passed_time": 720.7695317,
            "remaining_time": 219.809148,
            "test": [
             0.4505484873
            ]
           },
           {
            "iteration": 141,
            "learn": [
             0.4238441909
            ],
            "parameters": [
             {
              "depth": 5,
              "iterations": 150,
              "l2_leaf_reg": 1,
              "learning_rate": 0.121
             }
            ],
            "passed_time": 728.3274929,
            "remaining_time": 215.4208077,
            "test": [
             0.4488985262
            ]
           },
           {
            "iteration": 142,
            "learn": [
             0.4105967043
            ],
            "parameters": [
             {
              "depth": 5,
              "iterations": 150,
              "l2_leaf_reg": 1,
              "learning_rate": 0.161
             }
            ],
            "passed_time": 735.9479734,
            "remaining_time": 211.0060623,
            "test": [
             0.450367247
            ]
           },
           {
            "iteration": 143,
            "learn": [
             0.4000879662
            ],
            "parameters": [
             {
              "depth": 5,
              "iterations": 150,
              "l2_leaf_reg": 1,
              "learning_rate": 0.201
             }
            ],
            "passed_time": 743.5358104,
            "remaining_time": 206.5377251,
            "test": [
             0.4497987307
            ]
           },
           {
            "iteration": 144,
            "learn": [
             0.390840838
            ],
            "parameters": [
             {
              "depth": 5,
              "iterations": 150,
              "l2_leaf_reg": 1,
              "learning_rate": 0.241
             }
            ],
            "passed_time": 751.139439,
            "remaining_time": 202.0306077,
            "test": [
             0.4505253402
            ]
           },
           {
            "iteration": 145,
            "learn": [
             0.3831561337
            ],
            "parameters": [
             {
              "depth": 5,
              "iterations": 150,
              "l2_leaf_reg": 1,
              "learning_rate": 0.281
             }
            ],
            "passed_time": 758.6582009,
            "remaining_time": 197.4589838,
            "test": [
             0.4510473013
            ]
           },
           {
            "iteration": 146,
            "learn": [
             0.3737110126
            ],
            "parameters": [
             {
              "depth": 5,
              "iterations": 150,
              "l2_leaf_reg": 1,
              "learning_rate": 0.321
             }
            ],
            "passed_time": 766.2233452,
            "remaining_time": 192.8589372,
            "test": [
             0.4549230913
            ]
           },
           {
            "iteration": 147,
            "learn": [
             0.367762511
            ],
            "parameters": [
             {
              "depth": 5,
              "iterations": 150,
              "l2_leaf_reg": 1,
              "learning_rate": 0.361
             }
            ],
            "passed_time": 773.8221858,
            "remaining_time": 188.2270182,
            "test": [
             0.4556735337
            ]
           },
           {
            "iteration": 148,
            "learn": [
             0.3610368055
            ],
            "parameters": [
             {
              "depth": 5,
              "iterations": 150,
              "l2_leaf_reg": 1,
              "learning_rate": 0.401
             }
            ],
            "passed_time": 781.372719,
            "remaining_time": 183.5439273,
            "test": [
             0.4534671214
            ]
           },
           {
            "iteration": 149,
            "learn": [
             0.351552822
            ],
            "parameters": [
             {
              "depth": 5,
              "iterations": 150,
              "l2_leaf_reg": 1,
              "learning_rate": 0.441
             }
            ],
            "passed_time": 788.9786439,
            "remaining_time": 178.8351593,
            "test": [
             0.4542380391
            ]
           },
           {
            "iteration": 150,
            "learn": [
             0.3483998029
            ],
            "parameters": [
             {
              "depth": 5,
              "iterations": 150,
              "l2_leaf_reg": 1,
              "learning_rate": 0.481
             }
            ],
            "passed_time": 796.5546694,
            "remaining_time": 174.081484,
            "test": [
             0.4543930395
            ]
           },
           {
            "iteration": 151,
            "learn": [
             0.3414902132
            ],
            "parameters": [
             {
              "depth": 5,
              "iterations": 150,
              "l2_leaf_reg": 1,
              "learning_rate": 0.521
             }
            ],
            "passed_time": 804.0776347,
            "remaining_time": 169.2795021,
            "test": [
             0.4559210167
            ]
           },
           {
            "iteration": 152,
            "learn": [
             0.3368220314
            ],
            "parameters": [
             {
              "depth": 5,
              "iterations": 150,
              "l2_leaf_reg": 1,
              "learning_rate": 0.561
             }
            ],
            "passed_time": 811.6016655,
            "remaining_time": 164.4421675,
            "test": [
             0.4575556099
            ]
           },
           {
            "iteration": 153,
            "learn": [
             0.3307444224
            ],
            "parameters": [
             {
              "depth": 5,
              "iterations": 150,
              "l2_leaf_reg": 1,
              "learning_rate": 0.601
             }
            ],
            "passed_time": 819.157928,
            "remaining_time": 159.5762197,
            "test": [
             0.4538450328
            ]
           },
           {
            "iteration": 154,
            "learn": [
             0.3287108908
            ],
            "parameters": [
             {
              "depth": 5,
              "iterations": 150,
              "l2_leaf_reg": 1,
              "learning_rate": 0.641
             }
            ],
            "passed_time": 826.6999943,
            "remaining_time": 154.6729022,
            "test": [
             0.4572260126
            ]
           },
           {
            "iteration": 155,
            "learn": [
             0.3222171736
            ],
            "parameters": [
             {
              "depth": 5,
              "iterations": 150,
              "l2_leaf_reg": 1,
              "learning_rate": 0.681
             }
            ],
            "passed_time": 834.2743135,
            "remaining_time": 149.7415434,
            "test": [
             0.4590081926
            ]
           },
           {
            "iteration": 156,
            "learn": [
             0.3172227385
            ],
            "parameters": [
             {
              "depth": 5,
              "iterations": 150,
              "l2_leaf_reg": 1,
              "learning_rate": 0.721
             }
            ],
            "passed_time": 841.8485258,
            "remaining_time": 144.7764981,
            "test": [
             0.4588851272
            ]
           },
           {
            "iteration": 157,
            "learn": [
             0.3172023967
            ],
            "parameters": [
             {
              "depth": 5,
              "iterations": 150,
              "l2_leaf_reg": 1,
              "learning_rate": 0.761
             }
            ],
            "passed_time": 849.430181,
            "remaining_time": 139.77965,
            "test": [
             0.4656424952
            ]
           },
           {
            "iteration": 158,
            "learn": [
             0.3166401527
            ],
            "parameters": [
             {
              "depth": 5,
              "iterations": 150,
              "l2_leaf_reg": 1,
              "learning_rate": 0.801
             }
            ],
            "passed_time": 856.9462563,
            "remaining_time": 134.7399774,
            "test": [
             0.4619802165
            ]
           },
           {
            "iteration": 159,
            "learn": [
             0.306530582
            ],
            "parameters": [
             {
              "depth": 5,
              "iterations": 150,
              "l2_leaf_reg": 1,
              "learning_rate": 0.841
             }
            ],
            "passed_time": 864.5930316,
            "remaining_time": 129.6889547,
            "test": [
             0.459713916
            ]
           },
           {
            "iteration": 160,
            "learn": [
             0.3089621999
            ],
            "parameters": [
             {
              "depth": 5,
              "iterations": 150,
              "l2_leaf_reg": 1,
              "learning_rate": 0.881
             }
            ],
            "passed_time": 872.2003215,
            "remaining_time": 124.6000459,
            "test": [
             0.463110594
            ]
           },
           {
            "iteration": 161,
            "learn": [
             13.45419069
            ],
            "parameters": [
             {
              "depth": 5,
              "iterations": 150,
              "l2_leaf_reg": 3,
              "learning_rate": 0.001
             }
            ],
            "passed_time": 879.8898159,
            "remaining_time": 119.4912096,
            "test": [
             13.46607635
            ]
           },
           {
            "iteration": 162,
            "learn": [
             0.4616266743
            ],
            "parameters": [
             {
              "depth": 5,
              "iterations": 150,
              "l2_leaf_reg": 3,
              "learning_rate": 0.041
             }
            ],
            "passed_time": 887.9018308,
            "remaining_time": 114.3922604,
            "test": [
             0.465008176
            ]
           },
           {
            "iteration": 163,
            "learn": [
             0.4401109014
            ],
            "parameters": [
             {
              "depth": 5,
              "iterations": 150,
              "l2_leaf_reg": 3,
              "learning_rate": 0.081
             }
            ],
            "passed_time": 895.5227037,
            "remaining_time": 109.2100858,
            "test": [
             0.4513334852
            ]
           },
           {
            "iteration": 164,
            "learn": [
             0.4284757863
            ],
            "parameters": [
             {
              "depth": 5,
              "iterations": 150,
              "l2_leaf_reg": 3,
              "learning_rate": 0.121
             }
            ],
            "passed_time": 903.0026529,
            "remaining_time": 103.9821237,
            "test": [
             0.4489363875
            ]
           },
           {
            "iteration": 165,
            "learn": [
             0.4170963082
            ],
            "parameters": [
             {
              "depth": 5,
              "iterations": 150,
              "l2_leaf_reg": 3,
              "learning_rate": 0.161
             }
            ],
            "passed_time": 910.6030543,
            "remaining_time": 98.74009023,
            "test": [
             0.4489384343
            ]
           },
           {
            "iteration": 166,
            "learn": [
             0.4068912607
            ],
            "parameters": [
             {
              "depth": 5,
              "iterations": 150,
              "l2_leaf_reg": 3,
              "learning_rate": 0.201
             }
            ],
            "passed_time": 918.1859176,
            "remaining_time": 93.46802754,
            "test": [
             0.4484108573
            ]
           },
           {
            "iteration": 167,
            "learn": [
             0.4001101358
            ],
            "parameters": [
             {
              "depth": 5,
              "iterations": 150,
              "l2_leaf_reg": 3,
              "learning_rate": 0.241
             }
            ],
            "passed_time": 925.7712471,
            "remaining_time": 88.1686902,
            "test": [
             0.4490499657
            ]
           },
           {
            "iteration": 168,
            "learn": [
             0.395076012
            ],
            "parameters": [
             {
              "depth": 5,
              "iterations": 150,
              "l2_leaf_reg": 3,
              "learning_rate": 0.281
             }
            ],
            "passed_time": 933.2745974,
            "remaining_time": 82.83502344,
            "test": [
             0.451864906
            ]
           },
           {
            "iteration": 169,
            "learn": [
             0.3852430408
            ],
            "parameters": [
             {
              "depth": 5,
              "iterations": 150,
              "l2_leaf_reg": 3,
              "learning_rate": 0.321
             }
            ],
            "passed_time": 940.8727813,
            "remaining_time": 77.48364081,
            "test": [
             0.4527639629
            ]
           },
           {
            "iteration": 170,
            "learn": [
             0.379842665
            ],
            "parameters": [
             {
              "depth": 5,
              "iterations": 150,
              "l2_leaf_reg": 3,
              "learning_rate": 0.361
             }
            ],
            "passed_time": 948.4713884,
            "remaining_time": 72.10601198,
            "test": [
             0.4512522797
            ]
           },
           {
            "iteration": 171,
            "learn": [
             0.3725434031
            ],
            "parameters": [
             {
              "depth": 5,
              "iterations": 150,
              "l2_leaf_reg": 3,
              "learning_rate": 0.401
             }
            ],
            "passed_time": 956.0470299,
            "remaining_time": 66.70095557,
            "test": [
             0.4527041233
            ]
           },
           {
            "iteration": 172,
            "learn": [
             0.3676996711
            ],
            "parameters": [
             {
              "depth": 5,
              "iterations": 150,
              "l2_leaf_reg": 3,
              "learning_rate": 0.441
             }
            ],
            "passed_time": 963.5903602,
            "remaining_time": 61.26875123,
            "test": [
             0.4540998138
            ]
           },
           {
            "iteration": 173,
            "learn": [
             0.3624962512
            ],
            "parameters": [
             {
              "depth": 5,
              "iterations": 150,
              "l2_leaf_reg": 3,
              "learning_rate": 0.481
             }
            ],
            "passed_time": 971.1187758,
            "remaining_time": 55.8114239,
            "test": [
             0.4595026174
            ]
           },
           {
            "iteration": 174,
            "learn": [
             0.3574309425
            ],
            "parameters": [
             {
              "depth": 5,
              "iterations": 150,
              "l2_leaf_reg": 3,
              "learning_rate": 0.521
             }
            ],
            "passed_time": 978.6531654,
            "remaining_time": 50.33073422,
            "test": [
             0.4574142897
            ]
           },
           {
            "iteration": 175,
            "learn": [
             0.3472453781
            ],
            "parameters": [
             {
              "depth": 5,
              "iterations": 150,
              "l2_leaf_reg": 3,
              "learning_rate": 0.561
             }
            ],
            "passed_time": 986.2667185,
            "remaining_time": 44.83030539,
            "test": [
             0.4564977518
            ]
           },
           {
            "iteration": 176,
            "learn": [
             0.347736899
            ],
            "parameters": [
             {
              "depth": 5,
              "iterations": 150,
              "l2_leaf_reg": 3,
              "learning_rate": 0.601
             }
            ],
            "passed_time": 993.7704323,
            "remaining_time": 39.30165552,
            "test": [
             0.4584074421
            ]
           },
           {
            "iteration": 177,
            "learn": [
             0.3425573937
            ],
            "parameters": [
             {
              "depth": 5,
              "iterations": 150,
              "l2_leaf_reg": 3,
              "learning_rate": 0.641
             }
            ],
            "passed_time": 1001.356198,
            "remaining_time": 33.7535797,
            "test": [
             0.4568970981
            ]
           },
           {
            "iteration": 178,
            "learn": [
             0.3362656094
            ],
            "parameters": [
             {
              "depth": 5,
              "iterations": 150,
              "l2_leaf_reg": 3,
              "learning_rate": 0.681
             }
            ],
            "passed_time": 1008.945359,
            "remaining_time": 28.18283126,
            "test": [
             0.4600660133
            ]
           },
           {
            "iteration": 179,
            "learn": [
             0.3353433171
            ],
            "parameters": [
             {
              "depth": 5,
              "iterations": 150,
              "l2_leaf_reg": 3,
              "learning_rate": 0.721
             }
            ],
            "passed_time": 1016.508207,
            "remaining_time": 22.58907127,
            "test": [
             0.4639907317
            ]
           },
           {
            "iteration": 180,
            "learn": [
             0.3305957493
            ],
            "parameters": [
             {
              "depth": 5,
              "iterations": 150,
              "l2_leaf_reg": 3,
              "learning_rate": 0.761
             }
            ],
            "passed_time": 1024.082336,
            "remaining_time": 16.97374038,
            "test": [
             0.4615250062
            ]
           },
           {
            "iteration": 181,
            "learn": [
             0.3232621625
            ],
            "parameters": [
             {
              "depth": 5,
              "iterations": 150,
              "l2_leaf_reg": 3,
              "learning_rate": 0.801
             }
            ],
            "passed_time": 1031.670501,
            "remaining_time": 11.33703847,
            "test": [
             0.4612836395
            ]
           },
           {
            "iteration": 182,
            "learn": [
             0.3242706929
            ],
            "parameters": [
             {
              "depth": 5,
              "iterations": 150,
              "l2_leaf_reg": 3,
              "learning_rate": 0.841
             }
            ],
            "passed_time": 1039.238881,
            "remaining_time": 5.678900988,
            "test": [
             0.462002662
            ]
           },
           {
            "iteration": 183,
            "learn": [
             0.3223823495
            ],
            "parameters": [
             {
              "depth": 5,
              "iterations": 150,
              "l2_leaf_reg": 3,
              "learning_rate": 0.881
             }
            ],
            "passed_time": 1046.899861,
            "remaining_time": 0,
            "test": [
             0.4600351171
            ]
           }
          ],
          "meta": {
           "iteration_count": 184,
           "launch_mode": "Train",
           "learn_metrics": [
            {
             "best_value": "Min",
             "name": "RMSE"
            }
           ],
           "learn_sets": [
            "learn"
           ],
           "name": "experiment",
           "parameters": "parameters",
           "test_metrics": [
            {
             "best_value": "Min",
             "name": "RMSE"
            }
           ],
           "test_sets": [
            "test"
           ]
          }
         },
         "passed_iterations": 183,
         "total_iterations": 184
        },
        "name": "catboost_info",
        "path": "catboost_info"
       }
      },
      "layout": "IPY_MODEL_a6b21e94ab404dd7a85ec6da261f44aa"
     }
    }
   }
  }
 },
 "nbformat": 4,
 "nbformat_minor": 1
}
