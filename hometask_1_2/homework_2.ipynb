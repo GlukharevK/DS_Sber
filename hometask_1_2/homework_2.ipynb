{
 "cells": [
  {
   "cell_type": "markdown",
   "metadata": {
    "pycharm": {
     "name": "#%% md\n"
    }
   },
   "source": [
    "# Задание\n",
    "* Собрать информацию о всех строящихся объектах на сайте \"наш.дом.рф\"\n",
    "* Cохранить ее в pandas dataframe\n",
    "* Cохранить pandas dataframe в excel\n",
    "* Cохранить pandas dataframe в pickle\n",
    "* Cохранить pandas dataframe в БД\n",
    "\n",
    "# Задание *\n",
    "* Написать скрипт, который скачивает фотографии всех строящихся объектов с сайта \"наш.дом.рф\"\n"
   ]
  },
  {
   "cell_type": "code",
   "execution_count": 352,
   "metadata": {
    "pycharm": {
     "name": "#%%\n"
    }
   },
   "outputs": [],
   "source": [
    "import requests\n",
    "import pandas as pd\n",
    "import sqlite3\n",
    "import re, os\n",
    "from tqdm import tqdm"
   ]
  },
  {
   "cell_type": "markdown",
   "metadata": {
    "pycharm": {
     "name": "#%% md\n"
    }
   },
   "source": [
    "## Список объектов"
   ]
  },
  {
   "cell_type": "code",
   "execution_count": 9,
   "metadata": {
    "pycharm": {
     "name": "#%%\n"
    },
    "scrolled": true
   },
   "outputs": [],
   "source": [
    "offset_ = 1\n",
    "limit_ = 5000\n",
    "url = f'https://xn--80az8a.xn--d1aqf.xn--p1ai/%D1%81%D0%B5%D1%80%D0%B2%D0%B8%D1%81%D1%8B/api/kn/object?offset={offset_}&limit={limit_}&sortField=devId.devShortCleanNm&sortType=asc&objStatus=0'\n",
    "res = requests.get(url)\n",
    "objects_data = res.json()"
   ]
  },
  {
   "cell_type": "code",
   "execution_count": 34,
   "metadata": {},
   "outputs": [],
   "source": [
    "# Сохранить в DataFrame\n",
    "df_pd = pd.json_normalize(objects_data['data']['list'])"
   ]
  },
  {
   "cell_type": "code",
   "execution_count": 35,
   "metadata": {},
   "outputs": [
    {
     "data": {
      "text/html": [
       "<div>\n",
       "<style scoped>\n",
       "    .dataframe tbody tr th:only-of-type {\n",
       "        vertical-align: middle;\n",
       "    }\n",
       "\n",
       "    .dataframe tbody tr th {\n",
       "        vertical-align: top;\n",
       "    }\n",
       "\n",
       "    .dataframe thead th {\n",
       "        text-align: right;\n",
       "    }\n",
       "</style>\n",
       "<table border=\"1\" class=\"dataframe\">\n",
       "  <thead>\n",
       "    <tr style=\"text-align: right;\">\n",
       "      <th></th>\n",
       "      <th>objId</th>\n",
       "      <th>rpdRegionCd</th>\n",
       "      <th>objAddr</th>\n",
       "      <th>objFloorMin</th>\n",
       "      <th>objFloorMax</th>\n",
       "      <th>objElemLivingCnt</th>\n",
       "      <th>objReady100PercDt</th>\n",
       "      <th>objSquareLiving</th>\n",
       "      <th>objCompensFundFlg</th>\n",
       "      <th>objProblemFlg</th>\n",
       "      <th>...</th>\n",
       "      <th>developer.orgForm.fullForm</th>\n",
       "      <th>developer.orgForm.shortForm</th>\n",
       "      <th>developer.companyGroup</th>\n",
       "      <th>developer.devInn</th>\n",
       "      <th>objCommercNm</th>\n",
       "      <th>complexShortName</th>\n",
       "      <th>developer.bankruptStage.bankruptStageCd</th>\n",
       "      <th>developer.bankruptStage.bankruptStageDesc</th>\n",
       "      <th>developer.bankruptStage.bankruptLawUrl</th>\n",
       "      <th>developer.orgBankruptMsgDttm</th>\n",
       "    </tr>\n",
       "  </thead>\n",
       "  <tbody>\n",
       "    <tr>\n",
       "      <th>0</th>\n",
       "      <td>13398</td>\n",
       "      <td>72</td>\n",
       "      <td>г Тюмень, ул Профсоюзная, д. 56</td>\n",
       "      <td>7</td>\n",
       "      <td>10</td>\n",
       "      <td>43</td>\n",
       "      <td>2024-12-31</td>\n",
       "      <td>4812.98</td>\n",
       "      <td>0</td>\n",
       "      <td>0</td>\n",
       "      <td>...</td>\n",
       "      <td>Акционерное общество</td>\n",
       "      <td>АО</td>\n",
       "      <td>6.994210e+08</td>\n",
       "      <td>7701651356</td>\n",
       "      <td>NaN</td>\n",
       "      <td>NaN</td>\n",
       "      <td>NaN</td>\n",
       "      <td>NaN</td>\n",
       "      <td>NaN</td>\n",
       "      <td>NaN</td>\n",
       "    </tr>\n",
       "    <tr>\n",
       "      <th>1</th>\n",
       "      <td>13383</td>\n",
       "      <td>72</td>\n",
       "      <td>г Тюмень</td>\n",
       "      <td>4</td>\n",
       "      <td>20</td>\n",
       "      <td>68</td>\n",
       "      <td>2022-06-30</td>\n",
       "      <td>6287.45</td>\n",
       "      <td>1</td>\n",
       "      <td>0</td>\n",
       "      <td>...</td>\n",
       "      <td>Акционерное общество</td>\n",
       "      <td>АО</td>\n",
       "      <td>6.994210e+08</td>\n",
       "      <td>7701651356</td>\n",
       "      <td>NaN</td>\n",
       "      <td>NaN</td>\n",
       "      <td>NaN</td>\n",
       "      <td>NaN</td>\n",
       "      <td>NaN</td>\n",
       "      <td>NaN</td>\n",
       "    </tr>\n",
       "    <tr>\n",
       "      <th>2</th>\n",
       "      <td>13397</td>\n",
       "      <td>72</td>\n",
       "      <td>г Тюмень, ул Профсоюзная, д. 56</td>\n",
       "      <td>6</td>\n",
       "      <td>12</td>\n",
       "      <td>65</td>\n",
       "      <td>2024-12-31</td>\n",
       "      <td>6248.51</td>\n",
       "      <td>0</td>\n",
       "      <td>0</td>\n",
       "      <td>...</td>\n",
       "      <td>Акционерное общество</td>\n",
       "      <td>АО</td>\n",
       "      <td>6.994210e+08</td>\n",
       "      <td>7701651356</td>\n",
       "      <td>NaN</td>\n",
       "      <td>NaN</td>\n",
       "      <td>NaN</td>\n",
       "      <td>NaN</td>\n",
       "      <td>NaN</td>\n",
       "      <td>NaN</td>\n",
       "    </tr>\n",
       "    <tr>\n",
       "      <th>3</th>\n",
       "      <td>13391</td>\n",
       "      <td>72</td>\n",
       "      <td>г Тюмень, ул Профсоюзная</td>\n",
       "      <td>3</td>\n",
       "      <td>12</td>\n",
       "      <td>44</td>\n",
       "      <td>2022-06-30</td>\n",
       "      <td>4293.67</td>\n",
       "      <td>1</td>\n",
       "      <td>0</td>\n",
       "      <td>...</td>\n",
       "      <td>Акционерное общество</td>\n",
       "      <td>АО</td>\n",
       "      <td>6.994210e+08</td>\n",
       "      <td>7701651356</td>\n",
       "      <td>NaN</td>\n",
       "      <td>NaN</td>\n",
       "      <td>NaN</td>\n",
       "      <td>NaN</td>\n",
       "      <td>NaN</td>\n",
       "      <td>NaN</td>\n",
       "    </tr>\n",
       "    <tr>\n",
       "      <th>4</th>\n",
       "      <td>23682</td>\n",
       "      <td>47</td>\n",
       "      <td>д Агалатово</td>\n",
       "      <td>10</td>\n",
       "      <td>10</td>\n",
       "      <td>54</td>\n",
       "      <td>2022-06-30</td>\n",
       "      <td>2748.15</td>\n",
       "      <td>1</td>\n",
       "      <td>0</td>\n",
       "      <td>...</td>\n",
       "      <td>Общество с ограниченной ответственностью</td>\n",
       "      <td>ООО</td>\n",
       "      <td>5.562608e+09</td>\n",
       "      <td>7806536079</td>\n",
       "      <td>Жилой комплекс \"84 высота\"</td>\n",
       "      <td>NaN</td>\n",
       "      <td>NaN</td>\n",
       "      <td>NaN</td>\n",
       "      <td>NaN</td>\n",
       "      <td>NaN</td>\n",
       "    </tr>\n",
       "  </tbody>\n",
       "</table>\n",
       "<p>5 rows × 35 columns</p>\n",
       "</div>"
      ],
      "text/plain": [
       "   objId  rpdRegionCd                          objAddr  objFloorMin  \\\n",
       "0  13398           72  г Тюмень, ул Профсоюзная, д. 56            7   \n",
       "1  13383           72                         г Тюмень            4   \n",
       "2  13397           72  г Тюмень, ул Профсоюзная, д. 56            6   \n",
       "3  13391           72         г Тюмень, ул Профсоюзная            3   \n",
       "4  23682           47                      д Агалатово           10   \n",
       "\n",
       "   objFloorMax  objElemLivingCnt objReady100PercDt  objSquareLiving  \\\n",
       "0           10                43        2024-12-31          4812.98   \n",
       "1           20                68        2022-06-30          6287.45   \n",
       "2           12                65        2024-12-31          6248.51   \n",
       "3           12                44        2022-06-30          4293.67   \n",
       "4           10                54        2022-06-30          2748.15   \n",
       "\n",
       "   objCompensFundFlg  objProblemFlg  ...  \\\n",
       "0                  0              0  ...   \n",
       "1                  1              0  ...   \n",
       "2                  0              0  ...   \n",
       "3                  1              0  ...   \n",
       "4                  1              0  ...   \n",
       "\n",
       "                 developer.orgForm.fullForm  developer.orgForm.shortForm  \\\n",
       "0                      Акционерное общество                           АО   \n",
       "1                      Акционерное общество                           АО   \n",
       "2                      Акционерное общество                           АО   \n",
       "3                      Акционерное общество                           АО   \n",
       "4  Общество с ограниченной ответственностью                          ООО   \n",
       "\n",
       "  developer.companyGroup developer.devInn                objCommercNm  \\\n",
       "0           6.994210e+08       7701651356                         NaN   \n",
       "1           6.994210e+08       7701651356                         NaN   \n",
       "2           6.994210e+08       7701651356                         NaN   \n",
       "3           6.994210e+08       7701651356                         NaN   \n",
       "4           5.562608e+09       7806536079  Жилой комплекс \"84 высота\"   \n",
       "\n",
       "   complexShortName developer.bankruptStage.bankruptStageCd  \\\n",
       "0               NaN                                     NaN   \n",
       "1               NaN                                     NaN   \n",
       "2               NaN                                     NaN   \n",
       "3               NaN                                     NaN   \n",
       "4               NaN                                     NaN   \n",
       "\n",
       "   developer.bankruptStage.bankruptStageDesc  \\\n",
       "0                                        NaN   \n",
       "1                                        NaN   \n",
       "2                                        NaN   \n",
       "3                                        NaN   \n",
       "4                                        NaN   \n",
       "\n",
       "  developer.bankruptStage.bankruptLawUrl  developer.orgBankruptMsgDttm  \n",
       "0                                    NaN                           NaN  \n",
       "1                                    NaN                           NaN  \n",
       "2                                    NaN                           NaN  \n",
       "3                                    NaN                           NaN  \n",
       "4                                    NaN                           NaN  \n",
       "\n",
       "[5 rows x 35 columns]"
      ]
     },
     "execution_count": 35,
     "metadata": {},
     "output_type": "execute_result"
    }
   ],
   "source": [
    "df_pd.head(5)"
   ]
  },
  {
   "cell_type": "code",
   "execution_count": 36,
   "metadata": {},
   "outputs": [],
   "source": [
    "# Сохранить в Excel\n",
    "df_pd.to_excel(\"df_excel.xlsx\")  "
   ]
  },
  {
   "cell_type": "code",
   "execution_count": 38,
   "metadata": {},
   "outputs": [],
   "source": [
    "# Сохранить в pickle\n",
    "df_pd.to_pickle(\"df_pickle.pkl\")"
   ]
  },
  {
   "cell_type": "code",
   "execution_count": 42,
   "metadata": {},
   "outputs": [],
   "source": [
    "# Cохранить pandas dataframe в БД\n",
    "conn = sqlite3.connect('test_database')\n",
    "df_pd.to_sql('dom_rf', conn, if_exists='replace', index = False)\n",
    "conn.commit()\n",
    "conn.close()"
   ]
  },
  {
   "cell_type": "code",
   "execution_count": 50,
   "metadata": {},
   "outputs": [
    {
     "data": {
      "text/html": [
       "<div>\n",
       "<style scoped>\n",
       "    .dataframe tbody tr th:only-of-type {\n",
       "        vertical-align: middle;\n",
       "    }\n",
       "\n",
       "    .dataframe tbody tr th {\n",
       "        vertical-align: top;\n",
       "    }\n",
       "\n",
       "    .dataframe thead th {\n",
       "        text-align: right;\n",
       "    }\n",
       "</style>\n",
       "<table border=\"1\" class=\"dataframe\">\n",
       "  <thead>\n",
       "    <tr style=\"text-align: right;\">\n",
       "      <th></th>\n",
       "      <th>objId</th>\n",
       "      <th>rpdRegionCd</th>\n",
       "      <th>objAddr</th>\n",
       "      <th>objFloorMin</th>\n",
       "      <th>objFloorMax</th>\n",
       "      <th>objElemLivingCnt</th>\n",
       "      <th>objReady100PercDt</th>\n",
       "      <th>objSquareLiving</th>\n",
       "      <th>objCompensFundFlg</th>\n",
       "      <th>objProblemFlg</th>\n",
       "      <th>...</th>\n",
       "      <th>developer.orgForm.fullForm</th>\n",
       "      <th>developer.orgForm.shortForm</th>\n",
       "      <th>developer.companyGroup</th>\n",
       "      <th>developer.devInn</th>\n",
       "      <th>objCommercNm</th>\n",
       "      <th>complexShortName</th>\n",
       "      <th>developer.bankruptStage.bankruptStageCd</th>\n",
       "      <th>developer.bankruptStage.bankruptStageDesc</th>\n",
       "      <th>developer.bankruptStage.bankruptLawUrl</th>\n",
       "      <th>developer.orgBankruptMsgDttm</th>\n",
       "    </tr>\n",
       "  </thead>\n",
       "  <tbody>\n",
       "    <tr>\n",
       "      <th>0</th>\n",
       "      <td>13398</td>\n",
       "      <td>72</td>\n",
       "      <td>г Тюмень, ул Профсоюзная, д. 56</td>\n",
       "      <td>7</td>\n",
       "      <td>10</td>\n",
       "      <td>43</td>\n",
       "      <td>2024-12-31</td>\n",
       "      <td>4812.98</td>\n",
       "      <td>0</td>\n",
       "      <td>0</td>\n",
       "      <td>...</td>\n",
       "      <td>Акционерное общество</td>\n",
       "      <td>АО</td>\n",
       "      <td>6.994210e+08</td>\n",
       "      <td>7701651356</td>\n",
       "      <td>None</td>\n",
       "      <td>None</td>\n",
       "      <td>NaN</td>\n",
       "      <td>None</td>\n",
       "      <td>None</td>\n",
       "      <td>None</td>\n",
       "    </tr>\n",
       "    <tr>\n",
       "      <th>1</th>\n",
       "      <td>13383</td>\n",
       "      <td>72</td>\n",
       "      <td>г Тюмень</td>\n",
       "      <td>4</td>\n",
       "      <td>20</td>\n",
       "      <td>68</td>\n",
       "      <td>2022-06-30</td>\n",
       "      <td>6287.45</td>\n",
       "      <td>1</td>\n",
       "      <td>0</td>\n",
       "      <td>...</td>\n",
       "      <td>Акционерное общество</td>\n",
       "      <td>АО</td>\n",
       "      <td>6.994210e+08</td>\n",
       "      <td>7701651356</td>\n",
       "      <td>None</td>\n",
       "      <td>None</td>\n",
       "      <td>NaN</td>\n",
       "      <td>None</td>\n",
       "      <td>None</td>\n",
       "      <td>None</td>\n",
       "    </tr>\n",
       "    <tr>\n",
       "      <th>2</th>\n",
       "      <td>13397</td>\n",
       "      <td>72</td>\n",
       "      <td>г Тюмень, ул Профсоюзная, д. 56</td>\n",
       "      <td>6</td>\n",
       "      <td>12</td>\n",
       "      <td>65</td>\n",
       "      <td>2024-12-31</td>\n",
       "      <td>6248.51</td>\n",
       "      <td>0</td>\n",
       "      <td>0</td>\n",
       "      <td>...</td>\n",
       "      <td>Акционерное общество</td>\n",
       "      <td>АО</td>\n",
       "      <td>6.994210e+08</td>\n",
       "      <td>7701651356</td>\n",
       "      <td>None</td>\n",
       "      <td>None</td>\n",
       "      <td>NaN</td>\n",
       "      <td>None</td>\n",
       "      <td>None</td>\n",
       "      <td>None</td>\n",
       "    </tr>\n",
       "    <tr>\n",
       "      <th>3</th>\n",
       "      <td>13391</td>\n",
       "      <td>72</td>\n",
       "      <td>г Тюмень, ул Профсоюзная</td>\n",
       "      <td>3</td>\n",
       "      <td>12</td>\n",
       "      <td>44</td>\n",
       "      <td>2022-06-30</td>\n",
       "      <td>4293.67</td>\n",
       "      <td>1</td>\n",
       "      <td>0</td>\n",
       "      <td>...</td>\n",
       "      <td>Акционерное общество</td>\n",
       "      <td>АО</td>\n",
       "      <td>6.994210e+08</td>\n",
       "      <td>7701651356</td>\n",
       "      <td>None</td>\n",
       "      <td>None</td>\n",
       "      <td>NaN</td>\n",
       "      <td>None</td>\n",
       "      <td>None</td>\n",
       "      <td>None</td>\n",
       "    </tr>\n",
       "    <tr>\n",
       "      <th>4</th>\n",
       "      <td>23682</td>\n",
       "      <td>47</td>\n",
       "      <td>д Агалатово</td>\n",
       "      <td>10</td>\n",
       "      <td>10</td>\n",
       "      <td>54</td>\n",
       "      <td>2022-06-30</td>\n",
       "      <td>2748.15</td>\n",
       "      <td>1</td>\n",
       "      <td>0</td>\n",
       "      <td>...</td>\n",
       "      <td>Общество с ограниченной ответственностью</td>\n",
       "      <td>ООО</td>\n",
       "      <td>5.562608e+09</td>\n",
       "      <td>7806536079</td>\n",
       "      <td>Жилой комплекс \"84 высота\"</td>\n",
       "      <td>None</td>\n",
       "      <td>NaN</td>\n",
       "      <td>None</td>\n",
       "      <td>None</td>\n",
       "      <td>None</td>\n",
       "    </tr>\n",
       "  </tbody>\n",
       "</table>\n",
       "<p>5 rows × 35 columns</p>\n",
       "</div>"
      ],
      "text/plain": [
       "   objId  rpdRegionCd                          objAddr  objFloorMin  \\\n",
       "0  13398           72  г Тюмень, ул Профсоюзная, д. 56            7   \n",
       "1  13383           72                         г Тюмень            4   \n",
       "2  13397           72  г Тюмень, ул Профсоюзная, д. 56            6   \n",
       "3  13391           72         г Тюмень, ул Профсоюзная            3   \n",
       "4  23682           47                      д Агалатово           10   \n",
       "\n",
       "   objFloorMax  objElemLivingCnt objReady100PercDt  objSquareLiving  \\\n",
       "0           10                43        2024-12-31          4812.98   \n",
       "1           20                68        2022-06-30          6287.45   \n",
       "2           12                65        2024-12-31          6248.51   \n",
       "3           12                44        2022-06-30          4293.67   \n",
       "4           10                54        2022-06-30          2748.15   \n",
       "\n",
       "   objCompensFundFlg  objProblemFlg  ...  \\\n",
       "0                  0              0  ...   \n",
       "1                  1              0  ...   \n",
       "2                  0              0  ...   \n",
       "3                  1              0  ...   \n",
       "4                  1              0  ...   \n",
       "\n",
       "                 developer.orgForm.fullForm  developer.orgForm.shortForm  \\\n",
       "0                      Акционерное общество                           АО   \n",
       "1                      Акционерное общество                           АО   \n",
       "2                      Акционерное общество                           АО   \n",
       "3                      Акционерное общество                           АО   \n",
       "4  Общество с ограниченной ответственностью                          ООО   \n",
       "\n",
       "  developer.companyGroup developer.devInn                objCommercNm  \\\n",
       "0           6.994210e+08       7701651356                        None   \n",
       "1           6.994210e+08       7701651356                        None   \n",
       "2           6.994210e+08       7701651356                        None   \n",
       "3           6.994210e+08       7701651356                        None   \n",
       "4           5.562608e+09       7806536079  Жилой комплекс \"84 высота\"   \n",
       "\n",
       "   complexShortName developer.bankruptStage.bankruptStageCd  \\\n",
       "0              None                                     NaN   \n",
       "1              None                                     NaN   \n",
       "2              None                                     NaN   \n",
       "3              None                                     NaN   \n",
       "4              None                                     NaN   \n",
       "\n",
       "   developer.bankruptStage.bankruptStageDesc  \\\n",
       "0                                       None   \n",
       "1                                       None   \n",
       "2                                       None   \n",
       "3                                       None   \n",
       "4                                       None   \n",
       "\n",
       "  developer.bankruptStage.bankruptLawUrl  developer.orgBankruptMsgDttm  \n",
       "0                                   None                          None  \n",
       "1                                   None                          None  \n",
       "2                                   None                          None  \n",
       "3                                   None                          None  \n",
       "4                                   None                          None  \n",
       "\n",
       "[5 rows x 35 columns]"
      ]
     },
     "execution_count": 50,
     "metadata": {},
     "output_type": "execute_result"
    }
   ],
   "source": [
    "# Проверка БД\n",
    "conn = sqlite3.connect('test_database')\n",
    "db_data = pd.read_sql('SELECT * FROM dom_rf', conn)\n",
    "db_data.head(5)"
   ]
  },
  {
   "cell_type": "markdown",
   "metadata": {},
   "source": [
    "### Сохранение фотографий объектов"
   ]
  },
  {
   "cell_type": "code",
   "execution_count": 21,
   "metadata": {
    "pycharm": {
     "name": "#%%\n"
    }
   },
   "outputs": [],
   "source": [
    "objects_list = objects_data.get('data').get('list')"
   ]
  },
  {
   "cell_type": "code",
   "execution_count": 358,
   "metadata": {
    "pycharm": {
     "name": "#%%\n"
    }
   },
   "outputs": [],
   "source": [
    "# ID всех объектов\n",
    "objids = [x.get('objId') for x in objects_list]"
   ]
  },
  {
   "cell_type": "code",
   "execution_count": 23,
   "metadata": {
    "pycharm": {
     "name": "#%%\n"
    }
   },
   "outputs": [
    {
     "data": {
      "text/plain": [
       "5000"
      ]
     },
     "execution_count": 23,
     "metadata": {},
     "output_type": "execute_result"
    }
   ],
   "source": [
    "len(objids)"
   ]
  },
  {
   "cell_type": "markdown",
   "metadata": {},
   "source": [
    "#### С целью проверки работоспобности алгоритма возьмем срез, тк фотографий у одного объекта может быть огромное количество и их загрузка займет много времени\n",
    "\n",
    "Загрузка фотографий даже для 10 объектов заняло у меня 1.28 ГБ"
   ]
  },
  {
   "cell_type": "code",
   "execution_count": 359,
   "metadata": {
    "pycharm": {
     "name": "#%%\n"
    }
   },
   "outputs": [],
   "source": [
    "objids = objids[:3]"
   ]
  },
  {
   "cell_type": "markdown",
   "metadata": {},
   "source": [
    "#### Фотографии будут распределены по папкам, соотвутсвующие каждому объекту\n",
    "Также учитываются возможные повторения ссылок, поэтому повторов не будет"
   ]
  },
  {
   "cell_type": "code",
   "execution_count": 360,
   "metadata": {},
   "outputs": [],
   "source": [
    "# Будем парсить html\n",
    "pattern = r'src\":\"(https://[^\"]*file/[^\"]{36})\"'"
   ]
  },
  {
   "cell_type": "code",
   "execution_count": 365,
   "metadata": {},
   "outputs": [
    {
     "name": "stderr",
     "output_type": "stream",
     "text": [
      "100%|████████████████████████████████████████████████████████████████████████████████████| 3/3 [00:44<00:00, 14.71s/it]\n"
     ]
    }
   ],
   "source": [
    "for ids in tqdm(objids):\n",
    "    url_obj = f'https://наш.дом.рф/сервисы/каталог-новостроек/объект/{ids}'\n",
    "    obj = requests.get(url_obj).text\n",
    "    urls_imgs = set(re.findall(pattern, obj))\n",
    "    os.makedirs(f'images/{ids}')\n",
    "    for idx, imgs in enumerate(urls_imgs):\n",
    "        img_data = requests.get(imgs).content\n",
    "        with open(f'images/{ids}/{ids}_{idx}.jpg', 'wb') as handler:\n",
    "            handler.write(img_data)"
   ]
  },
  {
   "cell_type": "code",
   "execution_count": null,
   "metadata": {
    "pycharm": {
     "name": "#%%\n"
    }
   },
   "outputs": [],
   "source": []
  }
 ],
 "metadata": {
  "kernelspec": {
   "display_name": "Python 3",
   "language": "python",
   "name": "python3"
  },
  "language_info": {
   "codemirror_mode": {
    "name": "ipython",
    "version": 3
   },
   "file_extension": ".py",
   "mimetype": "text/x-python",
   "name": "python",
   "nbconvert_exporter": "python",
   "pygments_lexer": "ipython3",
   "version": "3.8.6"
  }
 },
 "nbformat": 4,
 "nbformat_minor": 1
}
